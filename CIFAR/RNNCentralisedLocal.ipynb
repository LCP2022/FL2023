{
 "cells": [
  {
   "cell_type": "code",
   "execution_count": 1,
   "metadata": {},
   "outputs": [],
   "source": [
    "import tensorflow_datasets as tfds\n",
    "from tensorflow import keras\n",
    "import tensorflow as tf\n",
    "\n",
    "import matplotlib.pyplot as plt\n",
    "import numpy as np "
   ]
  },
  {
   "cell_type": "code",
   "execution_count": 2,
   "metadata": {},
   "outputs": [],
   "source": [
    "def getCifarData():\n",
    "    (traindataset,testDataset),datasetinfo = tfds.load(\n",
    "        'cifar10',\n",
    "        split=['train','test'],\n",
    "        shuffle_files= True,\n",
    "        as_supervised= True,\n",
    "        with_info= True\n",
    "    )\n",
    "    return traindataset,testDataset,datasetinfo"
   ]
  },
  {
   "cell_type": "code",
   "execution_count": 3,
   "metadata": {},
   "outputs": [],
   "source": [
    "def dataset_to_numpy(dataset):\n",
    "    features = []\n",
    "    labels = []\n",
    "    for image, label in tfds.as_numpy(dataset):\n",
    "        features.append(image)\n",
    "        labels.append(label)\n",
    "    return np.array(features), np.array(labels)\n",
    "\n",
    "def Splitset(intrain,intest):\n",
    "    Train_images, Train_label = dataset_to_numpy(intrain)\n",
    "    Test_images, Test_label = dataset_to_numpy(intest)\n",
    "    return  Train_images, Train_label,Test_images, Test_label\n",
    "\n",
    "def datanorm(data):\n",
    "    return data/255 "
   ]
  },
  {
   "cell_type": "code",
   "execution_count": 4,
   "metadata": {},
   "outputs": [],
   "source": [
    "def split_intoPartition(data, num_partitions):\n",
    "    # Calculate the size of each partition\n",
    "    partition_size = len(data) // num_partitions\n",
    "    # Split the dataset into partitions\n",
    "    partitions = [data[i * partition_size:(i + 1) * partition_size] for i in range(num_partitions)]\n",
    "    return partitions    "
   ]
  },
  {
   "cell_type": "code",
   "execution_count": 5,
   "metadata": {},
   "outputs": [],
   "source": [
    "trainset,testset, info = getCifarData()\n",
    "Train_images, Train_label,Test_images, Test_label = Splitset(trainset,testset)\n",
    "Train_images_n = datanorm(Train_images)\n",
    "Test_images_n = datanorm(Test_images)"
   ]
  },
  {
   "cell_type": "code",
   "execution_count": 17,
   "metadata": {},
   "outputs": [],
   "source": [
    "def simpleRNNModel():\n",
    "    model = keras.Sequential()\n",
    "    model.add(keras.layers.Reshape((32, 32 * 3), input_shape=(32, 32, 3)))\n",
    "    model.add(keras.layers.SimpleRNN(256, activation='relu'))\n",
    "    model.add(keras.layers.Flatten())\n",
    "    model.add(keras.layers.Dense(10,activation=\"softmax\"))\n",
    "    model.compile(optimizer=tf.keras.optimizers.Adam(),loss= \"sparse_categorical_crossentropy\", metrics=[\"accuracy\"])\n",
    "    return model"
   ]
  },
  {
   "cell_type": "code",
   "execution_count": 18,
   "metadata": {},
   "outputs": [],
   "source": [
    "model = simpleRNNModel()"
   ]
  },
  {
   "cell_type": "code",
   "execution_count": 19,
   "metadata": {},
   "outputs": [
    {
     "name": "stdout",
     "output_type": "stream",
     "text": [
      "Epoch 1/100\n",
      "1563/1563 [==============================] - 9s 6ms/step - loss: 2.0134 - accuracy: 0.2505\n",
      "Epoch 2/100\n",
      "1563/1563 [==============================] - 9s 6ms/step - loss: 1.8861 - accuracy: 0.2990\n",
      "Epoch 3/100\n",
      "1563/1563 [==============================] - 9s 6ms/step - loss: 1.7851 - accuracy: 0.3336\n",
      "Epoch 4/100\n",
      "1563/1563 [==============================] - 9s 6ms/step - loss: 1.7401 - accuracy: 0.3533\n",
      "Epoch 5/100\n",
      "1563/1563 [==============================] - 9s 6ms/step - loss: 1.6929 - accuracy: 0.3688\n",
      "Epoch 6/100\n",
      "1563/1563 [==============================] - 9s 6ms/step - loss: 1.6640 - accuracy: 0.3841\n",
      "Epoch 7/100\n",
      "1563/1563 [==============================] - 9s 6ms/step - loss: 1.6338 - accuracy: 0.3953\n",
      "Epoch 8/100\n",
      "1563/1563 [==============================] - 9s 6ms/step - loss: 1.6412 - accuracy: 0.3910\n",
      "Epoch 9/100\n",
      "1563/1563 [==============================] - 9s 6ms/step - loss: 1.6240 - accuracy: 0.3949\n",
      "Epoch 10/100\n",
      "1563/1563 [==============================] - 9s 6ms/step - loss: 1.5918 - accuracy: 0.4116\n",
      "Epoch 11/100\n",
      "1563/1563 [==============================] - 9s 6ms/step - loss: 1.5825 - accuracy: 0.4143\n",
      "Epoch 12/100\n",
      "1563/1563 [==============================] - 9s 6ms/step - loss: 1.5651 - accuracy: 0.4186\n",
      "Epoch 13/100\n",
      "1563/1563 [==============================] - 9s 6ms/step - loss: 1.5574 - accuracy: 0.4226\n",
      "Epoch 14/100\n",
      "1563/1563 [==============================] - 9s 6ms/step - loss: 1.5446 - accuracy: 0.4278\n",
      "Epoch 15/100\n",
      "1563/1563 [==============================] - 9s 6ms/step - loss: 1.5244 - accuracy: 0.4368\n",
      "Epoch 16/100\n",
      "1563/1563 [==============================] - 9s 6ms/step - loss: 1.5672 - accuracy: 0.4226\n",
      "Epoch 17/100\n",
      "1563/1563 [==============================] - 9s 6ms/step - loss: 1.5142 - accuracy: 0.4407\n",
      "Epoch 18/100\n",
      "1563/1563 [==============================] - 9s 6ms/step - loss: 1.5050 - accuracy: 0.4418\n",
      "Epoch 19/100\n",
      "1563/1563 [==============================] - 9s 6ms/step - loss: 1.4980 - accuracy: 0.4473\n",
      "Epoch 20/100\n",
      "1563/1563 [==============================] - 9s 6ms/step - loss: 1.4988 - accuracy: 0.4478\n",
      "Epoch 21/100\n",
      "1563/1563 [==============================] - 9s 6ms/step - loss: 1.4993 - accuracy: 0.4443\n",
      "Epoch 22/100\n",
      "1563/1563 [==============================] - 9s 6ms/step - loss: 1.4768 - accuracy: 0.4550\n",
      "Epoch 23/100\n",
      "1563/1563 [==============================] - 9s 6ms/step - loss: 1.4752 - accuracy: 0.4584\n",
      "Epoch 24/100\n",
      "1563/1563 [==============================] - 9s 6ms/step - loss: 1.5046 - accuracy: 0.4582\n",
      "Epoch 25/100\n",
      "1563/1563 [==============================] - 9s 6ms/step - loss: 1.4894 - accuracy: 0.4518\n",
      "Epoch 26/100\n",
      "1563/1563 [==============================] - 9s 6ms/step - loss: 1.4610 - accuracy: 0.4603\n",
      "Epoch 27/100\n",
      "1563/1563 [==============================] - 9s 6ms/step - loss: 1.4871 - accuracy: 0.4523\n",
      "Epoch 28/100\n",
      "1563/1563 [==============================] - 9s 6ms/step - loss: 1.4614 - accuracy: 0.4594\n",
      "Epoch 29/100\n",
      "1563/1563 [==============================] - 10s 6ms/step - loss: 1.4441 - accuracy: 0.4666\n",
      "Epoch 30/100\n",
      "1563/1563 [==============================] - 9s 6ms/step - loss: 1.4666 - accuracy: 0.4636\n",
      "Epoch 31/100\n",
      "1563/1563 [==============================] - 9s 6ms/step - loss: 1.4435 - accuracy: 0.4713\n",
      "Epoch 32/100\n",
      "1563/1563 [==============================] - 9s 6ms/step - loss: 1.4439 - accuracy: 0.4733\n",
      "Epoch 33/100\n",
      "1563/1563 [==============================] - 9s 6ms/step - loss: 1.4417 - accuracy: 0.4709\n",
      "Epoch 34/100\n",
      "1563/1563 [==============================] - 9s 6ms/step - loss: 1.4816 - accuracy: 0.4607\n",
      "Epoch 35/100\n",
      "1563/1563 [==============================] - 9s 6ms/step - loss: 1.4463 - accuracy: 0.4713\n",
      "Epoch 36/100\n",
      "1563/1563 [==============================] - 9s 6ms/step - loss: 1.4386 - accuracy: 0.4744\n",
      "Epoch 37/100\n",
      "1563/1563 [==============================] - 9s 6ms/step - loss: 1.4401 - accuracy: 0.4698\n",
      "Epoch 38/100\n",
      "1563/1563 [==============================] - 9s 6ms/step - loss: 1.4478 - accuracy: 0.4691\n",
      "Epoch 39/100\n",
      "1563/1563 [==============================] - 9s 6ms/step - loss: 1.4304 - accuracy: 0.4772\n",
      "Epoch 40/100\n",
      "1563/1563 [==============================] - 9s 6ms/step - loss: 1.4254 - accuracy: 0.4781\n",
      "Epoch 41/100\n",
      "1563/1563 [==============================] - 9s 6ms/step - loss: 1.4511 - accuracy: 0.4700\n",
      "Epoch 42/100\n",
      "1563/1563 [==============================] - 9s 6ms/step - loss: 1.4320 - accuracy: 0.4769\n",
      "Epoch 43/100\n",
      "1563/1563 [==============================] - 9s 6ms/step - loss: 1.4330 - accuracy: 0.4748\n",
      "Epoch 44/100\n",
      "1563/1563 [==============================] - 9s 6ms/step - loss: 1.4327 - accuracy: 0.4750\n",
      "Epoch 45/100\n",
      "1563/1563 [==============================] - 9s 6ms/step - loss: 1.4510 - accuracy: 0.4673\n",
      "Epoch 46/100\n",
      "1563/1563 [==============================] - 9s 6ms/step - loss: 1.6697 - accuracy: 0.4206\n",
      "Epoch 47/100\n",
      "1563/1563 [==============================] - 9s 6ms/step - loss: 1.4583 - accuracy: 0.4638\n",
      "Epoch 48/100\n",
      "1563/1563 [==============================] - 9s 6ms/step - loss: 1.4471 - accuracy: 0.4694\n",
      "Epoch 49/100\n",
      "1563/1563 [==============================] - 9s 6ms/step - loss: 1.4353 - accuracy: 0.4744\n",
      "Epoch 50/100\n",
      "1563/1563 [==============================] - 9s 6ms/step - loss: 1.4442 - accuracy: 0.4680\n",
      "Epoch 51/100\n",
      "1563/1563 [==============================] - 9s 6ms/step - loss: 1.4342 - accuracy: 0.4744\n",
      "Epoch 52/100\n",
      "1563/1563 [==============================] - 9s 6ms/step - loss: 1.4480 - accuracy: 0.4652\n",
      "Epoch 53/100\n",
      "1563/1563 [==============================] - 9s 6ms/step - loss: 1.4568 - accuracy: 0.4650\n",
      "Epoch 54/100\n",
      "1563/1563 [==============================] - 9s 6ms/step - loss: 1.4223 - accuracy: 0.4814\n",
      "Epoch 55/100\n",
      "1563/1563 [==============================] - 9s 6ms/step - loss: 1.4273 - accuracy: 0.4775\n",
      "Epoch 56/100\n",
      "1563/1563 [==============================] - 9s 6ms/step - loss: 1.4191 - accuracy: 0.4804\n",
      "Epoch 57/100\n",
      "1563/1563 [==============================] - 9s 6ms/step - loss: 1.5300 - accuracy: 0.4492\n",
      "Epoch 58/100\n",
      "1563/1563 [==============================] - 9s 6ms/step - loss: 1.4687 - accuracy: 0.4577\n",
      "Epoch 59/100\n",
      "1563/1563 [==============================] - 9s 6ms/step - loss: 1.4766 - accuracy: 0.4552\n",
      "Epoch 60/100\n",
      "1563/1563 [==============================] - 9s 6ms/step - loss: 1.4455 - accuracy: 0.4710\n",
      "Epoch 61/100\n",
      "1563/1563 [==============================] - 9s 6ms/step - loss: 1.4236 - accuracy: 0.4793\n",
      "Epoch 62/100\n",
      "1563/1563 [==============================] - 9s 6ms/step - loss: 1.4147 - accuracy: 0.4824\n",
      "Epoch 63/100\n",
      "1563/1563 [==============================] - 9s 6ms/step - loss: 1.4204 - accuracy: 0.4806\n",
      "Epoch 64/100\n",
      "1563/1563 [==============================] - 9s 6ms/step - loss: 1.4094 - accuracy: 0.4876\n",
      "Epoch 65/100\n",
      "1563/1563 [==============================] - 9s 6ms/step - loss: 1.4283 - accuracy: 0.4787\n",
      "Epoch 66/100\n",
      "1563/1563 [==============================] - 9s 6ms/step - loss: 1.5013 - accuracy: 0.4771\n",
      "Epoch 67/100\n",
      "1563/1563 [==============================] - 9s 6ms/step - loss: 1.4478 - accuracy: 0.4729\n",
      "Epoch 68/100\n",
      "1563/1563 [==============================] - 9s 6ms/step - loss: 1.4211 - accuracy: 0.4820\n",
      "Epoch 69/100\n",
      "1563/1563 [==============================] - 9s 6ms/step - loss: 1.4393 - accuracy: 0.4759\n",
      "Epoch 70/100\n",
      "1563/1563 [==============================] - 10s 6ms/step - loss: 1.4476 - accuracy: 0.4715\n",
      "Epoch 71/100\n",
      "1563/1563 [==============================] - 10s 6ms/step - loss: 1.5022 - accuracy: 0.4503\n",
      "Epoch 72/100\n",
      "1563/1563 [==============================] - 10s 6ms/step - loss: 1.4485 - accuracy: 0.4673\n",
      "Epoch 73/100\n",
      "1563/1563 [==============================] - 10s 6ms/step - loss: 1.4144 - accuracy: 0.4812\n",
      "Epoch 74/100\n",
      "1563/1563 [==============================] - 10s 6ms/step - loss: 1.4204 - accuracy: 0.4768\n",
      "Epoch 75/100\n",
      "1563/1563 [==============================] - 10s 6ms/step - loss: 1.4714 - accuracy: 0.4748\n",
      "Epoch 76/100\n",
      "1563/1563 [==============================] - 10s 6ms/step - loss: 1.4048 - accuracy: 0.4852\n",
      "Epoch 77/100\n",
      "1563/1563 [==============================] - 10s 6ms/step - loss: 1.4113 - accuracy: 0.4856\n",
      "Epoch 78/100\n",
      "1563/1563 [==============================] - 10s 6ms/step - loss: 1.4193 - accuracy: 0.4815\n",
      "Epoch 79/100\n",
      "1563/1563 [==============================] - 9s 6ms/step - loss: 1.4131 - accuracy: 0.4832\n",
      "Epoch 80/100\n",
      "1563/1563 [==============================] - 9s 6ms/step - loss: 26.8204 - accuracy: 0.4632\n",
      "Epoch 81/100\n",
      "1563/1563 [==============================] - 9s 6ms/step - loss: 1.9359 - accuracy: 0.2864\n",
      "Epoch 82/100\n",
      "1563/1563 [==============================] - 9s 6ms/step - loss: 1.7810 - accuracy: 0.3383\n",
      "Epoch 83/100\n",
      "1563/1563 [==============================] - 9s 6ms/step - loss: 1.6577 - accuracy: 0.3809\n",
      "Epoch 84/100\n",
      "1563/1563 [==============================] - 9s 6ms/step - loss: 1.5902 - accuracy: 0.4072\n",
      "Epoch 85/100\n",
      "1563/1563 [==============================] - 9s 6ms/step - loss: 1.5466 - accuracy: 0.4262\n",
      "Epoch 86/100\n",
      "1563/1563 [==============================] - 9s 6ms/step - loss: 1.5239 - accuracy: 0.4342\n",
      "Epoch 87/100\n",
      "1563/1563 [==============================] - 9s 6ms/step - loss: 1.5063 - accuracy: 0.4438\n",
      "Epoch 88/100\n",
      "1563/1563 [==============================] - 9s 6ms/step - loss: 1.4673 - accuracy: 0.4591\n",
      "Epoch 89/100\n",
      "1563/1563 [==============================] - 9s 6ms/step - loss: 1.4910 - accuracy: 0.4561\n",
      "Epoch 90/100\n",
      "1563/1563 [==============================] - 9s 6ms/step - loss: 1.4487 - accuracy: 0.4682\n",
      "Epoch 91/100\n",
      "1563/1563 [==============================] - 9s 6ms/step - loss: 1.5083 - accuracy: 0.4496\n",
      "Epoch 92/100\n",
      "1563/1563 [==============================] - 9s 6ms/step - loss: 1.4565 - accuracy: 0.4649\n",
      "Epoch 93/100\n",
      "1563/1563 [==============================] - 9s 6ms/step - loss: 1.4766 - accuracy: 0.4578\n",
      "Epoch 94/100\n",
      "1563/1563 [==============================] - 9s 6ms/step - loss: 1.4440 - accuracy: 0.4689\n",
      "Epoch 95/100\n",
      "1563/1563 [==============================] - 9s 6ms/step - loss: 22.6249 - accuracy: 0.3091\n",
      "Epoch 96/100\n",
      "1563/1563 [==============================] - 9s 6ms/step - loss: 1.7776 - accuracy: 0.3610\n",
      "Epoch 97/100\n",
      "1563/1563 [==============================] - 9s 6ms/step - loss: 3.3056 - accuracy: 0.3669\n",
      "Epoch 98/100\n",
      "1563/1563 [==============================] - 9s 6ms/step - loss: 1.6365 - accuracy: 0.3962\n",
      "Epoch 99/100\n",
      "1563/1563 [==============================] - 9s 6ms/step - loss: 1.5936 - accuracy: 0.4124\n",
      "Epoch 100/100\n",
      "1563/1563 [==============================] - 9s 6ms/step - loss: 1.5550 - accuracy: 0.4276\n"
     ]
    },
    {
     "data": {
      "text/plain": [
       "<keras.src.callbacks.History at 0x243814da950>"
      ]
     },
     "execution_count": 19,
     "metadata": {},
     "output_type": "execute_result"
    }
   ],
   "source": [
    "model.fit(Train_images_n,Train_label,epochs=100,verbose=1,batch_size=32)"
   ]
  },
  {
   "cell_type": "code",
   "execution_count": 20,
   "metadata": {},
   "outputs": [
    {
     "name": "stdout",
     "output_type": "stream",
     "text": [
      "313/313 [==============================] - 1s 3ms/step - loss: 1.6069 - accuracy: 0.4198\n"
     ]
    }
   ],
   "source": [
    "loss,acc = model.evaluate(Test_images_n,Test_label)"
   ]
  },
  {
   "cell_type": "code",
   "execution_count": 21,
   "metadata": {},
   "outputs": [
    {
     "name": "stdout",
     "output_type": "stream",
     "text": [
      "41.98\n"
     ]
    }
   ],
   "source": [
    "print(round(acc*100,2))"
   ]
  },
  {
   "cell_type": "code",
   "execution_count": null,
   "metadata": {},
   "outputs": [],
   "source": []
  }
 ],
 "metadata": {
  "kernelspec": {
   "display_name": "Python 3",
   "language": "python",
   "name": "python3"
  },
  "language_info": {
   "codemirror_mode": {
    "name": "ipython",
    "version": 3
   },
   "file_extension": ".py",
   "mimetype": "text/x-python",
   "name": "python",
   "nbconvert_exporter": "python",
   "pygments_lexer": "ipython3",
   "version": "3.11.4"
  }
 },
 "nbformat": 4,
 "nbformat_minor": 2
}
