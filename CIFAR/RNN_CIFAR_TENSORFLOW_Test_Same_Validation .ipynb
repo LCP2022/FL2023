{
  "cells": [
    {
      "cell_type": "code",
      "source": [
        "!pip install flwr\n",
        "!pip install flwr[simulation]\n",
        "!pip install tensorflow\n",
        "!pip install tensorflow_datasets\n",
        "!pip install matplotlib"
      ],
      "metadata": {
        "id": "wm3pc77hw38p",
        "outputId": "1002b6b5-91fe-4239-bcf4-d92208759257",
        "colab": {
          "base_uri": "https://localhost:8080/",
          "height": 1000
        }
      },
      "execution_count": 18,
      "outputs": [
        {
          "output_type": "stream",
          "name": "stdout",
          "text": [
            "Requirement already satisfied: flwr in /usr/local/lib/python3.10/dist-packages (1.7.0)\n",
            "Requirement already satisfied: cryptography<42.0.0,>=41.0.2 in /usr/local/lib/python3.10/dist-packages (from flwr) (41.0.7)\n",
            "Requirement already satisfied: grpcio<2.0.0,>=1.60.0 in /usr/local/lib/python3.10/dist-packages (from flwr) (1.60.1)\n",
            "Requirement already satisfied: iterators<0.0.3,>=0.0.2 in /usr/local/lib/python3.10/dist-packages (from flwr) (0.0.2)\n",
            "Requirement already satisfied: numpy<2.0.0,>=1.21.0 in /usr/local/lib/python3.10/dist-packages (from flwr) (1.23.5)\n",
            "Collecting protobuf<5.0.0,>=4.25.2 (from flwr)\n",
            "  Using cached protobuf-4.25.2-cp37-abi3-manylinux2014_x86_64.whl (294 kB)\n",
            "Requirement already satisfied: pycryptodome<4.0.0,>=3.18.0 in /usr/local/lib/python3.10/dist-packages (from flwr) (3.20.0)\n",
            "Requirement already satisfied: cffi>=1.12 in /usr/local/lib/python3.10/dist-packages (from cryptography<42.0.0,>=41.0.2->flwr) (1.16.0)\n",
            "Requirement already satisfied: pycparser in /usr/local/lib/python3.10/dist-packages (from cffi>=1.12->cryptography<42.0.0,>=41.0.2->flwr) (2.21)\n",
            "Installing collected packages: protobuf\n",
            "  Attempting uninstall: protobuf\n",
            "    Found existing installation: protobuf 3.20.3\n",
            "    Uninstalling protobuf-3.20.3:\n",
            "      Successfully uninstalled protobuf-3.20.3\n",
            "\u001b[31mERROR: pip's dependency resolver does not currently take into account all the packages that are installed. This behaviour is the source of the following dependency conflicts.\n",
            "tensorboard 2.15.1 requires protobuf<4.24,>=3.19.6, but you have protobuf 4.25.2 which is incompatible.\n",
            "tensorflow-metadata 1.14.0 requires protobuf<4.21,>=3.20.3, but you have protobuf 4.25.2 which is incompatible.\u001b[0m\u001b[31m\n",
            "\u001b[0mSuccessfully installed protobuf-4.25.2\n",
            "Requirement already satisfied: flwr[simulation] in /usr/local/lib/python3.10/dist-packages (1.7.0)\n",
            "Requirement already satisfied: cryptography<42.0.0,>=41.0.2 in /usr/local/lib/python3.10/dist-packages (from flwr[simulation]) (41.0.7)\n",
            "Requirement already satisfied: grpcio<2.0.0,>=1.60.0 in /usr/local/lib/python3.10/dist-packages (from flwr[simulation]) (1.60.1)\n",
            "Requirement already satisfied: iterators<0.0.3,>=0.0.2 in /usr/local/lib/python3.10/dist-packages (from flwr[simulation]) (0.0.2)\n",
            "Requirement already satisfied: numpy<2.0.0,>=1.21.0 in /usr/local/lib/python3.10/dist-packages (from flwr[simulation]) (1.23.5)\n",
            "Requirement already satisfied: protobuf<5.0.0,>=4.25.2 in /usr/local/lib/python3.10/dist-packages (from flwr[simulation]) (4.25.2)\n",
            "Requirement already satisfied: pycryptodome<4.0.0,>=3.18.0 in /usr/local/lib/python3.10/dist-packages (from flwr[simulation]) (3.20.0)\n",
            "Requirement already satisfied: pydantic<2.0.0 in /usr/local/lib/python3.10/dist-packages (from flwr[simulation]) (1.10.14)\n",
            "Requirement already satisfied: ray==2.6.3 in /usr/local/lib/python3.10/dist-packages (from flwr[simulation]) (2.6.3)\n",
            "Requirement already satisfied: click>=7.0 in /usr/local/lib/python3.10/dist-packages (from ray==2.6.3->flwr[simulation]) (8.1.7)\n",
            "Requirement already satisfied: filelock in /usr/local/lib/python3.10/dist-packages (from ray==2.6.3->flwr[simulation]) (3.13.1)\n",
            "Requirement already satisfied: jsonschema in /usr/local/lib/python3.10/dist-packages (from ray==2.6.3->flwr[simulation]) (4.19.2)\n",
            "Requirement already satisfied: msgpack<2.0.0,>=1.0.0 in /usr/local/lib/python3.10/dist-packages (from ray==2.6.3->flwr[simulation]) (1.0.7)\n",
            "Requirement already satisfied: packaging in /usr/local/lib/python3.10/dist-packages (from ray==2.6.3->flwr[simulation]) (23.2)\n",
            "Requirement already satisfied: pyyaml in /usr/local/lib/python3.10/dist-packages (from ray==2.6.3->flwr[simulation]) (6.0.1)\n",
            "Requirement already satisfied: aiosignal in /usr/local/lib/python3.10/dist-packages (from ray==2.6.3->flwr[simulation]) (1.3.1)\n",
            "Requirement already satisfied: frozenlist in /usr/local/lib/python3.10/dist-packages (from ray==2.6.3->flwr[simulation]) (1.4.1)\n",
            "Requirement already satisfied: requests in /usr/local/lib/python3.10/dist-packages (from ray==2.6.3->flwr[simulation]) (2.31.0)\n",
            "Requirement already satisfied: cffi>=1.12 in /usr/local/lib/python3.10/dist-packages (from cryptography<42.0.0,>=41.0.2->flwr[simulation]) (1.16.0)\n",
            "Requirement already satisfied: typing-extensions>=4.2.0 in /usr/local/lib/python3.10/dist-packages (from pydantic<2.0.0->flwr[simulation]) (4.9.0)\n",
            "Requirement already satisfied: pycparser in /usr/local/lib/python3.10/dist-packages (from cffi>=1.12->cryptography<42.0.0,>=41.0.2->flwr[simulation]) (2.21)\n",
            "Requirement already satisfied: attrs>=22.2.0 in /usr/local/lib/python3.10/dist-packages (from jsonschema->ray==2.6.3->flwr[simulation]) (23.2.0)\n",
            "Requirement already satisfied: jsonschema-specifications>=2023.03.6 in /usr/local/lib/python3.10/dist-packages (from jsonschema->ray==2.6.3->flwr[simulation]) (2023.12.1)\n",
            "Requirement already satisfied: referencing>=0.28.4 in /usr/local/lib/python3.10/dist-packages (from jsonschema->ray==2.6.3->flwr[simulation]) (0.33.0)\n",
            "Requirement already satisfied: rpds-py>=0.7.1 in /usr/local/lib/python3.10/dist-packages (from jsonschema->ray==2.6.3->flwr[simulation]) (0.17.1)\n",
            "Requirement already satisfied: charset-normalizer<4,>=2 in /usr/local/lib/python3.10/dist-packages (from requests->ray==2.6.3->flwr[simulation]) (3.3.2)\n",
            "Requirement already satisfied: idna<4,>=2.5 in /usr/local/lib/python3.10/dist-packages (from requests->ray==2.6.3->flwr[simulation]) (3.6)\n",
            "Requirement already satisfied: urllib3<3,>=1.21.1 in /usr/local/lib/python3.10/dist-packages (from requests->ray==2.6.3->flwr[simulation]) (2.0.7)\n",
            "Requirement already satisfied: certifi>=2017.4.17 in /usr/local/lib/python3.10/dist-packages (from requests->ray==2.6.3->flwr[simulation]) (2024.2.2)\n",
            "Requirement already satisfied: tensorflow in /usr/local/lib/python3.10/dist-packages (2.15.0)\n",
            "Requirement already satisfied: absl-py>=1.0.0 in /usr/local/lib/python3.10/dist-packages (from tensorflow) (1.4.0)\n",
            "Requirement already satisfied: astunparse>=1.6.0 in /usr/local/lib/python3.10/dist-packages (from tensorflow) (1.6.3)\n",
            "Requirement already satisfied: flatbuffers>=23.5.26 in /usr/local/lib/python3.10/dist-packages (from tensorflow) (23.5.26)\n",
            "Requirement already satisfied: gast!=0.5.0,!=0.5.1,!=0.5.2,>=0.2.1 in /usr/local/lib/python3.10/dist-packages (from tensorflow) (0.5.4)\n",
            "Requirement already satisfied: google-pasta>=0.1.1 in /usr/local/lib/python3.10/dist-packages (from tensorflow) (0.2.0)\n",
            "Requirement already satisfied: h5py>=2.9.0 in /usr/local/lib/python3.10/dist-packages (from tensorflow) (3.9.0)\n",
            "Requirement already satisfied: libclang>=13.0.0 in /usr/local/lib/python3.10/dist-packages (from tensorflow) (16.0.6)\n",
            "Requirement already satisfied: ml-dtypes~=0.2.0 in /usr/local/lib/python3.10/dist-packages (from tensorflow) (0.2.0)\n",
            "Requirement already satisfied: numpy<2.0.0,>=1.23.5 in /usr/local/lib/python3.10/dist-packages (from tensorflow) (1.23.5)\n",
            "Requirement already satisfied: opt-einsum>=2.3.2 in /usr/local/lib/python3.10/dist-packages (from tensorflow) (3.3.0)\n",
            "Requirement already satisfied: packaging in /usr/local/lib/python3.10/dist-packages (from tensorflow) (23.2)\n",
            "Requirement already satisfied: protobuf!=4.21.0,!=4.21.1,!=4.21.2,!=4.21.3,!=4.21.4,!=4.21.5,<5.0.0dev,>=3.20.3 in /usr/local/lib/python3.10/dist-packages (from tensorflow) (4.25.2)\n",
            "Requirement already satisfied: setuptools in /usr/local/lib/python3.10/dist-packages (from tensorflow) (67.7.2)\n",
            "Requirement already satisfied: six>=1.12.0 in /usr/local/lib/python3.10/dist-packages (from tensorflow) (1.16.0)\n",
            "Requirement already satisfied: termcolor>=1.1.0 in /usr/local/lib/python3.10/dist-packages (from tensorflow) (2.4.0)\n",
            "Requirement already satisfied: typing-extensions>=3.6.6 in /usr/local/lib/python3.10/dist-packages (from tensorflow) (4.9.0)\n",
            "Requirement already satisfied: wrapt<1.15,>=1.11.0 in /usr/local/lib/python3.10/dist-packages (from tensorflow) (1.14.1)\n",
            "Requirement already satisfied: tensorflow-io-gcs-filesystem>=0.23.1 in /usr/local/lib/python3.10/dist-packages (from tensorflow) (0.35.0)\n",
            "Requirement already satisfied: grpcio<2.0,>=1.24.3 in /usr/local/lib/python3.10/dist-packages (from tensorflow) (1.60.1)\n",
            "Requirement already satisfied: tensorboard<2.16,>=2.15 in /usr/local/lib/python3.10/dist-packages (from tensorflow) (2.15.1)\n",
            "Requirement already satisfied: tensorflow-estimator<2.16,>=2.15.0 in /usr/local/lib/python3.10/dist-packages (from tensorflow) (2.15.0)\n",
            "Requirement already satisfied: keras<2.16,>=2.15.0 in /usr/local/lib/python3.10/dist-packages (from tensorflow) (2.15.0)\n",
            "Requirement already satisfied: wheel<1.0,>=0.23.0 in /usr/local/lib/python3.10/dist-packages (from astunparse>=1.6.0->tensorflow) (0.42.0)\n",
            "Requirement already satisfied: google-auth<3,>=1.6.3 in /usr/local/lib/python3.10/dist-packages (from tensorboard<2.16,>=2.15->tensorflow) (2.17.3)\n",
            "Requirement already satisfied: google-auth-oauthlib<2,>=0.5 in /usr/local/lib/python3.10/dist-packages (from tensorboard<2.16,>=2.15->tensorflow) (1.2.0)\n",
            "Requirement already satisfied: markdown>=2.6.8 in /usr/local/lib/python3.10/dist-packages (from tensorboard<2.16,>=2.15->tensorflow) (3.5.2)\n",
            "Collecting protobuf!=4.21.0,!=4.21.1,!=4.21.2,!=4.21.3,!=4.21.4,!=4.21.5,<5.0.0dev,>=3.20.3 (from tensorflow)\n",
            "  Using cached protobuf-4.23.4-cp37-abi3-manylinux2014_x86_64.whl (304 kB)\n",
            "Requirement already satisfied: requests<3,>=2.21.0 in /usr/local/lib/python3.10/dist-packages (from tensorboard<2.16,>=2.15->tensorflow) (2.31.0)\n",
            "Requirement already satisfied: tensorboard-data-server<0.8.0,>=0.7.0 in /usr/local/lib/python3.10/dist-packages (from tensorboard<2.16,>=2.15->tensorflow) (0.7.2)\n",
            "Requirement already satisfied: werkzeug>=1.0.1 in /usr/local/lib/python3.10/dist-packages (from tensorboard<2.16,>=2.15->tensorflow) (3.0.1)\n",
            "Requirement already satisfied: cachetools<6.0,>=2.0.0 in /usr/local/lib/python3.10/dist-packages (from google-auth<3,>=1.6.3->tensorboard<2.16,>=2.15->tensorflow) (5.3.2)\n",
            "Requirement already satisfied: pyasn1-modules>=0.2.1 in /usr/local/lib/python3.10/dist-packages (from google-auth<3,>=1.6.3->tensorboard<2.16,>=2.15->tensorflow) (0.3.0)\n",
            "Requirement already satisfied: rsa<5,>=3.1.4 in /usr/local/lib/python3.10/dist-packages (from google-auth<3,>=1.6.3->tensorboard<2.16,>=2.15->tensorflow) (4.9)\n",
            "Requirement already satisfied: requests-oauthlib>=0.7.0 in /usr/local/lib/python3.10/dist-packages (from google-auth-oauthlib<2,>=0.5->tensorboard<2.16,>=2.15->tensorflow) (1.3.1)\n",
            "Requirement already satisfied: charset-normalizer<4,>=2 in /usr/local/lib/python3.10/dist-packages (from requests<3,>=2.21.0->tensorboard<2.16,>=2.15->tensorflow) (3.3.2)\n",
            "Requirement already satisfied: idna<4,>=2.5 in /usr/local/lib/python3.10/dist-packages (from requests<3,>=2.21.0->tensorboard<2.16,>=2.15->tensorflow) (3.6)\n",
            "Requirement already satisfied: urllib3<3,>=1.21.1 in /usr/local/lib/python3.10/dist-packages (from requests<3,>=2.21.0->tensorboard<2.16,>=2.15->tensorflow) (2.0.7)\n",
            "Requirement already satisfied: certifi>=2017.4.17 in /usr/local/lib/python3.10/dist-packages (from requests<3,>=2.21.0->tensorboard<2.16,>=2.15->tensorflow) (2024.2.2)\n",
            "Requirement already satisfied: MarkupSafe>=2.1.1 in /usr/local/lib/python3.10/dist-packages (from werkzeug>=1.0.1->tensorboard<2.16,>=2.15->tensorflow) (2.1.5)\n",
            "Requirement already satisfied: pyasn1<0.6.0,>=0.4.6 in /usr/local/lib/python3.10/dist-packages (from pyasn1-modules>=0.2.1->google-auth<3,>=1.6.3->tensorboard<2.16,>=2.15->tensorflow) (0.5.1)\n",
            "Requirement already satisfied: oauthlib>=3.0.0 in /usr/local/lib/python3.10/dist-packages (from requests-oauthlib>=0.7.0->google-auth-oauthlib<2,>=0.5->tensorboard<2.16,>=2.15->tensorflow) (3.2.2)\n",
            "Installing collected packages: protobuf\n",
            "  Attempting uninstall: protobuf\n",
            "    Found existing installation: protobuf 4.25.2\n",
            "    Uninstalling protobuf-4.25.2:\n",
            "      Successfully uninstalled protobuf-4.25.2\n",
            "\u001b[31mERROR: pip's dependency resolver does not currently take into account all the packages that are installed. This behaviour is the source of the following dependency conflicts.\n",
            "flwr 1.7.0 requires protobuf<5.0.0,>=4.25.2, but you have protobuf 4.23.4 which is incompatible.\n",
            "tensorflow-metadata 1.14.0 requires protobuf<4.21,>=3.20.3, but you have protobuf 4.23.4 which is incompatible.\u001b[0m\u001b[31m\n",
            "\u001b[0mSuccessfully installed protobuf-4.23.4\n",
            "Requirement already satisfied: tensorflow_datasets in /usr/local/lib/python3.10/dist-packages (4.9.4)\n",
            "Requirement already satisfied: absl-py in /usr/local/lib/python3.10/dist-packages (from tensorflow_datasets) (1.4.0)\n",
            "Requirement already satisfied: click in /usr/local/lib/python3.10/dist-packages (from tensorflow_datasets) (8.1.7)\n",
            "Requirement already satisfied: dm-tree in /usr/local/lib/python3.10/dist-packages (from tensorflow_datasets) (0.1.8)\n",
            "Requirement already satisfied: etils[enp,epath,etree]>=0.9.0 in /usr/local/lib/python3.10/dist-packages (from tensorflow_datasets) (1.6.0)\n",
            "Requirement already satisfied: numpy in /usr/local/lib/python3.10/dist-packages (from tensorflow_datasets) (1.23.5)\n",
            "Requirement already satisfied: promise in /usr/local/lib/python3.10/dist-packages (from tensorflow_datasets) (2.3)\n",
            "Requirement already satisfied: protobuf>=3.20 in /usr/local/lib/python3.10/dist-packages (from tensorflow_datasets) (4.23.4)\n",
            "Requirement already satisfied: psutil in /usr/local/lib/python3.10/dist-packages (from tensorflow_datasets) (5.9.5)\n",
            "Requirement already satisfied: requests>=2.19.0 in /usr/local/lib/python3.10/dist-packages (from tensorflow_datasets) (2.31.0)\n",
            "Requirement already satisfied: tensorflow-metadata in /usr/local/lib/python3.10/dist-packages (from tensorflow_datasets) (1.14.0)\n",
            "Requirement already satisfied: termcolor in /usr/local/lib/python3.10/dist-packages (from tensorflow_datasets) (2.4.0)\n",
            "Requirement already satisfied: toml in /usr/local/lib/python3.10/dist-packages (from tensorflow_datasets) (0.10.2)\n",
            "Requirement already satisfied: tqdm in /usr/local/lib/python3.10/dist-packages (from tensorflow_datasets) (4.66.1)\n",
            "Requirement already satisfied: wrapt in /usr/local/lib/python3.10/dist-packages (from tensorflow_datasets) (1.14.1)\n",
            "Requirement already satisfied: array-record>=0.5.0 in /usr/local/lib/python3.10/dist-packages (from tensorflow_datasets) (0.5.0)\n",
            "Requirement already satisfied: fsspec in /usr/local/lib/python3.10/dist-packages (from etils[enp,epath,etree]>=0.9.0->tensorflow_datasets) (2023.6.0)\n",
            "Requirement already satisfied: importlib_resources in /usr/local/lib/python3.10/dist-packages (from etils[enp,epath,etree]>=0.9.0->tensorflow_datasets) (6.1.1)\n",
            "Requirement already satisfied: typing_extensions in /usr/local/lib/python3.10/dist-packages (from etils[enp,epath,etree]>=0.9.0->tensorflow_datasets) (4.9.0)\n",
            "Requirement already satisfied: zipp in /usr/local/lib/python3.10/dist-packages (from etils[enp,epath,etree]>=0.9.0->tensorflow_datasets) (3.17.0)\n",
            "Requirement already satisfied: charset-normalizer<4,>=2 in /usr/local/lib/python3.10/dist-packages (from requests>=2.19.0->tensorflow_datasets) (3.3.2)\n",
            "Requirement already satisfied: idna<4,>=2.5 in /usr/local/lib/python3.10/dist-packages (from requests>=2.19.0->tensorflow_datasets) (3.6)\n",
            "Requirement already satisfied: urllib3<3,>=1.21.1 in /usr/local/lib/python3.10/dist-packages (from requests>=2.19.0->tensorflow_datasets) (2.0.7)\n",
            "Requirement already satisfied: certifi>=2017.4.17 in /usr/local/lib/python3.10/dist-packages (from requests>=2.19.0->tensorflow_datasets) (2024.2.2)\n",
            "Requirement already satisfied: six in /usr/local/lib/python3.10/dist-packages (from promise->tensorflow_datasets) (1.16.0)\n",
            "Requirement already satisfied: googleapis-common-protos<2,>=1.52.0 in /usr/local/lib/python3.10/dist-packages (from tensorflow-metadata->tensorflow_datasets) (1.62.0)\n",
            "Collecting protobuf>=3.20 (from tensorflow_datasets)\n",
            "  Using cached protobuf-3.20.3-cp310-cp310-manylinux_2_12_x86_64.manylinux2010_x86_64.whl (1.1 MB)\n",
            "Installing collected packages: protobuf\n",
            "  Attempting uninstall: protobuf\n",
            "    Found existing installation: protobuf 4.23.4\n",
            "    Uninstalling protobuf-4.23.4:\n",
            "      Successfully uninstalled protobuf-4.23.4\n",
            "\u001b[31mERROR: pip's dependency resolver does not currently take into account all the packages that are installed. This behaviour is the source of the following dependency conflicts.\n",
            "flwr 1.7.0 requires protobuf<5.0.0,>=4.25.2, but you have protobuf 3.20.3 which is incompatible.\u001b[0m\u001b[31m\n",
            "\u001b[0mSuccessfully installed protobuf-3.20.3\n"
          ]
        },
        {
          "output_type": "display_data",
          "data": {
            "application/vnd.colab-display-data+json": {
              "pip_warning": {
                "packages": [
                  "google"
                ]
              }
            }
          },
          "metadata": {}
        },
        {
          "output_type": "stream",
          "name": "stdout",
          "text": [
            "Requirement already satisfied: matplotlib in /usr/local/lib/python3.10/dist-packages (3.7.1)\n",
            "Requirement already satisfied: contourpy>=1.0.1 in /usr/local/lib/python3.10/dist-packages (from matplotlib) (1.2.0)\n",
            "Requirement already satisfied: cycler>=0.10 in /usr/local/lib/python3.10/dist-packages (from matplotlib) (0.12.1)\n",
            "Requirement already satisfied: fonttools>=4.22.0 in /usr/local/lib/python3.10/dist-packages (from matplotlib) (4.47.2)\n",
            "Requirement already satisfied: kiwisolver>=1.0.1 in /usr/local/lib/python3.10/dist-packages (from matplotlib) (1.4.5)\n",
            "Requirement already satisfied: numpy>=1.20 in /usr/local/lib/python3.10/dist-packages (from matplotlib) (1.23.5)\n",
            "Requirement already satisfied: packaging>=20.0 in /usr/local/lib/python3.10/dist-packages (from matplotlib) (23.2)\n",
            "Requirement already satisfied: pillow>=6.2.0 in /usr/local/lib/python3.10/dist-packages (from matplotlib) (9.4.0)\n",
            "Requirement already satisfied: pyparsing>=2.3.1 in /usr/local/lib/python3.10/dist-packages (from matplotlib) (3.1.1)\n",
            "Requirement already satisfied: python-dateutil>=2.7 in /usr/local/lib/python3.10/dist-packages (from matplotlib) (2.8.2)\n",
            "Requirement already satisfied: six>=1.5 in /usr/local/lib/python3.10/dist-packages (from python-dateutil>=2.7->matplotlib) (1.16.0)\n"
          ]
        }
      ]
    },
    {
      "cell_type": "code",
      "execution_count": 19,
      "metadata": {
        "id": "6AbM6cJswxG-"
      },
      "outputs": [],
      "source": [
        "import tensorflow as tf\n",
        "import tensorflow_datasets as tfds\n",
        "from tensorflow import keras\n",
        "\n",
        "import pandas as pd\n",
        "\n",
        "import flwr as fl\n",
        "import matplotlib.pyplot as plt\n",
        "import numpy as np\n",
        "from typing import List, Tuple\n",
        "from flwr.common import Metrics\n",
        "#https://medium.com/mlearning-ai/evaluating-federated-learning-from-felt-labs-on-mnist-dataset-cbe081b28786\n"
      ]
    },
    {
      "cell_type": "markdown",
      "metadata": {
        "id": "EOn574tgwxHH"
      },
      "source": [
        "# Data Processing"
      ]
    },
    {
      "cell_type": "code",
      "execution_count": 20,
      "metadata": {
        "id": "1h8jFXxqwxHK"
      },
      "outputs": [],
      "source": [
        "def getCifarData():\n",
        "    (traindataset,testDataset),datasetinfo = tfds.load(\n",
        "        'cifar10',\n",
        "        split=['train','test'],\n",
        "        shuffle_files= True,\n",
        "        as_supervised= True,\n",
        "        with_info= True\n",
        "    )\n",
        "    return traindataset,testDataset,datasetinfo"
      ]
    },
    {
      "cell_type": "code",
      "execution_count": 21,
      "metadata": {
        "id": "CKJ2cO4MwxHL"
      },
      "outputs": [],
      "source": [
        "def dataset_to_numpy(dataset):\n",
        "    features = []\n",
        "    labels = []\n",
        "    for image, label in tfds.as_numpy(dataset):\n",
        "        features.append(image)\n",
        "        labels.append(label)\n",
        "    return np.array(features), np.array(labels)\n",
        "\n",
        "def Splitset(intrain,intest):\n",
        "    Train_images, Train_label = dataset_to_numpy(intrain)\n",
        "    Test_images, Test_label = dataset_to_numpy(intest)\n",
        "    return  Train_images, Train_label,Test_images, Test_label\n",
        "\n",
        "def datanorm(data):\n",
        "    return data/255"
      ]
    },
    {
      "cell_type": "code",
      "execution_count": 22,
      "metadata": {
        "id": "5wzHWYe0wxHN"
      },
      "outputs": [],
      "source": [
        "trainset,testset, info = getCifarData()\n",
        "Train_images, Train_label,Test_images, Test_label = Splitset(trainset,testset)\n",
        "Train_images_n = datanorm(Train_images)\n",
        "Test_images_n = datanorm(Test_images)\n"
      ]
    },
    {
      "cell_type": "code",
      "execution_count": 23,
      "metadata": {
        "id": "vs77ASHZwxHN",
        "outputId": "cd096d5d-cf7a-471d-a845-7740f41d014c",
        "colab": {
          "base_uri": "https://localhost:8080/",
          "height": 410
        }
      },
      "outputs": [
        {
          "output_type": "display_data",
          "data": {
            "text/plain": [
              "<Figure size 1500x400 with 2 Axes>"
            ],
            "image/png": "[encoded data removed]"
          },
          "metadata": {}
        }
      ],
      "source": [
        "fig_1,axs_1 = plt.subplots(1,2,figsize = (15,4))\n",
        "axs_1[0].hist(Train_label, bins=range(11), align='left', rwidth=0.8, color='#1f77b4', edgecolor='black',label='Train')\n",
        "axs_1[0].set_title('Distribution of CIFAR Train Labels')\n",
        "axs_1[0].set_xlabel('Label')\n",
        "axs_1[0].set_ylabel('Sample')\n",
        "axs_1[0].set_xticks(range(10))  # Digits 0 to 9\n",
        "axs_1[0].grid(axis='y', linestyle='--', alpha=0.7)\n",
        "\n",
        "axs_1[1].hist(Test_label, bins=range(11), align='left', rwidth=0.8, color='#1f77b4', edgecolor='black',label='Train')\n",
        "axs_1[1].set_title('Distribution of CIFAR Test Labels')\n",
        "axs_1[1].set_xlabel('Label')\n",
        "axs_1[1].set_ylabel('Sample')\n",
        "axs_1[1].set_xticks(range(10))  # Digits 0 to 9\n",
        "axs_1[1].grid(axis='y', linestyle='--', alpha=0.7)\n"
      ]
    },
    {
      "cell_type": "markdown",
      "metadata": {
        "id": "4bIO6yefwxHP"
      },
      "source": [
        "# Partition DataSet"
      ]
    },
    {
      "cell_type": "code",
      "execution_count": 24,
      "metadata": {
        "id": "t0-jQZNXwxHP"
      },
      "outputs": [],
      "source": [
        "def split_intoPartition(data, num_partitions):\n",
        "    # Calculate the size of each partition\n",
        "    partition_size = len(data) // num_partitions\n",
        "    # Split the dataset into partitions\n",
        "    partitions = [data[i * partition_size:(i + 1) * partition_size] for i in range(num_partitions)]\n",
        "    return partitions"
      ]
    },
    {
      "cell_type": "code",
      "execution_count": 25,
      "metadata": {
        "id": "nYLH__kSwxHP"
      },
      "outputs": [],
      "source": [
        "NumOfPartition = 8\n",
        "train_image_part = split_intoPartition(Train_images_n,NumOfPartition)\n",
        "train_label_part = split_intoPartition(Train_label,NumOfPartition)"
      ]
    },
    {
      "cell_type": "code",
      "execution_count": 26,
      "metadata": {
        "id": "MBXAYsjawxHQ",
        "outputId": "9b5a510e-183b-4b1a-f43e-2585303f5acd",
        "colab": {
          "base_uri": "https://localhost:8080/",
          "height": 497
        }
      },
      "outputs": [
        {
          "output_type": "display_data",
          "data": {
            "text/plain": [
              "<Figure size 640x480 with 10 Axes>"
            ],
            "image/png": "[encoded data removed]"
          },
          "metadata": {}
        }
      ],
      "source": [
        "# Plot histogram for each partition\n",
        "fig, axs = plt.subplots(NumOfPartition, sharex=True, sharey=True)\n",
        "\n",
        "for i, partition in enumerate(train_label_part):\n",
        "    axs[i].hist(partition, bins=range(11), align='left', rwidth=0.8, color='#1f77b4', edgecolor='black')\n",
        "    axs[i].set_title(f'Partition {i + 1}')\n",
        "    axs[i].set_xlabel('Label')\n",
        "    axs[i].set_ylabel('Sample')\n",
        "    axs[i].set_xticks(range(10))\n",
        "    axs[i].grid(axis='y', linestyle='--', alpha=0.7)\n",
        "plt.subplots_adjust(hspace=0.5)\n",
        "plt.suptitle('Distribution of Labels in Train Partitions')\n",
        "plt.show()"
      ]
    },
    {
      "cell_type": "code",
      "execution_count": 27,
      "metadata": {
        "id": "i_8XXsatwxHQ",
        "outputId": "d92489d3-7cb6-47f9-9f1c-83ed9dc8ca53",
        "colab": {
          "base_uri": "https://localhost:8080/",
          "height": 472
        }
      },
      "outputs": [
        {
          "output_type": "display_data",
          "data": {
            "text/plain": [
              "<Figure size 640x480 with 1 Axes>"
            ],
            "image/png": "[encoded data removed]"
          },
          "metadata": {}
        }
      ],
      "source": [
        "# Create an array to store the histogram data for each partition\n",
        "hist_data = [np.histogram(partition, bins=range(11))[0] for partition in train_label_part]\n",
        "\n",
        "# Plot heatmap\n",
        "fig, ax = plt.subplots()\n",
        "im = ax.imshow(hist_data, cmap='Pastel2',aspect='auto', interpolation='none')\n",
        "\n",
        "# Add annotations\n",
        "for i in range(len(train_label_part)):\n",
        "    for j in range(10):\n",
        "        text = ax.text(j, i, hist_data[i][j], ha='center', va='center', color='black', fontsize=8)\n",
        "\n",
        "# Set labels and ticks\n",
        "ax.set_title('Distribution of Labels in Train Partitions (Heatmap)')\n",
        "ax.set_xlabel('Label')\n",
        "ax.set_ylabel('Partition')\n",
        "ax.set_xticks(range(10))\n",
        "ax.set_yticks(range(len(train_label_part)))\n",
        "ax.set_xticklabels(range(10))\n",
        "ax.set_yticklabels(range(1, len(train_label_part) + 1))\n",
        "\n",
        "# Add colorbar\n",
        "plt.colorbar(im, ax=ax).remove()\n",
        "\n",
        "plt.show()"
      ]
    },
    {
      "cell_type": "code",
      "execution_count": 28,
      "metadata": {
        "id": "pWwlSFV8wxHQ"
      },
      "outputs": [],
      "source": [
        "def simpleRNNModel():\n",
        "    model = keras.Sequential()\n",
        "    model.add(keras.layers.Reshape((32, 32 * 3), input_shape=(32, 32, 3)))\n",
        "    model.add(keras.layers.LSTM(128))\n",
        "    model.add(keras.layers.Flatten())\n",
        "    model.add(keras.layers.Dense(10,activation=\"softmax\"))\n",
        "    model.compile(optimizer=tf.keras.optimizers.Adam(),loss= \"sparse_categorical_crossentropy\", metrics=[\"accuracy\"])\n",
        "    return model"
      ]
    },
    {
      "cell_type": "markdown",
      "metadata": {
        "id": "HOsW8pwswxHR"
      },
      "source": [
        "# Client"
      ]
    },
    {
      "cell_type": "code",
      "execution_count": 29,
      "metadata": {
        "id": "Iqph9zAbwxHR"
      },
      "outputs": [],
      "source": [
        "class FlowerClient(fl.client.NumPyClient):\n",
        "    def __init__(self, train_x,train_y,val_x,val_y, model) -> None:\n",
        "        super().__init__()\n",
        "        self.train_feature_set = train_x\n",
        "        self.train_label_set = train_y\n",
        "        self.val_feature_set = val_x\n",
        "        self.val_label_set = val_y\n",
        "        self.model = model\n",
        "\n",
        "    def get_parameters(self, config):\n",
        "        return self.model.get_weights()\n",
        "    def fit(self, parameters, config):\n",
        "        self.model.set_weights(parameters)\n",
        "        print(f\"round :{config['current_round']}\")\n",
        "        print(f\"Train :{len(self.train_feature_set)}\")\n",
        "        print(f\"Test :{len(self.val_feature_set)}\")\n",
        "\n",
        "        # Train the returned model\n",
        "        TrainHistory = self.model.fit(x=self.train_feature_set,\n",
        "                                 y=self.train_label_set,\n",
        "                                 verbose=2,\n",
        "                                 batch_size=config['batch_size'],\n",
        "                                 epochs=config['local_epochs'],\n",
        "                                 validation_data =(self.val_feature_set,self.val_label_set)\n",
        "                                 )\n",
        "        result ={\n",
        "                \"loss\": TrainHistory.history['loss'][-1],\n",
        "                \"accuracy\": round(TrainHistory.history['accuracy'][-1]*100,2),\n",
        "                \"val_loss\" : TrainHistory.history['val_loss'][-1],\n",
        "                \"val_accuracy\"  : round(TrainHistory.history[\"val_accuracy\"][-1]*100,2),\n",
        "        }\n",
        "\n",
        "        print(\"Client Train and validate Done!!!\")\n",
        "        # Send local model to server to do aggreation\n",
        "        return self.model.get_weights(), len(self.train_feature_set),result\n",
        "\n",
        "    def evaluate(self, parameters, config):\n",
        "        self.model.set_weights(parameters)\n",
        "        # Test Global model\n",
        "        loss, accuracy = self.model.evaluate(self.val_feature_set,\n",
        "                                        self.val_label_set,\n",
        "                                        batch_size=config['batch_size'],\n",
        "                                        verbose=2)\n",
        "        print(\"Global Validate Done!!!\")\n",
        "        return loss, len(self.val_feature_set), {\"accuracy\": round(float(accuracy*100),2)}\n",
        "\n",
        "\n",
        "def generate_client_fn(train_x,train_y,val_x,val_y, model):\n",
        "    \"\"\"Return a function to construct a FlowerClient.\"\"\"\n",
        "\n",
        "    def client_fn(cid: str):\n",
        "        print\n",
        "        return FlowerClient(train_x[int(cid)],train_y[int(cid)],val_x,val_y,model)\n",
        "    return client_fn\n"
      ]
    },
    {
      "cell_type": "markdown",
      "metadata": {
        "id": "nm00baRwwxHR"
      },
      "source": [
        "# Server"
      ]
    },
    {
      "cell_type": "code",
      "execution_count": 30,
      "metadata": {
        "id": "jQ0xkormwxHR"
      },
      "outputs": [],
      "source": [
        "# config for Client using Server side\n",
        "def fit_config(server_round: int):\n",
        "    \"\"\"Return training configuration dict for each round.\"\"\"\n",
        "    config = {\n",
        "        \"batch_size\": 32,\n",
        "        \"current_round\": server_round,\n",
        "        \"local_epochs\": 13,\n",
        "    }\n",
        "    return config\n",
        "\n",
        "def evalute_config(server_round: int):\n",
        "    \"\"\"Return test configuration dict for each round.\"\"\"\n",
        "    config = {\n",
        "        \"batch_size\": 1,\n",
        "        \"current_round\": server_round,\n",
        "    }\n",
        "    return config\n",
        "\n",
        "def weighted_average(metrics: List[Tuple[int, Metrics]]) -> Metrics:\n",
        "    # Multiply accuracy of each client by number of examples used\n",
        "    accuracies = [num_examples * m[\"accuracy\"] for num_examples, m in metrics]\n",
        "    examples = [num_examples for num_examples, _ in metrics]\n",
        "\n",
        "    # Aggregate and return custom metric (weighted average)\n",
        "    return {\"accuracy\": sum(accuracies) / sum(examples)}\n",
        "\n",
        "def fit_average(metric):\n",
        "    examples = [num_examples for num_examples, _ in metric]\n",
        "    trainacc = [num_examples * m[\"accuracy\"] for num_examples, m in metric]\n",
        "    valacc = [num_examples * m[\"val_accuracy\"] for num_examples, m in metric]\n",
        "\n",
        "    return { \"example\": sum(examples),\n",
        "            \"accuracy\": sum(trainacc) / sum(examples),\n",
        "            \"valacc\": sum(valacc) / sum(examples)\n",
        "            }\n",
        "\n",
        "\n",
        "\n"
      ]
    },
    {
      "cell_type": "code",
      "execution_count": 31,
      "metadata": {
        "id": "q92rGJv8wxHR"
      },
      "outputs": [],
      "source": [
        "Fedavgconfig = fl.server.strategy.FedAvg(on_fit_config_fn=fit_config,\n",
        "                                         on_evaluate_config_fn=evalute_config,\n",
        "                                         evaluate_metrics_aggregation_fn=weighted_average,\n",
        "                                         fit_metrics_aggregation_fn=fit_average,\n",
        "                                         min_evaluate_clients= NumOfPartition,\n",
        "                                         min_fit_clients=NumOfPartition,\n",
        "                                         min_available_clients=NumOfPartition,\n",
        "                                        )"
      ]
    },
    {
      "cell_type": "markdown",
      "metadata": {
        "id": "gm85-6SAwxHR"
      },
      "source": [
        "# Simulation"
      ]
    },
    {
      "cell_type": "code",
      "execution_count": 32,
      "metadata": {
        "id": "D1KTdZ-awxHR"
      },
      "outputs": [],
      "source": [
        "globalmodel = simpleRNNModel()\n",
        "clientfn = generate_client_fn(train_image_part,train_label_part,Test_images_n,Test_label,globalmodel)"
      ]
    },
    {
      "cell_type": "code",
      "execution_count": 33,
      "metadata": {
        "id": "K0iV69GBwxHR",
        "outputId": "96f13f81-f636-4e29-e55c-5acf686f12e6",
        "colab": {
          "base_uri": "https://localhost:8080/"
        }
      },
      "outputs": [
        {
          "output_type": "stream",
          "name": "stderr",
          "text": [
            "INFO flwr 2024-02-07 18:52:05,264 | app.py:178 | Starting Flower simulation, config: ServerConfig(num_rounds=10, round_timeout=None)\n",
            "INFO:flwr:Starting Flower simulation, config: ServerConfig(num_rounds=10, round_timeout=None)\n",
            "2024-02-07 18:52:13,152\tINFO worker.py:1621 -- Started a local Ray instance.\n",
            "INFO flwr 2024-02-07 18:52:16,474 | app.py:213 | Flower VCE: Ray initialized with resources: {'CPU': 2.0, 'memory': 7893314766.0, 'object_store_memory': 3946657382.0, 'node:172.28.0.12': 1.0, 'node:__internal_head__': 1.0}\n",
            "INFO:flwr:Flower VCE: Ray initialized with resources: {'CPU': 2.0, 'memory': 7893314766.0, 'object_store_memory': 3946657382.0, 'node:172.28.0.12': 1.0, 'node:__internal_head__': 1.0}\n",
            "INFO flwr 2024-02-07 18:52:16,484 | app.py:219 | Optimize your simulation with Flower VCE: https://flower.dev/docs/framework/how-to-run-simulations.html\n",
            "INFO:flwr:Optimize your simulation with Flower VCE: https://flower.dev/docs/framework/how-to-run-simulations.html\n",
            "INFO flwr 2024-02-07 18:52:16,488 | app.py:227 | No `client_resources` specified. Using minimal resources for clients.\n",
            "INFO:flwr:No `client_resources` specified. Using minimal resources for clients.\n",
            "INFO flwr 2024-02-07 18:52:16,503 | app.py:242 | Flower VCE: Resources for each Virtual Client: {'num_cpus': 1, 'num_gpus': 0.0}\n",
            "INFO:flwr:Flower VCE: Resources for each Virtual Client: {'num_cpus': 1, 'num_gpus': 0.0}\n",
            "INFO flwr 2024-02-07 18:52:16,596 | app.py:288 | Flower VCE: Creating VirtualClientEngineActorPool with 2 actors\n",
            "INFO:flwr:Flower VCE: Creating VirtualClientEngineActorPool with 2 actors\n",
            "INFO flwr 2024-02-07 18:52:16,600 | server.py:89 | Initializing global parameters\n",
            "INFO:flwr:Initializing global parameters\n",
            "INFO flwr 2024-02-07 18:52:16,603 | server.py:276 | Requesting initial parameters from one random client\n",
            "INFO:flwr:Requesting initial parameters from one random client\n",
            "\u001b[2m\u001b[36m(pid=13406)\u001b[0m 2024-02-07 18:52:27.215344: E external/local_xla/xla/stream_executor/cuda/cuda_dnn.cc:9261] Unable to register cuDNN factory: Attempting to register factory for plugin cuDNN when one has already been registered\n",
            "\u001b[2m\u001b[36m(pid=13406)\u001b[0m 2024-02-07 18:52:27.215423: E external/local_xla/xla/stream_executor/cuda/cuda_fft.cc:607] Unable to register cuFFT factory: Attempting to register factory for plugin cuFFT when one has already been registered\n",
            "\u001b[2m\u001b[36m(pid=13406)\u001b[0m 2024-02-07 18:52:27.226605: E external/local_xla/xla/stream_executor/cuda/cuda_blas.cc:1515] Unable to register cuBLAS factory: Attempting to register factory for plugin cuBLAS when one has already been registered\n",
            "\u001b[2m\u001b[36m(pid=13407)\u001b[0m 2024-02-07 18:52:31.162166: W tensorflow/compiler/tf2tensorrt/utils/py_utils.cc:38] TF-TRT Warning: Could not find TensorRT\n",
            "\u001b[2m\u001b[36m(DefaultActor pid=13407)\u001b[0m WARNING:absl:Skipping variable loading for optimizer 'Adam', because it has 11 variables whereas the saved optimizer has 1 variables. \n",
            "\u001b[2m\u001b[36m(pid=13407)\u001b[0m 2024-02-07 18:52:27.336872: E external/local_xla/xla/stream_executor/cuda/cuda_dnn.cc:9261] Unable to register cuDNN factory: Attempting to register factory for plugin cuDNN when one has already been registered\n",
            "\u001b[2m\u001b[36m(pid=13407)\u001b[0m 2024-02-07 18:52:27.336931: E external/local_xla/xla/stream_executor/cuda/cuda_fft.cc:607] Unable to register cuFFT factory: Attempting to register factory for plugin cuFFT when one has already been registered\n",
            "\u001b[2m\u001b[36m(pid=13407)\u001b[0m 2024-02-07 18:52:27.341371: E external/local_xla/xla/stream_executor/cuda/cuda_blas.cc:1515] Unable to register cuBLAS factory: Attempting to register factory for plugin cuBLAS when one has already been registered\n",
            "\u001b[2m\u001b[36m(pid=13406)\u001b[0m 2024-02-07 18:52:31.083908: W tensorflow/compiler/tf2tensorrt/utils/py_utils.cc:38] TF-TRT Warning: Could not find TensorRT\n",
            "INFO flwr 2024-02-07 18:52:36,481 | server.py:280 | Received initial parameters from one random client\n",
            "INFO:flwr:Received initial parameters from one random client\n",
            "INFO flwr 2024-02-07 18:52:36,485 | server.py:91 | Evaluating initial parameters\n",
            "INFO:flwr:Evaluating initial parameters\n",
            "INFO flwr 2024-02-07 18:52:36,487 | server.py:104 | FL starting\n",
            "INFO:flwr:FL starting\n",
            "DEBUG flwr 2024-02-07 18:52:36,490 | server.py:222 | fit_round 1: strategy sampled 10 clients (out of 10)\n",
            "DEBUG:flwr:fit_round 1: strategy sampled 10 clients (out of 10)\n",
            "\u001b[2m\u001b[36m(DefaultActor pid=13407)\u001b[0m /usr/local/lib/python3.10/dist-packages/flwr/simulation/ray_transport/ray_actor.py:72: DeprecationWarning:  Ensure your client is of type `flwr.client.Client`. Please convert it using the `.to_client()` method before returning it in the `client_fn` you pass to `start_simulation`. We have applied this conversion on your behalf. Not returning a `Client` might trigger an error in future versions of Flower.\n",
            "\u001b[2m\u001b[36m(DefaultActor pid=13407)\u001b[0m   client = check_clientfn_returns_client(client_fn(cid))\n"
          ]
        },
        {
          "output_type": "stream",
          "name": "stdout",
          "text": [
            "\u001b[2m\u001b[36m(DefaultActor pid=13407)\u001b[0m round :1\n",
            "\u001b[2m\u001b[36m(DefaultActor pid=13407)\u001b[0m Train :5000\n",
            "\u001b[2m\u001b[36m(DefaultActor pid=13407)\u001b[0m Test :10000\n"
          ]
        },
        {
          "output_type": "stream",
          "name": "stderr",
          "text": [
            "\u001b[2m\u001b[36m(DefaultActor pid=13407)\u001b[0m WARNING:absl:Skipping variable loading for optimizer 'Adam', because it has 11 variables whereas the saved optimizer has 1 variables. \n"
          ]
        },
        {
          "output_type": "stream",
          "name": "stdout",
          "text": [
            "\u001b[2m\u001b[36m(DefaultActor pid=13407)\u001b[0m Epoch 1/10\n",
            "\u001b[2m\u001b[36m(DefaultActor pid=13406)\u001b[0m round :1\n",
            "\u001b[2m\u001b[36m(DefaultActor pid=13406)\u001b[0m Train :5000\n",
            "\u001b[2m\u001b[36m(DefaultActor pid=13406)\u001b[0m Test :10000\n"
          ]
        },
        {
          "output_type": "stream",
          "name": "stderr",
          "text": [
            "\u001b[2m\u001b[36m(DefaultActor pid=13406)\u001b[0m WARNING:absl:Skipping variable loading for optimizer 'Adam', because it has 11 variables whereas the saved optimizer has 1 variables. \n",
            "\u001b[2m\u001b[36m(DefaultActor pid=13406)\u001b[0m /usr/local/lib/python3.10/dist-packages/flwr/simulation/ray_transport/ray_actor.py:72: DeprecationWarning:  Ensure your client is of type `flwr.client.Client`. Please convert it using the `.to_client()` method before returning it in the `client_fn` you pass to `start_simulation`. We have applied this conversion on your behalf. Not returning a `Client` might trigger an error in future versions of Flower.\n",
            "\u001b[2m\u001b[36m(DefaultActor pid=13406)\u001b[0m   client = check_clientfn_returns_client(client_fn(cid))\n"
          ]
        },
        {
          "output_type": "stream",
          "name": "stdout",
          "text": [
            "\u001b[2m\u001b[36m(DefaultActor pid=13406)\u001b[0m Epoch 1/10\n",
            "\u001b[2m\u001b[36m(DefaultActor pid=13407)\u001b[0m 157/157 - 21s - loss: 2.0687 - accuracy: 0.2268 - val_loss: 1.9134 - val_accuracy: 0.3038 - 21s/epoch - 135ms/step\n",
            "\u001b[2m\u001b[36m(DefaultActor pid=13407)\u001b[0m Epoch 2/10\n",
            "\u001b[2m\u001b[36m(DefaultActor pid=13406)\u001b[0m Epoch 2/10\n",
            "\u001b[2m\u001b[36m(DefaultActor pid=13406)\u001b[0m 157/157 - 25s - loss: 2.0958 - accuracy: 0.2302 - val_loss: 1.9955 - val_accuracy: 0.2730 - 25s/epoch - 159ms/step\n",
            "\u001b[2m\u001b[36m(DefaultActor pid=13407)\u001b[0m 157/157 - 20s - loss: 1.8895 - accuracy: 0.3212 - val_loss: 1.8424 - val_accuracy: 0.3299 - 20s/epoch - 127ms/step\n",
            "\u001b[2m\u001b[36m(DefaultActor pid=13406)\u001b[0m Epoch 3/10\u001b[32m [repeated 2x across cluster]\u001b[0m\n",
            "\u001b[2m\u001b[36m(DefaultActor pid=13406)\u001b[0m 157/157 - 19s - loss: 1.8923 - accuracy: 0.2906 - val_loss: 1.8895 - val_accuracy: 0.3079 - 19s/epoch - 120ms/step\n",
            "\u001b[2m\u001b[36m(DefaultActor pid=13407)\u001b[0m 157/157 - 18s - loss: 1.8107 - accuracy: 0.3460 - val_loss: 1.7568 - val_accuracy: 0.3559 - 18s/epoch - 116ms/step\n",
            "\u001b[2m\u001b[36m(DefaultActor pid=13407)\u001b[0m Epoch 4/10\n",
            "\u001b[2m\u001b[36m(DefaultActor pid=13406)\u001b[0m 157/157 - 23s - loss: 1.7930 - accuracy: 0.3362 - val_loss: 1.8280 - val_accuracy: 0.3316 - 23s/epoch - 148ms/step\n",
            "\u001b[2m\u001b[36m(DefaultActor pid=13406)\u001b[0m Epoch 4/10\n",
            "\u001b[2m\u001b[36m(DefaultActor pid=13407)\u001b[0m 157/157 - 24s - loss: 1.7362 - accuracy: 0.3684 - val_loss: 1.7495 - val_accuracy: 0.3634 - 24s/epoch - 151ms/step\n",
            "\u001b[2m\u001b[36m(DefaultActor pid=13406)\u001b[0m Epoch 5/10\u001b[32m [repeated 2x across cluster]\u001b[0m\n",
            "\u001b[2m\u001b[36m(DefaultActor pid=13406)\u001b[0m 157/157 - 22s - loss: 1.7383 - accuracy: 0.3616 - val_loss: 1.7713 - val_accuracy: 0.3536 - 22s/epoch - 138ms/step\n",
            "\u001b[2m\u001b[36m(DefaultActor pid=13407)\u001b[0m 157/157 - 21s - loss: 1.6853 - accuracy: 0.3882 - val_loss: 1.7100 - val_accuracy: 0.3834 - 21s/epoch - 136ms/step\n",
            "\u001b[2m\u001b[36m(DefaultActor pid=13406)\u001b[0m Epoch 6/10\u001b[32m [repeated 2x across cluster]\u001b[0m\n",
            "\u001b[2m\u001b[36m(DefaultActor pid=13406)\u001b[0m 157/157 - 21s - loss: 1.6912 - accuracy: 0.3696 - val_loss: 1.6926 - val_accuracy: 0.3860 - 21s/epoch - 132ms/step\n",
            "\u001b[2m\u001b[36m(DefaultActor pid=13407)\u001b[0m 157/157 - 20s - loss: 1.6353 - accuracy: 0.4024 - val_loss: 1.6768 - val_accuracy: 0.4012 - 20s/epoch - 130ms/step\n",
            "\u001b[2m\u001b[36m(DefaultActor pid=13406)\u001b[0m Epoch 7/10\u001b[32m [repeated 2x across cluster]\u001b[0m\n",
            "\u001b[2m\u001b[36m(DefaultActor pid=13406)\u001b[0m 157/157 - 19s - loss: 1.6226 - accuracy: 0.3932 - val_loss: 1.6675 - val_accuracy: 0.3879 - 19s/epoch - 123ms/step\n",
            "\u001b[2m\u001b[36m(DefaultActor pid=13407)\u001b[0m 157/157 - 22s - loss: 1.6008 - accuracy: 0.4264 - val_loss: 1.6570 - val_accuracy: 0.4042 - 22s/epoch - 140ms/step\n",
            "\u001b[2m\u001b[36m(DefaultActor pid=13406)\u001b[0m Epoch 8/10\u001b[32m [repeated 2x across cluster]\u001b[0m\n",
            "\u001b[2m\u001b[36m(DefaultActor pid=13406)\u001b[0m 157/157 - 16s - loss: 1.5812 - accuracy: 0.4178 - val_loss: 1.6664 - val_accuracy: 0.3914 - 16s/epoch - 103ms/step\n",
            "\u001b[2m\u001b[36m(DefaultActor pid=13407)\u001b[0m 157/157 - 21s - loss: 1.5426 - accuracy: 0.4440 - val_loss: 1.6087 - val_accuracy: 0.4178 - 21s/epoch - 131ms/step\n",
            "\u001b[2m\u001b[36m(DefaultActor pid=13407)\u001b[0m Epoch 9/10\n",
            "\u001b[2m\u001b[36m(DefaultActor pid=13406)\u001b[0m Epoch 9/10\n",
            "\u001b[2m\u001b[36m(DefaultActor pid=13406)\u001b[0m 157/157 - 21s - loss: 1.5280 - accuracy: 0.4338 - val_loss: 1.6446 - val_accuracy: 0.4070 - 21s/epoch - 132ms/step\n",
            "\u001b[2m\u001b[36m(DefaultActor pid=13407)\u001b[0m 157/157 - 19s - loss: 1.5007 - accuracy: 0.4620 - val_loss: 1.6269 - val_accuracy: 0.4173 - 19s/epoch - 119ms/step\n",
            "\u001b[2m\u001b[36m(DefaultActor pid=13407)\u001b[0m Epoch 10/10\n",
            "\u001b[2m\u001b[36m(DefaultActor pid=13406)\u001b[0m 157/157 - 20s - loss: 1.4849 - accuracy: 0.4498 - val_loss: 1.6935 - val_accuracy: 0.3919 - 20s/epoch - 126ms/step\n",
            "\u001b[2m\u001b[36m(DefaultActor pid=13406)\u001b[0m Epoch 10/10\n",
            "\u001b[2m\u001b[36m(DefaultActor pid=13407)\u001b[0m 157/157 - 21s - loss: 1.4746 - accuracy: 0.4640 - val_loss: 1.6214 - val_accuracy: 0.4168 - 21s/epoch - 133ms/step\n",
            "\u001b[2m\u001b[36m(DefaultActor pid=13407)\u001b[0m Client Train and validate Done!!!\n"
          ]
        },
        {
          "output_type": "stream",
          "name": "stderr",
          "text": [
            "\u001b[2m\u001b[36m(DefaultActor pid=13407)\u001b[0m WARNING:absl:Skipping variable loading for optimizer 'Adam', because it has 11 variables whereas the saved optimizer has 1 variables. \n"
          ]
        },
        {
          "output_type": "stream",
          "name": "stdout",
          "text": [
            "\u001b[2m\u001b[36m(DefaultActor pid=13407)\u001b[0m round :1\n",
            "\u001b[2m\u001b[36m(DefaultActor pid=13407)\u001b[0m Train :5000\n",
            "\u001b[2m\u001b[36m(DefaultActor pid=13407)\u001b[0m Test :10000\n",
            "\u001b[2m\u001b[36m(DefaultActor pid=13407)\u001b[0m Epoch 1/10\n",
            "\u001b[2m\u001b[36m(DefaultActor pid=13406)\u001b[0m 157/157 - 22s - loss: 1.4394 - accuracy: 0.4694 - val_loss: 1.6266 - val_accuracy: 0.4186 - 22s/epoch - 141ms/step\n",
            "\u001b[2m\u001b[36m(DefaultActor pid=13406)\u001b[0m Client Train and validate Done!!!\n",
            "\u001b[2m\u001b[36m(DefaultActor pid=13406)\u001b[0m round :1\n",
            "\u001b[2m\u001b[36m(DefaultActor pid=13406)\u001b[0m Train :5000\n",
            "\u001b[2m\u001b[36m(DefaultActor pid=13406)\u001b[0m Test :10000\n"
          ]
        },
        {
          "output_type": "stream",
          "name": "stderr",
          "text": [
            "\u001b[2m\u001b[36m(DefaultActor pid=13406)\u001b[0m WARNING:absl:Skipping variable loading for optimizer 'Adam', because it has 11 variables whereas the saved optimizer has 1 variables. \n"
          ]
        },
        {
          "output_type": "stream",
          "name": "stdout",
          "text": [
            "\u001b[2m\u001b[36m(DefaultActor pid=13406)\u001b[0m Epoch 1/10\n",
            "\u001b[2m\u001b[36m(DefaultActor pid=13407)\u001b[0m 157/157 - 28s - loss: 2.0761 - accuracy: 0.2322 - val_loss: 1.9774 - val_accuracy: 0.3037 - 28s/epoch - 179ms/step\n",
            "\u001b[2m\u001b[36m(DefaultActor pid=13407)\u001b[0m Epoch 2/10\n",
            "\u001b[2m\u001b[36m(DefaultActor pid=13406)\u001b[0m Epoch 2/10\n",
            "\u001b[2m\u001b[36m(DefaultActor pid=13406)\u001b[0m 157/157 - 27s - loss: 2.0848 - accuracy: 0.2208 - val_loss: 1.9423 - val_accuracy: 0.2967 - 27s/epoch - 173ms/step\n",
            "\u001b[2m\u001b[36m(DefaultActor pid=13407)\u001b[0m 157/157 - 20s - loss: 1.8784 - accuracy: 0.3178 - val_loss: 1.8173 - val_accuracy: 0.3387 - 20s/epoch - 126ms/step\n",
            "\u001b[2m\u001b[36m(DefaultActor pid=13406)\u001b[0m Epoch 3/10\u001b[32m [repeated 2x across cluster]\u001b[0m\n",
            "\u001b[2m\u001b[36m(DefaultActor pid=13406)\u001b[0m 157/157 - 20s - loss: 1.9105 - accuracy: 0.2964 - val_loss: 1.8763 - val_accuracy: 0.2998 - 20s/epoch - 129ms/step\n",
            "\u001b[2m\u001b[36m(DefaultActor pid=13407)\u001b[0m 157/157 - 21s - loss: 1.8068 - accuracy: 0.3380 - val_loss: 1.8537 - val_accuracy: 0.3349 - 21s/epoch - 134ms/step\n",
            "\u001b[2m\u001b[36m(DefaultActor pid=13406)\u001b[0m Epoch 4/10\u001b[32m [repeated 2x across cluster]\u001b[0m\n",
            "\u001b[2m\u001b[36m(DefaultActor pid=13406)\u001b[0m 157/157 - 20s - loss: 1.8107 - accuracy: 0.3344 - val_loss: 1.7597 - val_accuracy: 0.3610 - 20s/epoch - 130ms/step\n",
            "\u001b[2m\u001b[36m(DefaultActor pid=13407)\u001b[0m 157/157 - 19s - loss: 1.7247 - accuracy: 0.3704 - val_loss: 1.7283 - val_accuracy: 0.3761 - 19s/epoch - 121ms/step\n",
            "\u001b[2m\u001b[36m(DefaultActor pid=13406)\u001b[0m Epoch 5/10\u001b[32m [repeated 2x across cluster]\u001b[0m\n",
            "\u001b[2m\u001b[36m(DefaultActor pid=13406)\u001b[0m 157/157 - 19s - loss: 1.7498 - accuracy: 0.3572 - val_loss: 1.7656 - val_accuracy: 0.3582 - 19s/epoch - 118ms/step\n",
            "\u001b[2m\u001b[36m(DefaultActor pid=13407)\u001b[0m 157/157 - 21s - loss: 1.6791 - accuracy: 0.3962 - val_loss: 1.7505 - val_accuracy: 0.3762 - 21s/epoch - 137ms/step\n",
            "\u001b[2m\u001b[36m(DefaultActor pid=13407)\u001b[0m Epoch 6/10\n",
            "\u001b[2m\u001b[36m(DefaultActor pid=13406)\u001b[0m Epoch 6/10\n",
            "\u001b[2m\u001b[36m(DefaultActor pid=13406)\u001b[0m 157/157 - 21s - loss: 1.6980 - accuracy: 0.3798 - val_loss: 1.7072 - val_accuracy: 0.3824 - 21s/epoch - 136ms/step\n",
            "\u001b[2m\u001b[36m(DefaultActor pid=13407)\u001b[0m 157/157 - 19s - loss: 1.6121 - accuracy: 0.4226 - val_loss: 1.8132 - val_accuracy: 0.3576 - 19s/epoch - 121ms/step\n",
            "\u001b[2m\u001b[36m(DefaultActor pid=13406)\u001b[0m Epoch 7/10\u001b[32m [repeated 2x across cluster]\u001b[0m\n",
            "\u001b[2m\u001b[36m(DefaultActor pid=13406)\u001b[0m 157/157 - 19s - loss: 1.6389 - accuracy: 0.3990 - val_loss: 1.7074 - val_accuracy: 0.3831 - 19s/epoch - 119ms/step\n",
            "\u001b[2m\u001b[36m(DefaultActor pid=13407)\u001b[0m 157/157 - 19s - loss: 1.5785 - accuracy: 0.4228 - val_loss: 1.7182 - val_accuracy: 0.3891 - 19s/epoch - 120ms/step\n",
            "\u001b[2m\u001b[36m(DefaultActor pid=13406)\u001b[0m Epoch 8/10\u001b[32m [repeated 2x across cluster]\u001b[0m\n",
            "\u001b[2m\u001b[36m(DefaultActor pid=13406)\u001b[0m 157/157 - 20s - loss: 1.5970 - accuracy: 0.4126 - val_loss: 1.6744 - val_accuracy: 0.3941 - 20s/epoch - 127ms/step\n",
            "\u001b[2m\u001b[36m(DefaultActor pid=13407)\u001b[0m 157/157 - 22s - loss: 1.5198 - accuracy: 0.4604 - val_loss: 1.6388 - val_accuracy: 0.4134 - 22s/epoch - 138ms/step\n",
            "\u001b[2m\u001b[36m(DefaultActor pid=13407)\u001b[0m Epoch 9/10\n",
            "\u001b[2m\u001b[36m(DefaultActor pid=13406)\u001b[0m Epoch 9/10\n",
            "\u001b[2m\u001b[36m(DefaultActor pid=13406)\u001b[0m 157/157 - 20s - loss: 1.5633 - accuracy: 0.4332 - val_loss: 1.6619 - val_accuracy: 0.3968 - 20s/epoch - 128ms/step\n",
            "\u001b[2m\u001b[36m(DefaultActor pid=13407)\u001b[0m 157/157 - 19s - loss: 1.4722 - accuracy: 0.4690 - val_loss: 1.6046 - val_accuracy: 0.4312 - 19s/epoch - 120ms/step\n",
            "\u001b[2m\u001b[36m(DefaultActor pid=13406)\u001b[0m Epoch 10/10\u001b[32m [repeated 2x across cluster]\u001b[0m\n",
            "\u001b[2m\u001b[36m(DefaultActor pid=13406)\u001b[0m 157/157 - 20s - loss: 1.5188 - accuracy: 0.4460 - val_loss: 1.6361 - val_accuracy: 0.4083 - 20s/epoch - 125ms/step\n",
            "\u001b[2m\u001b[36m(DefaultActor pid=13407)\u001b[0m 157/157 - 21s - loss: 1.4594 - accuracy: 0.4672 - val_loss: 1.6168 - val_accuracy: 0.4206 - 21s/epoch - 132ms/step\n",
            "\u001b[2m\u001b[36m(DefaultActor pid=13407)\u001b[0m Client Train and validate Done!!!\n",
            "\u001b[2m\u001b[36m(DefaultActor pid=13407)\u001b[0m round :1\n",
            "\u001b[2m\u001b[36m(DefaultActor pid=13407)\u001b[0m Train :5000\n",
            "\u001b[2m\u001b[36m(DefaultActor pid=13407)\u001b[0m Test :10000\n"
          ]
        },
        {
          "output_type": "stream",
          "name": "stderr",
          "text": [
            "\u001b[2m\u001b[36m(DefaultActor pid=13407)\u001b[0m WARNING:absl:Skipping variable loading for optimizer 'Adam', because it has 11 variables whereas the saved optimizer has 1 variables. \n"
          ]
        },
        {
          "output_type": "stream",
          "name": "stdout",
          "text": [
            "\u001b[2m\u001b[36m(DefaultActor pid=13407)\u001b[0m Epoch 1/10\n",
            "\u001b[2m\u001b[36m(DefaultActor pid=13406)\u001b[0m 157/157 - 22s - loss: 1.4805 - accuracy: 0.4674 - val_loss: 1.6246 - val_accuracy: 0.4107 - 22s/epoch - 137ms/step\n",
            "\u001b[2m\u001b[36m(DefaultActor pid=13406)\u001b[0m Client Train and validate Done!!!\n"
          ]
        },
        {
          "output_type": "stream",
          "name": "stderr",
          "text": [
            "\u001b[2m\u001b[36m(DefaultActor pid=13406)\u001b[0m WARNING:absl:Skipping variable loading for optimizer 'Adam', because it has 11 variables whereas the saved optimizer has 1 variables. \n"
          ]
        },
        {
          "output_type": "stream",
          "name": "stdout",
          "text": [
            "\u001b[2m\u001b[36m(DefaultActor pid=13406)\u001b[0m round :1\n",
            "\u001b[2m\u001b[36m(DefaultActor pid=13406)\u001b[0m Train :5000\n",
            "\u001b[2m\u001b[36m(DefaultActor pid=13406)\u001b[0m Test :10000\n",
            "\u001b[2m\u001b[36m(DefaultActor pid=13406)\u001b[0m Epoch 1/10\n",
            "\u001b[2m\u001b[36m(DefaultActor pid=13407)\u001b[0m 157/157 - 26s - loss: 2.1160 - accuracy: 0.2150 - val_loss: 1.9432 - val_accuracy: 0.2847 - 26s/epoch - 165ms/step\n",
            "\u001b[2m\u001b[36m(DefaultActor pid=13407)\u001b[0m Epoch 2/10\n",
            "\u001b[2m\u001b[36m(DefaultActor pid=13406)\u001b[0m Epoch 2/10\n",
            "\u001b[2m\u001b[36m(DefaultActor pid=13406)\u001b[0m 157/157 - 26s - loss: 2.0775 - accuracy: 0.2360 - val_loss: 1.9642 - val_accuracy: 0.2928 - 26s/epoch - 163ms/step\n",
            "\u001b[2m\u001b[36m(DefaultActor pid=13407)\u001b[0m 157/157 - 19s - loss: 1.9239 - accuracy: 0.2968 - val_loss: 1.8680 - val_accuracy: 0.3209 - 19s/epoch - 123ms/step\n",
            "\u001b[2m\u001b[36m(DefaultActor pid=13406)\u001b[0m Epoch 3/10\u001b[32m [repeated 2x across cluster]\u001b[0m\n",
            "\u001b[2m\u001b[36m(DefaultActor pid=13406)\u001b[0m 157/157 - 20s - loss: 1.8782 - accuracy: 0.3156 - val_loss: 1.8617 - val_accuracy: 0.3321 - 20s/epoch - 128ms/step\n",
            "\u001b[2m\u001b[36m(DefaultActor pid=13407)\u001b[0m 157/157 - 23s - loss: 1.8475 - accuracy: 0.3280 - val_loss: 1.7736 - val_accuracy: 0.3534 - 23s/epoch - 147ms/step\n",
            "\u001b[2m\u001b[36m(DefaultActor pid=13407)\u001b[0m Epoch 4/10\n",
            "\u001b[2m\u001b[36m(DefaultActor pid=13406)\u001b[0m Epoch 4/10\n",
            "\u001b[2m\u001b[36m(DefaultActor pid=13406)\u001b[0m 157/157 - 22s - loss: 1.7924 - accuracy: 0.3476 - val_loss: 1.7765 - val_accuracy: 0.3416 - 22s/epoch - 142ms/step\n",
            "\u001b[2m\u001b[36m(DefaultActor pid=13407)\u001b[0m 157/157 - 19s - loss: 1.7808 - accuracy: 0.3450 - val_loss: 1.7892 - val_accuracy: 0.3476 - 19s/epoch - 122ms/step\n",
            "\u001b[2m\u001b[36m(DefaultActor pid=13406)\u001b[0m Epoch 5/10\u001b[32m [repeated 2x across cluster]\u001b[0m\n",
            "\u001b[2m\u001b[36m(DefaultActor pid=13406)\u001b[0m 157/157 - 19s - loss: 1.7239 - accuracy: 0.3712 - val_loss: 1.7889 - val_accuracy: 0.3494 - 19s/epoch - 124ms/step\n",
            "\u001b[2m\u001b[36m(DefaultActor pid=13407)\u001b[0m 157/157 - 20s - loss: 1.7365 - accuracy: 0.3628 - val_loss: 1.6950 - val_accuracy: 0.3802 - 20s/epoch - 128ms/step\n",
            "\u001b[2m\u001b[36m(DefaultActor pid=13406)\u001b[0m Epoch 6/10\u001b[32m [repeated 2x across cluster]\u001b[0m\n",
            "\u001b[2m\u001b[36m(DefaultActor pid=13406)\u001b[0m 157/157 - 21s - loss: 1.6558 - accuracy: 0.3938 - val_loss: 1.7298 - val_accuracy: 0.3741 - 21s/epoch - 135ms/step\n",
            "\u001b[2m\u001b[36m(DefaultActor pid=13407)\u001b[0m 157/157 - 20s - loss: 1.6748 - accuracy: 0.3870 - val_loss: 1.6582 - val_accuracy: 0.4000 - 20s/epoch - 130ms/step\n",
            "\u001b[2m\u001b[36m(DefaultActor pid=13406)\u001b[0m Epoch 7/10\u001b[32m [repeated 2x across cluster]\u001b[0m\n",
            "\u001b[2m\u001b[36m(DefaultActor pid=13406)\u001b[0m 157/157 - 19s - loss: 1.6243 - accuracy: 0.4090 - val_loss: 1.6915 - val_accuracy: 0.3923 - 19s/epoch - 123ms/step\n",
            "\u001b[2m\u001b[36m(DefaultActor pid=13407)\u001b[0m 157/157 - 19s - loss: 1.6244 - accuracy: 0.4144 - val_loss: 1.6469 - val_accuracy: 0.4030 - 19s/epoch - 120ms/step\n",
            "\u001b[2m\u001b[36m(DefaultActor pid=13406)\u001b[0m Epoch 8/10\u001b[32m [repeated 2x across cluster]\u001b[0m\n",
            "\u001b[2m\u001b[36m(DefaultActor pid=13406)\u001b[0m 157/157 - 20s - loss: 1.5559 - accuracy: 0.4366 - val_loss: 1.7596 - val_accuracy: 0.3689 - 20s/epoch - 127ms/step\n",
            "\u001b[2m\u001b[36m(DefaultActor pid=13407)\u001b[0m 157/157 - 22s - loss: 1.5985 - accuracy: 0.4178 - val_loss: 1.6321 - val_accuracy: 0.4063 - 22s/epoch - 137ms/step\n",
            "\u001b[2m\u001b[36m(DefaultActor pid=13406)\u001b[0m Epoch 9/10\u001b[32m [repeated 2x across cluster]\u001b[0m\n",
            "\u001b[2m\u001b[36m(DefaultActor pid=13406)\u001b[0m 157/157 - 20s - loss: 1.5332 - accuracy: 0.4478 - val_loss: 1.6320 - val_accuracy: 0.4115 - 20s/epoch - 127ms/step\n",
            "\u001b[2m\u001b[36m(DefaultActor pid=13407)\u001b[0m 157/157 - 19s - loss: 1.5447 - accuracy: 0.4422 - val_loss: 1.6207 - val_accuracy: 0.4120 - 19s/epoch - 121ms/step\n",
            "\u001b[2m\u001b[36m(DefaultActor pid=13406)\u001b[0m Epoch 10/10\u001b[32m [repeated 2x across cluster]\u001b[0m\n",
            "\u001b[2m\u001b[36m(DefaultActor pid=13406)\u001b[0m 157/157 - 20s - loss: 1.4735 - accuracy: 0.4670 - val_loss: 1.6287 - val_accuracy: 0.4147 - 20s/epoch - 126ms/step\n",
            "\u001b[2m\u001b[36m(DefaultActor pid=13407)\u001b[0m 157/157 - 21s - loss: 1.5033 - accuracy: 0.4618 - val_loss: 1.6134 - val_accuracy: 0.4196 - 21s/epoch - 131ms/step\n",
            "\u001b[2m\u001b[36m(DefaultActor pid=13407)\u001b[0m Client Train and validate Done!!!\n",
            "\u001b[2m\u001b[36m(DefaultActor pid=13407)\u001b[0m round :1\n",
            "\u001b[2m\u001b[36m(DefaultActor pid=13407)\u001b[0m Train :5000\n",
            "\u001b[2m\u001b[36m(DefaultActor pid=13407)\u001b[0m Test :10000\n"
          ]
        },
        {
          "output_type": "stream",
          "name": "stderr",
          "text": [
            "\u001b[2m\u001b[36m(DefaultActor pid=13407)\u001b[0m WARNING:absl:Skipping variable loading for optimizer 'Adam', because it has 11 variables whereas the saved optimizer has 1 variables. \n"
          ]
        },
        {
          "output_type": "stream",
          "name": "stdout",
          "text": [
            "\u001b[2m\u001b[36m(DefaultActor pid=13407)\u001b[0m Epoch 1/10\n",
            "\u001b[2m\u001b[36m(DefaultActor pid=13406)\u001b[0m 157/157 - 22s - loss: 1.4346 - accuracy: 0.4884 - val_loss: 1.6395 - val_accuracy: 0.4073 - 22s/epoch - 139ms/step\n",
            "\u001b[2m\u001b[36m(DefaultActor pid=13406)\u001b[0m Client Train and validate Done!!!\n"
          ]
        },
        {
          "output_type": "stream",
          "name": "stderr",
          "text": [
            "\u001b[2m\u001b[36m(DefaultActor pid=13406)\u001b[0m WARNING:absl:Skipping variable loading for optimizer 'Adam', because it has 11 variables whereas the saved optimizer has 1 variables. \n"
          ]
        },
        {
          "output_type": "stream",
          "name": "stdout",
          "text": [
            "\u001b[2m\u001b[36m(DefaultActor pid=13406)\u001b[0m round :1\n",
            "\u001b[2m\u001b[36m(DefaultActor pid=13406)\u001b[0m Train :5000\n",
            "\u001b[2m\u001b[36m(DefaultActor pid=13406)\u001b[0m Test :10000\n",
            "\u001b[2m\u001b[36m(DefaultActor pid=13406)\u001b[0m Epoch 1/10\n",
            "\u001b[2m\u001b[36m(DefaultActor pid=13407)\u001b[0m 157/157 - 27s - loss: 2.0966 - accuracy: 0.2280 - val_loss: 1.9499 - val_accuracy: 0.2914 - 27s/epoch - 172ms/step\n",
            "\u001b[2m\u001b[36m(DefaultActor pid=13407)\u001b[0m Epoch 2/10\n",
            "\u001b[2m\u001b[36m(DefaultActor pid=13406)\u001b[0m Epoch 2/10\n",
            "\u001b[2m\u001b[36m(DefaultActor pid=13406)\u001b[0m 157/157 - 26s - loss: 2.0925 - accuracy: 0.2230 - val_loss: 1.9518 - val_accuracy: 0.2944 - 26s/epoch - 164ms/step\n",
            "\u001b[2m\u001b[36m(DefaultActor pid=13407)\u001b[0m 157/157 - 19s - loss: 1.9135 - accuracy: 0.2940 - val_loss: 1.8516 - val_accuracy: 0.3303 - 19s/epoch - 123ms/step\n",
            "\u001b[2m\u001b[36m(DefaultActor pid=13406)\u001b[0m Epoch 3/10\u001b[32m [repeated 2x across cluster]\u001b[0m\n",
            "\u001b[2m\u001b[36m(DefaultActor pid=13406)\u001b[0m 157/157 - 19s - loss: 1.8875 - accuracy: 0.3050 - val_loss: 1.8450 - val_accuracy: 0.3271 - 19s/epoch - 121ms/step\n",
            "\u001b[2m\u001b[36m(DefaultActor pid=13407)\u001b[0m 157/157 - 20s - loss: 1.8243 - accuracy: 0.3400 - val_loss: 1.8394 - val_accuracy: 0.3256 - 20s/epoch - 127ms/step\n",
            "\u001b[2m\u001b[36m(DefaultActor pid=13406)\u001b[0m Epoch 4/10\u001b[32m [repeated 2x across cluster]\u001b[0m\n",
            "\u001b[2m\u001b[36m(DefaultActor pid=13406)\u001b[0m 157/157 - 21s - loss: 1.8002 - accuracy: 0.3410 - val_loss: 1.7631 - val_accuracy: 0.3568 - 21s/epoch - 136ms/step\n",
            "\u001b[2m\u001b[36m(DefaultActor pid=13407)\u001b[0m 157/157 - 20s - loss: 1.7567 - accuracy: 0.3572 - val_loss: 1.7582 - val_accuracy: 0.3576 - 20s/epoch - 127ms/step\n",
            "\u001b[2m\u001b[36m(DefaultActor pid=13406)\u001b[0m Epoch 5/10\u001b[32m [repeated 2x across cluster]\u001b[0m\n",
            "\u001b[2m\u001b[36m(DefaultActor pid=13406)\u001b[0m 157/157 - 19s - loss: 1.7449 - accuracy: 0.3722 - val_loss: 1.8053 - val_accuracy: 0.3446 - 19s/epoch - 122ms/step\n",
            "\u001b[2m\u001b[36m(DefaultActor pid=13407)\u001b[0m 157/157 - 19s - loss: 1.7075 - accuracy: 0.3826 - val_loss: 1.7094 - val_accuracy: 0.3822 - 19s/epoch - 124ms/step\n",
            "\u001b[2m\u001b[36m(DefaultActor pid=13406)\u001b[0m Epoch 6/10\u001b[32m [repeated 2x across cluster]\u001b[0m\n",
            "\u001b[2m\u001b[36m(DefaultActor pid=13406)\u001b[0m 157/157 - 20s - loss: 1.6857 - accuracy: 0.3824 - val_loss: 1.6804 - val_accuracy: 0.3879 - 20s/epoch - 127ms/step\n",
            "\u001b[2m\u001b[36m(DefaultActor pid=13407)\u001b[0m 157/157 - 21s - loss: 1.6531 - accuracy: 0.4044 - val_loss: 1.6976 - val_accuracy: 0.3839 - 21s/epoch - 131ms/step\n",
            "\u001b[2m\u001b[36m(DefaultActor pid=13406)\u001b[0m Epoch 7/10\u001b[32m [repeated 2x across cluster]\u001b[0m\n",
            "\u001b[2m\u001b[36m(DefaultActor pid=13406)\u001b[0m 157/157 - 21s - loss: 1.6328 - accuracy: 0.4084 - val_loss: 1.6831 - val_accuracy: 0.3906 - 21s/epoch - 131ms/step\n",
            "\u001b[2m\u001b[36m(DefaultActor pid=13407)\u001b[0m 157/157 - 22s - loss: 1.6261 - accuracy: 0.4126 - val_loss: 1.6516 - val_accuracy: 0.4025 - 22s/epoch - 141ms/step\n",
            "\u001b[2m\u001b[36m(DefaultActor pid=13407)\u001b[0m Epoch 8/10\n",
            "\u001b[2m\u001b[36m(DefaultActor pid=13406)\u001b[0m 157/157 - 16s - loss: 1.5963 - accuracy: 0.4284 - val_loss: 1.6432 - val_accuracy: 0.4111 - 16s/epoch - 104ms/step\n",
            "\u001b[2m\u001b[36m(DefaultActor pid=13406)\u001b[0m Epoch 8/10\n",
            "\u001b[2m\u001b[36m(DefaultActor pid=13407)\u001b[0m 157/157 - 21s - loss: 1.5680 - accuracy: 0.4296 - val_loss: 1.6399 - val_accuracy: 0.4097 - 21s/epoch - 136ms/step\n",
            "\u001b[2m\u001b[36m(DefaultActor pid=13407)\u001b[0m Epoch 9/10\n",
            "\u001b[2m\u001b[36m(DefaultActor pid=13406)\u001b[0m 157/157 - 21s - loss: 1.5580 - accuracy: 0.4440 - val_loss: 1.6541 - val_accuracy: 0.3936 - 21s/epoch - 135ms/step\n",
            "\u001b[2m\u001b[36m(DefaultActor pid=13406)\u001b[0m Epoch 9/10\n",
            "\u001b[2m\u001b[36m(DefaultActor pid=13407)\u001b[0m 157/157 - 19s - loss: 1.5312 - accuracy: 0.4448 - val_loss: 1.6842 - val_accuracy: 0.3854 - 19s/epoch - 123ms/step\n",
            "\u001b[2m\u001b[36m(DefaultActor pid=13407)\u001b[0m Epoch 10/10\n",
            "\u001b[2m\u001b[36m(DefaultActor pid=13406)\u001b[0m 157/157 - 20s - loss: 1.5130 - accuracy: 0.4538 - val_loss: 1.6314 - val_accuracy: 0.4067 - 20s/epoch - 128ms/step\n",
            "\u001b[2m\u001b[36m(DefaultActor pid=13406)\u001b[0m Epoch 10/10\n",
            "\u001b[2m\u001b[36m(DefaultActor pid=13407)\u001b[0m 157/157 - 21s - loss: 1.4890 - accuracy: 0.4560 - val_loss: 1.6448 - val_accuracy: 0.4171 - 21s/epoch - 132ms/step\n",
            "\u001b[2m\u001b[36m(DefaultActor pid=13407)\u001b[0m Client Train and validate Done!!!\n",
            "\u001b[2m\u001b[36m(DefaultActor pid=13407)\u001b[0m round :1\n",
            "\u001b[2m\u001b[36m(DefaultActor pid=13407)\u001b[0m Train :5000\n",
            "\u001b[2m\u001b[36m(DefaultActor pid=13407)\u001b[0m Test :10000\n"
          ]
        },
        {
          "output_type": "stream",
          "name": "stderr",
          "text": [
            "\u001b[2m\u001b[36m(DefaultActor pid=13407)\u001b[0m WARNING:absl:Skipping variable loading for optimizer 'Adam', because it has 11 variables whereas the saved optimizer has 1 variables. \n"
          ]
        },
        {
          "output_type": "stream",
          "name": "stdout",
          "text": [
            "\u001b[2m\u001b[36m(DefaultActor pid=13407)\u001b[0m Epoch 1/10\n",
            "\u001b[2m\u001b[36m(DefaultActor pid=13406)\u001b[0m 157/157 - 20s - loss: 1.4799 - accuracy: 0.4628 - val_loss: 1.6841 - val_accuracy: 0.3975 - 20s/epoch - 128ms/step\n",
            "\u001b[2m\u001b[36m(DefaultActor pid=13406)\u001b[0m Client Train and validate Done!!!\n",
            "\u001b[2m\u001b[36m(DefaultActor pid=13406)\u001b[0m round :1\n",
            "\u001b[2m\u001b[36m(DefaultActor pid=13406)\u001b[0m Train :5000\n",
            "\u001b[2m\u001b[36m(DefaultActor pid=13406)\u001b[0m Test :10000\n"
          ]
        },
        {
          "output_type": "stream",
          "name": "stderr",
          "text": [
            "\u001b[2m\u001b[36m(DefaultActor pid=13406)\u001b[0m WARNING:absl:Skipping variable loading for optimizer 'Adam', because it has 11 variables whereas the saved optimizer has 1 variables. \n"
          ]
        },
        {
          "output_type": "stream",
          "name": "stdout",
          "text": [
            "\u001b[2m\u001b[36m(DefaultActor pid=13406)\u001b[0m Epoch 1/10\n",
            "\u001b[2m\u001b[36m(DefaultActor pid=13407)\u001b[0m 157/157 - 26s - loss: 2.0915 - accuracy: 0.2306 - val_loss: 1.9747 - val_accuracy: 0.2744 - 26s/epoch - 167ms/step\n",
            "\u001b[2m\u001b[36m(DefaultActor pid=13407)\u001b[0m Epoch 2/10\n",
            "\u001b[2m\u001b[36m(DefaultActor pid=13406)\u001b[0m Epoch 2/10\n",
            "\u001b[2m\u001b[36m(DefaultActor pid=13406)\u001b[0m 157/157 - 25s - loss: 2.1121 - accuracy: 0.2148 - val_loss: 2.0339 - val_accuracy: 0.2573 - 25s/epoch - 157ms/step\n",
            "\u001b[2m\u001b[36m(DefaultActor pid=13407)\u001b[0m 157/157 - 20s - loss: 1.9047 - accuracy: 0.3098 - val_loss: 1.8495 - val_accuracy: 0.3277 - 20s/epoch - 127ms/step\n",
            "\u001b[2m\u001b[36m(DefaultActor pid=13407)\u001b[0m Epoch 3/10\n",
            "\u001b[2m\u001b[36m(DefaultActor pid=13406)\u001b[0m Epoch 3/10\n",
            "\u001b[2m\u001b[36m(DefaultActor pid=13406)\u001b[0m 157/157 - 21s - loss: 1.9087 - accuracy: 0.2976 - val_loss: 1.8458 - val_accuracy: 0.3248 - 21s/epoch - 132ms/step\n",
            "\u001b[2m\u001b[36m(DefaultActor pid=13407)\u001b[0m 157/157 - 20s - loss: 1.8446 - accuracy: 0.3316 - val_loss: 1.8211 - val_accuracy: 0.3389 - 20s/epoch - 127ms/step\n",
            "\u001b[2m\u001b[36m(DefaultActor pid=13407)\u001b[0m Epoch 4/10\n",
            "\u001b[2m\u001b[36m(DefaultActor pid=13406)\u001b[0m Epoch 4/10\n",
            "\u001b[2m\u001b[36m(DefaultActor pid=13406)\u001b[0m 157/157 - 19s - loss: 1.8135 - accuracy: 0.3276 - val_loss: 1.8251 - val_accuracy: 0.3375 - 19s/epoch - 124ms/step\n",
            "\u001b[2m\u001b[36m(DefaultActor pid=13407)\u001b[0m 157/157 - 20s - loss: 1.7561 - accuracy: 0.3622 - val_loss: 1.7586 - val_accuracy: 0.3656 - 20s/epoch - 126ms/step\n",
            "\u001b[2m\u001b[36m(DefaultActor pid=13407)\u001b[0m Epoch 5/10\n",
            "\u001b[2m\u001b[36m(DefaultActor pid=13406)\u001b[0m Epoch 5/10\n",
            "\u001b[2m\u001b[36m(DefaultActor pid=13406)\u001b[0m 157/157 - 21s - loss: 1.7534 - accuracy: 0.3550 - val_loss: 1.7577 - val_accuracy: 0.3668 - 21s/epoch - 132ms/step\n",
            "\u001b[2m\u001b[36m(DefaultActor pid=13407)\u001b[0m 157/157 - 20s - loss: 1.6930 - accuracy: 0.3898 - val_loss: 1.7472 - val_accuracy: 0.3671 - 20s/epoch - 126ms/step\n",
            "\u001b[2m\u001b[36m(DefaultActor pid=13407)\u001b[0m Epoch 6/10\n",
            "\u001b[2m\u001b[36m(DefaultActor pid=13406)\u001b[0m 157/157 - 19s - loss: 1.6889 - accuracy: 0.3920 - val_loss: 1.7276 - val_accuracy: 0.3716 - 19s/epoch - 121ms/step\n",
            "\u001b[2m\u001b[36m(DefaultActor pid=13406)\u001b[0m Epoch 6/10\n",
            "\u001b[2m\u001b[36m(DefaultActor pid=13407)\u001b[0m 157/157 - 21s - loss: 1.6553 - accuracy: 0.3966 - val_loss: 1.6902 - val_accuracy: 0.3820 - 21s/epoch - 131ms/step\n",
            "\u001b[2m\u001b[36m(DefaultActor pid=13407)\u001b[0m Epoch 7/10\n",
            "\u001b[2m\u001b[36m(DefaultActor pid=13406)\u001b[0m 157/157 - 21s - loss: 1.6486 - accuracy: 0.3944 - val_loss: 1.7225 - val_accuracy: 0.3792 - 21s/epoch - 134ms/step\n",
            "\u001b[2m\u001b[36m(DefaultActor pid=13406)\u001b[0m Epoch 7/10\n",
            "\u001b[2m\u001b[36m(DefaultActor pid=13407)\u001b[0m 157/157 - 19s - loss: 1.6055 - accuracy: 0.4152 - val_loss: 1.6718 - val_accuracy: 0.3899 - 19s/epoch - 120ms/step\n",
            "\u001b[2m\u001b[36m(DefaultActor pid=13407)\u001b[0m Epoch 8/10\n",
            "\u001b[2m\u001b[36m(DefaultActor pid=13406)\u001b[0m 157/157 - 19s - loss: 1.5939 - accuracy: 0.4216 - val_loss: 1.6339 - val_accuracy: 0.4063 - 19s/epoch - 123ms/step\n",
            "\u001b[2m\u001b[36m(DefaultActor pid=13406)\u001b[0m Epoch 8/10\n",
            "\u001b[2m\u001b[36m(DefaultActor pid=13407)\u001b[0m 157/157 - 21s - loss: 1.5817 - accuracy: 0.4312 - val_loss: 1.6570 - val_accuracy: 0.3908 - 21s/epoch - 135ms/step\n",
            "\u001b[2m\u001b[36m(DefaultActor pid=13407)\u001b[0m Epoch 9/10\n",
            "\u001b[2m\u001b[36m(DefaultActor pid=13406)\u001b[0m 157/157 - 19s - loss: 1.5578 - accuracy: 0.4350 - val_loss: 1.6452 - val_accuracy: 0.4066 - 19s/epoch - 120ms/step\n",
            "\u001b[2m\u001b[36m(DefaultActor pid=13406)\u001b[0m Epoch 9/10\n",
            "\u001b[2m\u001b[36m(DefaultActor pid=13407)\u001b[0m 157/157 - 19s - loss: 1.5407 - accuracy: 0.4446 - val_loss: 1.6410 - val_accuracy: 0.4010 - 19s/epoch - 122ms/step\n",
            "\u001b[2m\u001b[36m(DefaultActor pid=13407)\u001b[0m Epoch 10/10\n",
            "\u001b[2m\u001b[36m(DefaultActor pid=13406)\u001b[0m 157/157 - 22s - loss: 1.5119 - accuracy: 0.4500 - val_loss: 1.6470 - val_accuracy: 0.4066 - 22s/epoch - 138ms/step\n",
            "\u001b[2m\u001b[36m(DefaultActor pid=13406)\u001b[0m Epoch 10/10\n",
            "\u001b[2m\u001b[36m(DefaultActor pid=13407)\u001b[0m 157/157 - 20s - loss: 1.4983 - accuracy: 0.4538 - val_loss: 1.6295 - val_accuracy: 0.4071 - 20s/epoch - 130ms/step\n",
            "\u001b[2m\u001b[36m(DefaultActor pid=13407)\u001b[0m Client Train and validate Done!!!\n"
          ]
        },
        {
          "output_type": "stream",
          "name": "stderr",
          "text": [
            "DEBUG flwr 2024-02-07 19:10:08,934 | server.py:236 | fit_round 1 received 10 results and 0 failures\n",
            "DEBUG:flwr:fit_round 1 received 10 results and 0 failures\n",
            "DEBUG flwr 2024-02-07 19:10:08,958 | server.py:173 | evaluate_round 1: strategy sampled 10 clients (out of 10)\n",
            "DEBUG:flwr:evaluate_round 1: strategy sampled 10 clients (out of 10)\n"
          ]
        },
        {
          "output_type": "stream",
          "name": "stdout",
          "text": [
            "\u001b[2m\u001b[36m(DefaultActor pid=13406)\u001b[0m 157/157 - 15s - loss: 1.4806 - accuracy: 0.4678 - val_loss: 1.6307 - val_accuracy: 0.4189 - 15s/epoch - 93ms/step\n",
            "\u001b[2m\u001b[36m(DefaultActor pid=13406)\u001b[0m Client Train and validate Done!!!\n"
          ]
        },
        {
          "output_type": "stream",
          "name": "stderr",
          "text": [
            "\u001b[2m\u001b[36m(DefaultActor pid=13406)\u001b[0m WARNING:absl:Skipping variable loading for optimizer 'Adam', because it has 11 variables whereas the saved optimizer has 1 variables. \n"
          ]
        },
        {
          "output_type": "stream",
          "name": "stdout",
          "text": [
            "\u001b[2m\u001b[36m(DefaultActor pid=13407)\u001b[0m 10000/10000 - 127s - loss: 1.6411 - accuracy: 0.4121 - 127s/epoch - 13ms/step\n",
            "\u001b[2m\u001b[36m(DefaultActor pid=13407)\u001b[0m Global Validate Done!!!\n"
          ]
        },
        {
          "output_type": "stream",
          "name": "stderr",
          "text": [
            "\u001b[2m\u001b[36m(DefaultActor pid=13407)\u001b[0m WARNING:absl:Skipping variable loading for optimizer 'Adam', because it has 11 variables whereas the saved optimizer has 1 variables. \u001b[32m [repeated 2x across cluster]\u001b[0m\n"
          ]
        },
        {
          "output_type": "stream",
          "name": "stdout",
          "text": [
            "\u001b[2m\u001b[36m(DefaultActor pid=13407)\u001b[0m 10000/10000 - 128s - loss: 1.6411 - accuracy: 0.4121 - 128s/epoch - 13ms/step\u001b[32m [repeated 2x across cluster]\u001b[0m\n",
            "\u001b[2m\u001b[36m(DefaultActor pid=13407)\u001b[0m Global Validate Done!!!\u001b[32m [repeated 2x across cluster]\u001b[0m\n"
          ]
        },
        {
          "output_type": "stream",
          "name": "stderr",
          "text": [
            "\u001b[2m\u001b[36m(DefaultActor pid=13407)\u001b[0m WARNING:absl:Skipping variable loading for optimizer 'Adam', because it has 11 variables whereas the saved optimizer has 1 variables. \u001b[32m [repeated 2x across cluster]\u001b[0m\n"
          ]
        },
        {
          "output_type": "stream",
          "name": "stdout",
          "text": [
            "\u001b[2m\u001b[36m(DefaultActor pid=13407)\u001b[0m 10000/10000 - 127s - loss: 1.6411 - accuracy: 0.4121 - 127s/epoch - 13ms/step\u001b[32m [repeated 2x across cluster]\u001b[0m\n",
            "\u001b[2m\u001b[36m(DefaultActor pid=13407)\u001b[0m Global Validate Done!!!\u001b[32m [repeated 2x across cluster]\u001b[0m\n"
          ]
        },
        {
          "output_type": "stream",
          "name": "stderr",
          "text": [
            "\u001b[2m\u001b[36m(DefaultActor pid=13407)\u001b[0m WARNING:absl:Skipping variable loading for optimizer 'Adam', because it has 11 variables whereas the saved optimizer has 1 variables. \u001b[32m [repeated 2x across cluster]\u001b[0m\n"
          ]
        },
        {
          "output_type": "stream",
          "name": "stdout",
          "text": [
            "\u001b[2m\u001b[36m(DefaultActor pid=13407)\u001b[0m 10000/10000 - 133s - loss: 1.6411 - accuracy: 0.4121 - 133s/epoch - 13ms/step\u001b[32m [repeated 2x across cluster]\u001b[0m\n",
            "\u001b[2m\u001b[36m(DefaultActor pid=13407)\u001b[0m Global Validate Done!!!\u001b[32m [repeated 2x across cluster]\u001b[0m\n"
          ]
        },
        {
          "output_type": "stream",
          "name": "stderr",
          "text": [
            "\u001b[2m\u001b[36m(DefaultActor pid=13407)\u001b[0m WARNING:absl:Skipping variable loading for optimizer 'Adam', because it has 11 variables whereas the saved optimizer has 1 variables. \u001b[32m [repeated 2x across cluster]\u001b[0m\n"
          ]
        },
        {
          "output_type": "stream",
          "name": "stdout",
          "text": [
            "\u001b[2m\u001b[36m(DefaultActor pid=13407)\u001b[0m 10000/10000 - 141s - loss: 1.6411 - accuracy: 0.4121 - 141s/epoch - 14ms/step\u001b[32m [repeated 2x across cluster]\u001b[0m\n",
            "\u001b[2m\u001b[36m(DefaultActor pid=13407)\u001b[0m Global Validate Done!!!\u001b[32m [repeated 2x across cluster]\u001b[0m\n"
          ]
        },
        {
          "output_type": "stream",
          "name": "stderr",
          "text": [
            "DEBUG flwr 2024-02-07 19:21:14,384 | server.py:187 | evaluate_round 1 received 10 results and 0 failures\n",
            "DEBUG:flwr:evaluate_round 1 received 10 results and 0 failures\n",
            "DEBUG flwr 2024-02-07 19:21:14,388 | server.py:222 | fit_round 2: strategy sampled 10 clients (out of 10)\n",
            "DEBUG:flwr:fit_round 2: strategy sampled 10 clients (out of 10)\n"
          ]
        },
        {
          "output_type": "stream",
          "name": "stdout",
          "text": [
            "\u001b[2m\u001b[36m(DefaultActor pid=13406)\u001b[0m round :2\n",
            "\u001b[2m\u001b[36m(DefaultActor pid=13406)\u001b[0m Train :5000\n",
            "\u001b[2m\u001b[36m(DefaultActor pid=13406)\u001b[0m Test :10000\n"
          ]
        },
        {
          "output_type": "stream",
          "name": "stderr",
          "text": [
            "\u001b[2m\u001b[36m(DefaultActor pid=13406)\u001b[0m WARNING:absl:Skipping variable loading for optimizer 'Adam', because it has 11 variables whereas the saved optimizer has 1 variables. \u001b[32m [repeated 2x across cluster]\u001b[0m\n"
          ]
        },
        {
          "output_type": "stream",
          "name": "stdout",
          "text": [
            "\u001b[2m\u001b[36m(DefaultActor pid=13406)\u001b[0m Epoch 1/10\n",
            "\u001b[2m\u001b[36m(DefaultActor pid=13406)\u001b[0m 157/157 - 28s - loss: 1.6462 - accuracy: 0.3960 - val_loss: 1.5915 - val_accuracy: 0.4243 - 28s/epoch - 177ms/step\n",
            "\u001b[2m\u001b[36m(DefaultActor pid=13406)\u001b[0m 10000/10000 - 139s - loss: 1.6411 - accuracy: 0.4121 - 139s/epoch - 14ms/step\n",
            "\u001b[2m\u001b[36m(DefaultActor pid=13406)\u001b[0m Global Validate Done!!!\n",
            "\u001b[2m\u001b[36m(DefaultActor pid=13407)\u001b[0m round :2\n",
            "\u001b[2m\u001b[36m(DefaultActor pid=13407)\u001b[0m Train :5000\n",
            "\u001b[2m\u001b[36m(DefaultActor pid=13407)\u001b[0m Test :10000\n",
            "\u001b[2m\u001b[36m(DefaultActor pid=13406)\u001b[0m Epoch 2/10\u001b[32m [repeated 2x across cluster]\u001b[0m\n",
            "\u001b[2m\u001b[36m(DefaultActor pid=13406)\u001b[0m 157/157 - 20s - loss: 1.5711 - accuracy: 0.4284 - val_loss: 1.5916 - val_accuracy: 0.4116 - 20s/epoch - 130ms/step\u001b[32m [repeated 2x across cluster]\u001b[0m\n",
            "\u001b[2m\u001b[36m(DefaultActor pid=13406)\u001b[0m Epoch 3/10\u001b[32m [repeated 2x across cluster]\u001b[0m\n",
            "\u001b[2m\u001b[36m(DefaultActor pid=13406)\u001b[0m 157/157 - 23s - loss: 1.5160 - accuracy: 0.4476 - val_loss: 1.5872 - val_accuracy: 0.4243 - 23s/epoch - 147ms/step\u001b[32m [repeated 2x across cluster]\u001b[0m\n",
            "\u001b[2m\u001b[36m(DefaultActor pid=13406)\u001b[0m Epoch 4/10\u001b[32m [repeated 2x across cluster]\u001b[0m\n",
            "\u001b[2m\u001b[36m(DefaultActor pid=13406)\u001b[0m 157/157 - 21s - loss: 1.4769 - accuracy: 0.4564 - val_loss: 1.5511 - val_accuracy: 0.4413 - 21s/epoch - 131ms/step\u001b[32m [repeated 2x across cluster]\u001b[0m\n",
            "\u001b[2m\u001b[36m(DefaultActor pid=13406)\u001b[0m Epoch 5/10\u001b[32m [repeated 2x across cluster]\u001b[0m\n",
            "\u001b[2m\u001b[36m(DefaultActor pid=13406)\u001b[0m 157/157 - 22s - loss: 1.4275 - accuracy: 0.4724 - val_loss: 1.6164 - val_accuracy: 0.4255 - 22s/epoch - 139ms/step\u001b[32m [repeated 2x across cluster]\u001b[0m\n",
            "\u001b[2m\u001b[36m(DefaultActor pid=13406)\u001b[0m Epoch 6/10\u001b[32m [repeated 2x across cluster]\u001b[0m\n",
            "\u001b[2m\u001b[36m(DefaultActor pid=13406)\u001b[0m 157/157 - 21s - loss: 1.3784 - accuracy: 0.4968 - val_loss: 1.5961 - val_accuracy: 0.4328 - 21s/epoch - 135ms/step\u001b[32m [repeated 2x across cluster]\u001b[0m\n",
            "\u001b[2m\u001b[36m(DefaultActor pid=13406)\u001b[0m Epoch 7/10\u001b[32m [repeated 2x across cluster]\u001b[0m\n",
            "\u001b[2m\u001b[36m(DefaultActor pid=13406)\u001b[0m 157/157 - 22s - loss: 1.3347 - accuracy: 0.5122 - val_loss: 1.5511 - val_accuracy: 0.4478 - 22s/epoch - 138ms/step\u001b[32m [repeated 2x across cluster]\u001b[0m\n",
            "\u001b[2m\u001b[36m(DefaultActor pid=13406)\u001b[0m Epoch 8/10\u001b[32m [repeated 2x across cluster]\u001b[0m\n",
            "\u001b[2m\u001b[36m(DefaultActor pid=13406)\u001b[0m 157/157 - 19s - loss: 1.2843 - accuracy: 0.5352 - val_loss: 1.5910 - val_accuracy: 0.4404 - 19s/epoch - 123ms/step\u001b[32m [repeated 2x across cluster]\u001b[0m\n",
            "\u001b[2m\u001b[36m(DefaultActor pid=13406)\u001b[0m Epoch 9/10\u001b[32m [repeated 2x across cluster]\u001b[0m\n",
            "\u001b[2m\u001b[36m(DefaultActor pid=13406)\u001b[0m 157/157 - 21s - loss: 1.2622 - accuracy: 0.5468 - val_loss: 1.6071 - val_accuracy: 0.4374 - 21s/epoch - 135ms/step\u001b[32m [repeated 2x across cluster]\u001b[0m\n",
            "\u001b[2m\u001b[36m(DefaultActor pid=13406)\u001b[0m Epoch 10/10\u001b[32m [repeated 2x across cluster]\u001b[0m\n",
            "\u001b[2m\u001b[36m(DefaultActor pid=13406)\u001b[0m Client Train and validate Done!!!\n",
            "\u001b[2m\u001b[36m(DefaultActor pid=13406)\u001b[0m 157/157 - 19s - loss: 1.1974 - accuracy: 0.5646 - val_loss: 1.5958 - val_accuracy: 0.4479 - 19s/epoch - 122ms/step\u001b[32m [repeated 2x across cluster]\u001b[0m\n",
            "\u001b[2m\u001b[36m(DefaultActor pid=13407)\u001b[0m Epoch 10/10\n",
            "\u001b[2m\u001b[36m(DefaultActor pid=13406)\u001b[0m round :2\n",
            "\u001b[2m\u001b[36m(DefaultActor pid=13406)\u001b[0m Train :5000\n",
            "\u001b[2m\u001b[36m(DefaultActor pid=13406)\u001b[0m Test :10000\n"
          ]
        },
        {
          "output_type": "stream",
          "name": "stderr",
          "text": [
            "\u001b[2m\u001b[36m(DefaultActor pid=13406)\u001b[0m WARNING:absl:Skipping variable loading for optimizer 'Adam', because it has 11 variables whereas the saved optimizer has 1 variables. \u001b[32m [repeated 2x across cluster]\u001b[0m\n"
          ]
        },
        {
          "output_type": "stream",
          "name": "stdout",
          "text": [
            "\u001b[2m\u001b[36m(DefaultActor pid=13406)\u001b[0m Epoch 1/10\n",
            "\u001b[2m\u001b[36m(DefaultActor pid=13407)\u001b[0m Client Train and validate Done!!!\n",
            "\u001b[2m\u001b[36m(DefaultActor pid=13406)\u001b[0m 157/157 - 26s - loss: 1.6189 - accuracy: 0.4116 - val_loss: 1.6114 - val_accuracy: 0.4128 - 26s/epoch - 165ms/step\u001b[32m [repeated 2x across cluster]\u001b[0m\n",
            "\u001b[2m\u001b[36m(DefaultActor pid=13407)\u001b[0m round :2\n",
            "\u001b[2m\u001b[36m(DefaultActor pid=13407)\u001b[0m Train :5000\n",
            "\u001b[2m\u001b[36m(DefaultActor pid=13407)\u001b[0m Test :10000\n",
            "\u001b[2m\u001b[36m(DefaultActor pid=13406)\u001b[0m Epoch 2/10\u001b[32m [repeated 2x across cluster]\u001b[0m\n",
            "\u001b[2m\u001b[36m(DefaultActor pid=13406)\u001b[0m 157/157 - 21s - loss: 1.5521 - accuracy: 0.4366 - val_loss: 1.6217 - val_accuracy: 0.4138 - 21s/epoch - 133ms/step\u001b[32m [repeated 2x across cluster]\u001b[0m\n",
            "\u001b[2m\u001b[36m(DefaultActor pid=13407)\u001b[0m Epoch 2/10\n",
            "\u001b[2m\u001b[36m(DefaultActor pid=13406)\u001b[0m Epoch 3/10\n",
            "\u001b[2m\u001b[36m(DefaultActor pid=13406)\u001b[0m 157/157 - 20s - loss: 1.4967 - accuracy: 0.4604 - val_loss: 1.5831 - val_accuracy: 0.4289 - 20s/epoch - 126ms/step\u001b[32m [repeated 2x across cluster]\u001b[0m\n",
            "\u001b[2m\u001b[36m(DefaultActor pid=13406)\u001b[0m Epoch 4/10\u001b[32m [repeated 2x across cluster]\u001b[0m\n",
            "\u001b[2m\u001b[36m(DefaultActor pid=13406)\u001b[0m 157/157 - 20s - loss: 1.4552 - accuracy: 0.4634 - val_loss: 1.6454 - val_accuracy: 0.4143 - 20s/epoch - 130ms/step\u001b[32m [repeated 2x across cluster]\u001b[0m\n",
            "\u001b[2m\u001b[36m(DefaultActor pid=13406)\u001b[0m Epoch 5/10\u001b[32m [repeated 2x across cluster]\u001b[0m\n",
            "\u001b[2m\u001b[36m(DefaultActor pid=13406)\u001b[0m 157/157 - 20s - loss: 1.4149 - accuracy: 0.4890 - val_loss: 1.5472 - val_accuracy: 0.4444 - 20s/epoch - 125ms/step\u001b[32m [repeated 2x across cluster]\u001b[0m\n",
            "\u001b[2m\u001b[36m(DefaultActor pid=13406)\u001b[0m Epoch 6/10\u001b[32m [repeated 2x across cluster]\u001b[0m\n",
            "\u001b[2m\u001b[36m(DefaultActor pid=13406)\u001b[0m 157/157 - 20s - loss: 1.3664 - accuracy: 0.5084 - val_loss: 1.5680 - val_accuracy: 0.4365 - 20s/epoch - 126ms/step\u001b[32m [repeated 2x across cluster]\u001b[0m\n",
            "\u001b[2m\u001b[36m(DefaultActor pid=13406)\u001b[0m Epoch 7/10\u001b[32m [repeated 2x across cluster]\u001b[0m\n",
            "\u001b[2m\u001b[36m(DefaultActor pid=13406)\u001b[0m 157/157 - 21s - loss: 1.3322 - accuracy: 0.5210 - val_loss: 1.6024 - val_accuracy: 0.4394 - 21s/epoch - 133ms/step\u001b[32m [repeated 2x across cluster]\u001b[0m\n",
            "\u001b[2m\u001b[36m(DefaultActor pid=13406)\u001b[0m Epoch 8/10\u001b[32m [repeated 2x across cluster]\u001b[0m\n",
            "\u001b[2m\u001b[36m(DefaultActor pid=13406)\u001b[0m 157/157 - 19s - loss: 1.2713 - accuracy: 0.5434 - val_loss: 1.5619 - val_accuracy: 0.4431 - 19s/epoch - 122ms/step\u001b[32m [repeated 2x across cluster]\u001b[0m\n",
            "\u001b[2m\u001b[36m(DefaultActor pid=13406)\u001b[0m Epoch 9/10\u001b[32m [repeated 2x across cluster]\u001b[0m\n",
            "\u001b[2m\u001b[36m(DefaultActor pid=13406)\u001b[0m 157/157 - 21s - loss: 1.2540 - accuracy: 0.5556 - val_loss: 1.5635 - val_accuracy: 0.4423 - 21s/epoch - 136ms/step\u001b[32m [repeated 2x across cluster]\u001b[0m\n",
            "\u001b[2m\u001b[36m(DefaultActor pid=13406)\u001b[0m Epoch 10/10\u001b[32m [repeated 2x across cluster]\u001b[0m\n",
            "\u001b[2m\u001b[36m(DefaultActor pid=13406)\u001b[0m Client Train and validate Done!!!\n",
            "\u001b[2m\u001b[36m(DefaultActor pid=13406)\u001b[0m 157/157 - 19s - loss: 1.2039 - accuracy: 0.5680 - val_loss: 1.5809 - val_accuracy: 0.4398 - 19s/epoch - 120ms/step\u001b[32m [repeated 2x across cluster]\u001b[0m\n",
            "\u001b[2m\u001b[36m(DefaultActor pid=13407)\u001b[0m Epoch 10/10\n"
          ]
        },
        {
          "output_type": "stream",
          "name": "stderr",
          "text": [
            "\u001b[2m\u001b[36m(DefaultActor pid=13406)\u001b[0m WARNING:absl:Skipping variable loading for optimizer 'Adam', because it has 11 variables whereas the saved optimizer has 1 variables. \u001b[32m [repeated 2x across cluster]\u001b[0m\n"
          ]
        },
        {
          "output_type": "stream",
          "name": "stdout",
          "text": [
            "\u001b[2m\u001b[36m(DefaultActor pid=13406)\u001b[0m round :2\n",
            "\u001b[2m\u001b[36m(DefaultActor pid=13406)\u001b[0m Train :5000\n",
            "\u001b[2m\u001b[36m(DefaultActor pid=13406)\u001b[0m Test :10000\n",
            "\u001b[2m\u001b[36m(DefaultActor pid=13406)\u001b[0m Epoch 1/10\n",
            "\u001b[2m\u001b[36m(DefaultActor pid=13407)\u001b[0m Client Train and validate Done!!!\n",
            "\u001b[2m\u001b[36m(DefaultActor pid=13407)\u001b[0m 157/157 - 23s - loss: 1.1694 - accuracy: 0.5750 - val_loss: 1.6050 - val_accuracy: 0.4406 - 23s/epoch - 143ms/step\n",
            "\u001b[2m\u001b[36m(DefaultActor pid=13407)\u001b[0m round :2\n",
            "\u001b[2m\u001b[36m(DefaultActor pid=13407)\u001b[0m Train :5000\n",
            "\u001b[2m\u001b[36m(DefaultActor pid=13407)\u001b[0m Test :10000\n"
          ]
        },
        {
          "output_type": "stream",
          "name": "stderr",
          "text": [
            "\u001b[2m\u001b[36m(DefaultActor pid=13407)\u001b[0m WARNING:absl:Skipping variable loading for optimizer 'Adam', because it has 11 variables whereas the saved optimizer has 1 variables. \n"
          ]
        },
        {
          "output_type": "stream",
          "name": "stdout",
          "text": [
            "\u001b[2m\u001b[36m(DefaultActor pid=13407)\u001b[0m Epoch 1/10\n",
            "\u001b[2m\u001b[36m(DefaultActor pid=13406)\u001b[0m 157/157 - 25s - loss: 1.6454 - accuracy: 0.4076 - val_loss: 1.5820 - val_accuracy: 0.4213 - 25s/epoch - 157ms/step\n",
            "\u001b[2m\u001b[36m(DefaultActor pid=13406)\u001b[0m Epoch 2/10\n",
            "\u001b[2m\u001b[36m(DefaultActor pid=13407)\u001b[0m Epoch 2/10\n",
            "\u001b[2m\u001b[36m(DefaultActor pid=13407)\u001b[0m 157/157 - 24s - loss: 1.6431 - accuracy: 0.4072 - val_loss: 1.5961 - val_accuracy: 0.4205 - 24s/epoch - 153ms/step\n",
            "\u001b[2m\u001b[36m(DefaultActor pid=13406)\u001b[0m 157/157 - 19s - loss: 1.5823 - accuracy: 0.4296 - val_loss: 1.6167 - val_accuracy: 0.4186 - 19s/epoch - 122ms/step\n",
            "\u001b[2m\u001b[36m(DefaultActor pid=13406)\u001b[0m Epoch 3/10\n",
            "\u001b[2m\u001b[36m(DefaultActor pid=13407)\u001b[0m Epoch 3/10\n",
            "\u001b[2m\u001b[36m(DefaultActor pid=13407)\u001b[0m 157/157 - 21s - loss: 1.5804 - accuracy: 0.4256 - val_loss: 1.6114 - val_accuracy: 0.4191 - 21s/epoch - 133ms/step\n",
            "\u001b[2m\u001b[36m(DefaultActor pid=13406)\u001b[0m 157/157 - 21s - loss: 1.5317 - accuracy: 0.4414 - val_loss: 1.6000 - val_accuracy: 0.4264 - 21s/epoch - 136ms/step\n",
            "\u001b[2m\u001b[36m(DefaultActor pid=13406)\u001b[0m Epoch 4/10\n",
            "\u001b[2m\u001b[36m(DefaultActor pid=13407)\u001b[0m Epoch 4/10\n",
            "\u001b[2m\u001b[36m(DefaultActor pid=13407)\u001b[0m 157/157 - 20s - loss: 1.5055 - accuracy: 0.4546 - val_loss: 1.5583 - val_accuracy: 0.4284 - 20s/epoch - 125ms/step\n",
            "\u001b[2m\u001b[36m(DefaultActor pid=13406)\u001b[0m 157/157 - 19s - loss: 1.4881 - accuracy: 0.4628 - val_loss: 1.5453 - val_accuracy: 0.4423 - 19s/epoch - 123ms/step\n",
            "\u001b[2m\u001b[36m(DefaultActor pid=13406)\u001b[0m Epoch 5/10\n",
            "\u001b[2m\u001b[36m(DefaultActor pid=13407)\u001b[0m Epoch 5/10\n",
            "\u001b[2m\u001b[36m(DefaultActor pid=13407)\u001b[0m 157/157 - 21s - loss: 1.4568 - accuracy: 0.4796 - val_loss: 1.5740 - val_accuracy: 0.4314 - 21s/epoch - 132ms/step\n",
            "\u001b[2m\u001b[36m(DefaultActor pid=13406)\u001b[0m 157/157 - 21s - loss: 1.4317 - accuracy: 0.4800 - val_loss: 1.5656 - val_accuracy: 0.4363 - 21s/epoch - 137ms/step\n",
            "\u001b[2m\u001b[36m(DefaultActor pid=13406)\u001b[0m Epoch 6/10\n",
            "\u001b[2m\u001b[36m(DefaultActor pid=13407)\u001b[0m Epoch 6/10\n",
            "\u001b[2m\u001b[36m(DefaultActor pid=13406)\u001b[0m 157/157 - 20s - loss: 1.3912 - accuracy: 0.5004 - val_loss: 1.5518 - val_accuracy: 0.4483 - 20s/epoch - 126ms/step\u001b[32m [repeated 2x across cluster]\u001b[0m\n",
            "\u001b[2m\u001b[36m(DefaultActor pid=13406)\u001b[0m Epoch 7/10\n",
            "\u001b[2m\u001b[36m(DefaultActor pid=13407)\u001b[0m Epoch 7/10\n",
            "\u001b[2m\u001b[36m(DefaultActor pid=13407)\u001b[0m 157/157 - 22s - loss: 1.3745 - accuracy: 0.5056 - val_loss: 1.5530 - val_accuracy: 0.4427 - 22s/epoch - 137ms/step\n",
            "\u001b[2m\u001b[36m(DefaultActor pid=13406)\u001b[0m 157/157 - 21s - loss: 1.3414 - accuracy: 0.5184 - val_loss: 1.5816 - val_accuracy: 0.4262 - 21s/epoch - 133ms/step\n",
            "\u001b[2m\u001b[36m(DefaultActor pid=13406)\u001b[0m Epoch 8/10\n",
            "\u001b[2m\u001b[36m(DefaultActor pid=13407)\u001b[0m Epoch 8/10\n",
            "\u001b[2m\u001b[36m(DefaultActor pid=13406)\u001b[0m 157/157 - 19s - loss: 1.2967 - accuracy: 0.5392 - val_loss: 1.5360 - val_accuracy: 0.4563 - 19s/epoch - 122ms/step\u001b[32m [repeated 2x across cluster]\u001b[0m\n",
            "\u001b[2m\u001b[36m(DefaultActor pid=13406)\u001b[0m Epoch 9/10\n",
            "\u001b[2m\u001b[36m(DefaultActor pid=13407)\u001b[0m Epoch 9/10\n",
            "\u001b[2m\u001b[36m(DefaultActor pid=13406)\u001b[0m 157/157 - 21s - loss: 1.2542 - accuracy: 0.5472 - val_loss: 1.5716 - val_accuracy: 0.4416 - 21s/epoch - 131ms/step\u001b[32m [repeated 2x across cluster]\u001b[0m\n",
            "\u001b[2m\u001b[36m(DefaultActor pid=13406)\u001b[0m Epoch 10/10\n",
            "\u001b[2m\u001b[36m(DefaultActor pid=13407)\u001b[0m Epoch 10/10\n",
            "\u001b[2m\u001b[36m(DefaultActor pid=13407)\u001b[0m 157/157 - 21s - loss: 1.2412 - accuracy: 0.5558 - val_loss: 1.5616 - val_accuracy: 0.4480 - 21s/epoch - 137ms/step\n",
            "\u001b[2m\u001b[36m(DefaultActor pid=13406)\u001b[0m 157/157 - 20s - loss: 1.2193 - accuracy: 0.5616 - val_loss: 1.5417 - val_accuracy: 0.4590 - 20s/epoch - 126ms/step\n",
            "\u001b[2m\u001b[36m(DefaultActor pid=13406)\u001b[0m Client Train and validate Done!!!\n",
            "\u001b[2m\u001b[36m(DefaultActor pid=13406)\u001b[0m round :2\n",
            "\u001b[2m\u001b[36m(DefaultActor pid=13406)\u001b[0m Train :5000\n",
            "\u001b[2m\u001b[36m(DefaultActor pid=13406)\u001b[0m Test :10000\n"
          ]
        },
        {
          "output_type": "stream",
          "name": "stderr",
          "text": [
            "\u001b[2m\u001b[36m(DefaultActor pid=13406)\u001b[0m WARNING:absl:Skipping variable loading for optimizer 'Adam', because it has 11 variables whereas the saved optimizer has 1 variables. \n"
          ]
        },
        {
          "output_type": "stream",
          "name": "stdout",
          "text": [
            "\u001b[2m\u001b[36m(DefaultActor pid=13406)\u001b[0m Epoch 1/10\n"
          ]
        },
        {
          "output_type": "stream",
          "name": "stderr",
          "text": [
            "\u001b[2m\u001b[36m(DefaultActor pid=13407)\u001b[0m WARNING:absl:Skipping variable loading for optimizer 'Adam', because it has 11 variables whereas the saved optimizer has 1 variables. \n"
          ]
        },
        {
          "output_type": "stream",
          "name": "stdout",
          "text": [
            "\u001b[2m\u001b[36m(DefaultActor pid=13407)\u001b[0m 157/157 - 19s - loss: 1.1804 - accuracy: 0.5706 - val_loss: 1.6316 - val_accuracy: 0.4299 - 19s/epoch - 122ms/step\n",
            "\u001b[2m\u001b[36m(DefaultActor pid=13407)\u001b[0m Client Train and validate Done!!!\n",
            "\u001b[2m\u001b[36m(DefaultActor pid=13407)\u001b[0m round :2\n",
            "\u001b[2m\u001b[36m(DefaultActor pid=13407)\u001b[0m Train :5000\n",
            "\u001b[2m\u001b[36m(DefaultActor pid=13407)\u001b[0m Test :10000\n",
            "\u001b[2m\u001b[36m(DefaultActor pid=13407)\u001b[0m Epoch 1/10\n",
            "\u001b[2m\u001b[36m(DefaultActor pid=13406)\u001b[0m 157/157 - 26s - loss: 1.6484 - accuracy: 0.4076 - val_loss: 1.6316 - val_accuracy: 0.4110 - 26s/epoch - 167ms/step\n",
            "\u001b[2m\u001b[36m(DefaultActor pid=13406)\u001b[0m Epoch 2/10\n",
            "\u001b[2m\u001b[36m(DefaultActor pid=13407)\u001b[0m Epoch 2/10\n",
            "\u001b[2m\u001b[36m(DefaultActor pid=13406)\u001b[0m 157/157 - 19s - loss: 1.5717 - accuracy: 0.4334 - val_loss: 1.5667 - val_accuracy: 0.4367 - 19s/epoch - 123ms/step\u001b[32m [repeated 2x across cluster]\u001b[0m\n",
            "\u001b[2m\u001b[36m(DefaultActor pid=13406)\u001b[0m Epoch 3/10\n",
            "\u001b[2m\u001b[36m(DefaultActor pid=13407)\u001b[0m Epoch 3/10\n",
            "\u001b[2m\u001b[36m(DefaultActor pid=13407)\u001b[0m 157/157 - 21s - loss: 1.5725 - accuracy: 0.4326 - val_loss: 1.5784 - val_accuracy: 0.4263 - 21s/epoch - 131ms/step\n",
            "\u001b[2m\u001b[36m(DefaultActor pid=13406)\u001b[0m 157/157 - 22s - loss: 1.5198 - accuracy: 0.4500 - val_loss: 1.5902 - val_accuracy: 0.4262 - 22s/epoch - 137ms/step\n",
            "\u001b[2m\u001b[36m(DefaultActor pid=13406)\u001b[0m Epoch 4/10\n",
            "\u001b[2m\u001b[36m(DefaultActor pid=13407)\u001b[0m Epoch 4/10\n",
            "\u001b[2m\u001b[36m(DefaultActor pid=13406)\u001b[0m 157/157 - 19s - loss: 1.4818 - accuracy: 0.4672 - val_loss: 1.5509 - val_accuracy: 0.4394 - 19s/epoch - 121ms/step\u001b[32m [repeated 2x across cluster]\u001b[0m\n",
            "\u001b[2m\u001b[36m(DefaultActor pid=13406)\u001b[0m Epoch 5/10\n",
            "\u001b[2m\u001b[36m(DefaultActor pid=13407)\u001b[0m Epoch 5/10\n",
            "\u001b[2m\u001b[36m(DefaultActor pid=13407)\u001b[0m 157/157 - 21s - loss: 1.4507 - accuracy: 0.4780 - val_loss: 1.5476 - val_accuracy: 0.4408 - 21s/epoch - 136ms/step\n",
            "\u001b[2m\u001b[36m(DefaultActor pid=13406)\u001b[0m 157/157 - 21s - loss: 1.4201 - accuracy: 0.4840 - val_loss: 1.6053 - val_accuracy: 0.4219 - 21s/epoch - 132ms/step\n",
            "\u001b[2m\u001b[36m(DefaultActor pid=13406)\u001b[0m Epoch 6/10\n",
            "\u001b[2m\u001b[36m(DefaultActor pid=13407)\u001b[0m Epoch 6/10\n",
            "\u001b[2m\u001b[36m(DefaultActor pid=13407)\u001b[0m 157/157 - 19s - loss: 1.4001 - accuracy: 0.4938 - val_loss: 1.5474 - val_accuracy: 0.4405 - 19s/epoch - 122ms/step\n",
            "\u001b[2m\u001b[36m(DefaultActor pid=13406)\u001b[0m 157/157 - 20s - loss: 1.3914 - accuracy: 0.4898 - val_loss: 1.5567 - val_accuracy: 0.4391 - 20s/epoch - 126ms/step\n",
            "\u001b[2m\u001b[36m(DefaultActor pid=13406)\u001b[0m Epoch 7/10\n",
            "\u001b[2m\u001b[36m(DefaultActor pid=13407)\u001b[0m Epoch 7/10\n",
            "\u001b[2m\u001b[36m(DefaultActor pid=13407)\u001b[0m 157/157 - 22s - loss: 1.3577 - accuracy: 0.5168 - val_loss: 1.5463 - val_accuracy: 0.4489 - 22s/epoch - 138ms/step\n",
            "\u001b[2m\u001b[36m(DefaultActor pid=13406)\u001b[0m 157/157 - 21s - loss: 1.3415 - accuracy: 0.5226 - val_loss: 1.5598 - val_accuracy: 0.4455 - 21s/epoch - 134ms/step\n",
            "\u001b[2m\u001b[36m(DefaultActor pid=13406)\u001b[0m Epoch 8/10\n",
            "\u001b[2m\u001b[36m(DefaultActor pid=13407)\u001b[0m Epoch 8/10\n",
            "\u001b[2m\u001b[36m(DefaultActor pid=13407)\u001b[0m 157/157 - 19s - loss: 1.3084 - accuracy: 0.5230 - val_loss: 1.5754 - val_accuracy: 0.4411 - 19s/epoch - 121ms/step\n",
            "\u001b[2m\u001b[36m(DefaultActor pid=13406)\u001b[0m 157/157 - 19s - loss: 1.2961 - accuracy: 0.5350 - val_loss: 1.5546 - val_accuracy: 0.4431 - 19s/epoch - 124ms/step\n",
            "\u001b[2m\u001b[36m(DefaultActor pid=13406)\u001b[0m Epoch 9/10\n",
            "\u001b[2m\u001b[36m(DefaultActor pid=13407)\u001b[0m Epoch 9/10\n",
            "\u001b[2m\u001b[36m(DefaultActor pid=13407)\u001b[0m 157/157 - 20s - loss: 1.2797 - accuracy: 0.5364 - val_loss: 1.5520 - val_accuracy: 0.4472 - 20s/epoch - 124ms/step\n",
            "\u001b[2m\u001b[36m(DefaultActor pid=13406)\u001b[0m 157/157 - 21s - loss: 1.2454 - accuracy: 0.5476 - val_loss: 1.5738 - val_accuracy: 0.4303 - 21s/epoch - 133ms/step\n",
            "\u001b[2m\u001b[36m(DefaultActor pid=13406)\u001b[0m Epoch 10/10\n",
            "\u001b[2m\u001b[36m(DefaultActor pid=13407)\u001b[0m Epoch 10/10\n",
            "\u001b[2m\u001b[36m(DefaultActor pid=13407)\u001b[0m 157/157 - 21s - loss: 1.2407 - accuracy: 0.5518 - val_loss: 1.5912 - val_accuracy: 0.4440 - 21s/epoch - 134ms/step\n",
            "\u001b[2m\u001b[36m(DefaultActor pid=13406)\u001b[0m 157/157 - 20s - loss: 1.2007 - accuracy: 0.5666 - val_loss: 1.5706 - val_accuracy: 0.4480 - 20s/epoch - 130ms/step\n",
            "\u001b[2m\u001b[36m(DefaultActor pid=13406)\u001b[0m Client Train and validate Done!!!\n",
            "\u001b[2m\u001b[36m(DefaultActor pid=13406)\u001b[0m round :2\n",
            "\u001b[2m\u001b[36m(DefaultActor pid=13406)\u001b[0m Train :5000\n",
            "\u001b[2m\u001b[36m(DefaultActor pid=13406)\u001b[0m Test :10000\n"
          ]
        },
        {
          "output_type": "stream",
          "name": "stderr",
          "text": [
            "\u001b[2m\u001b[36m(DefaultActor pid=13406)\u001b[0m WARNING:absl:Skipping variable loading for optimizer 'Adam', because it has 11 variables whereas the saved optimizer has 1 variables. \n"
          ]
        },
        {
          "output_type": "stream",
          "name": "stdout",
          "text": [
            "\u001b[2m\u001b[36m(DefaultActor pid=13406)\u001b[0m Epoch 1/10\n",
            "\u001b[2m\u001b[36m(DefaultActor pid=13407)\u001b[0m 157/157 - 19s - loss: 1.1870 - accuracy: 0.5756 - val_loss: 1.5400 - val_accuracy: 0.4565 - 19s/epoch - 121ms/step\n",
            "\u001b[2m\u001b[36m(DefaultActor pid=13407)\u001b[0m Client Train and validate Done!!!\n",
            "\u001b[2m\u001b[36m(DefaultActor pid=13406)\u001b[0m 157/157 - 26s - loss: 1.6492 - accuracy: 0.4020 - val_loss: 1.6049 - val_accuracy: 0.4179 - 26s/epoch - 167ms/step\n",
            "\u001b[2m\u001b[36m(DefaultActor pid=13407)\u001b[0m round :2\n",
            "\u001b[2m\u001b[36m(DefaultActor pid=13407)\u001b[0m Train :5000\n",
            "\u001b[2m\u001b[36m(DefaultActor pid=13407)\u001b[0m Test :10000\n",
            "\u001b[2m\u001b[36m(DefaultActor pid=13406)\u001b[0m Epoch 2/10\u001b[32m [repeated 2x across cluster]\u001b[0m\n",
            "\u001b[2m\u001b[36m(DefaultActor pid=13406)\u001b[0m 157/157 - 19s - loss: 1.5795 - accuracy: 0.4258 - val_loss: 1.5966 - val_accuracy: 0.4203 - 19s/epoch - 124ms/step\u001b[32m [repeated 2x across cluster]\u001b[0m\n",
            "\u001b[2m\u001b[36m(DefaultActor pid=13406)\u001b[0m Epoch 3/10\u001b[32m [repeated 2x across cluster]\u001b[0m\n",
            "\u001b[2m\u001b[36m(DefaultActor pid=13407)\u001b[0m 157/157 - 21s - loss: 1.5770 - accuracy: 0.4342 - val_loss: 1.5788 - val_accuracy: 0.4275 - 21s/epoch - 132ms/step\n",
            "\u001b[2m\u001b[36m(DefaultActor pid=13407)\u001b[0m Epoch 3/10\n",
            "\u001b[2m\u001b[36m(DefaultActor pid=13406)\u001b[0m 157/157 - 22s - loss: 1.5240 - accuracy: 0.4422 - val_loss: 1.5885 - val_accuracy: 0.4236 - 22s/epoch - 138ms/step\n",
            "\u001b[2m\u001b[36m(DefaultActor pid=13406)\u001b[0m Epoch 4/10\n",
            "\u001b[2m\u001b[36m(DefaultActor pid=13406)\u001b[0m 157/157 - 19s - loss: 1.4781 - accuracy: 0.4690 - val_loss: 1.6226 - val_accuracy: 0.4157 - 19s/epoch - 122ms/step\u001b[32m [repeated 2x across cluster]\u001b[0m\n",
            "\u001b[2m\u001b[36m(DefaultActor pid=13406)\u001b[0m Epoch 5/10\u001b[32m [repeated 2x across cluster]\u001b[0m\n",
            "\u001b[2m\u001b[36m(DefaultActor pid=13407)\u001b[0m 157/157 - 22s - loss: 1.4892 - accuracy: 0.4660 - val_loss: 1.5788 - val_accuracy: 0.4242 - 22s/epoch - 137ms/step\n",
            "\u001b[2m\u001b[36m(DefaultActor pid=13407)\u001b[0m Epoch 5/10\n",
            "\u001b[2m\u001b[36m(DefaultActor pid=13406)\u001b[0m 157/157 - 21s - loss: 1.4333 - accuracy: 0.4864 - val_loss: 1.5498 - val_accuracy: 0.4429 - 21s/epoch - 134ms/step\n",
            "\u001b[2m\u001b[36m(DefaultActor pid=13406)\u001b[0m Epoch 6/10\n",
            "\u001b[2m\u001b[36m(DefaultActor pid=13406)\u001b[0m 157/157 - 20s - loss: 1.3806 - accuracy: 0.4998 - val_loss: 1.5430 - val_accuracy: 0.4461 - 20s/epoch - 124ms/step\u001b[32m [repeated 2x across cluster]\u001b[0m\n",
            "\u001b[2m\u001b[36m(DefaultActor pid=13406)\u001b[0m Epoch 7/10\u001b[32m [repeated 2x across cluster]\u001b[0m\n",
            "\u001b[2m\u001b[36m(DefaultActor pid=13407)\u001b[0m 157/157 - 21s - loss: 1.3859 - accuracy: 0.4940 - val_loss: 1.5989 - val_accuracy: 0.4241 - 21s/epoch - 134ms/step\n",
            "\u001b[2m\u001b[36m(DefaultActor pid=13407)\u001b[0m Epoch 7/10\n",
            "\u001b[2m\u001b[36m(DefaultActor pid=13406)\u001b[0m 157/157 - 21s - loss: 1.3472 - accuracy: 0.5094 - val_loss: 1.5553 - val_accuracy: 0.4468 - 21s/epoch - 131ms/step\n",
            "\u001b[2m\u001b[36m(DefaultActor pid=13406)\u001b[0m Epoch 8/10\n",
            "\u001b[2m\u001b[36m(DefaultActor pid=13406)\u001b[0m 157/157 - 20s - loss: 1.2992 - accuracy: 0.5298 - val_loss: 1.5409 - val_accuracy: 0.4468 - 20s/epoch - 128ms/step\u001b[32m [repeated 2x across cluster]\u001b[0m\n",
            "\u001b[2m\u001b[36m(DefaultActor pid=13406)\u001b[0m Epoch 9/10\u001b[32m [repeated 2x across cluster]\u001b[0m\n",
            "\u001b[2m\u001b[36m(DefaultActor pid=13406)\u001b[0m 157/157 - 22s - loss: 1.2519 - accuracy: 0.5546 - val_loss: 1.5672 - val_accuracy: 0.4449 - 22s/epoch - 138ms/step\u001b[32m [repeated 2x across cluster]\u001b[0m\n",
            "\u001b[2m\u001b[36m(DefaultActor pid=13406)\u001b[0m Epoch 10/10\u001b[32m [repeated 2x across cluster]\u001b[0m\n",
            "\u001b[2m\u001b[36m(DefaultActor pid=13406)\u001b[0m Client Train and validate Done!!!\n",
            "\u001b[2m\u001b[36m(DefaultActor pid=13406)\u001b[0m 157/157 - 20s - loss: 1.2120 - accuracy: 0.5652 - val_loss: 1.5708 - val_accuracy: 0.4522 - 20s/epoch - 126ms/step\u001b[32m [repeated 2x across cluster]\u001b[0m\n",
            "\u001b[2m\u001b[36m(DefaultActor pid=13407)\u001b[0m Epoch 10/10\n"
          ]
        },
        {
          "output_type": "stream",
          "name": "stderr",
          "text": [
            "DEBUG flwr 2024-02-07 19:38:50,663 | server.py:236 | fit_round 2 received 10 results and 0 failures\n",
            "DEBUG:flwr:fit_round 2 received 10 results and 0 failures\n",
            "DEBUG flwr 2024-02-07 19:38:50,688 | server.py:173 | evaluate_round 2: strategy sampled 10 clients (out of 10)\n",
            "DEBUG:flwr:evaluate_round 2: strategy sampled 10 clients (out of 10)\n",
            "\u001b[2m\u001b[36m(DefaultActor pid=13407)\u001b[0m WARNING:absl:Skipping variable loading for optimizer 'Adam', because it has 11 variables whereas the saved optimizer has 1 variables. \u001b[32m [repeated 2x across cluster]\u001b[0m\n"
          ]
        },
        {
          "output_type": "stream",
          "name": "stdout",
          "text": [
            "\u001b[2m\u001b[36m(DefaultActor pid=13407)\u001b[0m 10000/10000 - 138s - loss: 1.4665 - accuracy: 0.4813 - 138s/epoch - 14ms/step\n",
            "\u001b[2m\u001b[36m(DefaultActor pid=13407)\u001b[0m Global Validate Done!!!\n",
            "\u001b[2m\u001b[36m(DefaultActor pid=13407)\u001b[0m Client Train and validate Done!!!\n",
            "\u001b[2m\u001b[36m(DefaultActor pid=13407)\u001b[0m 157/157 - 17s - loss: 1.2060 - accuracy: 0.5668 - val_loss: 1.5956 - val_accuracy: 0.4336 - 17s/epoch - 110ms/step\n"
          ]
        },
        {
          "output_type": "stream",
          "name": "stderr",
          "text": [
            "\u001b[2m\u001b[36m(DefaultActor pid=13407)\u001b[0m WARNING:absl:Skipping variable loading for optimizer 'Adam', because it has 11 variables whereas the saved optimizer has 1 variables. \u001b[32m [repeated 2x across cluster]\u001b[0m\n"
          ]
        },
        {
          "output_type": "stream",
          "name": "stdout",
          "text": [
            "\u001b[2m\u001b[36m(DefaultActor pid=13406)\u001b[0m 10000/10000 - 132s - loss: 1.4665 - accuracy: 0.4813 - 132s/epoch - 13ms/step\u001b[32m [repeated 2x across cluster]\u001b[0m\n",
            "\u001b[2m\u001b[36m(DefaultActor pid=13406)\u001b[0m Global Validate Done!!!\n",
            "\u001b[2m\u001b[36m(DefaultActor pid=13406)\u001b[0m Global Validate Done!!!\n"
          ]
        },
        {
          "output_type": "stream",
          "name": "stderr",
          "text": [
            "\u001b[2m\u001b[36m(DefaultActor pid=13406)\u001b[0m WARNING:absl:Skipping variable loading for optimizer 'Adam', because it has 11 variables whereas the saved optimizer has 1 variables. \u001b[32m [repeated 2x across cluster]\u001b[0m\n"
          ]
        },
        {
          "output_type": "stream",
          "name": "stdout",
          "text": [
            "\u001b[2m\u001b[36m(DefaultActor pid=13407)\u001b[0m 10000/10000 - 127s - loss: 1.4665 - accuracy: 0.4813 - 127s/epoch - 13ms/step\u001b[32m [repeated 2x across cluster]\u001b[0m\n",
            "\u001b[2m\u001b[36m(DefaultActor pid=13407)\u001b[0m Global Validate Done!!!\u001b[32m [repeated 2x across cluster]\u001b[0m\n"
          ]
        },
        {
          "output_type": "stream",
          "name": "stderr",
          "text": [
            "\u001b[2m\u001b[36m(DefaultActor pid=13407)\u001b[0m WARNING:absl:Skipping variable loading for optimizer 'Adam', because it has 11 variables whereas the saved optimizer has 1 variables. \u001b[32m [repeated 2x across cluster]\u001b[0m\n"
          ]
        },
        {
          "output_type": "stream",
          "name": "stdout",
          "text": [
            "\u001b[2m\u001b[36m(DefaultActor pid=13407)\u001b[0m 10000/10000 - 126s - loss: 1.4665 - accuracy: 0.4813 - 126s/epoch - 13ms/step\u001b[32m [repeated 2x across cluster]\u001b[0m\n",
            "\u001b[2m\u001b[36m(DefaultActor pid=13407)\u001b[0m Global Validate Done!!!\u001b[32m [repeated 2x across cluster]\u001b[0m\n"
          ]
        },
        {
          "output_type": "stream",
          "name": "stderr",
          "text": [
            "\u001b[2m\u001b[36m(DefaultActor pid=13406)\u001b[0m WARNING:absl:Skipping variable loading for optimizer 'Adam', because it has 11 variables whereas the saved optimizer has 1 variables. \u001b[32m [repeated 2x across cluster]\u001b[0m\n"
          ]
        },
        {
          "output_type": "stream",
          "name": "stdout",
          "text": [
            "\u001b[2m\u001b[36m(DefaultActor pid=13407)\u001b[0m 10000/10000 - 126s - loss: 1.4665 - accuracy: 0.4813 - 126s/epoch - 13ms/step\u001b[32m [repeated 2x across cluster]\u001b[0m\n",
            "\u001b[2m\u001b[36m(DefaultActor pid=13407)\u001b[0m Global Validate Done!!!\u001b[32m [repeated 2x across cluster]\u001b[0m\n"
          ]
        },
        {
          "output_type": "stream",
          "name": "stderr",
          "text": [
            "DEBUG flwr 2024-02-07 19:49:51,569 | server.py:187 | evaluate_round 2 received 10 results and 0 failures\n",
            "DEBUG:flwr:evaluate_round 2 received 10 results and 0 failures\n",
            "DEBUG flwr 2024-02-07 19:49:51,577 | server.py:222 | fit_round 3: strategy sampled 10 clients (out of 10)\n",
            "DEBUG:flwr:fit_round 3: strategy sampled 10 clients (out of 10)\n",
            "\u001b[2m\u001b[36m(DefaultActor pid=13406)\u001b[0m WARNING:absl:Skipping variable loading for optimizer 'Adam', because it has 11 variables whereas the saved optimizer has 1 variables. \u001b[32m [repeated 2x across cluster]\u001b[0m\n"
          ]
        },
        {
          "output_type": "stream",
          "name": "stdout",
          "text": [
            "\u001b[2m\u001b[36m(DefaultActor pid=13406)\u001b[0m round :3\n",
            "\u001b[2m\u001b[36m(DefaultActor pid=13406)\u001b[0m Train :5000\n",
            "\u001b[2m\u001b[36m(DefaultActor pid=13406)\u001b[0m Test :10000\n",
            "\u001b[2m\u001b[36m(DefaultActor pid=13407)\u001b[0m Epoch 1/10\n",
            "\u001b[2m\u001b[36m(DefaultActor pid=13406)\u001b[0m 157/157 - 26s - loss: 1.4984 - accuracy: 0.4588 - val_loss: 1.5295 - val_accuracy: 0.4502 - 26s/epoch - 166ms/step\n",
            "\u001b[2m\u001b[36m(DefaultActor pid=13406)\u001b[0m 10000/10000 - 127s - loss: 1.4665 - accuracy: 0.4813 - 127s/epoch - 13ms/step\n",
            "\u001b[2m\u001b[36m(DefaultActor pid=13406)\u001b[0m Global Validate Done!!!\n",
            "\u001b[2m\u001b[36m(DefaultActor pid=13407)\u001b[0m round :3\n",
            "\u001b[2m\u001b[36m(DefaultActor pid=13407)\u001b[0m Train :5000\n",
            "\u001b[2m\u001b[36m(DefaultActor pid=13407)\u001b[0m Test :10000\n",
            "\u001b[2m\u001b[36m(DefaultActor pid=13406)\u001b[0m Epoch 2/10\u001b[32m [repeated 2x across cluster]\u001b[0m\n",
            "\u001b[2m\u001b[36m(DefaultActor pid=13406)\u001b[0m 157/157 - 19s - loss: 1.4031 - accuracy: 0.4938 - val_loss: 1.4684 - val_accuracy: 0.4736 - 19s/epoch - 122ms/step\u001b[32m [repeated 2x across cluster]\u001b[0m\n",
            "\u001b[2m\u001b[36m(DefaultActor pid=13406)\u001b[0m Epoch 3/10\u001b[32m [repeated 2x across cluster]\u001b[0m\n",
            "\u001b[2m\u001b[36m(DefaultActor pid=13406)\u001b[0m 157/157 - 21s - loss: 1.3463 - accuracy: 0.5134 - val_loss: 1.4818 - val_accuracy: 0.4643 - 21s/epoch - 136ms/step\u001b[32m [repeated 2x across cluster]\u001b[0m\n",
            "\u001b[2m\u001b[36m(DefaultActor pid=13406)\u001b[0m Epoch 4/10\u001b[32m [repeated 2x across cluster]\u001b[0m\n",
            "\u001b[2m\u001b[36m(DefaultActor pid=13407)\u001b[0m 157/157 - 19s - loss: 1.2879 - accuracy: 0.5436 - val_loss: 1.4918 - val_accuracy: 0.4641 - 19s/epoch - 120ms/step\u001b[32m [repeated 2x across cluster]\u001b[0m\n",
            "\u001b[2m\u001b[36m(DefaultActor pid=13407)\u001b[0m Epoch 5/10\u001b[32m [repeated 2x across cluster]\u001b[0m\n",
            "\u001b[2m\u001b[36m(DefaultActor pid=13406)\u001b[0m 157/157 - 19s - loss: 1.2303 - accuracy: 0.5552 - val_loss: 1.4975 - val_accuracy: 0.4681 - 19s/epoch - 122ms/step\u001b[32m [repeated 2x across cluster]\u001b[0m\n",
            "\u001b[2m\u001b[36m(DefaultActor pid=13406)\u001b[0m Epoch 6/10\u001b[32m [repeated 2x across cluster]\u001b[0m\n",
            "\u001b[2m\u001b[36m(DefaultActor pid=13407)\u001b[0m 157/157 - 21s - loss: 1.1746 - accuracy: 0.5752 - val_loss: 1.5166 - val_accuracy: 0.4581 - 21s/epoch - 133ms/step\u001b[32m [repeated 2x across cluster]\u001b[0m\n",
            "\u001b[2m\u001b[36m(DefaultActor pid=13407)\u001b[0m Epoch 7/10\u001b[32m [repeated 2x across cluster]\u001b[0m\n",
            "\u001b[2m\u001b[36m(DefaultActor pid=13407)\u001b[0m 157/157 - 19s - loss: 1.1307 - accuracy: 0.5976 - val_loss: 1.5392 - val_accuracy: 0.4720 - 19s/epoch - 123ms/step\u001b[32m [repeated 2x across cluster]\u001b[0m\n",
            "\u001b[2m\u001b[36m(DefaultActor pid=13407)\u001b[0m Epoch 8/10\u001b[32m [repeated 2x across cluster]\u001b[0m\n",
            "\u001b[2m\u001b[36m(DefaultActor pid=13406)\u001b[0m 157/157 - 21s - loss: 1.0709 - accuracy: 0.6226 - val_loss: 1.5491 - val_accuracy: 0.4588 - 21s/epoch - 132ms/step\u001b[32m [repeated 2x across cluster]\u001b[0m\n",
            "\u001b[2m\u001b[36m(DefaultActor pid=13406)\u001b[0m Epoch 9/10\u001b[32m [repeated 2x across cluster]\u001b[0m\n",
            "\u001b[2m\u001b[36m(DefaultActor pid=13407)\u001b[0m 157/157 - 20s - loss: 1.0107 - accuracy: 0.6406 - val_loss: 1.5499 - val_accuracy: 0.4678 - 20s/epoch - 125ms/step\u001b[32m [repeated 2x across cluster]\u001b[0m\n",
            "\u001b[2m\u001b[36m(DefaultActor pid=13407)\u001b[0m Epoch 10/10\u001b[32m [repeated 2x across cluster]\u001b[0m\n",
            "\u001b[2m\u001b[36m(DefaultActor pid=13407)\u001b[0m Client Train and validate Done!!!\n",
            "\u001b[2m\u001b[36m(DefaultActor pid=13407)\u001b[0m 157/157 - 21s - loss: 0.9703 - accuracy: 0.6518 - val_loss: 1.5848 - val_accuracy: 0.4700 - 21s/epoch - 133ms/step\u001b[32m [repeated 2x across cluster]\u001b[0m\n",
            "\u001b[2m\u001b[36m(DefaultActor pid=13406)\u001b[0m Epoch 10/10\n"
          ]
        },
        {
          "output_type": "stream",
          "name": "stderr",
          "text": [
            "\u001b[2m\u001b[36m(DefaultActor pid=13407)\u001b[0m WARNING:absl:Skipping variable loading for optimizer 'Adam', because it has 11 variables whereas the saved optimizer has 1 variables. \u001b[32m [repeated 2x across cluster]\u001b[0m\n"
          ]
        },
        {
          "output_type": "stream",
          "name": "stdout",
          "text": [
            "\u001b[2m\u001b[36m(DefaultActor pid=13407)\u001b[0m round :3\n",
            "\u001b[2m\u001b[36m(DefaultActor pid=13407)\u001b[0m Train :5000\n",
            "\u001b[2m\u001b[36m(DefaultActor pid=13407)\u001b[0m Test :10000\n",
            "\u001b[2m\u001b[36m(DefaultActor pid=13407)\u001b[0m Epoch 1/10\n",
            "\u001b[2m\u001b[36m(DefaultActor pid=13406)\u001b[0m Client Train and validate Done!!!\n",
            "\u001b[2m\u001b[36m(DefaultActor pid=13407)\u001b[0m 157/157 - 26s - loss: 1.4814 - accuracy: 0.4728 - val_loss: 1.5516 - val_accuracy: 0.4498 - 26s/epoch - 165ms/step\u001b[32m [repeated 2x across cluster]\u001b[0m\n",
            "\u001b[2m\u001b[36m(DefaultActor pid=13406)\u001b[0m round :3\n",
            "\u001b[2m\u001b[36m(DefaultActor pid=13406)\u001b[0m Train :5000\n",
            "\u001b[2m\u001b[36m(DefaultActor pid=13406)\u001b[0m Test :10000\n",
            "\u001b[2m\u001b[36m(DefaultActor pid=13407)\u001b[0m Epoch 2/10\u001b[32m [repeated 2x across cluster]\u001b[0m\n",
            "\u001b[2m\u001b[36m(DefaultActor pid=13407)\u001b[0m 157/157 - 19s - loss: 1.3885 - accuracy: 0.5026 - val_loss: 1.4788 - val_accuracy: 0.4663 - 19s/epoch - 124ms/step\u001b[32m [repeated 2x across cluster]\u001b[0m\n",
            "\u001b[2m\u001b[36m(DefaultActor pid=13407)\u001b[0m Epoch 3/10\u001b[32m [repeated 2x across cluster]\u001b[0m\n",
            "\u001b[2m\u001b[36m(DefaultActor pid=13407)\u001b[0m 157/157 - 23s - loss: 1.3352 - accuracy: 0.5164 - val_loss: 1.4686 - val_accuracy: 0.4661 - 23s/epoch - 148ms/step\u001b[32m [repeated 2x across cluster]\u001b[0m\n",
            "\u001b[2m\u001b[36m(DefaultActor pid=13407)\u001b[0m Epoch 4/10\u001b[32m [repeated 2x across cluster]\u001b[0m\n",
            "\u001b[2m\u001b[36m(DefaultActor pid=13407)\u001b[0m 157/157 - 19s - loss: 1.2822 - accuracy: 0.5412 - val_loss: 1.4926 - val_accuracy: 0.4672 - 19s/epoch - 122ms/step\u001b[32m [repeated 2x across cluster]\u001b[0m\n",
            "\u001b[2m\u001b[36m(DefaultActor pid=13407)\u001b[0m Epoch 5/10\u001b[32m [repeated 2x across cluster]\u001b[0m\n",
            "\u001b[2m\u001b[36m(DefaultActor pid=13406)\u001b[0m 157/157 - 20s - loss: 1.2300 - accuracy: 0.5640 - val_loss: 1.5092 - val_accuracy: 0.4638 - 20s/epoch - 126ms/step\u001b[32m [repeated 2x across cluster]\u001b[0m\n",
            "\u001b[2m\u001b[36m(DefaultActor pid=13406)\u001b[0m Epoch 6/10\u001b[32m [repeated 2x across cluster]\u001b[0m\n",
            "\u001b[2m\u001b[36m(DefaultActor pid=13407)\u001b[0m 157/157 - 21s - loss: 1.1705 - accuracy: 0.5792 - val_loss: 1.5433 - val_accuracy: 0.4658 - 21s/epoch - 133ms/step\u001b[32m [repeated 2x across cluster]\u001b[0m\n",
            "\u001b[2m\u001b[36m(DefaultActor pid=13407)\u001b[0m Epoch 7/10\u001b[32m [repeated 2x across cluster]\u001b[0m\n",
            "\u001b[2m\u001b[36m(DefaultActor pid=13407)\u001b[0m 157/157 - 19s - loss: 1.1105 - accuracy: 0.6018 - val_loss: 1.5264 - val_accuracy: 0.4694 - 19s/epoch - 121ms/step\u001b[32m [repeated 2x across cluster]\u001b[0m\n",
            "\u001b[2m\u001b[36m(DefaultActor pid=13407)\u001b[0m Epoch 8/10\u001b[32m [repeated 2x across cluster]\u001b[0m\n",
            "\u001b[2m\u001b[36m(DefaultActor pid=13407)\u001b[0m 157/157 - 21s - loss: 1.0772 - accuracy: 0.6166 - val_loss: 1.5360 - val_accuracy: 0.4615 - 21s/epoch - 133ms/step\u001b[32m [repeated 2x across cluster]\u001b[0m\n",
            "\u001b[2m\u001b[36m(DefaultActor pid=13407)\u001b[0m Epoch 9/10\u001b[32m [repeated 2x across cluster]\u001b[0m\n",
            "\u001b[2m\u001b[36m(DefaultActor pid=13407)\u001b[0m 157/157 - 20s - loss: 1.0190 - accuracy: 0.6352 - val_loss: 1.5709 - val_accuracy: 0.4611 - 20s/epoch - 126ms/step\u001b[32m [repeated 2x across cluster]\u001b[0m\n",
            "\u001b[2m\u001b[36m(DefaultActor pid=13407)\u001b[0m Epoch 10/10\u001b[32m [repeated 2x across cluster]\u001b[0m\n",
            "\u001b[2m\u001b[36m(DefaultActor pid=13407)\u001b[0m Client Train and validate Done!!!\n",
            "\u001b[2m\u001b[36m(DefaultActor pid=13407)\u001b[0m 157/157 - 21s - loss: 0.9617 - accuracy: 0.6584 - val_loss: 1.5947 - val_accuracy: 0.4607 - 21s/epoch - 133ms/step\u001b[32m [repeated 2x across cluster]\u001b[0m\n",
            "\u001b[2m\u001b[36m(DefaultActor pid=13406)\u001b[0m Epoch 10/10\n"
          ]
        },
        {
          "output_type": "stream",
          "name": "stderr",
          "text": [
            "\u001b[2m\u001b[36m(DefaultActor pid=13407)\u001b[0m WARNING:absl:Skipping variable loading for optimizer 'Adam', because it has 11 variables whereas the saved optimizer has 1 variables. \u001b[32m [repeated 2x across cluster]\u001b[0m\n"
          ]
        },
        {
          "output_type": "stream",
          "name": "stdout",
          "text": [
            "\u001b[2m\u001b[36m(DefaultActor pid=13407)\u001b[0m round :3\n",
            "\u001b[2m\u001b[36m(DefaultActor pid=13407)\u001b[0m Train :5000\n",
            "\u001b[2m\u001b[36m(DefaultActor pid=13407)\u001b[0m Test :10000\n",
            "\u001b[2m\u001b[36m(DefaultActor pid=13407)\u001b[0m Epoch 1/10\n",
            "\u001b[2m\u001b[36m(DefaultActor pid=13406)\u001b[0m Client Train and validate Done!!!\n",
            "\u001b[2m\u001b[36m(DefaultActor pid=13407)\u001b[0m 157/157 - 26s - loss: 1.4989 - accuracy: 0.4696 - val_loss: 1.5032 - val_accuracy: 0.4526 - 26s/epoch - 169ms/step\u001b[32m [repeated 2x across cluster]\u001b[0m\n",
            "\u001b[2m\u001b[36m(DefaultActor pid=13406)\u001b[0m round :3\n",
            "\u001b[2m\u001b[36m(DefaultActor pid=13406)\u001b[0m Train :5000\n",
            "\u001b[2m\u001b[36m(DefaultActor pid=13406)\u001b[0m Test :10000\n",
            "\u001b[2m\u001b[36m(DefaultActor pid=13407)\u001b[0m Epoch 2/10\u001b[32m [repeated 2x across cluster]\u001b[0m\n",
            "\u001b[2m\u001b[36m(DefaultActor pid=13407)\u001b[0m 157/157 - 19s - loss: 1.3978 - accuracy: 0.4976 - val_loss: 1.4954 - val_accuracy: 0.4621 - 19s/epoch - 123ms/step\u001b[32m [repeated 2x across cluster]\u001b[0m\n",
            "\u001b[2m\u001b[36m(DefaultActor pid=13407)\u001b[0m Epoch 3/10\u001b[32m [repeated 2x across cluster]\u001b[0m\n",
            "\u001b[2m\u001b[36m(DefaultActor pid=13407)\u001b[0m 157/157 - 22s - loss: 1.3476 - accuracy: 0.5126 - val_loss: 1.4798 - val_accuracy: 0.4661 - 22s/epoch - 139ms/step\u001b[32m [repeated 2x across cluster]\u001b[0m\n",
            "\u001b[2m\u001b[36m(DefaultActor pid=13407)\u001b[0m Epoch 4/10\u001b[32m [repeated 2x across cluster]\u001b[0m\n",
            "\u001b[2m\u001b[36m(DefaultActor pid=13407)\u001b[0m 157/157 - 19s - loss: 1.2817 - accuracy: 0.5464 - val_loss: 1.5000 - val_accuracy: 0.4626 - 19s/epoch - 123ms/step\u001b[32m [repeated 2x across cluster]\u001b[0m\n",
            "\u001b[2m\u001b[36m(DefaultActor pid=13407)\u001b[0m Epoch 5/10\u001b[32m [repeated 2x across cluster]\u001b[0m\n",
            "\u001b[2m\u001b[36m(DefaultActor pid=13407)\u001b[0m 157/157 - 20s - loss: 1.2414 - accuracy: 0.5506 - val_loss: 1.5379 - val_accuracy: 0.4478 - 20s/epoch - 127ms/step\u001b[32m [repeated 2x across cluster]\u001b[0m\n",
            "\u001b[2m\u001b[36m(DefaultActor pid=13407)\u001b[0m Epoch 6/10\u001b[32m [repeated 2x across cluster]\u001b[0m\n",
            "\u001b[2m\u001b[36m(DefaultActor pid=13407)\u001b[0m 157/157 - 21s - loss: 1.1889 - accuracy: 0.5784 - val_loss: 1.5173 - val_accuracy: 0.4644 - 21s/epoch - 133ms/step\u001b[32m [repeated 2x across cluster]\u001b[0m\n",
            "\u001b[2m\u001b[36m(DefaultActor pid=13407)\u001b[0m Epoch 7/10\u001b[32m [repeated 2x across cluster]\u001b[0m\n",
            "\u001b[2m\u001b[36m(DefaultActor pid=13407)\u001b[0m 157/157 - 19s - loss: 1.1514 - accuracy: 0.5896 - val_loss: 1.5443 - val_accuracy: 0.4552 - 19s/epoch - 123ms/step\u001b[32m [repeated 2x across cluster]\u001b[0m\n",
            "\u001b[2m\u001b[36m(DefaultActor pid=13407)\u001b[0m Epoch 8/10\u001b[32m [repeated 2x across cluster]\u001b[0m\n",
            "\u001b[2m\u001b[36m(DefaultActor pid=13407)\u001b[0m 157/157 - 21s - loss: 1.0808 - accuracy: 0.6152 - val_loss: 1.5213 - val_accuracy: 0.4717 - 21s/epoch - 133ms/step\u001b[32m [repeated 2x across cluster]\u001b[0m\n",
            "\u001b[2m\u001b[36m(DefaultActor pid=13407)\u001b[0m Epoch 9/10\u001b[32m [repeated 2x across cluster]\u001b[0m\n",
            "\u001b[2m\u001b[36m(DefaultActor pid=13407)\u001b[0m 157/157 - 20s - loss: 1.0307 - accuracy: 0.6264 - val_loss: 1.5745 - val_accuracy: 0.4538 - 20s/epoch - 125ms/step\u001b[32m [repeated 2x across cluster]\u001b[0m\n",
            "\u001b[2m\u001b[36m(DefaultActor pid=13407)\u001b[0m Epoch 10/10\u001b[32m [repeated 2x across cluster]\u001b[0m\n",
            "\u001b[2m\u001b[36m(DefaultActor pid=13407)\u001b[0m Client Train and validate Done!!!\n",
            "\u001b[2m\u001b[36m(DefaultActor pid=13407)\u001b[0m 157/157 - 21s - loss: 0.9843 - accuracy: 0.6562 - val_loss: 1.6382 - val_accuracy: 0.4592 - 21s/epoch - 135ms/step\u001b[32m [repeated 2x across cluster]\u001b[0m\n",
            "\u001b[2m\u001b[36m(DefaultActor pid=13406)\u001b[0m Epoch 10/10\n",
            "\u001b[2m\u001b[36m(DefaultActor pid=13407)\u001b[0m round :3\n",
            "\u001b[2m\u001b[36m(DefaultActor pid=13407)\u001b[0m Train :5000\n",
            "\u001b[2m\u001b[36m(DefaultActor pid=13407)\u001b[0m Test :10000\n"
          ]
        },
        {
          "output_type": "stream",
          "name": "stderr",
          "text": [
            "\u001b[2m\u001b[36m(DefaultActor pid=13407)\u001b[0m WARNING:absl:Skipping variable loading for optimizer 'Adam', because it has 11 variables whereas the saved optimizer has 1 variables. \u001b[32m [repeated 2x across cluster]\u001b[0m\n"
          ]
        },
        {
          "output_type": "stream",
          "name": "stdout",
          "text": [
            "\u001b[2m\u001b[36m(DefaultActor pid=13407)\u001b[0m Epoch 1/10\n",
            "\u001b[2m\u001b[36m(DefaultActor pid=13406)\u001b[0m Client Train and validate Done!!!\n",
            "\u001b[2m\u001b[36m(DefaultActor pid=13407)\u001b[0m 157/157 - 26s - loss: 1.4622 - accuracy: 0.4734 - val_loss: 1.4684 - val_accuracy: 0.4740 - 26s/epoch - 165ms/step\u001b[32m [repeated 2x across cluster]\u001b[0m\n",
            "\u001b[2m\u001b[36m(DefaultActor pid=13406)\u001b[0m round :3\n",
            "\u001b[2m\u001b[36m(DefaultActor pid=13406)\u001b[0m Train :5000\n",
            "\u001b[2m\u001b[36m(DefaultActor pid=13406)\u001b[0m Test :10000\n",
            "\u001b[2m\u001b[36m(DefaultActor pid=13407)\u001b[0m Epoch 2/10\u001b[32m [repeated 2x across cluster]\u001b[0m\n",
            "\u001b[2m\u001b[36m(DefaultActor pid=13407)\u001b[0m 157/157 - 19s - loss: 1.3755 - accuracy: 0.4988 - val_loss: 1.4800 - val_accuracy: 0.4705 - 19s/epoch - 122ms/step\u001b[32m [repeated 2x across cluster]\u001b[0m\n",
            "\u001b[2m\u001b[36m(DefaultActor pid=13407)\u001b[0m Epoch 3/10\u001b[32m [repeated 2x across cluster]\u001b[0m\n",
            "\u001b[2m\u001b[36m(DefaultActor pid=13407)\u001b[0m 157/157 - 21s - loss: 1.3058 - accuracy: 0.5226 - val_loss: 1.4843 - val_accuracy: 0.4669 - 21s/epoch - 136ms/step\u001b[32m [repeated 2x across cluster]\u001b[0m\n",
            "\u001b[2m\u001b[36m(DefaultActor pid=13407)\u001b[0m Epoch 4/10\u001b[32m [repeated 2x across cluster]\u001b[0m\n",
            "\u001b[2m\u001b[36m(DefaultActor pid=13407)\u001b[0m 157/157 - 20s - loss: 1.2606 - accuracy: 0.5484 - val_loss: 1.5113 - val_accuracy: 0.4662 - 20s/epoch - 126ms/step\u001b[32m [repeated 2x across cluster]\u001b[0m\n",
            "\u001b[2m\u001b[36m(DefaultActor pid=13407)\u001b[0m Epoch 5/10\u001b[32m [repeated 2x across cluster]\u001b[0m\n",
            "\u001b[2m\u001b[36m(DefaultActor pid=13407)\u001b[0m 157/157 - 21s - loss: 1.2044 - accuracy: 0.5688 - val_loss: 1.4948 - val_accuracy: 0.4719 - 21s/epoch - 133ms/step\u001b[32m [repeated 2x across cluster]\u001b[0m\n",
            "\u001b[2m\u001b[36m(DefaultActor pid=13407)\u001b[0m Epoch 6/10\u001b[32m [repeated 2x across cluster]\u001b[0m\n",
            "\u001b[2m\u001b[36m(DefaultActor pid=13407)\u001b[0m 157/157 - 21s - loss: 1.1598 - accuracy: 0.5760 - val_loss: 1.5079 - val_accuracy: 0.4639 - 21s/epoch - 135ms/step\u001b[32m [repeated 2x across cluster]\u001b[0m\n",
            "\u001b[2m\u001b[36m(DefaultActor pid=13407)\u001b[0m Epoch 7/10\u001b[32m [repeated 2x across cluster]\u001b[0m\n",
            "\u001b[2m\u001b[36m(DefaultActor pid=13407)\u001b[0m 157/157 - 20s - loss: 1.1090 - accuracy: 0.6024 - val_loss: 1.5236 - val_accuracy: 0.4640 - 20s/epoch - 126ms/step\u001b[32m [repeated 2x across cluster]\u001b[0m\n",
            "\u001b[2m\u001b[36m(DefaultActor pid=13407)\u001b[0m Epoch 8/10\u001b[32m [repeated 2x across cluster]\u001b[0m\n",
            "\u001b[2m\u001b[36m(DefaultActor pid=13407)\u001b[0m 157/157 - 21s - loss: 1.0557 - accuracy: 0.6174 - val_loss: 1.5520 - val_accuracy: 0.4669 - 21s/epoch - 131ms/step\u001b[32m [repeated 2x across cluster]\u001b[0m\n",
            "\u001b[2m\u001b[36m(DefaultActor pid=13407)\u001b[0m Epoch 9/10\u001b[32m [repeated 2x across cluster]\u001b[0m\n",
            "\u001b[2m\u001b[36m(DefaultActor pid=13407)\u001b[0m 157/157 - 20s - loss: 0.9969 - accuracy: 0.6422 - val_loss: 1.5494 - val_accuracy: 0.4680 - 20s/epoch - 127ms/step\u001b[32m [repeated 2x across cluster]\u001b[0m\n",
            "\u001b[2m\u001b[36m(DefaultActor pid=13406)\u001b[0m Epoch 9/10\n",
            "\u001b[2m\u001b[36m(DefaultActor pid=13407)\u001b[0m Epoch 10/10\n",
            "\u001b[2m\u001b[36m(DefaultActor pid=13407)\u001b[0m Client Train and validate Done!!!\n",
            "\u001b[2m\u001b[36m(DefaultActor pid=13407)\u001b[0m 157/157 - 21s - loss: 0.9639 - accuracy: 0.6564 - val_loss: 1.5880 - val_accuracy: 0.4688 - 21s/epoch - 134ms/step\u001b[32m [repeated 2x across cluster]\u001b[0m\n",
            "\u001b[2m\u001b[36m(DefaultActor pid=13406)\u001b[0m Epoch 10/10\n",
            "\u001b[2m\u001b[36m(DefaultActor pid=13407)\u001b[0m round :3\n",
            "\u001b[2m\u001b[36m(DefaultActor pid=13407)\u001b[0m Train :5000\n",
            "\u001b[2m\u001b[36m(DefaultActor pid=13407)\u001b[0m Test :10000\n"
          ]
        },
        {
          "output_type": "stream",
          "name": "stderr",
          "text": [
            "\u001b[2m\u001b[36m(DefaultActor pid=13407)\u001b[0m WARNING:absl:Skipping variable loading for optimizer 'Adam', because it has 11 variables whereas the saved optimizer has 1 variables. \u001b[32m [repeated 2x across cluster]\u001b[0m\n"
          ]
        },
        {
          "output_type": "stream",
          "name": "stdout",
          "text": [
            "\u001b[2m\u001b[36m(DefaultActor pid=13407)\u001b[0m Epoch 1/10\n",
            "\u001b[2m\u001b[36m(DefaultActor pid=13406)\u001b[0m Client Train and validate Done!!!\n",
            "\u001b[2m\u001b[36m(DefaultActor pid=13407)\u001b[0m 157/157 - 26s - loss: 1.4721 - accuracy: 0.4720 - val_loss: 1.5024 - val_accuracy: 0.4571 - 26s/epoch - 166ms/step\u001b[32m [repeated 2x across cluster]\u001b[0m\n",
            "\u001b[2m\u001b[36m(DefaultActor pid=13406)\u001b[0m round :3\n",
            "\u001b[2m\u001b[36m(DefaultActor pid=13406)\u001b[0m Train :5000\n",
            "\u001b[2m\u001b[36m(DefaultActor pid=13406)\u001b[0m Test :10000\n",
            "\u001b[2m\u001b[36m(DefaultActor pid=13407)\u001b[0m Epoch 2/10\u001b[32m [repeated 2x across cluster]\u001b[0m\n",
            "\u001b[2m\u001b[36m(DefaultActor pid=13407)\u001b[0m 157/157 - 19s - loss: 1.3844 - accuracy: 0.4986 - val_loss: 1.4848 - val_accuracy: 0.4601 - 19s/epoch - 122ms/step\u001b[32m [repeated 2x across cluster]\u001b[0m\n",
            "\u001b[2m\u001b[36m(DefaultActor pid=13407)\u001b[0m Epoch 3/10\u001b[32m [repeated 2x across cluster]\u001b[0m\n",
            "\u001b[2m\u001b[36m(DefaultActor pid=13407)\u001b[0m 157/157 - 22s - loss: 1.3194 - accuracy: 0.5214 - val_loss: 1.4859 - val_accuracy: 0.4629 - 22s/epoch - 139ms/step\u001b[32m [repeated 2x across cluster]\u001b[0m\n",
            "\u001b[2m\u001b[36m(DefaultActor pid=13407)\u001b[0m Epoch 4/10\u001b[32m [repeated 2x across cluster]\u001b[0m\n",
            "\u001b[2m\u001b[36m(DefaultActor pid=13407)\u001b[0m 157/157 - 19s - loss: 1.2881 - accuracy: 0.5376 - val_loss: 1.5105 - val_accuracy: 0.4546 - 19s/epoch - 122ms/step\u001b[32m [repeated 2x across cluster]\u001b[0m\n",
            "\u001b[2m\u001b[36m(DefaultActor pid=13407)\u001b[0m Epoch 5/10\u001b[32m [repeated 2x across cluster]\u001b[0m\n",
            "\u001b[2m\u001b[36m(DefaultActor pid=13407)\u001b[0m 157/157 - 21s - loss: 1.2234 - accuracy: 0.5592 - val_loss: 1.5023 - val_accuracy: 0.4611 - 21s/epoch - 133ms/step\u001b[32m [repeated 2x across cluster]\u001b[0m\n",
            "\u001b[2m\u001b[36m(DefaultActor pid=13407)\u001b[0m Epoch 6/10\u001b[32m [repeated 2x across cluster]\u001b[0m\n",
            "\u001b[2m\u001b[36m(DefaultActor pid=13407)\u001b[0m 157/157 - 20s - loss: 1.1845 - accuracy: 0.5738 - val_loss: 1.5229 - val_accuracy: 0.4622 - 20s/epoch - 129ms/step\u001b[32m [repeated 2x across cluster]\u001b[0m\n",
            "\u001b[2m\u001b[36m(DefaultActor pid=13407)\u001b[0m Epoch 7/10\u001b[32m [repeated 2x across cluster]\u001b[0m\n",
            "\u001b[2m\u001b[36m(DefaultActor pid=13407)\u001b[0m 157/157 - 21s - loss: 1.1161 - accuracy: 0.6066 - val_loss: 1.5120 - val_accuracy: 0.4702 - 21s/epoch - 133ms/step\u001b[32m [repeated 2x across cluster]\u001b[0m\n",
            "\u001b[2m\u001b[36m(DefaultActor pid=13407)\u001b[0m Epoch 8/10\u001b[32m [repeated 2x across cluster]\u001b[0m\n",
            "\u001b[2m\u001b[36m(DefaultActor pid=13407)\u001b[0m 157/157 - 19s - loss: 1.0740 - accuracy: 0.6130 - val_loss: 1.5344 - val_accuracy: 0.4643 - 19s/epoch - 124ms/step\u001b[32m [repeated 2x across cluster]\u001b[0m\n",
            "\u001b[2m\u001b[36m(DefaultActor pid=13407)\u001b[0m Epoch 9/10\u001b[32m [repeated 2x across cluster]\u001b[0m\n",
            "\u001b[2m\u001b[36m(DefaultActor pid=13407)\u001b[0m 157/157 - 20s - loss: 1.0272 - accuracy: 0.6340 - val_loss: 1.5927 - val_accuracy: 0.4624 - 20s/epoch - 131ms/step\u001b[32m [repeated 2x across cluster]\u001b[0m\n",
            "\u001b[2m\u001b[36m(DefaultActor pid=13407)\u001b[0m Epoch 10/10\u001b[32m [repeated 2x across cluster]\u001b[0m\n",
            "\u001b[2m\u001b[36m(DefaultActor pid=13407)\u001b[0m Client Train and validate Done!!!\n",
            "\u001b[2m\u001b[36m(DefaultActor pid=13407)\u001b[0m 157/157 - 20s - loss: 0.9770 - accuracy: 0.6494 - val_loss: 1.6037 - val_accuracy: 0.4622 - 20s/epoch - 130ms/step\u001b[32m [repeated 2x across cluster]\u001b[0m\n",
            "\u001b[2m\u001b[36m(DefaultActor pid=13406)\u001b[0m Epoch 10/10\n"
          ]
        },
        {
          "output_type": "stream",
          "name": "stderr",
          "text": [
            "DEBUG flwr 2024-02-07 20:07:22,749 | server.py:236 | fit_round 3 received 10 results and 0 failures\n",
            "DEBUG:flwr:fit_round 3 received 10 results and 0 failures\n",
            "DEBUG flwr 2024-02-07 20:07:22,771 | server.py:173 | evaluate_round 3: strategy sampled 10 clients (out of 10)\n",
            "DEBUG:flwr:evaluate_round 3: strategy sampled 10 clients (out of 10)\n",
            "\u001b[2m\u001b[36m(DefaultActor pid=13406)\u001b[0m WARNING:absl:Skipping variable loading for optimizer 'Adam', because it has 11 variables whereas the saved optimizer has 1 variables. \u001b[32m [repeated 2x across cluster]\u001b[0m\n",
            "\u001b[2m\u001b[36m(DefaultActor pid=13407)\u001b[0m WARNING:absl:Skipping variable loading for optimizer 'Adam', because it has 11 variables whereas the saved optimizer has 1 variables. \n"
          ]
        },
        {
          "output_type": "stream",
          "name": "stdout",
          "text": [
            "\u001b[2m\u001b[36m(DefaultActor pid=13406)\u001b[0m 10000/10000 - 112s - loss: 1.4651 - accuracy: 0.5038 - 112s/epoch - 11ms/step\n",
            "\u001b[2m\u001b[36m(DefaultActor pid=13406)\u001b[0m Global Validate Done!!!\n",
            "\u001b[2m\u001b[36m(DefaultActor pid=13406)\u001b[0m Client Train and validate Done!!!\n",
            "\u001b[2m\u001b[36m(DefaultActor pid=13406)\u001b[0m 157/157 - 20s - loss: 0.9313 - accuracy: 0.6692 - val_loss: 1.5808 - val_accuracy: 0.4678 - 20s/epoch - 126ms/step\n"
          ]
        },
        {
          "output_type": "stream",
          "name": "stderr",
          "text": [
            "\u001b[2m\u001b[36m(DefaultActor pid=13406)\u001b[0m WARNING:absl:Skipping variable loading for optimizer 'Adam', because it has 11 variables whereas the saved optimizer has 1 variables. \n"
          ]
        },
        {
          "output_type": "stream",
          "name": "stdout",
          "text": [
            "\u001b[2m\u001b[36m(DefaultActor pid=13407)\u001b[0m 10000/10000 - 126s - loss: 1.4651 - accuracy: 0.5038 - 126s/epoch - 13ms/step\n",
            "\u001b[2m\u001b[36m(DefaultActor pid=13407)\u001b[0m Global Validate Done!!!\n"
          ]
        },
        {
          "output_type": "stream",
          "name": "stderr",
          "text": [
            "\u001b[2m\u001b[36m(DefaultActor pid=13407)\u001b[0m WARNING:absl:Skipping variable loading for optimizer 'Adam', because it has 11 variables whereas the saved optimizer has 1 variables. \n"
          ]
        },
        {
          "output_type": "stream",
          "name": "stdout",
          "text": [
            "\u001b[2m\u001b[36m(DefaultActor pid=13406)\u001b[0m 10000/10000 - 127s - loss: 1.4651 - accuracy: 0.5038 - 127s/epoch - 13ms/step\n",
            "\u001b[2m\u001b[36m(DefaultActor pid=13406)\u001b[0m Global Validate Done!!!\n"
          ]
        },
        {
          "output_type": "stream",
          "name": "stderr",
          "text": [
            "\u001b[2m\u001b[36m(DefaultActor pid=13406)\u001b[0m WARNING:absl:Skipping variable loading for optimizer 'Adam', because it has 11 variables whereas the saved optimizer has 1 variables. \n"
          ]
        },
        {
          "output_type": "stream",
          "name": "stdout",
          "text": [
            "\u001b[2m\u001b[36m(DefaultActor pid=13407)\u001b[0m 10000/10000 - 125s - loss: 1.4651 - accuracy: 0.5038 - 125s/epoch - 13ms/step\n",
            "\u001b[2m\u001b[36m(DefaultActor pid=13407)\u001b[0m Global Validate Done!!!\n"
          ]
        },
        {
          "output_type": "stream",
          "name": "stderr",
          "text": [
            "\u001b[2m\u001b[36m(DefaultActor pid=13407)\u001b[0m WARNING:absl:Skipping variable loading for optimizer 'Adam', because it has 11 variables whereas the saved optimizer has 1 variables. \n"
          ]
        },
        {
          "output_type": "stream",
          "name": "stdout",
          "text": [
            "\u001b[2m\u001b[36m(DefaultActor pid=13406)\u001b[0m 10000/10000 - 130s - loss: 1.4651 - accuracy: 0.5038 - 130s/epoch - 13ms/step\n",
            "\u001b[2m\u001b[36m(DefaultActor pid=13406)\u001b[0m Global Validate Done!!!\n"
          ]
        },
        {
          "output_type": "stream",
          "name": "stderr",
          "text": [
            "\u001b[2m\u001b[36m(DefaultActor pid=13406)\u001b[0m WARNING:absl:Skipping variable loading for optimizer 'Adam', because it has 11 variables whereas the saved optimizer has 1 variables. \n"
          ]
        },
        {
          "output_type": "stream",
          "name": "stdout",
          "text": [
            "\u001b[2m\u001b[36m(DefaultActor pid=13407)\u001b[0m 10000/10000 - 144s - loss: 1.4651 - accuracy: 0.5038 - 144s/epoch - 14ms/step\n",
            "\u001b[2m\u001b[36m(DefaultActor pid=13407)\u001b[0m Global Validate Done!!!\n"
          ]
        },
        {
          "output_type": "stream",
          "name": "stderr",
          "text": [
            "\u001b[2m\u001b[36m(DefaultActor pid=13407)\u001b[0m WARNING:absl:Skipping variable loading for optimizer 'Adam', because it has 11 variables whereas the saved optimizer has 1 variables. \n"
          ]
        },
        {
          "output_type": "stream",
          "name": "stdout",
          "text": [
            "\u001b[2m\u001b[36m(DefaultActor pid=13406)\u001b[0m 10000/10000 - 169s - loss: 1.4651 - accuracy: 0.5038 - 169s/epoch - 17ms/step\n",
            "\u001b[2m\u001b[36m(DefaultActor pid=13406)\u001b[0m Global Validate Done!!!\n"
          ]
        },
        {
          "output_type": "stream",
          "name": "stderr",
          "text": [
            "\u001b[2m\u001b[36m(DefaultActor pid=13406)\u001b[0m WARNING:absl:Skipping variable loading for optimizer 'Adam', because it has 11 variables whereas the saved optimizer has 1 variables. \n"
          ]
        },
        {
          "output_type": "stream",
          "name": "stdout",
          "text": [
            "\u001b[2m\u001b[36m(DefaultActor pid=13407)\u001b[0m 10000/10000 - 159s - loss: 1.4651 - accuracy: 0.5038 - 159s/epoch - 16ms/step\n",
            "\u001b[2m\u001b[36m(DefaultActor pid=13407)\u001b[0m Global Validate Done!!!\n"
          ]
        },
        {
          "output_type": "stream",
          "name": "stderr",
          "text": [
            "\u001b[2m\u001b[36m(DefaultActor pid=13407)\u001b[0m WARNING:absl:Skipping variable loading for optimizer 'Adam', because it has 11 variables whereas the saved optimizer has 1 variables. \n"
          ]
        },
        {
          "output_type": "stream",
          "name": "stdout",
          "text": [
            "\u001b[2m\u001b[36m(DefaultActor pid=13406)\u001b[0m 10000/10000 - 134s - loss: 1.4651 - accuracy: 0.5038 - 134s/epoch - 13ms/step\n",
            "\u001b[2m\u001b[36m(DefaultActor pid=13406)\u001b[0m Global Validate Done!!!\n"
          ]
        },
        {
          "output_type": "stream",
          "name": "stderr",
          "text": [
            "DEBUG flwr 2024-02-07 20:19:05,979 | server.py:187 | evaluate_round 3 received 10 results and 0 failures\n",
            "DEBUG:flwr:evaluate_round 3 received 10 results and 0 failures\n",
            "DEBUG flwr 2024-02-07 20:19:05,982 | server.py:222 | fit_round 4: strategy sampled 10 clients (out of 10)\n",
            "DEBUG:flwr:fit_round 4: strategy sampled 10 clients (out of 10)\n"
          ]
        },
        {
          "output_type": "stream",
          "name": "stdout",
          "text": [
            "\u001b[2m\u001b[36m(DefaultActor pid=13407)\u001b[0m 10000/10000 - 100s - loss: 1.4651 - accuracy: 0.5038 - 100s/epoch - 10ms/step\n",
            "\u001b[2m\u001b[36m(DefaultActor pid=13407)\u001b[0m Global Validate Done!!!\n"
          ]
        },
        {
          "output_type": "stream",
          "name": "stderr",
          "text": [
            "\u001b[2m\u001b[36m(DefaultActor pid=13406)\u001b[0m WARNING:absl:Skipping variable loading for optimizer 'Adam', because it has 11 variables whereas the saved optimizer has 1 variables. \n"
          ]
        },
        {
          "output_type": "stream",
          "name": "stdout",
          "text": [
            "\u001b[2m\u001b[36m(DefaultActor pid=13406)\u001b[0m round :4\n",
            "\u001b[2m\u001b[36m(DefaultActor pid=13406)\u001b[0m Train :5000\n",
            "\u001b[2m\u001b[36m(DefaultActor pid=13406)\u001b[0m Test :10000\n",
            "\u001b[2m\u001b[36m(DefaultActor pid=13406)\u001b[0m Epoch 1/10\n",
            "\u001b[2m\u001b[36m(DefaultActor pid=13406)\u001b[0m 157/157 - 24s - loss: 1.4014 - accuracy: 0.5012 - val_loss: 1.4694 - val_accuracy: 0.4807 - 24s/epoch - 154ms/step\n",
            "\u001b[2m\u001b[36m(DefaultActor pid=13407)\u001b[0m round :4\n",
            "\u001b[2m\u001b[36m(DefaultActor pid=13407)\u001b[0m Train :5000\n",
            "\u001b[2m\u001b[36m(DefaultActor pid=13407)\u001b[0m Test :10000\n",
            "\u001b[2m\u001b[36m(DefaultActor pid=13406)\u001b[0m Epoch 2/10\u001b[32m [repeated 2x across cluster]\u001b[0m\n",
            "\u001b[2m\u001b[36m(DefaultActor pid=13406)\u001b[0m 157/157 - 22s - loss: 1.2711 - accuracy: 0.5400 - val_loss: 1.4317 - val_accuracy: 0.4913 - 22s/epoch - 138ms/step\u001b[32m [repeated 2x across cluster]\u001b[0m\n",
            "\u001b[2m\u001b[36m(DefaultActor pid=13406)\u001b[0m Epoch 3/10\u001b[32m [repeated 2x across cluster]\u001b[0m\n",
            "\u001b[2m\u001b[36m(DefaultActor pid=13406)\u001b[0m 157/157 - 20s - loss: 1.1976 - accuracy: 0.5762 - val_loss: 1.4581 - val_accuracy: 0.4803 - 20s/epoch - 125ms/step\u001b[32m [repeated 2x across cluster]\u001b[0m\n",
            "\u001b[2m\u001b[36m(DefaultActor pid=13406)\u001b[0m Epoch 4/10\u001b[32m [repeated 2x across cluster]\u001b[0m\n",
            "\u001b[2m\u001b[36m(DefaultActor pid=13406)\u001b[0m 157/157 - 21s - loss: 1.1311 - accuracy: 0.5974 - val_loss: 1.4567 - val_accuracy: 0.4860 - 21s/epoch - 133ms/step\u001b[32m [repeated 2x across cluster]\u001b[0m\n",
            "\u001b[2m\u001b[36m(DefaultActor pid=13406)\u001b[0m Epoch 5/10\u001b[32m [repeated 2x across cluster]\u001b[0m\n",
            "\u001b[2m\u001b[36m(DefaultActor pid=13406)\u001b[0m 157/157 - 20s - loss: 1.0762 - accuracy: 0.6152 - val_loss: 1.4690 - val_accuracy: 0.4852 - 20s/epoch - 128ms/step\u001b[32m [repeated 2x across cluster]\u001b[0m\n",
            "\u001b[2m\u001b[36m(DefaultActor pid=13406)\u001b[0m Epoch 6/10\u001b[32m [repeated 2x across cluster]\u001b[0m\n",
            "\u001b[2m\u001b[36m(DefaultActor pid=13406)\u001b[0m 157/157 - 21s - loss: 1.0296 - accuracy: 0.6308 - val_loss: 1.4995 - val_accuracy: 0.4837 - 21s/epoch - 134ms/step\u001b[32m [repeated 2x across cluster]\u001b[0m\n",
            "\u001b[2m\u001b[36m(DefaultActor pid=13406)\u001b[0m Epoch 7/10\u001b[32m [repeated 2x across cluster]\u001b[0m\n",
            "\u001b[2m\u001b[36m(DefaultActor pid=13406)\u001b[0m 157/157 - 19s - loss: 0.9536 - accuracy: 0.6626 - val_loss: 1.5156 - val_accuracy: 0.4788 - 19s/epoch - 123ms/step\u001b[32m [repeated 2x across cluster]\u001b[0m\n",
            "\u001b[2m\u001b[36m(DefaultActor pid=13406)\u001b[0m Epoch 8/10\u001b[32m [repeated 2x across cluster]\u001b[0m\n",
            "\u001b[2m\u001b[36m(DefaultActor pid=13406)\u001b[0m 157/157 - 22s - loss: 0.9028 - accuracy: 0.6884 - val_loss: 1.5523 - val_accuracy: 0.4752 - 22s/epoch - 137ms/step\u001b[32m [repeated 2x across cluster]\u001b[0m\n",
            "\u001b[2m\u001b[36m(DefaultActor pid=13406)\u001b[0m Epoch 9/10\u001b[32m [repeated 2x across cluster]\u001b[0m\n",
            "\u001b[2m\u001b[36m(DefaultActor pid=13406)\u001b[0m 157/157 - 19s - loss: 0.8609 - accuracy: 0.6964 - val_loss: 1.6185 - val_accuracy: 0.4748 - 19s/epoch - 123ms/step\u001b[32m [repeated 2x across cluster]\u001b[0m\n",
            "\u001b[2m\u001b[36m(DefaultActor pid=13406)\u001b[0m Epoch 10/10\u001b[32m [repeated 2x across cluster]\u001b[0m\n",
            "\u001b[2m\u001b[36m(DefaultActor pid=13406)\u001b[0m Client Train and validate Done!!!\n",
            "\u001b[2m\u001b[36m(DefaultActor pid=13406)\u001b[0m 157/157 - 23s - loss: 0.8137 - accuracy: 0.7156 - val_loss: 1.6006 - val_accuracy: 0.4734 - 23s/epoch - 146ms/step\u001b[32m [repeated 2x across cluster]\u001b[0m\n",
            "\u001b[2m\u001b[36m(DefaultActor pid=13407)\u001b[0m Epoch 10/10\n",
            "\u001b[2m\u001b[36m(DefaultActor pid=13406)\u001b[0m round :4\n",
            "\u001b[2m\u001b[36m(DefaultActor pid=13406)\u001b[0m Train :5000\n",
            "\u001b[2m\u001b[36m(DefaultActor pid=13406)\u001b[0m Test :10000\n"
          ]
        },
        {
          "output_type": "stream",
          "name": "stderr",
          "text": [
            "\u001b[2m\u001b[36m(DefaultActor pid=13406)\u001b[0m WARNING:absl:Skipping variable loading for optimizer 'Adam', because it has 11 variables whereas the saved optimizer has 1 variables. \u001b[32m [repeated 2x across cluster]\u001b[0m\n"
          ]
        },
        {
          "output_type": "stream",
          "name": "stdout",
          "text": [
            "\u001b[2m\u001b[36m(DefaultActor pid=13406)\u001b[0m Epoch 1/10\n",
            "\u001b[2m\u001b[36m(DefaultActor pid=13407)\u001b[0m Client Train and validate Done!!!\n",
            "\u001b[2m\u001b[36m(DefaultActor pid=13406)\u001b[0m 157/157 - 25s - loss: 1.3854 - accuracy: 0.5048 - val_loss: 1.4633 - val_accuracy: 0.4717 - 25s/epoch - 158ms/step\u001b[32m [repeated 2x across cluster]\u001b[0m\n",
            "\u001b[2m\u001b[36m(DefaultActor pid=13407)\u001b[0m round :4\n",
            "\u001b[2m\u001b[36m(DefaultActor pid=13407)\u001b[0m Train :5000\n",
            "\u001b[2m\u001b[36m(DefaultActor pid=13407)\u001b[0m Test :10000\n",
            "\u001b[2m\u001b[36m(DefaultActor pid=13406)\u001b[0m Epoch 2/10\u001b[32m [repeated 2x across cluster]\u001b[0m\n",
            "\u001b[2m\u001b[36m(DefaultActor pid=13406)\u001b[0m 157/157 - 21s - loss: 1.2576 - accuracy: 0.5478 - val_loss: 1.4505 - val_accuracy: 0.4819 - 21s/epoch - 132ms/step\u001b[32m [repeated 2x across cluster]\u001b[0m\n",
            "\u001b[2m\u001b[36m(DefaultActor pid=13406)\u001b[0m Epoch 3/10\u001b[32m [repeated 2x across cluster]\u001b[0m\n",
            "\u001b[2m\u001b[36m(DefaultActor pid=13406)\u001b[0m 157/157 - 20s - loss: 1.1699 - accuracy: 0.5772 - val_loss: 1.4464 - val_accuracy: 0.4874 - 20s/epoch - 127ms/step\u001b[32m [repeated 2x across cluster]\u001b[0m\n",
            "\u001b[2m\u001b[36m(DefaultActor pid=13406)\u001b[0m Epoch 4/10\u001b[32m [repeated 2x across cluster]\u001b[0m\n",
            "\u001b[2m\u001b[36m(DefaultActor pid=13406)\u001b[0m 157/157 - 20s - loss: 1.1186 - accuracy: 0.5928 - val_loss: 1.4919 - val_accuracy: 0.4748 - 20s/epoch - 129ms/step\u001b[32m [repeated 2x across cluster]\u001b[0m\n",
            "\u001b[2m\u001b[36m(DefaultActor pid=13406)\u001b[0m Epoch 5/10\u001b[32m [repeated 2x across cluster]\u001b[0m\n",
            "\u001b[2m\u001b[36m(DefaultActor pid=13406)\u001b[0m 157/157 - 20s - loss: 1.0717 - accuracy: 0.6080 - val_loss: 1.4813 - val_accuracy: 0.4766 - 20s/epoch - 127ms/step\u001b[32m [repeated 2x across cluster]\u001b[0m\n",
            "\u001b[2m\u001b[36m(DefaultActor pid=13406)\u001b[0m Epoch 6/10\u001b[32m [repeated 2x across cluster]\u001b[0m\n",
            "\u001b[2m\u001b[36m(DefaultActor pid=13406)\u001b[0m 157/157 - 22s - loss: 0.9993 - accuracy: 0.6398 - val_loss: 1.5035 - val_accuracy: 0.4810 - 22s/epoch - 140ms/step\u001b[32m [repeated 2x across cluster]\u001b[0m\n",
            "\u001b[2m\u001b[36m(DefaultActor pid=13406)\u001b[0m Epoch 7/10\u001b[32m [repeated 2x across cluster]\u001b[0m\n",
            "\u001b[2m\u001b[36m(DefaultActor pid=13406)\u001b[0m 157/157 - 18s - loss: 0.9426 - accuracy: 0.6638 - val_loss: 1.5706 - val_accuracy: 0.4684 - 18s/epoch - 116ms/step\u001b[32m [repeated 2x across cluster]\u001b[0m\n",
            "\u001b[2m\u001b[36m(DefaultActor pid=13406)\u001b[0m Epoch 8/10\u001b[32m [repeated 2x across cluster]\u001b[0m\n",
            "\u001b[2m\u001b[36m(DefaultActor pid=13406)\u001b[0m 157/157 - 22s - loss: 0.9063 - accuracy: 0.6762 - val_loss: 1.5740 - val_accuracy: 0.4712 - 22s/epoch - 142ms/step\u001b[32m [repeated 2x across cluster]\u001b[0m\n",
            "\u001b[2m\u001b[36m(DefaultActor pid=13406)\u001b[0m Epoch 9/10\u001b[32m [repeated 2x across cluster]\u001b[0m\n",
            "\u001b[2m\u001b[36m(DefaultActor pid=13406)\u001b[0m 157/157 - 20s - loss: 0.8648 - accuracy: 0.6952 - val_loss: 1.5921 - val_accuracy: 0.4710 - 20s/epoch - 128ms/step\u001b[32m [repeated 2x across cluster]\u001b[0m\n",
            "\u001b[2m\u001b[36m(DefaultActor pid=13406)\u001b[0m Epoch 10/10\u001b[32m [repeated 2x across cluster]\u001b[0m\n",
            "\u001b[2m\u001b[36m(DefaultActor pid=13406)\u001b[0m Client Train and validate Done!!!\n",
            "\u001b[2m\u001b[36m(DefaultActor pid=13406)\u001b[0m 157/157 - 21s - loss: 0.7980 - accuracy: 0.7178 - val_loss: 1.6400 - val_accuracy: 0.4682 - 21s/epoch - 136ms/step\u001b[32m [repeated 2x across cluster]\u001b[0m\n",
            "\u001b[2m\u001b[36m(DefaultActor pid=13407)\u001b[0m Epoch 10/10\n",
            "\u001b[2m\u001b[36m(DefaultActor pid=13406)\u001b[0m round :4\n",
            "\u001b[2m\u001b[36m(DefaultActor pid=13406)\u001b[0m Train :5000\n",
            "\u001b[2m\u001b[36m(DefaultActor pid=13406)\u001b[0m Test :10000\n"
          ]
        },
        {
          "output_type": "stream",
          "name": "stderr",
          "text": [
            "\u001b[2m\u001b[36m(DefaultActor pid=13406)\u001b[0m WARNING:absl:Skipping variable loading for optimizer 'Adam', because it has 11 variables whereas the saved optimizer has 1 variables. \u001b[32m [repeated 2x across cluster]\u001b[0m\n"
          ]
        },
        {
          "output_type": "stream",
          "name": "stdout",
          "text": [
            "\u001b[2m\u001b[36m(DefaultActor pid=13406)\u001b[0m Epoch 1/10\n",
            "\u001b[2m\u001b[36m(DefaultActor pid=13407)\u001b[0m Client Train and validate Done!!!\n",
            "\u001b[2m\u001b[36m(DefaultActor pid=13406)\u001b[0m 157/157 - 28s - loss: 1.4108 - accuracy: 0.5008 - val_loss: 1.4251 - val_accuracy: 0.4860 - 28s/epoch - 180ms/step\u001b[32m [repeated 2x across cluster]\u001b[0m\n",
            "\u001b[2m\u001b[36m(DefaultActor pid=13407)\u001b[0m round :4\n",
            "\u001b[2m\u001b[36m(DefaultActor pid=13407)\u001b[0m Train :5000\n",
            "\u001b[2m\u001b[36m(DefaultActor pid=13407)\u001b[0m Test :10000\n",
            "\u001b[2m\u001b[36m(DefaultActor pid=13406)\u001b[0m Epoch 2/10\u001b[32m [repeated 2x across cluster]\u001b[0m\n",
            "\u001b[2m\u001b[36m(DefaultActor pid=13406)\u001b[0m 157/157 - 20s - loss: 1.2936 - accuracy: 0.5362 - val_loss: 1.4288 - val_accuracy: 0.4901 - 20s/epoch - 126ms/step\u001b[32m [repeated 2x across cluster]\u001b[0m\n",
            "\u001b[2m\u001b[36m(DefaultActor pid=13406)\u001b[0m Epoch 3/10\u001b[32m [repeated 2x across cluster]\u001b[0m\n",
            "\u001b[2m\u001b[36m(DefaultActor pid=13406)\u001b[0m 157/157 - 22s - loss: 1.2011 - accuracy: 0.5706 - val_loss: 1.4553 - val_accuracy: 0.4813 - 22s/epoch - 139ms/step\u001b[32m [repeated 2x across cluster]\u001b[0m\n",
            "\u001b[2m\u001b[36m(DefaultActor pid=13406)\u001b[0m Epoch 4/10\u001b[32m [repeated 2x across cluster]\u001b[0m\n",
            "\u001b[2m\u001b[36m(DefaultActor pid=13406)\u001b[0m 157/157 - 20s - loss: 1.1353 - accuracy: 0.5988 - val_loss: 1.4717 - val_accuracy: 0.4836 - 20s/epoch - 124ms/step\u001b[32m [repeated 2x across cluster]\u001b[0m\n",
            "\u001b[2m\u001b[36m(DefaultActor pid=13406)\u001b[0m Epoch 5/10\u001b[32m [repeated 2x across cluster]\u001b[0m\n",
            "\u001b[2m\u001b[36m(DefaultActor pid=13406)\u001b[0m 157/157 - 21s - loss: 1.0729 - accuracy: 0.6186 - val_loss: 1.5056 - val_accuracy: 0.4735 - 21s/epoch - 133ms/step\u001b[32m [repeated 2x across cluster]\u001b[0m\n",
            "\u001b[2m\u001b[36m(DefaultActor pid=13406)\u001b[0m Epoch 6/10\u001b[32m [repeated 2x across cluster]\u001b[0m\n",
            "\u001b[2m\u001b[36m(DefaultActor pid=13406)\u001b[0m 157/157 - 20s - loss: 1.0106 - accuracy: 0.6482 - val_loss: 1.5292 - val_accuracy: 0.4746 - 20s/epoch - 128ms/step\u001b[32m [repeated 2x across cluster]\u001b[0m\n",
            "\u001b[2m\u001b[36m(DefaultActor pid=13406)\u001b[0m Epoch 7/10\u001b[32m [repeated 2x across cluster]\u001b[0m\n",
            "\u001b[2m\u001b[36m(DefaultActor pid=13406)\u001b[0m 157/157 - 21s - loss: 0.9601 - accuracy: 0.6624 - val_loss: 1.5358 - val_accuracy: 0.4781 - 21s/epoch - 133ms/step\u001b[32m [repeated 2x across cluster]\u001b[0m\n",
            "\u001b[2m\u001b[36m(DefaultActor pid=13406)\u001b[0m Epoch 8/10\u001b[32m [repeated 2x across cluster]\u001b[0m\n",
            "\u001b[2m\u001b[36m(DefaultActor pid=13406)\u001b[0m 157/157 - 19s - loss: 0.9081 - accuracy: 0.6792 - val_loss: 1.5469 - val_accuracy: 0.4871 - 19s/epoch - 122ms/step\u001b[32m [repeated 2x across cluster]\u001b[0m\n",
            "\u001b[2m\u001b[36m(DefaultActor pid=13406)\u001b[0m Epoch 9/10\u001b[32m [repeated 2x across cluster]\u001b[0m\n",
            "\u001b[2m\u001b[36m(DefaultActor pid=13406)\u001b[0m 157/157 - 21s - loss: 0.8420 - accuracy: 0.7066 - val_loss: 1.6015 - val_accuracy: 0.4631 - 21s/epoch - 135ms/step\u001b[32m [repeated 2x across cluster]\u001b[0m\n",
            "\u001b[2m\u001b[36m(DefaultActor pid=13406)\u001b[0m Epoch 10/10\u001b[32m [repeated 2x across cluster]\u001b[0m\n",
            "\u001b[2m\u001b[36m(DefaultActor pid=13406)\u001b[0m Client Train and validate Done!!!\n",
            "\u001b[2m\u001b[36m(DefaultActor pid=13406)\u001b[0m 157/157 - 20s - loss: 0.8020 - accuracy: 0.7206 - val_loss: 1.6499 - val_accuracy: 0.4700 - 20s/epoch - 126ms/step\u001b[32m [repeated 2x across cluster]\u001b[0m\n",
            "\u001b[2m\u001b[36m(DefaultActor pid=13407)\u001b[0m Epoch 10/10\n"
          ]
        },
        {
          "output_type": "stream",
          "name": "stderr",
          "text": [
            "\u001b[2m\u001b[36m(DefaultActor pid=13406)\u001b[0m WARNING:absl:Skipping variable loading for optimizer 'Adam', because it has 11 variables whereas the saved optimizer has 1 variables. \u001b[32m [repeated 2x across cluster]\u001b[0m\n"
          ]
        },
        {
          "output_type": "stream",
          "name": "stdout",
          "text": [
            "\u001b[2m\u001b[36m(DefaultActor pid=13406)\u001b[0m round :4\n",
            "\u001b[2m\u001b[36m(DefaultActor pid=13406)\u001b[0m Train :5000\n",
            "\u001b[2m\u001b[36m(DefaultActor pid=13406)\u001b[0m Test :10000\n",
            "\u001b[2m\u001b[36m(DefaultActor pid=13406)\u001b[0m Epoch 1/10\n",
            "\u001b[2m\u001b[36m(DefaultActor pid=13407)\u001b[0m Client Train and validate Done!!!\n",
            "\u001b[2m\u001b[36m(DefaultActor pid=13406)\u001b[0m 157/157 - 30s - loss: 1.4167 - accuracy: 0.4990 - val_loss: 1.4498 - val_accuracy: 0.4759 - 30s/epoch - 193ms/step\u001b[32m [repeated 2x across cluster]\u001b[0m\n",
            "\u001b[2m\u001b[36m(DefaultActor pid=13407)\u001b[0m round :4\n",
            "\u001b[2m\u001b[36m(DefaultActor pid=13407)\u001b[0m Train :5000\n",
            "\u001b[2m\u001b[36m(DefaultActor pid=13407)\u001b[0m Test :10000\n",
            "\u001b[2m\u001b[36m(DefaultActor pid=13406)\u001b[0m Epoch 2/10\u001b[32m [repeated 2x across cluster]\u001b[0m\n",
            "\u001b[2m\u001b[36m(DefaultActor pid=13406)\u001b[0m 157/157 - 21s - loss: 1.2917 - accuracy: 0.5346 - val_loss: 1.4657 - val_accuracy: 0.4794 - 21s/epoch - 133ms/step\u001b[32m [repeated 2x across cluster]\u001b[0m\n",
            "\u001b[2m\u001b[36m(DefaultActor pid=13406)\u001b[0m Epoch 3/10\u001b[32m [repeated 2x across cluster]\u001b[0m\n",
            "\u001b[2m\u001b[36m(DefaultActor pid=13406)\u001b[0m 157/157 - 20s - loss: 1.2195 - accuracy: 0.5546 - val_loss: 1.4456 - val_accuracy: 0.4798 - 20s/epoch - 129ms/step\u001b[32m [repeated 2x across cluster]\u001b[0m\n",
            "\u001b[2m\u001b[36m(DefaultActor pid=13406)\u001b[0m Epoch 4/10\u001b[32m [repeated 2x across cluster]\u001b[0m\n",
            "\u001b[2m\u001b[36m(DefaultActor pid=13406)\u001b[0m 157/157 - 22s - loss: 1.1469 - accuracy: 0.5932 - val_loss: 1.4712 - val_accuracy: 0.4766 - 22s/epoch - 138ms/step\u001b[32m [repeated 2x across cluster]\u001b[0m\n",
            "\u001b[2m\u001b[36m(DefaultActor pid=13406)\u001b[0m Epoch 5/10\u001b[32m [repeated 2x across cluster]\u001b[0m\n",
            "\u001b[2m\u001b[36m(DefaultActor pid=13406)\u001b[0m 157/157 - 20s - loss: 1.0935 - accuracy: 0.6160 - val_loss: 1.5296 - val_accuracy: 0.4726 - 20s/epoch - 125ms/step\u001b[32m [repeated 2x across cluster]\u001b[0m\n",
            "\u001b[2m\u001b[36m(DefaultActor pid=13406)\u001b[0m Epoch 6/10\u001b[32m [repeated 2x across cluster]\u001b[0m\n",
            "\u001b[2m\u001b[36m(DefaultActor pid=13406)\u001b[0m 157/157 - 23s - loss: 1.0054 - accuracy: 0.6404 - val_loss: 1.5457 - val_accuracy: 0.4662 - 23s/epoch - 147ms/step\u001b[32m [repeated 2x across cluster]\u001b[0m\n",
            "\u001b[2m\u001b[36m(DefaultActor pid=13406)\u001b[0m Epoch 7/10\u001b[32m [repeated 2x across cluster]\u001b[0m\n",
            "\u001b[2m\u001b[36m(DefaultActor pid=13406)\u001b[0m 157/157 - 21s - loss: 0.9788 - accuracy: 0.6494 - val_loss: 1.5505 - val_accuracy: 0.4711 - 21s/epoch - 133ms/step\u001b[32m [repeated 2x across cluster]\u001b[0m\n",
            "\u001b[2m\u001b[36m(DefaultActor pid=13406)\u001b[0m Epoch 8/10\u001b[32m [repeated 2x across cluster]\u001b[0m\n",
            "\u001b[2m\u001b[36m(DefaultActor pid=13406)\u001b[0m 157/157 - 22s - loss: 0.9207 - accuracy: 0.6696 - val_loss: 1.5997 - val_accuracy: 0.4627 - 22s/epoch - 140ms/step\u001b[32m [repeated 2x across cluster]\u001b[0m\n",
            "\u001b[2m\u001b[36m(DefaultActor pid=13406)\u001b[0m Epoch 9/10\u001b[32m [repeated 2x across cluster]\u001b[0m\n",
            "\u001b[2m\u001b[36m(DefaultActor pid=13406)\u001b[0m 157/157 - 21s - loss: 0.8702 - accuracy: 0.6940 - val_loss: 1.6433 - val_accuracy: 0.4553 - 21s/epoch - 132ms/step\u001b[32m [repeated 2x across cluster]\u001b[0m\n",
            "\u001b[2m\u001b[36m(DefaultActor pid=13406)\u001b[0m Epoch 10/10\u001b[32m [repeated 2x across cluster]\u001b[0m\n",
            "\u001b[2m\u001b[36m(DefaultActor pid=13406)\u001b[0m Client Train and validate Done!!!\n",
            "\u001b[2m\u001b[36m(DefaultActor pid=13406)\u001b[0m 157/157 - 24s - loss: 0.8147 - accuracy: 0.7118 - val_loss: 1.6348 - val_accuracy: 0.4661 - 24s/epoch - 152ms/step\u001b[32m [repeated 2x across cluster]\u001b[0m\n",
            "\u001b[2m\u001b[36m(DefaultActor pid=13407)\u001b[0m Epoch 10/10\n",
            "\u001b[2m\u001b[36m(DefaultActor pid=13406)\u001b[0m round :4\n",
            "\u001b[2m\u001b[36m(DefaultActor pid=13406)\u001b[0m Train :5000\n",
            "\u001b[2m\u001b[36m(DefaultActor pid=13406)\u001b[0m Test :10000\n"
          ]
        },
        {
          "output_type": "stream",
          "name": "stderr",
          "text": [
            "\u001b[2m\u001b[36m(DefaultActor pid=13406)\u001b[0m WARNING:absl:Skipping variable loading for optimizer 'Adam', because it has 11 variables whereas the saved optimizer has 1 variables. \u001b[32m [repeated 2x across cluster]\u001b[0m\n"
          ]
        },
        {
          "output_type": "stream",
          "name": "stdout",
          "text": [
            "\u001b[2m\u001b[36m(DefaultActor pid=13406)\u001b[0m Epoch 1/10\n",
            "\u001b[2m\u001b[36m(DefaultActor pid=13407)\u001b[0m Client Train and validate Done!!!\n",
            "\u001b[2m\u001b[36m(DefaultActor pid=13406)\u001b[0m 157/157 - 28s - loss: 1.4070 - accuracy: 0.4920 - val_loss: 1.4300 - val_accuracy: 0.4815 - 28s/epoch - 178ms/step\u001b[32m [repeated 2x across cluster]\u001b[0m\n",
            "\u001b[2m\u001b[36m(DefaultActor pid=13407)\u001b[0m round :4\n",
            "\u001b[2m\u001b[36m(DefaultActor pid=13407)\u001b[0m Train :5000\n",
            "\u001b[2m\u001b[36m(DefaultActor pid=13407)\u001b[0m Test :10000\n",
            "\u001b[2m\u001b[36m(DefaultActor pid=13406)\u001b[0m Epoch 2/10\u001b[32m [repeated 2x across cluster]\u001b[0m\n",
            "\u001b[2m\u001b[36m(DefaultActor pid=13406)\u001b[0m 157/157 - 21s - loss: 1.2704 - accuracy: 0.5414 - val_loss: 1.4445 - val_accuracy: 0.4854 - 21s/epoch - 134ms/step\u001b[32m [repeated 2x across cluster]\u001b[0m\n",
            "\u001b[2m\u001b[36m(DefaultActor pid=13407)\u001b[0m Epoch 2/10\n",
            "\u001b[2m\u001b[36m(DefaultActor pid=13406)\u001b[0m Epoch 3/10\n",
            "\u001b[2m\u001b[36m(DefaultActor pid=13406)\u001b[0m 157/157 - 21s - loss: 1.2124 - accuracy: 0.5602 - val_loss: 1.4460 - val_accuracy: 0.4900 - 21s/epoch - 132ms/step\u001b[32m [repeated 2x across cluster]\u001b[0m\n",
            "\u001b[2m\u001b[36m(DefaultActor pid=13406)\u001b[0m Epoch 4/10\u001b[32m [repeated 2x across cluster]\u001b[0m\n",
            "\u001b[2m\u001b[36m(DefaultActor pid=13406)\u001b[0m 157/157 - 20s - loss: 1.1319 - accuracy: 0.5894 - val_loss: 1.5004 - val_accuracy: 0.4713 - 20s/epoch - 127ms/step\u001b[32m [repeated 2x across cluster]\u001b[0m\n",
            "\u001b[2m\u001b[36m(DefaultActor pid=13406)\u001b[0m Epoch 5/10\u001b[32m [repeated 2x across cluster]\u001b[0m\n",
            "\u001b[2m\u001b[36m(DefaultActor pid=13406)\u001b[0m 157/157 - 22s - loss: 1.0742 - accuracy: 0.6214 - val_loss: 1.5468 - val_accuracy: 0.4586 - 22s/epoch - 141ms/step\u001b[32m [repeated 2x across cluster]\u001b[0m\n",
            "\u001b[2m\u001b[36m(DefaultActor pid=13406)\u001b[0m Epoch 6/10\u001b[32m [repeated 2x across cluster]\u001b[0m\n",
            "\u001b[2m\u001b[36m(DefaultActor pid=13406)\u001b[0m 157/157 - 20s - loss: 1.0189 - accuracy: 0.6326 - val_loss: 1.5167 - val_accuracy: 0.4729 - 20s/epoch - 130ms/step\u001b[32m [repeated 2x across cluster]\u001b[0m\n",
            "\u001b[2m\u001b[36m(DefaultActor pid=13407)\u001b[0m Epoch 6/10\n",
            "\u001b[2m\u001b[36m(DefaultActor pid=13406)\u001b[0m Epoch 7/10\n",
            "\u001b[2m\u001b[36m(DefaultActor pid=13406)\u001b[0m 157/157 - 22s - loss: 0.9735 - accuracy: 0.6498 - val_loss: 1.5619 - val_accuracy: 0.4701 - 22s/epoch - 137ms/step\u001b[32m [repeated 2x across cluster]\u001b[0m\n",
            "\u001b[2m\u001b[36m(DefaultActor pid=13406)\u001b[0m Epoch 8/10\u001b[32m [repeated 2x across cluster]\u001b[0m\n",
            "\u001b[2m\u001b[36m(DefaultActor pid=13406)\u001b[0m 157/157 - 22s - loss: 0.9128 - accuracy: 0.6716 - val_loss: 1.6068 - val_accuracy: 0.4630 - 22s/epoch - 138ms/step\u001b[32m [repeated 2x across cluster]\u001b[0m\n",
            "\u001b[2m\u001b[36m(DefaultActor pid=13407)\u001b[0m Epoch 8/10\n",
            "\u001b[2m\u001b[36m(DefaultActor pid=13406)\u001b[0m Epoch 9/10\n",
            "\u001b[2m\u001b[36m(DefaultActor pid=13406)\u001b[0m 157/157 - 20s - loss: 0.8498 - accuracy: 0.6952 - val_loss: 1.6512 - val_accuracy: 0.4601 - 20s/epoch - 127ms/step\u001b[32m [repeated 2x across cluster]\u001b[0m\n",
            "\u001b[2m\u001b[36m(DefaultActor pid=13406)\u001b[0m Epoch 10/10\u001b[32m [repeated 2x across cluster]\u001b[0m\n",
            "\u001b[2m\u001b[36m(DefaultActor pid=13406)\u001b[0m Client Train and validate Done!!!\n",
            "\u001b[2m\u001b[36m(DefaultActor pid=13406)\u001b[0m 157/157 - 20s - loss: 0.8179 - accuracy: 0.7144 - val_loss: 1.6273 - val_accuracy: 0.4630 - 20s/epoch - 127ms/step\u001b[32m [repeated 2x across cluster]\u001b[0m\n",
            "\u001b[2m\u001b[36m(DefaultActor pid=13407)\u001b[0m Epoch 10/10\n"
          ]
        },
        {
          "output_type": "stream",
          "name": "stderr",
          "text": [
            "DEBUG flwr 2024-02-07 20:37:09,711 | server.py:236 | fit_round 4 received 10 results and 0 failures\n",
            "DEBUG:flwr:fit_round 4 received 10 results and 0 failures\n",
            "DEBUG flwr 2024-02-07 20:37:09,752 | server.py:173 | evaluate_round 4: strategy sampled 10 clients (out of 10)\n",
            "DEBUG:flwr:evaluate_round 4: strategy sampled 10 clients (out of 10)\n",
            "\u001b[2m\u001b[36m(DefaultActor pid=13407)\u001b[0m WARNING:absl:Skipping variable loading for optimizer 'Adam', because it has 11 variables whereas the saved optimizer has 1 variables. \u001b[32m [repeated 2x across cluster]\u001b[0m\n"
          ]
        },
        {
          "output_type": "stream",
          "name": "stdout",
          "text": [
            "\u001b[2m\u001b[36m(DefaultActor pid=13407)\u001b[0m 10000/10000 - 129s - loss: 1.4901 - accuracy: 0.5201 - 129s/epoch - 13ms/step\n",
            "\u001b[2m\u001b[36m(DefaultActor pid=13407)\u001b[0m Global Validate Done!!!\n",
            "\u001b[2m\u001b[36m(DefaultActor pid=13407)\u001b[0m Client Train and validate Done!!!\n",
            "\u001b[2m\u001b[36m(DefaultActor pid=13407)\u001b[0m 157/157 - 19s - loss: 0.7834 - accuracy: 0.7218 - val_loss: 1.6067 - val_accuracy: 0.4800 - 19s/epoch - 121ms/step\n"
          ]
        },
        {
          "output_type": "stream",
          "name": "stderr",
          "text": [
            "\u001b[2m\u001b[36m(DefaultActor pid=13407)\u001b[0m WARNING:absl:Skipping variable loading for optimizer 'Adam', because it has 11 variables whereas the saved optimizer has 1 variables. \u001b[32m [repeated 2x across cluster]\u001b[0m\n"
          ]
        },
        {
          "output_type": "stream",
          "name": "stdout",
          "text": [
            "\u001b[2m\u001b[36m(DefaultActor pid=13407)\u001b[0m 10000/10000 - 132s - loss: 1.4901 - accuracy: 0.5201 - 132s/epoch - 13ms/step\u001b[32m [repeated 2x across cluster]\u001b[0m\n",
            "\u001b[2m\u001b[36m(DefaultActor pid=13407)\u001b[0m Global Validate Done!!!\u001b[32m [repeated 2x across cluster]\u001b[0m\n"
          ]
        },
        {
          "output_type": "stream",
          "name": "stderr",
          "text": [
            "\u001b[2m\u001b[36m(DefaultActor pid=13407)\u001b[0m WARNING:absl:Skipping variable loading for optimizer 'Adam', because it has 11 variables whereas the saved optimizer has 1 variables. \u001b[32m [repeated 2x across cluster]\u001b[0m\n"
          ]
        },
        {
          "output_type": "stream",
          "name": "stdout",
          "text": [
            "\u001b[2m\u001b[36m(DefaultActor pid=13407)\u001b[0m 10000/10000 - 129s - loss: 1.4901 - accuracy: 0.5201 - 129s/epoch - 13ms/step\u001b[32m [repeated 2x across cluster]\u001b[0m\n",
            "\u001b[2m\u001b[36m(DefaultActor pid=13407)\u001b[0m Global Validate Done!!!\u001b[32m [repeated 2x across cluster]\u001b[0m\n"
          ]
        },
        {
          "output_type": "stream",
          "name": "stderr",
          "text": [
            "\u001b[2m\u001b[36m(DefaultActor pid=13407)\u001b[0m WARNING:absl:Skipping variable loading for optimizer 'Adam', because it has 11 variables whereas the saved optimizer has 1 variables. \u001b[32m [repeated 2x across cluster]\u001b[0m\n",
            "\u001b[2m\u001b[36m(DefaultActor pid=13406)\u001b[0m WARNING:absl:Skipping variable loading for optimizer 'Adam', because it has 11 variables whereas the saved optimizer has 1 variables. \n"
          ]
        },
        {
          "output_type": "stream",
          "name": "stdout",
          "text": [
            "\u001b[2m\u001b[36m(DefaultActor pid=13407)\u001b[0m 10000/10000 - 130s - loss: 1.4901 - accuracy: 0.5201 - 130s/epoch - 13ms/step\u001b[32m [repeated 2x across cluster]\u001b[0m\n",
            "\u001b[2m\u001b[36m(DefaultActor pid=13407)\u001b[0m Global Validate Done!!!\u001b[32m [repeated 2x across cluster]\u001b[0m\n"
          ]
        },
        {
          "output_type": "stream",
          "name": "stderr",
          "text": [
            "\u001b[2m\u001b[36m(DefaultActor pid=13407)\u001b[0m WARNING:absl:Skipping variable loading for optimizer 'Adam', because it has 11 variables whereas the saved optimizer has 1 variables. \n"
          ]
        },
        {
          "output_type": "stream",
          "name": "stdout",
          "text": [
            "\u001b[2m\u001b[36m(DefaultActor pid=13407)\u001b[0m 10000/10000 - 130s - loss: 1.4901 - accuracy: 0.5201 - 130s/epoch - 13ms/step\u001b[32m [repeated 2x across cluster]\u001b[0m\n",
            "\u001b[2m\u001b[36m(DefaultActor pid=13407)\u001b[0m Global Validate Done!!!\u001b[32m [repeated 2x across cluster]\u001b[0m\n"
          ]
        },
        {
          "output_type": "stream",
          "name": "stderr",
          "text": [
            "DEBUG flwr 2024-02-07 20:48:11,607 | server.py:187 | evaluate_round 4 received 10 results and 0 failures\n",
            "DEBUG:flwr:evaluate_round 4 received 10 results and 0 failures\n",
            "DEBUG flwr 2024-02-07 20:48:11,610 | server.py:222 | fit_round 5: strategy sampled 10 clients (out of 10)\n",
            "DEBUG:flwr:fit_round 5: strategy sampled 10 clients (out of 10)\n"
          ]
        },
        {
          "output_type": "stream",
          "name": "stdout",
          "text": [
            "\u001b[2m\u001b[36m(DefaultActor pid=13406)\u001b[0m round :5\n",
            "\u001b[2m\u001b[36m(DefaultActor pid=13406)\u001b[0m Train :5000\n",
            "\u001b[2m\u001b[36m(DefaultActor pid=13406)\u001b[0m Test :10000\n",
            "\u001b[2m\u001b[36m(DefaultActor pid=13406)\u001b[0m 10000/10000 - 128s - loss: 1.4901 - accuracy: 0.5201 - 128s/epoch - 13ms/step\n",
            "\u001b[2m\u001b[36m(DefaultActor pid=13406)\u001b[0m Global Validate Done!!!\n"
          ]
        },
        {
          "output_type": "stream",
          "name": "stderr",
          "text": [
            "\u001b[2m\u001b[36m(DefaultActor pid=13406)\u001b[0m WARNING:absl:Skipping variable loading for optimizer 'Adam', because it has 11 variables whereas the saved optimizer has 1 variables. \u001b[32m [repeated 2x across cluster]\u001b[0m\n"
          ]
        },
        {
          "output_type": "stream",
          "name": "stdout",
          "text": [
            "\u001b[2m\u001b[36m(DefaultActor pid=13407)\u001b[0m Epoch 1/10\n",
            "\u001b[2m\u001b[36m(DefaultActor pid=13407)\u001b[0m 157/157 - 24s - loss: 1.3255 - accuracy: 0.5246 - val_loss: 1.4368 - val_accuracy: 0.4950 - 24s/epoch - 152ms/step\n",
            "\u001b[2m\u001b[36m(DefaultActor pid=13407)\u001b[0m round :5\n",
            "\u001b[2m\u001b[36m(DefaultActor pid=13407)\u001b[0m Train :5000\n",
            "\u001b[2m\u001b[36m(DefaultActor pid=13407)\u001b[0m Test :10000\n",
            "\u001b[2m\u001b[36m(DefaultActor pid=13407)\u001b[0m Epoch 2/10\u001b[32m [repeated 2x across cluster]\u001b[0m\n",
            "\u001b[2m\u001b[36m(DefaultActor pid=13407)\u001b[0m 157/157 - 22s - loss: 1.1663 - accuracy: 0.5770 - val_loss: 1.4241 - val_accuracy: 0.5010 - 22s/epoch - 141ms/step\u001b[32m [repeated 2x across cluster]\u001b[0m\n",
            "\u001b[2m\u001b[36m(DefaultActor pid=13407)\u001b[0m Epoch 3/10\u001b[32m [repeated 2x across cluster]\u001b[0m\n",
            "\u001b[2m\u001b[36m(DefaultActor pid=13407)\u001b[0m 157/157 - 19s - loss: 1.0882 - accuracy: 0.6074 - val_loss: 1.4602 - val_accuracy: 0.4984 - 19s/epoch - 123ms/step\u001b[32m [repeated 2x across cluster]\u001b[0m\n",
            "\u001b[2m\u001b[36m(DefaultActor pid=13407)\u001b[0m Epoch 4/10\u001b[32m [repeated 2x across cluster]\u001b[0m\n",
            "\u001b[2m\u001b[36m(DefaultActor pid=13407)\u001b[0m 157/157 - 21s - loss: 1.0205 - accuracy: 0.6294 - val_loss: 1.4741 - val_accuracy: 0.4896 - 21s/epoch - 136ms/step\u001b[32m [repeated 2x across cluster]\u001b[0m\n",
            "\u001b[2m\u001b[36m(DefaultActor pid=13407)\u001b[0m Epoch 5/10\u001b[32m [repeated 2x across cluster]\u001b[0m\n",
            "\u001b[2m\u001b[36m(DefaultActor pid=13407)\u001b[0m 157/157 - 20s - loss: 0.9379 - accuracy: 0.6706 - val_loss: 1.4944 - val_accuracy: 0.4866 - 20s/epoch - 128ms/step\u001b[32m [repeated 2x across cluster]\u001b[0m\n",
            "\u001b[2m\u001b[36m(DefaultActor pid=13407)\u001b[0m Epoch 6/10\u001b[32m [repeated 2x across cluster]\u001b[0m\n",
            "\u001b[2m\u001b[36m(DefaultActor pid=13407)\u001b[0m 157/157 - 22s - loss: 0.8868 - accuracy: 0.6798 - val_loss: 1.5348 - val_accuracy: 0.4893 - 22s/epoch - 141ms/step\u001b[32m [repeated 2x across cluster]\u001b[0m\n",
            "\u001b[2m\u001b[36m(DefaultActor pid=13407)\u001b[0m Epoch 7/10\u001b[32m [repeated 2x across cluster]\u001b[0m\n",
            "\u001b[2m\u001b[36m(DefaultActor pid=13407)\u001b[0m 157/157 - 18s - loss: 0.8095 - accuracy: 0.7170 - val_loss: 1.5761 - val_accuracy: 0.4848 - 18s/epoch - 117ms/step\u001b[32m [repeated 2x across cluster]\u001b[0m\n",
            "\u001b[2m\u001b[36m(DefaultActor pid=13407)\u001b[0m Epoch 8/10\u001b[32m [repeated 2x across cluster]\u001b[0m\n",
            "\u001b[2m\u001b[36m(DefaultActor pid=13407)\u001b[0m 157/157 - 22s - loss: 0.7660 - accuracy: 0.7286 - val_loss: 1.6104 - val_accuracy: 0.4752 - 22s/epoch - 140ms/step\u001b[32m [repeated 2x across cluster]\u001b[0m\n",
            "\u001b[2m\u001b[36m(DefaultActor pid=13407)\u001b[0m Epoch 9/10\u001b[32m [repeated 2x across cluster]\u001b[0m\n",
            "\u001b[2m\u001b[36m(DefaultActor pid=13407)\u001b[0m 157/157 - 20s - loss: 0.7081 - accuracy: 0.7600 - val_loss: 1.6348 - val_accuracy: 0.4878 - 20s/epoch - 127ms/step\u001b[32m [repeated 2x across cluster]\u001b[0m\n",
            "\u001b[2m\u001b[36m(DefaultActor pid=13407)\u001b[0m Epoch 10/10\u001b[32m [repeated 2x across cluster]\u001b[0m\n",
            "\u001b[2m\u001b[36m(DefaultActor pid=13406)\u001b[0m 157/157 - 22s - loss: 0.7021 - accuracy: 0.7602 - val_loss: 1.6854 - val_accuracy: 0.4682 - 22s/epoch - 143ms/step\n",
            "\u001b[2m\u001b[36m(DefaultActor pid=13406)\u001b[0m Epoch 10/10\n",
            "\u001b[2m\u001b[36m(DefaultActor pid=13407)\u001b[0m 157/157 - 21s - loss: 0.6533 - accuracy: 0.7786 - val_loss: 1.7214 - val_accuracy: 0.4683 - 21s/epoch - 134ms/step\n",
            "\u001b[2m\u001b[36m(DefaultActor pid=13407)\u001b[0m Client Train and validate Done!!!\n",
            "\u001b[2m\u001b[36m(DefaultActor pid=13407)\u001b[0m round :5\n",
            "\u001b[2m\u001b[36m(DefaultActor pid=13407)\u001b[0m Train :5000\n",
            "\u001b[2m\u001b[36m(DefaultActor pid=13407)\u001b[0m Test :10000\n"
          ]
        },
        {
          "output_type": "stream",
          "name": "stderr",
          "text": [
            "\u001b[2m\u001b[36m(DefaultActor pid=13407)\u001b[0m WARNING:absl:Skipping variable loading for optimizer 'Adam', because it has 11 variables whereas the saved optimizer has 1 variables. \u001b[32m [repeated 2x across cluster]\u001b[0m\n"
          ]
        },
        {
          "output_type": "stream",
          "name": "stdout",
          "text": [
            "\u001b[2m\u001b[36m(DefaultActor pid=13407)\u001b[0m Epoch 1/10\n",
            "\u001b[2m\u001b[36m(DefaultActor pid=13406)\u001b[0m 157/157 - 20s - loss: 0.6633 - accuracy: 0.7772 - val_loss: 1.6871 - val_accuracy: 0.4828 - 20s/epoch - 126ms/step\n",
            "\u001b[2m\u001b[36m(DefaultActor pid=13406)\u001b[0m Client Train and validate Done!!!\n",
            "\u001b[2m\u001b[36m(DefaultActor pid=13406)\u001b[0m round :5\n",
            "\u001b[2m\u001b[36m(DefaultActor pid=13406)\u001b[0m Train :5000\n",
            "\u001b[2m\u001b[36m(DefaultActor pid=13406)\u001b[0m Test :10000\n",
            "\u001b[2m\u001b[36m(DefaultActor pid=13407)\u001b[0m 157/157 - 25s - loss: 1.3618 - accuracy: 0.5208 - val_loss: 1.4696 - val_accuracy: 0.4825 - 25s/epoch - 162ms/step\n",
            "\u001b[2m\u001b[36m(DefaultActor pid=13407)\u001b[0m Epoch 2/10\u001b[32m [repeated 2x across cluster]\u001b[0m\n",
            "\u001b[2m\u001b[36m(DefaultActor pid=13406)\u001b[0m 157/157 - 28s - loss: 1.3653 - accuracy: 0.5150 - val_loss: 1.4134 - val_accuracy: 0.4968 - 28s/epoch - 178ms/step\n",
            "\u001b[2m\u001b[36m(DefaultActor pid=13406)\u001b[0m Epoch 2/10\n",
            "\u001b[2m\u001b[36m(DefaultActor pid=13407)\u001b[0m 157/157 - 21s - loss: 1.2103 - accuracy: 0.5650 - val_loss: 1.4448 - val_accuracy: 0.4940 - 21s/epoch - 132ms/step\n",
            "\u001b[2m\u001b[36m(DefaultActor pid=13407)\u001b[0m Epoch 3/10\n",
            "\u001b[2m\u001b[36m(DefaultActor pid=13406)\u001b[0m 157/157 - 21s - loss: 1.1935 - accuracy: 0.5720 - val_loss: 1.4588 - val_accuracy: 0.4860 - 21s/epoch - 136ms/step\n",
            "\u001b[2m\u001b[36m(DefaultActor pid=13406)\u001b[0m Epoch 3/10\n",
            "\u001b[2m\u001b[36m(DefaultActor pid=13407)\u001b[0m 157/157 - 22s - loss: 1.1116 - accuracy: 0.6016 - val_loss: 1.4773 - val_accuracy: 0.4843 - 22s/epoch - 139ms/step\n",
            "\u001b[2m\u001b[36m(DefaultActor pid=13407)\u001b[0m Epoch 4/10\n",
            "\u001b[2m\u001b[36m(DefaultActor pid=13406)\u001b[0m 157/157 - 21s - loss: 1.1287 - accuracy: 0.5982 - val_loss: 1.4936 - val_accuracy: 0.4798 - 21s/epoch - 131ms/step\n",
            "\u001b[2m\u001b[36m(DefaultActor pid=13406)\u001b[0m Epoch 4/10\n",
            "\u001b[2m\u001b[36m(DefaultActor pid=13407)\u001b[0m 157/157 - 20s - loss: 1.0285 - accuracy: 0.6336 - val_loss: 1.4830 - val_accuracy: 0.4966 - 20s/epoch - 127ms/step\n",
            "\u001b[2m\u001b[36m(DefaultActor pid=13407)\u001b[0m Epoch 5/10\n",
            "\u001b[2m\u001b[36m(DefaultActor pid=13406)\u001b[0m 157/157 - 22s - loss: 1.0396 - accuracy: 0.6340 - val_loss: 1.4637 - val_accuracy: 0.4909 - 22s/epoch - 137ms/step\n",
            "\u001b[2m\u001b[36m(DefaultActor pid=13406)\u001b[0m Epoch 5/10\n",
            "\u001b[2m\u001b[36m(DefaultActor pid=13407)\u001b[0m 157/157 - 22s - loss: 0.9486 - accuracy: 0.6646 - val_loss: 1.4722 - val_accuracy: 0.4946 - 22s/epoch - 140ms/step\n",
            "\u001b[2m\u001b[36m(DefaultActor pid=13407)\u001b[0m Epoch 6/10\n",
            "\u001b[2m\u001b[36m(DefaultActor pid=13406)\u001b[0m 157/157 - 21s - loss: 0.9545 - accuracy: 0.6588 - val_loss: 1.5068 - val_accuracy: 0.4872 - 21s/epoch - 135ms/step\n",
            "\u001b[2m\u001b[36m(DefaultActor pid=13406)\u001b[0m Epoch 6/10\n",
            "\u001b[2m\u001b[36m(DefaultActor pid=13407)\u001b[0m 157/157 - 21s - loss: 0.8954 - accuracy: 0.6822 - val_loss: 1.5215 - val_accuracy: 0.4934 - 21s/epoch - 135ms/step\n",
            "\u001b[2m\u001b[36m(DefaultActor pid=13407)\u001b[0m Epoch 7/10\n",
            "\u001b[2m\u001b[36m(DefaultActor pid=13406)\u001b[0m 157/157 - 22s - loss: 0.9044 - accuracy: 0.6784 - val_loss: 1.5603 - val_accuracy: 0.4818 - 22s/epoch - 137ms/step\n",
            "\u001b[2m\u001b[36m(DefaultActor pid=13406)\u001b[0m Epoch 7/10\n",
            "\u001b[2m\u001b[36m(DefaultActor pid=13407)\u001b[0m 157/157 - 21s - loss: 0.8297 - accuracy: 0.7114 - val_loss: 1.5712 - val_accuracy: 0.4790 - 21s/epoch - 136ms/step\n",
            "\u001b[2m\u001b[36m(DefaultActor pid=13407)\u001b[0m Epoch 8/10\n",
            "\u001b[2m\u001b[36m(DefaultActor pid=13406)\u001b[0m 157/157 - 20s - loss: 0.8613 - accuracy: 0.6956 - val_loss: 1.5778 - val_accuracy: 0.4800 - 20s/epoch - 130ms/step\n",
            "\u001b[2m\u001b[36m(DefaultActor pid=13406)\u001b[0m Epoch 8/10\n",
            "\u001b[2m\u001b[36m(DefaultActor pid=13407)\u001b[0m 157/157 - 20s - loss: 0.7618 - accuracy: 0.7358 - val_loss: 1.6078 - val_accuracy: 0.4803 - 20s/epoch - 124ms/step\n",
            "\u001b[2m\u001b[36m(DefaultActor pid=13407)\u001b[0m Epoch 9/10\n",
            "\u001b[2m\u001b[36m(DefaultActor pid=13406)\u001b[0m 157/157 - 22s - loss: 0.8000 - accuracy: 0.7190 - val_loss: 1.5917 - val_accuracy: 0.4740 - 22s/epoch - 140ms/step\n",
            "\u001b[2m\u001b[36m(DefaultActor pid=13406)\u001b[0m Epoch 9/10\n",
            "\u001b[2m\u001b[36m(DefaultActor pid=13407)\u001b[0m 157/157 - 22s - loss: 0.6885 - accuracy: 0.7656 - val_loss: 1.6332 - val_accuracy: 0.4834 - 22s/epoch - 143ms/step\n",
            "\u001b[2m\u001b[36m(DefaultActor pid=13407)\u001b[0m Epoch 10/10\n",
            "\u001b[2m\u001b[36m(DefaultActor pid=13406)\u001b[0m 157/157 - 20s - loss: 0.7468 - accuracy: 0.7352 - val_loss: 1.6294 - val_accuracy: 0.4746 - 20s/epoch - 124ms/step\n",
            "\u001b[2m\u001b[36m(DefaultActor pid=13406)\u001b[0m Epoch 10/10\n",
            "\u001b[2m\u001b[36m(DefaultActor pid=13407)\u001b[0m 157/157 - 19s - loss: 0.6601 - accuracy: 0.7768 - val_loss: 1.6955 - val_accuracy: 0.4742 - 19s/epoch - 121ms/step\n",
            "\u001b[2m\u001b[36m(DefaultActor pid=13407)\u001b[0m Client Train and validate Done!!!\n",
            "\u001b[2m\u001b[36m(DefaultActor pid=13407)\u001b[0m round :5\n",
            "\u001b[2m\u001b[36m(DefaultActor pid=13407)\u001b[0m Train :5000\n",
            "\u001b[2m\u001b[36m(DefaultActor pid=13407)\u001b[0m Test :10000\n"
          ]
        },
        {
          "output_type": "stream",
          "name": "stderr",
          "text": [
            "\u001b[2m\u001b[36m(DefaultActor pid=13407)\u001b[0m WARNING:absl:Skipping variable loading for optimizer 'Adam', because it has 11 variables whereas the saved optimizer has 1 variables. \u001b[32m [repeated 2x across cluster]\u001b[0m\n"
          ]
        },
        {
          "output_type": "stream",
          "name": "stdout",
          "text": [
            "\u001b[2m\u001b[36m(DefaultActor pid=13407)\u001b[0m Epoch 1/10\n",
            "\u001b[2m\u001b[36m(DefaultActor pid=13406)\u001b[0m 157/157 - 22s - loss: 0.6860 - accuracy: 0.7652 - val_loss: 1.6931 - val_accuracy: 0.4701 - 22s/epoch - 139ms/step\n",
            "\u001b[2m\u001b[36m(DefaultActor pid=13406)\u001b[0m Client Train and validate Done!!!\n"
          ]
        },
        {
          "output_type": "stream",
          "name": "stderr",
          "text": [
            "\u001b[2m\u001b[36m(DefaultActor pid=13406)\u001b[0m WARNING:absl:Skipping variable loading for optimizer 'Adam', because it has 11 variables whereas the saved optimizer has 1 variables. \n"
          ]
        },
        {
          "output_type": "stream",
          "name": "stdout",
          "text": [
            "\u001b[2m\u001b[36m(DefaultActor pid=13406)\u001b[0m round :5\n",
            "\u001b[2m\u001b[36m(DefaultActor pid=13406)\u001b[0m Train :5000\n",
            "\u001b[2m\u001b[36m(DefaultActor pid=13406)\u001b[0m Test :10000\n",
            "\u001b[2m\u001b[36m(DefaultActor pid=13406)\u001b[0m Epoch 1/10\n",
            "\u001b[2m\u001b[36m(DefaultActor pid=13407)\u001b[0m 157/157 - 27s - loss: 1.3724 - accuracy: 0.5132 - val_loss: 1.4055 - val_accuracy: 0.4976 - 27s/epoch - 170ms/step\n",
            "\u001b[2m\u001b[36m(DefaultActor pid=13407)\u001b[0m Epoch 2/10\n",
            "\u001b[2m\u001b[36m(DefaultActor pid=13406)\u001b[0m Epoch 2/10\n",
            "\u001b[2m\u001b[36m(DefaultActor pid=13406)\u001b[0m 157/157 - 27s - loss: 1.3535 - accuracy: 0.5228 - val_loss: 1.4214 - val_accuracy: 0.4968 - 27s/epoch - 169ms/step\n",
            "\u001b[2m\u001b[36m(DefaultActor pid=13407)\u001b[0m 157/157 - 20s - loss: 1.1918 - accuracy: 0.5648 - val_loss: 1.4589 - val_accuracy: 0.4855 - 20s/epoch - 130ms/step\n",
            "\u001b[2m\u001b[36m(DefaultActor pid=13407)\u001b[0m Epoch 3/10\n",
            "\u001b[2m\u001b[36m(DefaultActor pid=13406)\u001b[0m Epoch 3/10\n",
            "\u001b[2m\u001b[36m(DefaultActor pid=13406)\u001b[0m 157/157 - 20s - loss: 1.1948 - accuracy: 0.5716 - val_loss: 1.4609 - val_accuracy: 0.4906 - 20s/epoch - 124ms/step\n",
            "\u001b[2m\u001b[36m(DefaultActor pid=13407)\u001b[0m 157/157 - 20s - loss: 1.1136 - accuracy: 0.6084 - val_loss: 1.4759 - val_accuracy: 0.4848 - 20s/epoch - 131ms/step\n",
            "\u001b[2m\u001b[36m(DefaultActor pid=13407)\u001b[0m Epoch 4/10\n",
            "\u001b[2m\u001b[36m(DefaultActor pid=13406)\u001b[0m Epoch 4/10\n",
            "\u001b[2m\u001b[36m(DefaultActor pid=13406)\u001b[0m 157/157 - 21s - loss: 1.1077 - accuracy: 0.6080 - val_loss: 1.4177 - val_accuracy: 0.4991 - 21s/epoch - 134ms/step\n",
            "\u001b[2m\u001b[36m(DefaultActor pid=13407)\u001b[0m 157/157 - 19s - loss: 1.0356 - accuracy: 0.6308 - val_loss: 1.4848 - val_accuracy: 0.4834 - 19s/epoch - 123ms/step\n",
            "\u001b[2m\u001b[36m(DefaultActor pid=13407)\u001b[0m Epoch 5/10\n",
            "\u001b[2m\u001b[36m(DefaultActor pid=13406)\u001b[0m Epoch 5/10\n",
            "\u001b[2m\u001b[36m(DefaultActor pid=13406)\u001b[0m 157/157 - 21s - loss: 1.0268 - accuracy: 0.6342 - val_loss: 1.4809 - val_accuracy: 0.4830 - 21s/epoch - 131ms/step\n",
            "\u001b[2m\u001b[36m(DefaultActor pid=13407)\u001b[0m 157/157 - 21s - loss: 0.9632 - accuracy: 0.6582 - val_loss: 1.5449 - val_accuracy: 0.4761 - 21s/epoch - 134ms/step\n",
            "\u001b[2m\u001b[36m(DefaultActor pid=13407)\u001b[0m Epoch 6/10\n",
            "\u001b[2m\u001b[36m(DefaultActor pid=13406)\u001b[0m Epoch 6/10\n",
            "\u001b[2m\u001b[36m(DefaultActor pid=13406)\u001b[0m 157/157 - 20s - loss: 0.9491 - accuracy: 0.6706 - val_loss: 1.5182 - val_accuracy: 0.4829 - 20s/epoch - 127ms/step\n",
            "\u001b[2m\u001b[36m(DefaultActor pid=13407)\u001b[0m 157/157 - 20s - loss: 0.8905 - accuracy: 0.6786 - val_loss: 1.5510 - val_accuracy: 0.4785 - 20s/epoch - 128ms/step\n",
            "\u001b[2m\u001b[36m(DefaultActor pid=13407)\u001b[0m Epoch 7/10\n",
            "\u001b[2m\u001b[36m(DefaultActor pid=13406)\u001b[0m 157/157 - 20s - loss: 0.9110 - accuracy: 0.6734 - val_loss: 1.5218 - val_accuracy: 0.4949 - 20s/epoch - 130ms/step\n",
            "\u001b[2m\u001b[36m(DefaultActor pid=13406)\u001b[0m Epoch 7/10\n",
            "\u001b[2m\u001b[36m(DefaultActor pid=13407)\u001b[0m 157/157 - 21s - loss: 0.8209 - accuracy: 0.7144 - val_loss: 1.5688 - val_accuracy: 0.4895 - 21s/epoch - 134ms/step\n",
            "\u001b[2m\u001b[36m(DefaultActor pid=13407)\u001b[0m Epoch 8/10\n",
            "\u001b[2m\u001b[36m(DefaultActor pid=13406)\u001b[0m 157/157 - 20s - loss: 0.8260 - accuracy: 0.7148 - val_loss: 1.5751 - val_accuracy: 0.4824 - 20s/epoch - 127ms/step\n",
            "\u001b[2m\u001b[36m(DefaultActor pid=13406)\u001b[0m Epoch 8/10\n",
            "\u001b[2m\u001b[36m(DefaultActor pid=13407)\u001b[0m 157/157 - 19s - loss: 0.7679 - accuracy: 0.7322 - val_loss: 1.6163 - val_accuracy: 0.4847 - 19s/epoch - 124ms/step\n",
            "\u001b[2m\u001b[36m(DefaultActor pid=13407)\u001b[0m Epoch 9/10\n",
            "\u001b[2m\u001b[36m(DefaultActor pid=13406)\u001b[0m 157/157 - 21s - loss: 0.7657 - accuracy: 0.7348 - val_loss: 1.5811 - val_accuracy: 0.4845 - 21s/epoch - 134ms/step\n",
            "\u001b[2m\u001b[36m(DefaultActor pid=13406)\u001b[0m Epoch 9/10\n",
            "\u001b[2m\u001b[36m(DefaultActor pid=13407)\u001b[0m 157/157 - 21s - loss: 0.6985 - accuracy: 0.7594 - val_loss: 1.6568 - val_accuracy: 0.4806 - 21s/epoch - 136ms/step\n",
            "\u001b[2m\u001b[36m(DefaultActor pid=13407)\u001b[0m Epoch 10/10\n",
            "\u001b[2m\u001b[36m(DefaultActor pid=13406)\u001b[0m 157/157 - 19s - loss: 0.7268 - accuracy: 0.7456 - val_loss: 1.6444 - val_accuracy: 0.4771 - 19s/epoch - 124ms/step\n",
            "\u001b[2m\u001b[36m(DefaultActor pid=13406)\u001b[0m Epoch 10/10\n",
            "\u001b[2m\u001b[36m(DefaultActor pid=13407)\u001b[0m 157/157 - 20s - loss: 0.6612 - accuracy: 0.7740 - val_loss: 1.6824 - val_accuracy: 0.4729 - 20s/epoch - 125ms/step\n",
            "\u001b[2m\u001b[36m(DefaultActor pid=13407)\u001b[0m Client Train and validate Done!!!\n",
            "\u001b[2m\u001b[36m(DefaultActor pid=13407)\u001b[0m round :5\n",
            "\u001b[2m\u001b[36m(DefaultActor pid=13407)\u001b[0m Train :5000\n",
            "\u001b[2m\u001b[36m(DefaultActor pid=13407)\u001b[0m Test :10000\n"
          ]
        },
        {
          "output_type": "stream",
          "name": "stderr",
          "text": [
            "\u001b[2m\u001b[36m(DefaultActor pid=13407)\u001b[0m WARNING:absl:Skipping variable loading for optimizer 'Adam', because it has 11 variables whereas the saved optimizer has 1 variables. \n"
          ]
        },
        {
          "output_type": "stream",
          "name": "stdout",
          "text": [
            "\u001b[2m\u001b[36m(DefaultActor pid=13407)\u001b[0m Epoch 1/10\n",
            "\u001b[2m\u001b[36m(DefaultActor pid=13406)\u001b[0m 157/157 - 22s - loss: 0.6419 - accuracy: 0.7830 - val_loss: 1.6982 - val_accuracy: 0.4780 - 22s/epoch - 138ms/step\n",
            "\u001b[2m\u001b[36m(DefaultActor pid=13406)\u001b[0m Client Train and validate Done!!!\n",
            "\u001b[2m\u001b[36m(DefaultActor pid=13406)\u001b[0m round :5\n",
            "\u001b[2m\u001b[36m(DefaultActor pid=13406)\u001b[0m Train :5000\n",
            "\u001b[2m\u001b[36m(DefaultActor pid=13406)\u001b[0m Test :10000\n"
          ]
        },
        {
          "output_type": "stream",
          "name": "stderr",
          "text": [
            "\u001b[2m\u001b[36m(DefaultActor pid=13406)\u001b[0m WARNING:absl:Skipping variable loading for optimizer 'Adam', because it has 11 variables whereas the saved optimizer has 1 variables. \n"
          ]
        },
        {
          "output_type": "stream",
          "name": "stdout",
          "text": [
            "\u001b[2m\u001b[36m(DefaultActor pid=13406)\u001b[0m Epoch 1/10\n",
            "\u001b[2m\u001b[36m(DefaultActor pid=13407)\u001b[0m 157/157 - 27s - loss: 1.3619 - accuracy: 0.5162 - val_loss: 1.4183 - val_accuracy: 0.4936 - 27s/epoch - 169ms/step\n",
            "\u001b[2m\u001b[36m(DefaultActor pid=13407)\u001b[0m Epoch 2/10\n",
            "\u001b[2m\u001b[36m(DefaultActor pid=13406)\u001b[0m Epoch 2/10\n",
            "\u001b[2m\u001b[36m(DefaultActor pid=13406)\u001b[0m 157/157 - 26s - loss: 1.3346 - accuracy: 0.5296 - val_loss: 1.4468 - val_accuracy: 0.4906 - 26s/epoch - 168ms/step\n",
            "\u001b[2m\u001b[36m(DefaultActor pid=13407)\u001b[0m 157/157 - 20s - loss: 1.2062 - accuracy: 0.5642 - val_loss: 1.4302 - val_accuracy: 0.4941 - 20s/epoch - 130ms/step\n",
            "\u001b[2m\u001b[36m(DefaultActor pid=13407)\u001b[0m Epoch 3/10\n",
            "\u001b[2m\u001b[36m(DefaultActor pid=13406)\u001b[0m Epoch 3/10\n",
            "\u001b[2m\u001b[36m(DefaultActor pid=13406)\u001b[0m 157/157 - 19s - loss: 1.1728 - accuracy: 0.5758 - val_loss: 1.4376 - val_accuracy: 0.4915 - 19s/epoch - 123ms/step\n",
            "\u001b[2m\u001b[36m(DefaultActor pid=13407)\u001b[0m 157/157 - 20s - loss: 1.1092 - accuracy: 0.6020 - val_loss: 1.4460 - val_accuracy: 0.4978 - 20s/epoch - 128ms/step\n",
            "\u001b[2m\u001b[36m(DefaultActor pid=13407)\u001b[0m Epoch 4/10\n",
            "\u001b[2m\u001b[36m(DefaultActor pid=13406)\u001b[0m Epoch 4/10\n",
            "\u001b[2m\u001b[36m(DefaultActor pid=13406)\u001b[0m 157/157 - 21s - loss: 1.1013 - accuracy: 0.6022 - val_loss: 1.4532 - val_accuracy: 0.4883 - 21s/epoch - 135ms/step\n",
            "\u001b[2m\u001b[36m(DefaultActor pid=13407)\u001b[0m 157/157 - 20s - loss: 1.0142 - accuracy: 0.6428 - val_loss: 1.4864 - val_accuracy: 0.4838 - 20s/epoch - 126ms/step\n",
            "\u001b[2m\u001b[36m(DefaultActor pid=13407)\u001b[0m Epoch 5/10\n",
            "\u001b[2m\u001b[36m(DefaultActor pid=13406)\u001b[0m Epoch 5/10\n",
            "\u001b[2m\u001b[36m(DefaultActor pid=13406)\u001b[0m 157/157 - 20s - loss: 1.0097 - accuracy: 0.6380 - val_loss: 1.5087 - val_accuracy: 0.4847 - 20s/epoch - 129ms/step\n",
            "\u001b[2m\u001b[36m(DefaultActor pid=13407)\u001b[0m 157/157 - 20s - loss: 0.9529 - accuracy: 0.6636 - val_loss: 1.5341 - val_accuracy: 0.4818 - 20s/epoch - 129ms/step\n",
            "\u001b[2m\u001b[36m(DefaultActor pid=13407)\u001b[0m Epoch 6/10\n",
            "\u001b[2m\u001b[36m(DefaultActor pid=13406)\u001b[0m Epoch 6/10\n",
            "\u001b[2m\u001b[36m(DefaultActor pid=13406)\u001b[0m 157/157 - 21s - loss: 0.9313 - accuracy: 0.6698 - val_loss: 1.5129 - val_accuracy: 0.4887 - 21s/epoch - 133ms/step\n",
            "\u001b[2m\u001b[36m(DefaultActor pid=13407)\u001b[0m 157/157 - 21s - loss: 0.8847 - accuracy: 0.6840 - val_loss: 1.5373 - val_accuracy: 0.4873 - 21s/epoch - 132ms/step\n",
            "\u001b[2m\u001b[36m(DefaultActor pid=13407)\u001b[0m Epoch 7/10\n",
            "\u001b[2m\u001b[36m(DefaultActor pid=13406)\u001b[0m Epoch 7/10\n",
            "\u001b[2m\u001b[36m(DefaultActor pid=13406)\u001b[0m 157/157 - 19s - loss: 0.8688 - accuracy: 0.6956 - val_loss: 1.5456 - val_accuracy: 0.4812 - 19s/epoch - 124ms/step\n",
            "\u001b[2m\u001b[36m(DefaultActor pid=13407)\u001b[0m 157/157 - 21s - loss: 0.8116 - accuracy: 0.7154 - val_loss: 1.5829 - val_accuracy: 0.4811 - 21s/epoch - 132ms/step\n",
            "\u001b[2m\u001b[36m(DefaultActor pid=13407)\u001b[0m Epoch 8/10\n",
            "\u001b[2m\u001b[36m(DefaultActor pid=13406)\u001b[0m Epoch 8/10\n",
            "\u001b[2m\u001b[36m(DefaultActor pid=13406)\u001b[0m 157/157 - 22s - loss: 0.8104 - accuracy: 0.7084 - val_loss: 1.6081 - val_accuracy: 0.4795 - 22s/epoch - 142ms/step\n",
            "\u001b[2m\u001b[36m(DefaultActor pid=13407)\u001b[0m 157/157 - 19s - loss: 0.7693 - accuracy: 0.7298 - val_loss: 1.6236 - val_accuracy: 0.4740 - 19s/epoch - 123ms/step\n",
            "\u001b[2m\u001b[36m(DefaultActor pid=13407)\u001b[0m Epoch 9/10\n",
            "\u001b[2m\u001b[36m(DefaultActor pid=13406)\u001b[0m Epoch 9/10\n",
            "\u001b[2m\u001b[36m(DefaultActor pid=13406)\u001b[0m 157/157 - 20s - loss: 0.7442 - accuracy: 0.7436 - val_loss: 1.6390 - val_accuracy: 0.4792 - 20s/epoch - 124ms/step\n",
            "\u001b[2m\u001b[36m(DefaultActor pid=13407)\u001b[0m 157/157 - 22s - loss: 0.7361 - accuracy: 0.7512 - val_loss: 1.6565 - val_accuracy: 0.4753 - 22s/epoch - 141ms/step\n",
            "\u001b[2m\u001b[36m(DefaultActor pid=13407)\u001b[0m Epoch 10/10\n",
            "\u001b[2m\u001b[36m(DefaultActor pid=13406)\u001b[0m Epoch 10/10\n",
            "\u001b[2m\u001b[36m(DefaultActor pid=13406)\u001b[0m 157/157 - 20s - loss: 0.7128 - accuracy: 0.7496 - val_loss: 1.6996 - val_accuracy: 0.4628 - 20s/epoch - 128ms/step\n",
            "\u001b[2m\u001b[36m(DefaultActor pid=13407)\u001b[0m 157/157 - 20s - loss: 0.6623 - accuracy: 0.7746 - val_loss: 1.7115 - val_accuracy: 0.4776 - 20s/epoch - 125ms/step\n",
            "\u001b[2m\u001b[36m(DefaultActor pid=13407)\u001b[0m Client Train and validate Done!!!\n"
          ]
        },
        {
          "output_type": "stream",
          "name": "stderr",
          "text": [
            "\u001b[2m\u001b[36m(DefaultActor pid=13407)\u001b[0m WARNING:absl:Skipping variable loading for optimizer 'Adam', because it has 11 variables whereas the saved optimizer has 1 variables. \n"
          ]
        },
        {
          "output_type": "stream",
          "name": "stdout",
          "text": [
            "\u001b[2m\u001b[36m(DefaultActor pid=13407)\u001b[0m round :5\n",
            "\u001b[2m\u001b[36m(DefaultActor pid=13407)\u001b[0m Train :5000\n",
            "\u001b[2m\u001b[36m(DefaultActor pid=13407)\u001b[0m Test :10000\n",
            "\u001b[2m\u001b[36m(DefaultActor pid=13407)\u001b[0m Epoch 1/10\n",
            "\u001b[2m\u001b[36m(DefaultActor pid=13406)\u001b[0m 157/157 - 23s - loss: 0.6281 - accuracy: 0.7852 - val_loss: 1.7160 - val_accuracy: 0.4690 - 23s/epoch - 145ms/step\n",
            "\u001b[2m\u001b[36m(DefaultActor pid=13406)\u001b[0m Client Train and validate Done!!!\n",
            "\u001b[2m\u001b[36m(DefaultActor pid=13406)\u001b[0m round :5\n",
            "\u001b[2m\u001b[36m(DefaultActor pid=13406)\u001b[0m Train :5000\n",
            "\u001b[2m\u001b[36m(DefaultActor pid=13406)\u001b[0m Test :10000\n"
          ]
        },
        {
          "output_type": "stream",
          "name": "stderr",
          "text": [
            "\u001b[2m\u001b[36m(DefaultActor pid=13406)\u001b[0m WARNING:absl:Skipping variable loading for optimizer 'Adam', because it has 11 variables whereas the saved optimizer has 1 variables. \n"
          ]
        },
        {
          "output_type": "stream",
          "name": "stdout",
          "text": [
            "\u001b[2m\u001b[36m(DefaultActor pid=13406)\u001b[0m Epoch 1/10\n",
            "\u001b[2m\u001b[36m(DefaultActor pid=13407)\u001b[0m 157/157 - 34s - loss: 1.3451 - accuracy: 0.5186 - val_loss: 1.4373 - val_accuracy: 0.4929 - 34s/epoch - 219ms/step\n",
            "\u001b[2m\u001b[36m(DefaultActor pid=13407)\u001b[0m Epoch 2/10\n",
            "\u001b[2m\u001b[36m(DefaultActor pid=13406)\u001b[0m Epoch 2/10\n",
            "\u001b[2m\u001b[36m(DefaultActor pid=13406)\u001b[0m 157/157 - 35s - loss: 1.3251 - accuracy: 0.5262 - val_loss: 1.4352 - val_accuracy: 0.4944 - 35s/epoch - 222ms/step\n",
            "\u001b[2m\u001b[36m(DefaultActor pid=13407)\u001b[0m 157/157 - 22s - loss: 1.1789 - accuracy: 0.5742 - val_loss: 1.4694 - val_accuracy: 0.4866 - 22s/epoch - 137ms/step\n",
            "\u001b[2m\u001b[36m(DefaultActor pid=13407)\u001b[0m Epoch 3/10\n",
            "\u001b[2m\u001b[36m(DefaultActor pid=13406)\u001b[0m 157/157 - 23s - loss: 1.1573 - accuracy: 0.5834 - val_loss: 1.4322 - val_accuracy: 0.4953 - 23s/epoch - 144ms/step\n",
            "\u001b[2m\u001b[36m(DefaultActor pid=13406)\u001b[0m Epoch 3/10\n",
            "\u001b[2m\u001b[36m(DefaultActor pid=13407)\u001b[0m 157/157 - 23s - loss: 1.0907 - accuracy: 0.6102 - val_loss: 1.5044 - val_accuracy: 0.4792 - 23s/epoch - 149ms/step\n",
            "\u001b[2m\u001b[36m(DefaultActor pid=13407)\u001b[0m Epoch 4/10\n",
            "\u001b[2m\u001b[36m(DefaultActor pid=13406)\u001b[0m 157/157 - 25s - loss: 1.0661 - accuracy: 0.6286 - val_loss: 1.4558 - val_accuracy: 0.4944 - 25s/epoch - 157ms/step\n",
            "\u001b[2m\u001b[36m(DefaultActor pid=13406)\u001b[0m Epoch 4/10\n",
            "\u001b[2m\u001b[36m(DefaultActor pid=13407)\u001b[0m 157/157 - 25s - loss: 1.0267 - accuracy: 0.6368 - val_loss: 1.5058 - val_accuracy: 0.4887 - 25s/epoch - 158ms/step\n",
            "\u001b[2m\u001b[36m(DefaultActor pid=13407)\u001b[0m Epoch 5/10\n",
            "\u001b[2m\u001b[36m(DefaultActor pid=13406)\u001b[0m 157/157 - 23s - loss: 0.9699 - accuracy: 0.6550 - val_loss: 1.4898 - val_accuracy: 0.4932 - 23s/epoch - 149ms/step\n",
            "\u001b[2m\u001b[36m(DefaultActor pid=13406)\u001b[0m Epoch 5/10\n",
            "\u001b[2m\u001b[36m(DefaultActor pid=13407)\u001b[0m 157/157 - 22s - loss: 0.9605 - accuracy: 0.6610 - val_loss: 1.5213 - val_accuracy: 0.4825 - 22s/epoch - 143ms/step\n",
            "\u001b[2m\u001b[36m(DefaultActor pid=13407)\u001b[0m Epoch 6/10\n",
            "\u001b[2m\u001b[36m(DefaultActor pid=13406)\u001b[0m 157/157 - 22s - loss: 0.9163 - accuracy: 0.6700 - val_loss: 1.5129 - val_accuracy: 0.4898 - 22s/epoch - 138ms/step\n",
            "\u001b[2m\u001b[36m(DefaultActor pid=13406)\u001b[0m Epoch 6/10\n",
            "\u001b[2m\u001b[36m(DefaultActor pid=13407)\u001b[0m 157/157 - 23s - loss: 0.8903 - accuracy: 0.6928 - val_loss: 1.5542 - val_accuracy: 0.4812 - 23s/epoch - 147ms/step\n",
            "\u001b[2m\u001b[36m(DefaultActor pid=13407)\u001b[0m Epoch 7/10\n",
            "\u001b[2m\u001b[36m(DefaultActor pid=13406)\u001b[0m 157/157 - 25s - loss: 0.8571 - accuracy: 0.7042 - val_loss: 1.5728 - val_accuracy: 0.4839 - 25s/epoch - 157ms/step\n",
            "\u001b[2m\u001b[36m(DefaultActor pid=13406)\u001b[0m Epoch 7/10\n",
            "\u001b[2m\u001b[36m(DefaultActor pid=13407)\u001b[0m 157/157 - 24s - loss: 0.8480 - accuracy: 0.7086 - val_loss: 1.5939 - val_accuracy: 0.4794 - 24s/epoch - 156ms/step\n",
            "\u001b[2m\u001b[36m(DefaultActor pid=13407)\u001b[0m Epoch 8/10\n",
            "\u001b[2m\u001b[36m(DefaultActor pid=13406)\u001b[0m 157/157 - 24s - loss: 0.7821 - accuracy: 0.7288 - val_loss: 1.6263 - val_accuracy: 0.4737 - 24s/epoch - 152ms/step\n",
            "\u001b[2m\u001b[36m(DefaultActor pid=13406)\u001b[0m Epoch 8/10\n",
            "\u001b[2m\u001b[36m(DefaultActor pid=13407)\u001b[0m 157/157 - 21s - loss: 0.7814 - accuracy: 0.7280 - val_loss: 1.6114 - val_accuracy: 0.4697 - 21s/epoch - 134ms/step\n",
            "\u001b[2m\u001b[36m(DefaultActor pid=13407)\u001b[0m Epoch 9/10\n",
            "\u001b[2m\u001b[36m(DefaultActor pid=13406)\u001b[0m Epoch 9/10\n",
            "\u001b[2m\u001b[36m(DefaultActor pid=13406)\u001b[0m 157/157 - 22s - loss: 0.7279 - accuracy: 0.7502 - val_loss: 1.6062 - val_accuracy: 0.4835 - 22s/epoch - 141ms/step\n",
            "\u001b[2m\u001b[36m(DefaultActor pid=13407)\u001b[0m 157/157 - 25s - loss: 0.7284 - accuracy: 0.7438 - val_loss: 1.7134 - val_accuracy: 0.4713 - 25s/epoch - 157ms/step\n",
            "\u001b[2m\u001b[36m(DefaultActor pid=13407)\u001b[0m Epoch 10/10\n",
            "\u001b[2m\u001b[36m(DefaultActor pid=13406)\u001b[0m Epoch 10/10\n",
            "\u001b[2m\u001b[36m(DefaultActor pid=13406)\u001b[0m 157/157 - 24s - loss: 0.6656 - accuracy: 0.7660 - val_loss: 1.6711 - val_accuracy: 0.4775 - 24s/epoch - 155ms/step\n",
            "\u001b[2m\u001b[36m(DefaultActor pid=13407)\u001b[0m 157/157 - 24s - loss: 0.6748 - accuracy: 0.7724 - val_loss: 1.6979 - val_accuracy: 0.4730 - 24s/epoch - 155ms/step\n",
            "\u001b[2m\u001b[36m(DefaultActor pid=13407)\u001b[0m Client Train and validate Done!!!\n"
          ]
        },
        {
          "output_type": "stream",
          "name": "stderr",
          "text": [
            "DEBUG flwr 2024-02-07 21:06:34,248 | server.py:236 | fit_round 5 received 10 results and 0 failures\n",
            "DEBUG:flwr:fit_round 5 received 10 results and 0 failures\n",
            "DEBUG flwr 2024-02-07 21:06:34,272 | server.py:173 | evaluate_round 5: strategy sampled 10 clients (out of 10)\n",
            "DEBUG:flwr:evaluate_round 5: strategy sampled 10 clients (out of 10)\n"
          ]
        },
        {
          "output_type": "stream",
          "name": "stdout",
          "text": [
            "\u001b[2m\u001b[36m(DefaultActor pid=13406)\u001b[0m 157/157 - 17s - loss: 0.6311 - accuracy: 0.7852 - val_loss: 1.6850 - val_accuracy: 0.4830 - 17s/epoch - 105ms/step\n",
            "\u001b[2m\u001b[36m(DefaultActor pid=13406)\u001b[0m Client Train and validate Done!!!\n"
          ]
        },
        {
          "output_type": "stream",
          "name": "stderr",
          "text": [
            "\u001b[2m\u001b[36m(DefaultActor pid=13406)\u001b[0m WARNING:absl:Skipping variable loading for optimizer 'Adam', because it has 11 variables whereas the saved optimizer has 1 variables. \n"
          ]
        },
        {
          "output_type": "stream",
          "name": "stdout",
          "text": [
            "\u001b[2m\u001b[36m(DefaultActor pid=13407)\u001b[0m 10000/10000 - 146s - loss: 1.5334 - accuracy: 0.5276 - 146s/epoch - 15ms/step\n",
            "\u001b[2m\u001b[36m(DefaultActor pid=13407)\u001b[0m Global Validate Done!!!\n"
          ]
        },
        {
          "output_type": "stream",
          "name": "stderr",
          "text": [
            "\u001b[2m\u001b[36m(DefaultActor pid=13407)\u001b[0m WARNING:absl:Skipping variable loading for optimizer 'Adam', because it has 11 variables whereas the saved optimizer has 1 variables. \u001b[32m [repeated 2x across cluster]\u001b[0m\n"
          ]
        },
        {
          "output_type": "stream",
          "name": "stdout",
          "text": [
            "\u001b[2m\u001b[36m(DefaultActor pid=13407)\u001b[0m 10000/10000 - 144s - loss: 1.5334 - accuracy: 0.5276 - 144s/epoch - 14ms/step\u001b[32m [repeated 2x across cluster]\u001b[0m\n",
            "\u001b[2m\u001b[36m(DefaultActor pid=13407)\u001b[0m Global Validate Done!!!\u001b[32m [repeated 2x across cluster]\u001b[0m\n"
          ]
        },
        {
          "output_type": "stream",
          "name": "stderr",
          "text": [
            "\u001b[2m\u001b[36m(DefaultActor pid=13407)\u001b[0m WARNING:absl:Skipping variable loading for optimizer 'Adam', because it has 11 variables whereas the saved optimizer has 1 variables. \u001b[32m [repeated 2x across cluster]\u001b[0m\n"
          ]
        },
        {
          "output_type": "stream",
          "name": "stdout",
          "text": [
            "\u001b[2m\u001b[36m(DefaultActor pid=13407)\u001b[0m 10000/10000 - 147s - loss: 1.5334 - accuracy: 0.5276 - 147s/epoch - 15ms/step\u001b[32m [repeated 2x across cluster]\u001b[0m\n",
            "\u001b[2m\u001b[36m(DefaultActor pid=13407)\u001b[0m Global Validate Done!!!\u001b[32m [repeated 2x across cluster]\u001b[0m\n"
          ]
        },
        {
          "output_type": "stream",
          "name": "stderr",
          "text": [
            "\u001b[2m\u001b[36m(DefaultActor pid=13407)\u001b[0m WARNING:absl:Skipping variable loading for optimizer 'Adam', because it has 11 variables whereas the saved optimizer has 1 variables. \u001b[32m [repeated 2x across cluster]\u001b[0m\n"
          ]
        },
        {
          "output_type": "stream",
          "name": "stdout",
          "text": [
            "\u001b[2m\u001b[36m(DefaultActor pid=13407)\u001b[0m 10000/10000 - 144s - loss: 1.5334 - accuracy: 0.5276 - 144s/epoch - 14ms/step\u001b[32m [repeated 2x across cluster]\u001b[0m\n",
            "\u001b[2m\u001b[36m(DefaultActor pid=13407)\u001b[0m Global Validate Done!!!\u001b[32m [repeated 2x across cluster]\u001b[0m\n"
          ]
        },
        {
          "output_type": "stream",
          "name": "stderr",
          "text": [
            "\u001b[2m\u001b[36m(DefaultActor pid=13407)\u001b[0m WARNING:absl:Skipping variable loading for optimizer 'Adam', because it has 11 variables whereas the saved optimizer has 1 variables. \u001b[32m [repeated 2x across cluster]\u001b[0m\n"
          ]
        },
        {
          "output_type": "stream",
          "name": "stdout",
          "text": [
            "\u001b[2m\u001b[36m(DefaultActor pid=13406)\u001b[0m 10000/10000 - 149s - loss: 1.5334 - accuracy: 0.5276 - 149s/epoch - 15ms/step\n",
            "\u001b[2m\u001b[36m(DefaultActor pid=13406)\u001b[0m Global Validate Done!!!\n"
          ]
        },
        {
          "output_type": "stream",
          "name": "stderr",
          "text": [
            "\u001b[2m\u001b[36m(DefaultActor pid=13406)\u001b[0m WARNING:absl:Skipping variable loading for optimizer 'Adam', because it has 11 variables whereas the saved optimizer has 1 variables. \n"
          ]
        },
        {
          "output_type": "stream",
          "name": "stdout",
          "text": [
            "\u001b[2m\u001b[36m(DefaultActor pid=13407)\u001b[0m 10000/10000 - 146s - loss: 1.5334 - accuracy: 0.5276 - 146s/epoch - 15ms/step\n",
            "\u001b[2m\u001b[36m(DefaultActor pid=13407)\u001b[0m Global Validate Done!!!\n"
          ]
        },
        {
          "output_type": "stream",
          "name": "stderr",
          "text": [
            "DEBUG flwr 2024-02-07 21:18:55,188 | server.py:187 | evaluate_round 5 received 10 results and 0 failures\n",
            "DEBUG:flwr:evaluate_round 5 received 10 results and 0 failures\n",
            "DEBUG flwr 2024-02-07 21:18:55,198 | server.py:222 | fit_round 6: strategy sampled 10 clients (out of 10)\n",
            "DEBUG:flwr:fit_round 6: strategy sampled 10 clients (out of 10)\n"
          ]
        },
        {
          "output_type": "stream",
          "name": "stdout",
          "text": [
            "\u001b[2m\u001b[36m(DefaultActor pid=13406)\u001b[0m round :6\n",
            "\u001b[2m\u001b[36m(DefaultActor pid=13406)\u001b[0m Train :5000\n",
            "\u001b[2m\u001b[36m(DefaultActor pid=13406)\u001b[0m Test :10000\n",
            "\u001b[2m\u001b[36m(DefaultActor pid=13406)\u001b[0m 10000/10000 - 142s - loss: 1.5334 - accuracy: 0.5276 - 142s/epoch - 14ms/step\n",
            "\u001b[2m\u001b[36m(DefaultActor pid=13406)\u001b[0m Global Validate Done!!!\n"
          ]
        },
        {
          "output_type": "stream",
          "name": "stderr",
          "text": [
            "\u001b[2m\u001b[36m(DefaultActor pid=13406)\u001b[0m WARNING:absl:Skipping variable loading for optimizer 'Adam', because it has 11 variables whereas the saved optimizer has 1 variables. \n"
          ]
        },
        {
          "output_type": "stream",
          "name": "stdout",
          "text": [
            "\u001b[2m\u001b[36m(DefaultActor pid=13406)\u001b[0m Epoch 1/10\n",
            "\u001b[2m\u001b[36m(DefaultActor pid=13407)\u001b[0m 157/157 - 27s - loss: 1.2990 - accuracy: 0.5458 - val_loss: 1.4372 - val_accuracy: 0.4973 - 27s/epoch - 175ms/step\n",
            "\u001b[2m\u001b[36m(DefaultActor pid=13407)\u001b[0m round :6\n",
            "\u001b[2m\u001b[36m(DefaultActor pid=13407)\u001b[0m Train :5000\n",
            "\u001b[2m\u001b[36m(DefaultActor pid=13407)\u001b[0m Test :10000\n",
            "\u001b[2m\u001b[36m(DefaultActor pid=13407)\u001b[0m Epoch 2/10\u001b[32m [repeated 2x across cluster]\u001b[0m\n",
            "\u001b[2m\u001b[36m(DefaultActor pid=13407)\u001b[0m 157/157 - 24s - loss: 1.0944 - accuracy: 0.6060 - val_loss: 1.4317 - val_accuracy: 0.5082 - 24s/epoch - 154ms/step\u001b[32m [repeated 2x across cluster]\u001b[0m\n",
            "\u001b[2m\u001b[36m(DefaultActor pid=13407)\u001b[0m Epoch 3/10\u001b[32m [repeated 2x across cluster]\u001b[0m\n",
            "\u001b[2m\u001b[36m(DefaultActor pid=13407)\u001b[0m 157/157 - 22s - loss: 0.9869 - accuracy: 0.6458 - val_loss: 1.4872 - val_accuracy: 0.4961 - 22s/epoch - 141ms/step\u001b[32m [repeated 2x across cluster]\u001b[0m\n",
            "\u001b[2m\u001b[36m(DefaultActor pid=13407)\u001b[0m Epoch 4/10\u001b[32m [repeated 2x across cluster]\u001b[0m\n",
            "\u001b[2m\u001b[36m(DefaultActor pid=13407)\u001b[0m 157/157 - 23s - loss: 0.9187 - accuracy: 0.6630 - val_loss: 1.5046 - val_accuracy: 0.4883 - 23s/epoch - 149ms/step\u001b[32m [repeated 2x across cluster]\u001b[0m\n",
            "\u001b[2m\u001b[36m(DefaultActor pid=13407)\u001b[0m Epoch 5/10\u001b[32m [repeated 2x across cluster]\u001b[0m\n",
            "\u001b[2m\u001b[36m(DefaultActor pid=13407)\u001b[0m 157/157 - 24s - loss: 0.8315 - accuracy: 0.6932 - val_loss: 1.5202 - val_accuracy: 0.4981 - 24s/epoch - 155ms/step\u001b[32m [repeated 2x across cluster]\u001b[0m\n",
            "\u001b[2m\u001b[36m(DefaultActor pid=13407)\u001b[0m Epoch 6/10\u001b[32m [repeated 2x across cluster]\u001b[0m\n",
            "\u001b[2m\u001b[36m(DefaultActor pid=13407)\u001b[0m 157/157 - 22s - loss: 0.7799 - accuracy: 0.7274 - val_loss: 1.5574 - val_accuracy: 0.4912 - 22s/epoch - 137ms/step\u001b[32m [repeated 2x across cluster]\u001b[0m\n",
            "\u001b[2m\u001b[36m(DefaultActor pid=13407)\u001b[0m Epoch 7/10\u001b[32m [repeated 2x across cluster]\u001b[0m\n",
            "\u001b[2m\u001b[36m(DefaultActor pid=13407)\u001b[0m 157/157 - 23s - loss: 0.7178 - accuracy: 0.7548 - val_loss: 1.6368 - val_accuracy: 0.4727 - 23s/epoch - 149ms/step\u001b[32m [repeated 2x across cluster]\u001b[0m\n",
            "\u001b[2m\u001b[36m(DefaultActor pid=13407)\u001b[0m Epoch 8/10\u001b[32m [repeated 2x across cluster]\u001b[0m\n",
            "\u001b[2m\u001b[36m(DefaultActor pid=13407)\u001b[0m 157/157 - 25s - loss: 0.6588 - accuracy: 0.7776 - val_loss: 1.6329 - val_accuracy: 0.4861 - 25s/epoch - 157ms/step\u001b[32m [repeated 2x across cluster]\u001b[0m\n",
            "\u001b[2m\u001b[36m(DefaultActor pid=13407)\u001b[0m Epoch 9/10\u001b[32m [repeated 2x across cluster]\u001b[0m\n",
            "\u001b[2m\u001b[36m(DefaultActor pid=13407)\u001b[0m 157/157 - 22s - loss: 0.6150 - accuracy: 0.7878 - val_loss: 1.6942 - val_accuracy: 0.4803 - 22s/epoch - 142ms/step\u001b[32m [repeated 2x across cluster]\u001b[0m\n",
            "\u001b[2m\u001b[36m(DefaultActor pid=13407)\u001b[0m Epoch 10/10\u001b[32m [repeated 2x across cluster]\u001b[0m\n",
            "\u001b[2m\u001b[36m(DefaultActor pid=13407)\u001b[0m Client Train and validate Done!!!\n",
            "\u001b[2m\u001b[36m(DefaultActor pid=13407)\u001b[0m 157/157 - 23s - loss: 0.5642 - accuracy: 0.8106 - val_loss: 1.7065 - val_accuracy: 0.4862 - 23s/epoch - 144ms/step\u001b[32m [repeated 2x across cluster]\u001b[0m\n",
            "\u001b[2m\u001b[36m(DefaultActor pid=13406)\u001b[0m Epoch 10/10\n"
          ]
        },
        {
          "output_type": "stream",
          "name": "stderr",
          "text": [
            "\u001b[2m\u001b[36m(DefaultActor pid=13407)\u001b[0m WARNING:absl:Skipping variable loading for optimizer 'Adam', because it has 11 variables whereas the saved optimizer has 1 variables. \u001b[32m [repeated 2x across cluster]\u001b[0m\n"
          ]
        },
        {
          "output_type": "stream",
          "name": "stdout",
          "text": [
            "\u001b[2m\u001b[36m(DefaultActor pid=13407)\u001b[0m round :6\n",
            "\u001b[2m\u001b[36m(DefaultActor pid=13407)\u001b[0m Train :5000\n",
            "\u001b[2m\u001b[36m(DefaultActor pid=13407)\u001b[0m Test :10000\n",
            "\u001b[2m\u001b[36m(DefaultActor pid=13407)\u001b[0m Epoch 1/10\n",
            "\u001b[2m\u001b[36m(DefaultActor pid=13406)\u001b[0m Client Train and validate Done!!!\n",
            "\u001b[2m\u001b[36m(DefaultActor pid=13406)\u001b[0m 157/157 - 24s - loss: 0.5527 - accuracy: 0.8170 - val_loss: 1.7858 - val_accuracy: 0.4844 - 24s/epoch - 155ms/step\n",
            "\u001b[2m\u001b[36m(DefaultActor pid=13407)\u001b[0m 157/157 - 30s - loss: 1.3055 - accuracy: 0.5374 - val_loss: 1.4228 - val_accuracy: 0.5040 - 30s/epoch - 190ms/step\n",
            "\u001b[2m\u001b[36m(DefaultActor pid=13406)\u001b[0m round :6\n",
            "\u001b[2m\u001b[36m(DefaultActor pid=13406)\u001b[0m Train :5000\n",
            "\u001b[2m\u001b[36m(DefaultActor pid=13406)\u001b[0m Test :10000\n",
            "\u001b[2m\u001b[36m(DefaultActor pid=13407)\u001b[0m Epoch 2/10\u001b[32m [repeated 2x across cluster]\u001b[0m\n",
            "\u001b[2m\u001b[36m(DefaultActor pid=13407)\u001b[0m 157/157 - 23s - loss: 1.0997 - accuracy: 0.6056 - val_loss: 1.4657 - val_accuracy: 0.4934 - 23s/epoch - 146ms/step\u001b[32m [repeated 2x across cluster]\u001b[0m\n",
            "\u001b[2m\u001b[36m(DefaultActor pid=13406)\u001b[0m Epoch 2/10\n",
            "\u001b[2m\u001b[36m(DefaultActor pid=13407)\u001b[0m Epoch 3/10\n",
            "\u001b[2m\u001b[36m(DefaultActor pid=13407)\u001b[0m 157/157 - 22s - loss: 0.9884 - accuracy: 0.6466 - val_loss: 1.4693 - val_accuracy: 0.5002 - 22s/epoch - 141ms/step\u001b[32m [repeated 2x across cluster]\u001b[0m\n",
            "\u001b[2m\u001b[36m(DefaultActor pid=13407)\u001b[0m Epoch 4/10\u001b[32m [repeated 2x across cluster]\u001b[0m\n",
            "\u001b[2m\u001b[36m(DefaultActor pid=13407)\u001b[0m 157/157 - 23s - loss: 0.9067 - accuracy: 0.6788 - val_loss: 1.5082 - val_accuracy: 0.4929 - 23s/epoch - 149ms/step\u001b[32m [repeated 2x across cluster]\u001b[0m\n",
            "\u001b[2m\u001b[36m(DefaultActor pid=13407)\u001b[0m Epoch 5/10\u001b[32m [repeated 2x across cluster]\u001b[0m\n",
            "\u001b[2m\u001b[36m(DefaultActor pid=13407)\u001b[0m 157/157 - 24s - loss: 0.8218 - accuracy: 0.7084 - val_loss: 1.5683 - val_accuracy: 0.4851 - 24s/epoch - 156ms/step\u001b[32m [repeated 2x across cluster]\u001b[0m\n",
            "\u001b[2m\u001b[36m(DefaultActor pid=13407)\u001b[0m Epoch 6/10\u001b[32m [repeated 2x across cluster]\u001b[0m\n",
            "\u001b[2m\u001b[36m(DefaultActor pid=13407)\u001b[0m 157/157 - 22s - loss: 0.7654 - accuracy: 0.7302 - val_loss: 1.5715 - val_accuracy: 0.4887 - 22s/epoch - 142ms/step\u001b[32m [repeated 2x across cluster]\u001b[0m\n",
            "\u001b[2m\u001b[36m(DefaultActor pid=13407)\u001b[0m Epoch 7/10\u001b[32m [repeated 2x across cluster]\u001b[0m\n",
            "\u001b[2m\u001b[36m(DefaultActor pid=13406)\u001b[0m 157/157 - 24s - loss: 0.7990 - accuracy: 0.7136 - val_loss: 1.5699 - val_accuracy: 0.4902 - 24s/epoch - 156ms/step\n",
            "\u001b[2m\u001b[36m(DefaultActor pid=13406)\u001b[0m Epoch 7/10\n",
            "\u001b[2m\u001b[36m(DefaultActor pid=13407)\u001b[0m 157/157 - 22s - loss: 0.7068 - accuracy: 0.7556 - val_loss: 1.6133 - val_accuracy: 0.4867 - 22s/epoch - 143ms/step\n",
            "\u001b[2m\u001b[36m(DefaultActor pid=13407)\u001b[0m Epoch 8/10\n",
            "\u001b[2m\u001b[36m(DefaultActor pid=13407)\u001b[0m 157/157 - 24s - loss: 0.6359 - accuracy: 0.7792 - val_loss: 1.6756 - val_accuracy: 0.4863 - 24s/epoch - 155ms/step\u001b[32m [repeated 2x across cluster]\u001b[0m\n",
            "\u001b[2m\u001b[36m(DefaultActor pid=13407)\u001b[0m Epoch 9/10\u001b[32m [repeated 2x across cluster]\u001b[0m\n",
            "\u001b[2m\u001b[36m(DefaultActor pid=13407)\u001b[0m 157/157 - 23s - loss: 0.6043 - accuracy: 0.7952 - val_loss: 1.7100 - val_accuracy: 0.4784 - 23s/epoch - 146ms/step\u001b[32m [repeated 2x across cluster]\u001b[0m\n",
            "\u001b[2m\u001b[36m(DefaultActor pid=13407)\u001b[0m Epoch 10/10\u001b[32m [repeated 2x across cluster]\u001b[0m\n",
            "\u001b[2m\u001b[36m(DefaultActor pid=13407)\u001b[0m Client Train and validate Done!!!\n",
            "\u001b[2m\u001b[36m(DefaultActor pid=13407)\u001b[0m 157/157 - 23s - loss: 0.5296 - accuracy: 0.8234 - val_loss: 1.7479 - val_accuracy: 0.4808 - 23s/epoch - 147ms/step\u001b[32m [repeated 2x across cluster]\u001b[0m\n",
            "\u001b[2m\u001b[36m(DefaultActor pid=13406)\u001b[0m Epoch 10/10\n",
            "\u001b[2m\u001b[36m(DefaultActor pid=13407)\u001b[0m round :6\n",
            "\u001b[2m\u001b[36m(DefaultActor pid=13407)\u001b[0m Train :5000\n",
            "\u001b[2m\u001b[36m(DefaultActor pid=13407)\u001b[0m Test :10000\n"
          ]
        },
        {
          "output_type": "stream",
          "name": "stderr",
          "text": [
            "\u001b[2m\u001b[36m(DefaultActor pid=13407)\u001b[0m WARNING:absl:Skipping variable loading for optimizer 'Adam', because it has 11 variables whereas the saved optimizer has 1 variables. \u001b[32m [repeated 2x across cluster]\u001b[0m\n"
          ]
        },
        {
          "output_type": "stream",
          "name": "stdout",
          "text": [
            "\u001b[2m\u001b[36m(DefaultActor pid=13407)\u001b[0m Epoch 1/10\n",
            "\u001b[2m\u001b[36m(DefaultActor pid=13406)\u001b[0m 157/157 - 26s - loss: 0.5411 - accuracy: 0.8232 - val_loss: 1.7232 - val_accuracy: 0.4873 - 26s/epoch - 164ms/step\n",
            "\u001b[2m\u001b[36m(DefaultActor pid=13406)\u001b[0m Client Train and validate Done!!!\n",
            "\u001b[2m\u001b[36m(DefaultActor pid=13406)\u001b[0m round :6\n",
            "\u001b[2m\u001b[36m(DefaultActor pid=13406)\u001b[0m Train :5000\n",
            "\u001b[2m\u001b[36m(DefaultActor pid=13406)\u001b[0m Test :10000\n",
            "\u001b[2m\u001b[36m(DefaultActor pid=13407)\u001b[0m Epoch 2/10\u001b[32m [repeated 2x across cluster]\u001b[0m\n",
            "\u001b[2m\u001b[36m(DefaultActor pid=13407)\u001b[0m 157/157 - 31s - loss: 1.3069 - accuracy: 0.5448 - val_loss: 1.4112 - val_accuracy: 0.5052 - 31s/epoch - 198ms/step\n",
            "\u001b[2m\u001b[36m(DefaultActor pid=13406)\u001b[0m 157/157 - 30s - loss: 1.3275 - accuracy: 0.5394 - val_loss: 1.4510 - val_accuracy: 0.5064 - 30s/epoch - 190ms/step\n",
            "\u001b[2m\u001b[36m(DefaultActor pid=13407)\u001b[0m Epoch 3/10\u001b[32m [repeated 2x across cluster]\u001b[0m\n",
            "\u001b[2m\u001b[36m(DefaultActor pid=13407)\u001b[0m 157/157 - 22s - loss: 1.1272 - accuracy: 0.5980 - val_loss: 1.4394 - val_accuracy: 0.5003 - 22s/epoch - 140ms/step\n",
            "\u001b[2m\u001b[36m(DefaultActor pid=13406)\u001b[0m 157/157 - 24s - loss: 1.1404 - accuracy: 0.5928 - val_loss: 1.4804 - val_accuracy: 0.4938 - 24s/epoch - 150ms/step\n",
            "\u001b[2m\u001b[36m(DefaultActor pid=13407)\u001b[0m Epoch 4/10\u001b[32m [repeated 2x across cluster]\u001b[0m\n",
            "\u001b[2m\u001b[36m(DefaultActor pid=13407)\u001b[0m 157/157 - 24s - loss: 1.0199 - accuracy: 0.6362 - val_loss: 1.4689 - val_accuracy: 0.5049 - 24s/epoch - 155ms/step\n",
            "\u001b[2m\u001b[36m(DefaultActor pid=13406)\u001b[0m 157/157 - 23s - loss: 1.0197 - accuracy: 0.6286 - val_loss: 1.4836 - val_accuracy: 0.4958 - 23s/epoch - 149ms/step\n",
            "\u001b[2m\u001b[36m(DefaultActor pid=13407)\u001b[0m Epoch 5/10\u001b[32m [repeated 2x across cluster]\u001b[0m\n",
            "\u001b[2m\u001b[36m(DefaultActor pid=13407)\u001b[0m 157/157 - 21s - loss: 0.9167 - accuracy: 0.6752 - val_loss: 1.4929 - val_accuracy: 0.4965 - 21s/epoch - 134ms/step\n",
            "\u001b[2m\u001b[36m(DefaultActor pid=13406)\u001b[0m 157/157 - 23s - loss: 0.9433 - accuracy: 0.6688 - val_loss: 1.5280 - val_accuracy: 0.4884 - 23s/epoch - 149ms/step\n",
            "\u001b[2m\u001b[36m(DefaultActor pid=13406)\u001b[0m Epoch 5/10\n",
            "\u001b[2m\u001b[36m(DefaultActor pid=13407)\u001b[0m Epoch 6/10\n",
            "\u001b[2m\u001b[36m(DefaultActor pid=13407)\u001b[0m 157/157 - 25s - loss: 0.8445 - accuracy: 0.6978 - val_loss: 1.5353 - val_accuracy: 0.4995 - 25s/epoch - 157ms/step\n",
            "\u001b[2m\u001b[36m(DefaultActor pid=13406)\u001b[0m 157/157 - 23s - loss: 0.8548 - accuracy: 0.7016 - val_loss: 1.5599 - val_accuracy: 0.4870 - 23s/epoch - 144ms/step\n",
            "\u001b[2m\u001b[36m(DefaultActor pid=13407)\u001b[0m Epoch 7/10\u001b[32m [repeated 2x across cluster]\u001b[0m\n",
            "\u001b[2m\u001b[36m(DefaultActor pid=13407)\u001b[0m 157/157 - 25s - loss: 0.7668 - accuracy: 0.7344 - val_loss: 1.5715 - val_accuracy: 0.4953 - 25s/epoch - 157ms/step\n",
            "\u001b[2m\u001b[36m(DefaultActor pid=13406)\u001b[0m 157/157 - 25s - loss: 0.8173 - accuracy: 0.7160 - val_loss: 1.6050 - val_accuracy: 0.4772 - 25s/epoch - 157ms/step\n",
            "\u001b[2m\u001b[36m(DefaultActor pid=13407)\u001b[0m Epoch 8/10\u001b[32m [repeated 2x across cluster]\u001b[0m\n",
            "\u001b[2m\u001b[36m(DefaultActor pid=13407)\u001b[0m 157/157 - 21s - loss: 0.7194 - accuracy: 0.7512 - val_loss: 1.5860 - val_accuracy: 0.4964 - 21s/epoch - 137ms/step\n",
            "\u001b[2m\u001b[36m(DefaultActor pid=13406)\u001b[0m 157/157 - 23s - loss: 0.7546 - accuracy: 0.7354 - val_loss: 1.6477 - val_accuracy: 0.4805 - 23s/epoch - 149ms/step\n",
            "\u001b[2m\u001b[36m(DefaultActor pid=13406)\u001b[0m Epoch 8/10\n",
            "\u001b[2m\u001b[36m(DefaultActor pid=13407)\u001b[0m Epoch 9/10\n",
            "\u001b[2m\u001b[36m(DefaultActor pid=13407)\u001b[0m 157/157 - 23s - loss: 0.6656 - accuracy: 0.7692 - val_loss: 1.6566 - val_accuracy: 0.4815 - 23s/epoch - 146ms/step\n",
            "\u001b[2m\u001b[36m(DefaultActor pid=13406)\u001b[0m 157/157 - 24s - loss: 0.6877 - accuracy: 0.7630 - val_loss: 1.6893 - val_accuracy: 0.4792 - 24s/epoch - 150ms/step\n",
            "\u001b[2m\u001b[36m(DefaultActor pid=13406)\u001b[0m Epoch 9/10\n",
            "\u001b[2m\u001b[36m(DefaultActor pid=13407)\u001b[0m Epoch 10/10\n",
            "\u001b[2m\u001b[36m(DefaultActor pid=13407)\u001b[0m 157/157 - 25s - loss: 0.6253 - accuracy: 0.7940 - val_loss: 1.7239 - val_accuracy: 0.4873 - 25s/epoch - 157ms/step\n",
            "\u001b[2m\u001b[36m(DefaultActor pid=13406)\u001b[0m 157/157 - 23s - loss: 0.6175 - accuracy: 0.7894 - val_loss: 1.7017 - val_accuracy: 0.4794 - 23s/epoch - 148ms/step\n",
            "\u001b[2m\u001b[36m(DefaultActor pid=13406)\u001b[0m Epoch 10/10\n",
            "\u001b[2m\u001b[36m(DefaultActor pid=13407)\u001b[0m Client Train and validate Done!!!\n",
            "\u001b[2m\u001b[36m(DefaultActor pid=13407)\u001b[0m 157/157 - 22s - loss: 0.5632 - accuracy: 0.8172 - val_loss: 1.7129 - val_accuracy: 0.4867 - 22s/epoch - 143ms/step\n",
            "\u001b[2m\u001b[36m(DefaultActor pid=13407)\u001b[0m round :6\n",
            "\u001b[2m\u001b[36m(DefaultActor pid=13407)\u001b[0m Train :5000\n",
            "\u001b[2m\u001b[36m(DefaultActor pid=13407)\u001b[0m Test :10000\n"
          ]
        },
        {
          "output_type": "stream",
          "name": "stderr",
          "text": [
            "\u001b[2m\u001b[36m(DefaultActor pid=13407)\u001b[0m WARNING:absl:Skipping variable loading for optimizer 'Adam', because it has 11 variables whereas the saved optimizer has 1 variables. \u001b[32m [repeated 2x across cluster]\u001b[0m\n"
          ]
        },
        {
          "output_type": "stream",
          "name": "stdout",
          "text": [
            "\u001b[2m\u001b[36m(DefaultActor pid=13407)\u001b[0m Epoch 1/10\n",
            "\u001b[2m\u001b[36m(DefaultActor pid=13406)\u001b[0m 157/157 - 25s - loss: 0.5738 - accuracy: 0.8088 - val_loss: 1.7634 - val_accuracy: 0.4708 - 25s/epoch - 158ms/step\n",
            "\u001b[2m\u001b[36m(DefaultActor pid=13406)\u001b[0m Client Train and validate Done!!!\n",
            "\u001b[2m\u001b[36m(DefaultActor pid=13406)\u001b[0m round :6\n",
            "\u001b[2m\u001b[36m(DefaultActor pid=13406)\u001b[0m Train :5000\n",
            "\u001b[2m\u001b[36m(DefaultActor pid=13406)\u001b[0m Test :10000\n"
          ]
        },
        {
          "output_type": "stream",
          "name": "stderr",
          "text": [
            "\u001b[2m\u001b[36m(DefaultActor pid=13406)\u001b[0m WARNING:absl:Skipping variable loading for optimizer 'Adam', because it has 11 variables whereas the saved optimizer has 1 variables. \n"
          ]
        },
        {
          "output_type": "stream",
          "name": "stdout",
          "text": [
            "\u001b[2m\u001b[36m(DefaultActor pid=13406)\u001b[0m Epoch 1/10\n",
            "\u001b[2m\u001b[36m(DefaultActor pid=13407)\u001b[0m 157/157 - 32s - loss: 1.3331 - accuracy: 0.5346 - val_loss: 1.4410 - val_accuracy: 0.4942 - 32s/epoch - 202ms/step\n",
            "\u001b[2m\u001b[36m(DefaultActor pid=13407)\u001b[0m Epoch 2/10\n",
            "\u001b[2m\u001b[36m(DefaultActor pid=13406)\u001b[0m 157/157 - 30s - loss: 1.2966 - accuracy: 0.5364 - val_loss: 1.4111 - val_accuracy: 0.5066 - 30s/epoch - 190ms/step\n",
            "\u001b[2m\u001b[36m(DefaultActor pid=13406)\u001b[0m Epoch 2/10\n",
            "\u001b[2m\u001b[36m(DefaultActor pid=13407)\u001b[0m 157/157 - 22s - loss: 1.1411 - accuracy: 0.5884 - val_loss: 1.4522 - val_accuracy: 0.4904 - 22s/epoch - 137ms/step\n",
            "\u001b[2m\u001b[36m(DefaultActor pid=13407)\u001b[0m Epoch 3/10\n",
            "\u001b[2m\u001b[36m(DefaultActor pid=13406)\u001b[0m 157/157 - 25s - loss: 1.0837 - accuracy: 0.6096 - val_loss: 1.4714 - val_accuracy: 0.4948 - 25s/epoch - 158ms/step\n",
            "\u001b[2m\u001b[36m(DefaultActor pid=13406)\u001b[0m Epoch 3/10\n",
            "\u001b[2m\u001b[36m(DefaultActor pid=13407)\u001b[0m 157/157 - 25s - loss: 1.0265 - accuracy: 0.6296 - val_loss: 1.5213 - val_accuracy: 0.4813 - 25s/epoch - 158ms/step\n",
            "\u001b[2m\u001b[36m(DefaultActor pid=13407)\u001b[0m Epoch 4/10\n",
            "\u001b[2m\u001b[36m(DefaultActor pid=13406)\u001b[0m 157/157 - 21s - loss: 0.9718 - accuracy: 0.6530 - val_loss: 1.4649 - val_accuracy: 0.5100 - 21s/epoch - 137ms/step\n",
            "\u001b[2m\u001b[36m(DefaultActor pid=13406)\u001b[0m Epoch 4/10\n",
            "\u001b[2m\u001b[36m(DefaultActor pid=13407)\u001b[0m 157/157 - 21s - loss: 0.9503 - accuracy: 0.6550 - val_loss: 1.5216 - val_accuracy: 0.4865 - 21s/epoch - 133ms/step\n",
            "\u001b[2m\u001b[36m(DefaultActor pid=13407)\u001b[0m Epoch 5/10\n",
            "\u001b[2m\u001b[36m(DefaultActor pid=13406)\u001b[0m 157/157 - 25s - loss: 0.8902 - accuracy: 0.6882 - val_loss: 1.5025 - val_accuracy: 0.5001 - 25s/epoch - 161ms/step\n",
            "\u001b[2m\u001b[36m(DefaultActor pid=13406)\u001b[0m Epoch 5/10\n",
            "\u001b[2m\u001b[36m(DefaultActor pid=13407)\u001b[0m 157/157 - 24s - loss: 0.8602 - accuracy: 0.6938 - val_loss: 1.5524 - val_accuracy: 0.4872 - 24s/epoch - 154ms/step\n",
            "\u001b[2m\u001b[36m(DefaultActor pid=13407)\u001b[0m Epoch 6/10\n",
            "\u001b[2m\u001b[36m(DefaultActor pid=13406)\u001b[0m 157/157 - 23s - loss: 0.8351 - accuracy: 0.7038 - val_loss: 1.5474 - val_accuracy: 0.4949 - 23s/epoch - 149ms/step\n",
            "\u001b[2m\u001b[36m(DefaultActor pid=13406)\u001b[0m Epoch 6/10\n",
            "\u001b[2m\u001b[36m(DefaultActor pid=13407)\u001b[0m 157/157 - 25s - loss: 0.7997 - accuracy: 0.7206 - val_loss: 1.5855 - val_accuracy: 0.4839 - 25s/epoch - 156ms/step\n",
            "\u001b[2m\u001b[36m(DefaultActor pid=13407)\u001b[0m Epoch 7/10\n",
            "\u001b[2m\u001b[36m(DefaultActor pid=13406)\u001b[0m 157/157 - 23s - loss: 0.7413 - accuracy: 0.7436 - val_loss: 1.5893 - val_accuracy: 0.4881 - 23s/epoch - 146ms/step\n",
            "\u001b[2m\u001b[36m(DefaultActor pid=13406)\u001b[0m Epoch 7/10\n",
            "\u001b[2m\u001b[36m(DefaultActor pid=13407)\u001b[0m 157/157 - 22s - loss: 0.7411 - accuracy: 0.7358 - val_loss: 1.6210 - val_accuracy: 0.4818 - 22s/epoch - 138ms/step\n",
            "\u001b[2m\u001b[36m(DefaultActor pid=13407)\u001b[0m Epoch 8/10\n",
            "\u001b[2m\u001b[36m(DefaultActor pid=13406)\u001b[0m 157/157 - 25s - loss: 0.7042 - accuracy: 0.7558 - val_loss: 1.6506 - val_accuracy: 0.4855 - 25s/epoch - 159ms/step\n",
            "\u001b[2m\u001b[36m(DefaultActor pid=13406)\u001b[0m Epoch 8/10\n",
            "\u001b[2m\u001b[36m(DefaultActor pid=13407)\u001b[0m 157/157 - 23s - loss: 0.6835 - accuracy: 0.7612 - val_loss: 1.6637 - val_accuracy: 0.4806 - 23s/epoch - 149ms/step\n",
            "\u001b[2m\u001b[36m(DefaultActor pid=13407)\u001b[0m Epoch 9/10\n",
            "\u001b[2m\u001b[36m(DefaultActor pid=13406)\u001b[0m 157/157 - 23s - loss: 0.6362 - accuracy: 0.7830 - val_loss: 1.6571 - val_accuracy: 0.4841 - 23s/epoch - 148ms/step\n",
            "\u001b[2m\u001b[36m(DefaultActor pid=13406)\u001b[0m Epoch 9/10\n",
            "\u001b[2m\u001b[36m(DefaultActor pid=13407)\u001b[0m Epoch 10/10\n",
            "\u001b[2m\u001b[36m(DefaultActor pid=13407)\u001b[0m 157/157 - 25s - loss: 0.6432 - accuracy: 0.7776 - val_loss: 1.6527 - val_accuracy: 0.4795 - 25s/epoch - 158ms/step\n",
            "\u001b[2m\u001b[36m(DefaultActor pid=13406)\u001b[0m 157/157 - 23s - loss: 0.5699 - accuracy: 0.8114 - val_loss: 1.7222 - val_accuracy: 0.4874 - 23s/epoch - 147ms/step\n",
            "\u001b[2m\u001b[36m(DefaultActor pid=13406)\u001b[0m Epoch 10/10\n",
            "\u001b[2m\u001b[36m(DefaultActor pid=13407)\u001b[0m Client Train and validate Done!!!\n",
            "\u001b[2m\u001b[36m(DefaultActor pid=13407)\u001b[0m 157/157 - 24s - loss: 0.5538 - accuracy: 0.8144 - val_loss: 1.7569 - val_accuracy: 0.4786 - 24s/epoch - 151ms/step\n"
          ]
        },
        {
          "output_type": "stream",
          "name": "stderr",
          "text": [
            "\u001b[2m\u001b[36m(DefaultActor pid=13407)\u001b[0m WARNING:absl:Skipping variable loading for optimizer 'Adam', because it has 11 variables whereas the saved optimizer has 1 variables. \n"
          ]
        },
        {
          "output_type": "stream",
          "name": "stdout",
          "text": [
            "\u001b[2m\u001b[36m(DefaultActor pid=13407)\u001b[0m round :6\n",
            "\u001b[2m\u001b[36m(DefaultActor pid=13407)\u001b[0m Train :5000\n",
            "\u001b[2m\u001b[36m(DefaultActor pid=13407)\u001b[0m Test :10000\n",
            "\u001b[2m\u001b[36m(DefaultActor pid=13407)\u001b[0m Epoch 1/10\n",
            "\u001b[2m\u001b[36m(DefaultActor pid=13406)\u001b[0m 157/157 - 24s - loss: 0.5247 - accuracy: 0.8276 - val_loss: 1.7808 - val_accuracy: 0.4809 - 24s/epoch - 154ms/step\n",
            "\u001b[2m\u001b[36m(DefaultActor pid=13406)\u001b[0m Client Train and validate Done!!!\n",
            "\u001b[2m\u001b[36m(DefaultActor pid=13406)\u001b[0m round :6\n",
            "\u001b[2m\u001b[36m(DefaultActor pid=13406)\u001b[0m Train :5000\n",
            "\u001b[2m\u001b[36m(DefaultActor pid=13406)\u001b[0m Test :10000\n"
          ]
        },
        {
          "output_type": "stream",
          "name": "stderr",
          "text": [
            "\u001b[2m\u001b[36m(DefaultActor pid=13406)\u001b[0m WARNING:absl:Skipping variable loading for optimizer 'Adam', because it has 11 variables whereas the saved optimizer has 1 variables. \n"
          ]
        },
        {
          "output_type": "stream",
          "name": "stdout",
          "text": [
            "\u001b[2m\u001b[36m(DefaultActor pid=13406)\u001b[0m Epoch 1/10\n",
            "\u001b[2m\u001b[36m(DefaultActor pid=13407)\u001b[0m 157/157 - 31s - loss: 1.3377 - accuracy: 0.5218 - val_loss: 1.4163 - val_accuracy: 0.5021 - 31s/epoch - 195ms/step\n",
            "\u001b[2m\u001b[36m(DefaultActor pid=13407)\u001b[0m Epoch 2/10\n",
            "\u001b[2m\u001b[36m(DefaultActor pid=13406)\u001b[0m 157/157 - 30s - loss: 1.3067 - accuracy: 0.5482 - val_loss: 1.4416 - val_accuracy: 0.4993 - 30s/epoch - 194ms/step\n",
            "\u001b[2m\u001b[36m(DefaultActor pid=13406)\u001b[0m Epoch 2/10\n",
            "\u001b[2m\u001b[36m(DefaultActor pid=13407)\u001b[0m 157/157 - 23s - loss: 1.1261 - accuracy: 0.5938 - val_loss: 1.4353 - val_accuracy: 0.4990 - 23s/epoch - 147ms/step\n",
            "\u001b[2m\u001b[36m(DefaultActor pid=13407)\u001b[0m Epoch 3/10\n",
            "\u001b[2m\u001b[36m(DefaultActor pid=13406)\u001b[0m 157/157 - 25s - loss: 1.1215 - accuracy: 0.5990 - val_loss: 1.4566 - val_accuracy: 0.4995 - 25s/epoch - 158ms/step\n",
            "\u001b[2m\u001b[36m(DefaultActor pid=13406)\u001b[0m Epoch 3/10\n",
            "\u001b[2m\u001b[36m(DefaultActor pid=13407)\u001b[0m 157/157 - 23s - loss: 1.0292 - accuracy: 0.6344 - val_loss: 1.4796 - val_accuracy: 0.4971 - 23s/epoch - 149ms/step\n",
            "\u001b[2m\u001b[36m(DefaultActor pid=13407)\u001b[0m Epoch 4/10\n",
            "\u001b[2m\u001b[36m(DefaultActor pid=13406)\u001b[0m 157/157 - 25s - loss: 1.0137 - accuracy: 0.6406 - val_loss: 1.4966 - val_accuracy: 0.4901 - 25s/epoch - 157ms/step\n",
            "\u001b[2m\u001b[36m(DefaultActor pid=13406)\u001b[0m Epoch 4/10\n",
            "\u001b[2m\u001b[36m(DefaultActor pid=13407)\u001b[0m 157/157 - 23s - loss: 0.9211 - accuracy: 0.6712 - val_loss: 1.4717 - val_accuracy: 0.4971 - 23s/epoch - 147ms/step\n",
            "\u001b[2m\u001b[36m(DefaultActor pid=13407)\u001b[0m Epoch 5/10\n",
            "\u001b[2m\u001b[36m(DefaultActor pid=13406)\u001b[0m 157/157 - 21s - loss: 0.9177 - accuracy: 0.6746 - val_loss: 1.5195 - val_accuracy: 0.4936 - 21s/epoch - 135ms/step\n",
            "\u001b[2m\u001b[36m(DefaultActor pid=13406)\u001b[0m Epoch 5/10\n",
            "\u001b[2m\u001b[36m(DefaultActor pid=13407)\u001b[0m 157/157 - 23s - loss: 0.8538 - accuracy: 0.6944 - val_loss: 1.5630 - val_accuracy: 0.4860 - 23s/epoch - 147ms/step\n",
            "\u001b[2m\u001b[36m(DefaultActor pid=13407)\u001b[0m Epoch 6/10\n",
            "\u001b[2m\u001b[36m(DefaultActor pid=13406)\u001b[0m 157/157 - 25s - loss: 0.8473 - accuracy: 0.7040 - val_loss: 1.5373 - val_accuracy: 0.4926 - 25s/epoch - 160ms/step\n",
            "\u001b[2m\u001b[36m(DefaultActor pid=13406)\u001b[0m Epoch 6/10\n",
            "\u001b[2m\u001b[36m(DefaultActor pid=13407)\u001b[0m 157/157 - 25s - loss: 0.7896 - accuracy: 0.7236 - val_loss: 1.5769 - val_accuracy: 0.4844 - 25s/epoch - 157ms/step\n",
            "\u001b[2m\u001b[36m(DefaultActor pid=13407)\u001b[0m Epoch 7/10\n",
            "\u001b[2m\u001b[36m(DefaultActor pid=13406)\u001b[0m 157/157 - 23s - loss: 0.7838 - accuracy: 0.7260 - val_loss: 1.5947 - val_accuracy: 0.4868 - 23s/epoch - 145ms/step\n",
            "\u001b[2m\u001b[36m(DefaultActor pid=13406)\u001b[0m Epoch 7/10\n",
            "\u001b[2m\u001b[36m(DefaultActor pid=13407)\u001b[0m 157/157 - 23s - loss: 0.7127 - accuracy: 0.7546 - val_loss: 1.6479 - val_accuracy: 0.4810 - 23s/epoch - 145ms/step\n",
            "\u001b[2m\u001b[36m(DefaultActor pid=13407)\u001b[0m Epoch 8/10\n",
            "\u001b[2m\u001b[36m(DefaultActor pid=13406)\u001b[0m 157/157 - 23s - loss: 0.7273 - accuracy: 0.7462 - val_loss: 1.6461 - val_accuracy: 0.4769 - 23s/epoch - 149ms/step\n",
            "\u001b[2m\u001b[36m(DefaultActor pid=13406)\u001b[0m Epoch 8/10\n",
            "\u001b[2m\u001b[36m(DefaultActor pid=13407)\u001b[0m 157/157 - 23s - loss: 0.6592 - accuracy: 0.7726 - val_loss: 1.6708 - val_accuracy: 0.4859 - 23s/epoch - 146ms/step\n",
            "\u001b[2m\u001b[36m(DefaultActor pid=13407)\u001b[0m Epoch 9/10\n",
            "\u001b[2m\u001b[36m(DefaultActor pid=13406)\u001b[0m 157/157 - 24s - loss: 0.6783 - accuracy: 0.7632 - val_loss: 1.6667 - val_accuracy: 0.4851 - 24s/epoch - 150ms/step\n",
            "\u001b[2m\u001b[36m(DefaultActor pid=13406)\u001b[0m Epoch 9/10\n",
            "\u001b[2m\u001b[36m(DefaultActor pid=13407)\u001b[0m 157/157 - 21s - loss: 0.6303 - accuracy: 0.7838 - val_loss: 1.7376 - val_accuracy: 0.4779 - 21s/epoch - 132ms/step\n",
            "\u001b[2m\u001b[36m(DefaultActor pid=13407)\u001b[0m Epoch 10/10\n",
            "\u001b[2m\u001b[36m(DefaultActor pid=13406)\u001b[0m 157/157 - 19s - loss: 0.6235 - accuracy: 0.7860 - val_loss: 1.7009 - val_accuracy: 0.4771 - 19s/epoch - 123ms/step\n",
            "\u001b[2m\u001b[36m(DefaultActor pid=13406)\u001b[0m Epoch 10/10\n",
            "\u001b[2m\u001b[36m(DefaultActor pid=13407)\u001b[0m Client Train and validate Done!!!\n",
            "\u001b[2m\u001b[36m(DefaultActor pid=13407)\u001b[0m 157/157 - 20s - loss: 0.5820 - accuracy: 0.8022 - val_loss: 1.7480 - val_accuracy: 0.4844 - 20s/epoch - 130ms/step\n"
          ]
        },
        {
          "output_type": "stream",
          "name": "stderr",
          "text": [
            "DEBUG flwr 2024-02-07 21:39:07,784 | server.py:236 | fit_round 6 received 10 results and 0 failures\n",
            "DEBUG:flwr:fit_round 6 received 10 results and 0 failures\n",
            "DEBUG flwr 2024-02-07 21:39:07,822 | server.py:173 | evaluate_round 6: strategy sampled 10 clients (out of 10)\n",
            "DEBUG:flwr:evaluate_round 6: strategy sampled 10 clients (out of 10)\n"
          ]
        },
        {
          "output_type": "stream",
          "name": "stdout",
          "text": [
            "\u001b[2m\u001b[36m(DefaultActor pid=13406)\u001b[0m 157/157 - 17s - loss: 0.5981 - accuracy: 0.7922 - val_loss: 1.7654 - val_accuracy: 0.4795 - 17s/epoch - 105ms/step\n",
            "\u001b[2m\u001b[36m(DefaultActor pid=13406)\u001b[0m Client Train and validate Done!!!\n"
          ]
        },
        {
          "output_type": "stream",
          "name": "stderr",
          "text": [
            "\u001b[2m\u001b[36m(DefaultActor pid=13406)\u001b[0m WARNING:absl:Skipping variable loading for optimizer 'Adam', because it has 11 variables whereas the saved optimizer has 1 variables. \n"
          ]
        },
        {
          "output_type": "stream",
          "name": "stdout",
          "text": [
            "\u001b[2m\u001b[36m(DefaultActor pid=13406)\u001b[0m 10000/10000 - 126s - loss: 1.5784 - accuracy: 0.5278 - 126s/epoch - 13ms/step\n",
            "\u001b[2m\u001b[36m(DefaultActor pid=13406)\u001b[0m Global Validate Done!!!\n"
          ]
        },
        {
          "output_type": "stream",
          "name": "stderr",
          "text": [
            "\u001b[2m\u001b[36m(DefaultActor pid=13406)\u001b[0m WARNING:absl:Skipping variable loading for optimizer 'Adam', because it has 11 variables whereas the saved optimizer has 1 variables. \u001b[32m [repeated 2x across cluster]\u001b[0m\n"
          ]
        },
        {
          "output_type": "stream",
          "name": "stdout",
          "text": [
            "\u001b[2m\u001b[36m(DefaultActor pid=13407)\u001b[0m 10000/10000 - 128s - loss: 1.5784 - accuracy: 0.5278 - 128s/epoch - 13ms/step\u001b[32m [repeated 2x across cluster]\u001b[0m\n",
            "\u001b[2m\u001b[36m(DefaultActor pid=13407)\u001b[0m Global Validate Done!!!\u001b[32m [repeated 2x across cluster]\u001b[0m\n"
          ]
        },
        {
          "output_type": "stream",
          "name": "stderr",
          "text": [
            "\u001b[2m\u001b[36m(DefaultActor pid=13406)\u001b[0m WARNING:absl:Skipping variable loading for optimizer 'Adam', because it has 11 variables whereas the saved optimizer has 1 variables. \u001b[32m [repeated 2x across cluster]\u001b[0m\n"
          ]
        },
        {
          "output_type": "stream",
          "name": "stdout",
          "text": [
            "\u001b[2m\u001b[36m(DefaultActor pid=13407)\u001b[0m 10000/10000 - 129s - loss: 1.5784 - accuracy: 0.5278 - 129s/epoch - 13ms/step\u001b[32m [repeated 2x across cluster]\u001b[0m\n",
            "\u001b[2m\u001b[36m(DefaultActor pid=13407)\u001b[0m Global Validate Done!!!\u001b[32m [repeated 2x across cluster]\u001b[0m\n"
          ]
        },
        {
          "output_type": "stream",
          "name": "stderr",
          "text": [
            "\u001b[2m\u001b[36m(DefaultActor pid=13407)\u001b[0m WARNING:absl:Skipping variable loading for optimizer 'Adam', because it has 11 variables whereas the saved optimizer has 1 variables. \u001b[32m [repeated 2x across cluster]\u001b[0m\n"
          ]
        },
        {
          "output_type": "stream",
          "name": "stdout",
          "text": [
            "\u001b[2m\u001b[36m(DefaultActor pid=13407)\u001b[0m 10000/10000 - 134s - loss: 1.5784 - accuracy: 0.5278 - 134s/epoch - 13ms/step\u001b[32m [repeated 2x across cluster]\u001b[0m\n",
            "\u001b[2m\u001b[36m(DefaultActor pid=13407)\u001b[0m Global Validate Done!!!\u001b[32m [repeated 2x across cluster]\u001b[0m\n"
          ]
        },
        {
          "output_type": "stream",
          "name": "stderr",
          "text": [
            "\u001b[2m\u001b[36m(DefaultActor pid=13407)\u001b[0m WARNING:absl:Skipping variable loading for optimizer 'Adam', because it has 11 variables whereas the saved optimizer has 1 variables. \u001b[32m [repeated 2x across cluster]\u001b[0m\n",
            "DEBUG flwr 2024-02-07 21:50:03,697 | server.py:187 | evaluate_round 6 received 10 results and 0 failures\n",
            "DEBUG:flwr:evaluate_round 6 received 10 results and 0 failures\n",
            "DEBUG flwr 2024-02-07 21:50:03,700 | server.py:222 | fit_round 7: strategy sampled 10 clients (out of 10)\n",
            "DEBUG:flwr:fit_round 7: strategy sampled 10 clients (out of 10)\n"
          ]
        },
        {
          "output_type": "stream",
          "name": "stdout",
          "text": [
            "\u001b[2m\u001b[36m(DefaultActor pid=13407)\u001b[0m 10000/10000 - 129s - loss: 1.5784 - accuracy: 0.5278 - 129s/epoch - 13ms/step\u001b[32m [repeated 2x across cluster]\u001b[0m\n",
            "\u001b[2m\u001b[36m(DefaultActor pid=13407)\u001b[0m Global Validate Done!!!\u001b[32m [repeated 2x across cluster]\u001b[0m\n"
          ]
        },
        {
          "output_type": "stream",
          "name": "stderr",
          "text": [
            "\u001b[2m\u001b[36m(DefaultActor pid=13406)\u001b[0m WARNING:absl:Skipping variable loading for optimizer 'Adam', because it has 11 variables whereas the saved optimizer has 1 variables. \u001b[32m [repeated 2x across cluster]\u001b[0m\n"
          ]
        },
        {
          "output_type": "stream",
          "name": "stdout",
          "text": [
            "\u001b[2m\u001b[36m(DefaultActor pid=13407)\u001b[0m round :7\n",
            "\u001b[2m\u001b[36m(DefaultActor pid=13407)\u001b[0m Train :5000\n",
            "\u001b[2m\u001b[36m(DefaultActor pid=13407)\u001b[0m Test :10000\n",
            "\u001b[2m\u001b[36m(DefaultActor pid=13406)\u001b[0m Epoch 1/10\n",
            "\u001b[2m\u001b[36m(DefaultActor pid=13407)\u001b[0m 157/157 - 27s - loss: 1.2959 - accuracy: 0.5524 - val_loss: 1.4587 - val_accuracy: 0.5070 - 27s/epoch - 169ms/step\n",
            "\u001b[2m\u001b[36m(DefaultActor pid=13406)\u001b[0m 10000/10000 - 129s - loss: 1.5784 - accuracy: 0.5278 - 129s/epoch - 13ms/step\n",
            "\u001b[2m\u001b[36m(DefaultActor pid=13406)\u001b[0m Global Validate Done!!!\n",
            "\u001b[2m\u001b[36m(DefaultActor pid=13406)\u001b[0m round :7\n",
            "\u001b[2m\u001b[36m(DefaultActor pid=13406)\u001b[0m Train :5000\n",
            "\u001b[2m\u001b[36m(DefaultActor pid=13406)\u001b[0m Test :10000\n",
            "\u001b[2m\u001b[36m(DefaultActor pid=13407)\u001b[0m Epoch 2/10\u001b[32m [repeated 2x across cluster]\u001b[0m\n",
            "\u001b[2m\u001b[36m(DefaultActor pid=13406)\u001b[0m 157/157 - 21s - loss: 1.0334 - accuracy: 0.6256 - val_loss: 1.4961 - val_accuracy: 0.4963 - 21s/epoch - 131ms/step\u001b[32m [repeated 2x across cluster]\u001b[0m\n",
            "\u001b[2m\u001b[36m(DefaultActor pid=13406)\u001b[0m Epoch 3/10\u001b[32m [repeated 2x across cluster]\u001b[0m\n",
            "\u001b[2m\u001b[36m(DefaultActor pid=13407)\u001b[0m 157/157 - 20s - loss: 0.9262 - accuracy: 0.6738 - val_loss: 1.5341 - val_accuracy: 0.4954 - 20s/epoch - 127ms/step\u001b[32m [repeated 2x across cluster]\u001b[0m\n",
            "\u001b[2m\u001b[36m(DefaultActor pid=13407)\u001b[0m Epoch 4/10\u001b[32m [repeated 2x across cluster]\u001b[0m\n",
            "\u001b[2m\u001b[36m(DefaultActor pid=13407)\u001b[0m 157/157 - 22s - loss: 0.8235 - accuracy: 0.7154 - val_loss: 1.5977 - val_accuracy: 0.4877 - 22s/epoch - 137ms/step\u001b[32m [repeated 2x across cluster]\u001b[0m\n",
            "\u001b[2m\u001b[36m(DefaultActor pid=13407)\u001b[0m Epoch 5/10\u001b[32m [repeated 2x across cluster]\u001b[0m\n",
            "\u001b[2m\u001b[36m(DefaultActor pid=13406)\u001b[0m 157/157 - 20s - loss: 0.7396 - accuracy: 0.7364 - val_loss: 1.5663 - val_accuracy: 0.5037 - 20s/epoch - 125ms/step\u001b[32m [repeated 2x across cluster]\u001b[0m\n",
            "\u001b[2m\u001b[36m(DefaultActor pid=13406)\u001b[0m Epoch 6/10\u001b[32m [repeated 2x across cluster]\u001b[0m\n",
            "\u001b[2m\u001b[36m(DefaultActor pid=13407)\u001b[0m 157/157 - 19s - loss: 0.6785 - accuracy: 0.7662 - val_loss: 1.6237 - val_accuracy: 0.4913 - 19s/epoch - 121ms/step\u001b[32m [repeated 2x across cluster]\u001b[0m\n",
            "\u001b[2m\u001b[36m(DefaultActor pid=13407)\u001b[0m Epoch 7/10\u001b[32m [repeated 2x across cluster]\u001b[0m\n",
            "\u001b[2m\u001b[36m(DefaultActor pid=13407)\u001b[0m 157/157 - 22s - loss: 0.6052 - accuracy: 0.7984 - val_loss: 1.6524 - val_accuracy: 0.4961 - 22s/epoch - 141ms/step\u001b[32m [repeated 2x across cluster]\u001b[0m\n",
            "\u001b[2m\u001b[36m(DefaultActor pid=13407)\u001b[0m Epoch 8/10\u001b[32m [repeated 2x across cluster]\u001b[0m\n",
            "\u001b[2m\u001b[36m(DefaultActor pid=13407)\u001b[0m 157/157 - 20s - loss: 0.5445 - accuracy: 0.8204 - val_loss: 1.7372 - val_accuracy: 0.4889 - 20s/epoch - 125ms/step\u001b[32m [repeated 2x across cluster]\u001b[0m\n",
            "\u001b[2m\u001b[36m(DefaultActor pid=13407)\u001b[0m Epoch 9/10\u001b[32m [repeated 2x across cluster]\u001b[0m\n",
            "\u001b[2m\u001b[36m(DefaultActor pid=13407)\u001b[0m 157/157 - 21s - loss: 0.5107 - accuracy: 0.8282 - val_loss: 1.7747 - val_accuracy: 0.4816 - 21s/epoch - 132ms/step\u001b[32m [repeated 2x across cluster]\u001b[0m\n",
            "\u001b[2m\u001b[36m(DefaultActor pid=13407)\u001b[0m Epoch 10/10\u001b[32m [repeated 2x across cluster]\u001b[0m\n",
            "\u001b[2m\u001b[36m(DefaultActor pid=13407)\u001b[0m Client Train and validate Done!!!\n",
            "\u001b[2m\u001b[36m(DefaultActor pid=13407)\u001b[0m 157/157 - 20s - loss: 0.4662 - accuracy: 0.8498 - val_loss: 1.7967 - val_accuracy: 0.4866 - 20s/epoch - 129ms/step\u001b[32m [repeated 2x across cluster]\u001b[0m\n",
            "\u001b[2m\u001b[36m(DefaultActor pid=13406)\u001b[0m Epoch 10/10\n",
            "\u001b[2m\u001b[36m(DefaultActor pid=13407)\u001b[0m round :7\n",
            "\u001b[2m\u001b[36m(DefaultActor pid=13407)\u001b[0m Train :5000\n",
            "\u001b[2m\u001b[36m(DefaultActor pid=13407)\u001b[0m Test :10000\n"
          ]
        },
        {
          "output_type": "stream",
          "name": "stderr",
          "text": [
            "\u001b[2m\u001b[36m(DefaultActor pid=13407)\u001b[0m WARNING:absl:Skipping variable loading for optimizer 'Adam', because it has 11 variables whereas the saved optimizer has 1 variables. \u001b[32m [repeated 2x across cluster]\u001b[0m\n"
          ]
        },
        {
          "output_type": "stream",
          "name": "stdout",
          "text": [
            "\u001b[2m\u001b[36m(DefaultActor pid=13407)\u001b[0m Epoch 1/10\n",
            "\u001b[2m\u001b[36m(DefaultActor pid=13406)\u001b[0m Client Train and validate Done!!!\n",
            "\u001b[2m\u001b[36m(DefaultActor pid=13407)\u001b[0m 157/157 - 27s - loss: 1.3042 - accuracy: 0.5456 - val_loss: 1.4236 - val_accuracy: 0.5038 - 27s/epoch - 169ms/step\u001b[32m [repeated 2x across cluster]\u001b[0m\n",
            "\u001b[2m\u001b[36m(DefaultActor pid=13406)\u001b[0m round :7\n",
            "\u001b[2m\u001b[36m(DefaultActor pid=13406)\u001b[0m Train :5000\n",
            "\u001b[2m\u001b[36m(DefaultActor pid=13406)\u001b[0m Test :10000\n",
            "\u001b[2m\u001b[36m(DefaultActor pid=13407)\u001b[0m Epoch 2/10\u001b[32m [repeated 2x across cluster]\u001b[0m\n",
            "\u001b[2m\u001b[36m(DefaultActor pid=13407)\u001b[0m 157/157 - 21s - loss: 1.0730 - accuracy: 0.6206 - val_loss: 1.4657 - val_accuracy: 0.5028 - 21s/epoch - 134ms/step\u001b[32m [repeated 2x across cluster]\u001b[0m\n",
            "\u001b[2m\u001b[36m(DefaultActor pid=13407)\u001b[0m Epoch 3/10\u001b[32m [repeated 2x across cluster]\u001b[0m\n",
            "\u001b[2m\u001b[36m(DefaultActor pid=13407)\u001b[0m 157/157 - 19s - loss: 0.9497 - accuracy: 0.6532 - val_loss: 1.5083 - val_accuracy: 0.5005 - 19s/epoch - 123ms/step\u001b[32m [repeated 2x across cluster]\u001b[0m\n",
            "\u001b[2m\u001b[36m(DefaultActor pid=13407)\u001b[0m Epoch 4/10\u001b[32m [repeated 2x across cluster]\u001b[0m\n",
            "\u001b[2m\u001b[36m(DefaultActor pid=13407)\u001b[0m 157/157 - 22s - loss: 0.8570 - accuracy: 0.6960 - val_loss: 1.5536 - val_accuracy: 0.4966 - 22s/epoch - 141ms/step\u001b[32m [repeated 2x across cluster]\u001b[0m\n",
            "\u001b[2m\u001b[36m(DefaultActor pid=13407)\u001b[0m Epoch 5/10\u001b[32m [repeated 2x across cluster]\u001b[0m\n",
            "\u001b[2m\u001b[36m(DefaultActor pid=13407)\u001b[0m 157/157 - 20s - loss: 0.7701 - accuracy: 0.7348 - val_loss: 1.5747 - val_accuracy: 0.4899 - 20s/epoch - 125ms/step\u001b[32m [repeated 2x across cluster]\u001b[0m\n",
            "\u001b[2m\u001b[36m(DefaultActor pid=13407)\u001b[0m Epoch 6/10\u001b[32m [repeated 2x across cluster]\u001b[0m\n",
            "\u001b[2m\u001b[36m(DefaultActor pid=13407)\u001b[0m 157/157 - 21s - loss: 0.7080 - accuracy: 0.7552 - val_loss: 1.6189 - val_accuracy: 0.4905 - 21s/epoch - 134ms/step\u001b[32m [repeated 2x across cluster]\u001b[0m\n",
            "\u001b[2m\u001b[36m(DefaultActor pid=13407)\u001b[0m Epoch 7/10\u001b[32m [repeated 2x across cluster]\u001b[0m\n",
            "\u001b[2m\u001b[36m(DefaultActor pid=13407)\u001b[0m 157/157 - 20s - loss: 0.6342 - accuracy: 0.7812 - val_loss: 1.6371 - val_accuracy: 0.4899 - 20s/epoch - 129ms/step\u001b[32m [repeated 2x across cluster]\u001b[0m\n",
            "\u001b[2m\u001b[36m(DefaultActor pid=13407)\u001b[0m Epoch 8/10\u001b[32m [repeated 2x across cluster]\u001b[0m\n",
            "\u001b[2m\u001b[36m(DefaultActor pid=13407)\u001b[0m 157/157 - 21s - loss: 0.5825 - accuracy: 0.8030 - val_loss: 1.6989 - val_accuracy: 0.4841 - 21s/epoch - 135ms/step\u001b[32m [repeated 2x across cluster]\u001b[0m\n",
            "\u001b[2m\u001b[36m(DefaultActor pid=13407)\u001b[0m Epoch 9/10\u001b[32m [repeated 2x across cluster]\u001b[0m\n",
            "\u001b[2m\u001b[36m(DefaultActor pid=13407)\u001b[0m 157/157 - 19s - loss: 0.5040 - accuracy: 0.8338 - val_loss: 1.8022 - val_accuracy: 0.4804 - 19s/epoch - 123ms/step\u001b[32m [repeated 2x across cluster]\u001b[0m\n",
            "\u001b[2m\u001b[36m(DefaultActor pid=13407)\u001b[0m Epoch 10/10\u001b[32m [repeated 2x across cluster]\u001b[0m\n",
            "\u001b[2m\u001b[36m(DefaultActor pid=13407)\u001b[0m Client Train and validate Done!!!\n",
            "\u001b[2m\u001b[36m(DefaultActor pid=13407)\u001b[0m 157/157 - 21s - loss: 0.4847 - accuracy: 0.8398 - val_loss: 1.7863 - val_accuracy: 0.4796 - 21s/epoch - 136ms/step\u001b[32m [repeated 2x across cluster]\u001b[0m\n",
            "\u001b[2m\u001b[36m(DefaultActor pid=13406)\u001b[0m Epoch 10/10\n",
            "\u001b[2m\u001b[36m(DefaultActor pid=13407)\u001b[0m round :7\n",
            "\u001b[2m\u001b[36m(DefaultActor pid=13407)\u001b[0m Train :5000\n",
            "\u001b[2m\u001b[36m(DefaultActor pid=13407)\u001b[0m Test :10000\n"
          ]
        },
        {
          "output_type": "stream",
          "name": "stderr",
          "text": [
            "\u001b[2m\u001b[36m(DefaultActor pid=13407)\u001b[0m WARNING:absl:Skipping variable loading for optimizer 'Adam', because it has 11 variables whereas the saved optimizer has 1 variables. \u001b[32m [repeated 2x across cluster]\u001b[0m\n"
          ]
        },
        {
          "output_type": "stream",
          "name": "stdout",
          "text": [
            "\u001b[2m\u001b[36m(DefaultActor pid=13407)\u001b[0m Epoch 1/10\n",
            "\u001b[2m\u001b[36m(DefaultActor pid=13406)\u001b[0m Client Train and validate Done!!!\n",
            "\u001b[2m\u001b[36m(DefaultActor pid=13407)\u001b[0m 157/157 - 26s - loss: 1.3054 - accuracy: 0.5386 - val_loss: 1.4561 - val_accuracy: 0.5088 - 26s/epoch - 168ms/step\u001b[32m [repeated 2x across cluster]\u001b[0m\n",
            "\u001b[2m\u001b[36m(DefaultActor pid=13406)\u001b[0m round :7\n",
            "\u001b[2m\u001b[36m(DefaultActor pid=13406)\u001b[0m Train :5000\n",
            "\u001b[2m\u001b[36m(DefaultActor pid=13406)\u001b[0m Test :10000\n",
            "\u001b[2m\u001b[36m(DefaultActor pid=13407)\u001b[0m Epoch 2/10\u001b[32m [repeated 2x across cluster]\u001b[0m\n",
            "\u001b[2m\u001b[36m(DefaultActor pid=13407)\u001b[0m 157/157 - 20s - loss: 1.0654 - accuracy: 0.6128 - val_loss: 1.4440 - val_accuracy: 0.5077 - 20s/epoch - 127ms/step\u001b[32m [repeated 2x across cluster]\u001b[0m\n",
            "\u001b[2m\u001b[36m(DefaultActor pid=13407)\u001b[0m Epoch 3/10\u001b[32m [repeated 2x across cluster]\u001b[0m\n",
            "\u001b[2m\u001b[36m(DefaultActor pid=13407)\u001b[0m 157/157 - 20s - loss: 0.9347 - accuracy: 0.6674 - val_loss: 1.5059 - val_accuracy: 0.4959 - 20s/epoch - 129ms/step\u001b[32m [repeated 2x across cluster]\u001b[0m\n",
            "\u001b[2m\u001b[36m(DefaultActor pid=13407)\u001b[0m Epoch 4/10\u001b[32m [repeated 2x across cluster]\u001b[0m\n",
            "\u001b[2m\u001b[36m(DefaultActor pid=13407)\u001b[0m 157/157 - 21s - loss: 0.8531 - accuracy: 0.6952 - val_loss: 1.5332 - val_accuracy: 0.4859 - 21s/epoch - 133ms/step\u001b[32m [repeated 2x across cluster]\u001b[0m\n",
            "\u001b[2m\u001b[36m(DefaultActor pid=13407)\u001b[0m Epoch 5/10\u001b[32m [repeated 2x across cluster]\u001b[0m\n",
            "\u001b[2m\u001b[36m(DefaultActor pid=13407)\u001b[0m 157/157 - 19s - loss: 0.7728 - accuracy: 0.7304 - val_loss: 1.5884 - val_accuracy: 0.4880 - 19s/epoch - 124ms/step\u001b[32m [repeated 2x across cluster]\u001b[0m\n",
            "\u001b[2m\u001b[36m(DefaultActor pid=13407)\u001b[0m Epoch 6/10\u001b[32m [repeated 2x across cluster]\u001b[0m\n",
            "\u001b[2m\u001b[36m(DefaultActor pid=13407)\u001b[0m 157/157 - 21s - loss: 0.6978 - accuracy: 0.7572 - val_loss: 1.6475 - val_accuracy: 0.4820 - 21s/epoch - 134ms/step\u001b[32m [repeated 2x across cluster]\u001b[0m\n",
            "\u001b[2m\u001b[36m(DefaultActor pid=13407)\u001b[0m Epoch 7/10\u001b[32m [repeated 2x across cluster]\u001b[0m\n",
            "\u001b[2m\u001b[36m(DefaultActor pid=13407)\u001b[0m 157/157 - 20s - loss: 0.6380 - accuracy: 0.7796 - val_loss: 1.6627 - val_accuracy: 0.4858 - 20s/epoch - 130ms/step\u001b[32m [repeated 2x across cluster]\u001b[0m\n",
            "\u001b[2m\u001b[36m(DefaultActor pid=13407)\u001b[0m Epoch 8/10\u001b[32m [repeated 2x across cluster]\u001b[0m\n",
            "\u001b[2m\u001b[36m(DefaultActor pid=13407)\u001b[0m 157/157 - 21s - loss: 0.5818 - accuracy: 0.7988 - val_loss: 1.7160 - val_accuracy: 0.4835 - 21s/epoch - 133ms/step\u001b[32m [repeated 2x across cluster]\u001b[0m\n",
            "\u001b[2m\u001b[36m(DefaultActor pid=13407)\u001b[0m Epoch 9/10\u001b[32m [repeated 2x across cluster]\u001b[0m\n",
            "\u001b[2m\u001b[36m(DefaultActor pid=13407)\u001b[0m 157/157 - 20s - loss: 0.5152 - accuracy: 0.8296 - val_loss: 1.8025 - val_accuracy: 0.4788 - 20s/epoch - 125ms/step\u001b[32m [repeated 2x across cluster]\u001b[0m\n",
            "\u001b[2m\u001b[36m(DefaultActor pid=13407)\u001b[0m Epoch 10/10\u001b[32m [repeated 2x across cluster]\u001b[0m\n",
            "\u001b[2m\u001b[36m(DefaultActor pid=13406)\u001b[0m 157/157 - 21s - loss: 0.5011 - accuracy: 0.8310 - val_loss: 1.7558 - val_accuracy: 0.4855 - 21s/epoch - 135ms/step\n",
            "\u001b[2m\u001b[36m(DefaultActor pid=13406)\u001b[0m Epoch 10/10\n",
            "\u001b[2m\u001b[36m(DefaultActor pid=13407)\u001b[0m 157/157 - 22s - loss: 0.4651 - accuracy: 0.8492 - val_loss: 1.8346 - val_accuracy: 0.4803 - 22s/epoch - 140ms/step\n",
            "\u001b[2m\u001b[36m(DefaultActor pid=13407)\u001b[0m Client Train and validate Done!!!\n",
            "\u001b[2m\u001b[36m(DefaultActor pid=13407)\u001b[0m round :7\n",
            "\u001b[2m\u001b[36m(DefaultActor pid=13407)\u001b[0m Train :5000\n",
            "\u001b[2m\u001b[36m(DefaultActor pid=13407)\u001b[0m Test :10000\n"
          ]
        },
        {
          "output_type": "stream",
          "name": "stderr",
          "text": [
            "\u001b[2m\u001b[36m(DefaultActor pid=13407)\u001b[0m WARNING:absl:Skipping variable loading for optimizer 'Adam', because it has 11 variables whereas the saved optimizer has 1 variables. \u001b[32m [repeated 2x across cluster]\u001b[0m\n"
          ]
        },
        {
          "output_type": "stream",
          "name": "stdout",
          "text": [
            "\u001b[2m\u001b[36m(DefaultActor pid=13407)\u001b[0m Epoch 1/10\n",
            "\u001b[2m\u001b[36m(DefaultActor pid=13406)\u001b[0m 157/157 - 21s - loss: 0.4481 - accuracy: 0.8534 - val_loss: 1.8805 - val_accuracy: 0.4768 - 21s/epoch - 137ms/step\n",
            "\u001b[2m\u001b[36m(DefaultActor pid=13406)\u001b[0m Client Train and validate Done!!!\n"
          ]
        },
        {
          "output_type": "stream",
          "name": "stderr",
          "text": [
            "\u001b[2m\u001b[36m(DefaultActor pid=13406)\u001b[0m WARNING:absl:Skipping variable loading for optimizer 'Adam', because it has 11 variables whereas the saved optimizer has 1 variables. \n"
          ]
        },
        {
          "output_type": "stream",
          "name": "stdout",
          "text": [
            "\u001b[2m\u001b[36m(DefaultActor pid=13406)\u001b[0m round :7\n",
            "\u001b[2m\u001b[36m(DefaultActor pid=13406)\u001b[0m Train :5000\n",
            "\u001b[2m\u001b[36m(DefaultActor pid=13406)\u001b[0m Test :10000\n",
            "\u001b[2m\u001b[36m(DefaultActor pid=13406)\u001b[0m Epoch 1/10\n",
            "\u001b[2m\u001b[36m(DefaultActor pid=13407)\u001b[0m 157/157 - 25s - loss: 1.2978 - accuracy: 0.5552 - val_loss: 1.4820 - val_accuracy: 0.4923 - 25s/epoch - 161ms/step\n",
            "\u001b[2m\u001b[36m(DefaultActor pid=13407)\u001b[0m Epoch 2/10\n",
            "\u001b[2m\u001b[36m(DefaultActor pid=13406)\u001b[0m 157/157 - 27s - loss: 1.2854 - accuracy: 0.5482 - val_loss: 1.4652 - val_accuracy: 0.5039 - 27s/epoch - 172ms/step\n",
            "\u001b[2m\u001b[36m(DefaultActor pid=13406)\u001b[0m Epoch 2/10\n",
            "\u001b[2m\u001b[36m(DefaultActor pid=13407)\u001b[0m 157/157 - 19s - loss: 1.0558 - accuracy: 0.6294 - val_loss: 1.4498 - val_accuracy: 0.5105 - 19s/epoch - 123ms/step\n",
            "\u001b[2m\u001b[36m(DefaultActor pid=13407)\u001b[0m Epoch 3/10\n",
            "\u001b[2m\u001b[36m(DefaultActor pid=13406)\u001b[0m 157/157 - 22s - loss: 1.0553 - accuracy: 0.6138 - val_loss: 1.4423 - val_accuracy: 0.5096 - 22s/epoch - 142ms/step\n",
            "\u001b[2m\u001b[36m(DefaultActor pid=13406)\u001b[0m Epoch 3/10\n",
            "\u001b[2m\u001b[36m(DefaultActor pid=13407)\u001b[0m 157/157 - 21s - loss: 0.9274 - accuracy: 0.6708 - val_loss: 1.5176 - val_accuracy: 0.4948 - 21s/epoch - 132ms/step\n",
            "\u001b[2m\u001b[36m(DefaultActor pid=13407)\u001b[0m Epoch 4/10\n",
            "\u001b[2m\u001b[36m(DefaultActor pid=13406)\u001b[0m 157/157 - 20s - loss: 0.9387 - accuracy: 0.6656 - val_loss: 1.5284 - val_accuracy: 0.4960 - 20s/epoch - 125ms/step\n",
            "\u001b[2m\u001b[36m(DefaultActor pid=13406)\u001b[0m Epoch 4/10\n",
            "\u001b[2m\u001b[36m(DefaultActor pid=13407)\u001b[0m 157/157 - 21s - loss: 0.8304 - accuracy: 0.7006 - val_loss: 1.6031 - val_accuracy: 0.4878 - 21s/epoch - 131ms/step\n",
            "\u001b[2m\u001b[36m(DefaultActor pid=13407)\u001b[0m Epoch 5/10\n",
            "\u001b[2m\u001b[36m(DefaultActor pid=13406)\u001b[0m 157/157 - 21s - loss: 0.8379 - accuracy: 0.7040 - val_loss: 1.5772 - val_accuracy: 0.4922 - 21s/epoch - 134ms/step\n",
            "\u001b[2m\u001b[36m(DefaultActor pid=13406)\u001b[0m Epoch 5/10\n",
            "\u001b[2m\u001b[36m(DefaultActor pid=13407)\u001b[0m 157/157 - 21s - loss: 0.7485 - accuracy: 0.7404 - val_loss: 1.6221 - val_accuracy: 0.4906 - 21s/epoch - 134ms/step\n",
            "\u001b[2m\u001b[36m(DefaultActor pid=13407)\u001b[0m Epoch 6/10\n",
            "\u001b[2m\u001b[36m(DefaultActor pid=13406)\u001b[0m 157/157 - 20s - loss: 0.7660 - accuracy: 0.7338 - val_loss: 1.5931 - val_accuracy: 0.4991 - 20s/epoch - 128ms/step\n",
            "\u001b[2m\u001b[36m(DefaultActor pid=13406)\u001b[0m Epoch 6/10\n",
            "\u001b[2m\u001b[36m(DefaultActor pid=13407)\u001b[0m 157/157 - 20s - loss: 0.6900 - accuracy: 0.7588 - val_loss: 1.6707 - val_accuracy: 0.4821 - 20s/epoch - 125ms/step\n",
            "\u001b[2m\u001b[36m(DefaultActor pid=13407)\u001b[0m Epoch 7/10\n",
            "\u001b[2m\u001b[36m(DefaultActor pid=13406)\u001b[0m 157/157 - 21s - loss: 0.7316 - accuracy: 0.7514 - val_loss: 1.6083 - val_accuracy: 0.4975 - 21s/epoch - 134ms/step\n",
            "\u001b[2m\u001b[36m(DefaultActor pid=13406)\u001b[0m Epoch 7/10\n",
            "\u001b[2m\u001b[36m(DefaultActor pid=13407)\u001b[0m 157/157 - 22s - loss: 0.6255 - accuracy: 0.7832 - val_loss: 1.7448 - val_accuracy: 0.4740 - 22s/epoch - 140ms/step\n",
            "\u001b[2m\u001b[36m(DefaultActor pid=13407)\u001b[0m Epoch 8/10\n",
            "\u001b[2m\u001b[36m(DefaultActor pid=13406)\u001b[0m Epoch 8/10\n",
            "\u001b[2m\u001b[36m(DefaultActor pid=13406)\u001b[0m 157/157 - 20s - loss: 0.6422 - accuracy: 0.7800 - val_loss: 1.6549 - val_accuracy: 0.4919 - 20s/epoch - 125ms/step\n",
            "\u001b[2m\u001b[36m(DefaultActor pid=13407)\u001b[0m 157/157 - 22s - loss: 0.5672 - accuracy: 0.8106 - val_loss: 1.7546 - val_accuracy: 0.4834 - 22s/epoch - 138ms/step\n",
            "\u001b[2m\u001b[36m(DefaultActor pid=13407)\u001b[0m Epoch 9/10\n",
            "\u001b[2m\u001b[36m(DefaultActor pid=13406)\u001b[0m Epoch 9/10\n",
            "\u001b[2m\u001b[36m(DefaultActor pid=13406)\u001b[0m 157/157 - 22s - loss: 0.5864 - accuracy: 0.8056 - val_loss: 1.6908 - val_accuracy: 0.4956 - 22s/epoch - 139ms/step\n",
            "\u001b[2m\u001b[36m(DefaultActor pid=13407)\u001b[0m 157/157 - 21s - loss: 0.5390 - accuracy: 0.8222 - val_loss: 1.7400 - val_accuracy: 0.4835 - 21s/epoch - 135ms/step\n",
            "\u001b[2m\u001b[36m(DefaultActor pid=13407)\u001b[0m Epoch 10/10\n",
            "\u001b[2m\u001b[36m(DefaultActor pid=13406)\u001b[0m Epoch 10/10\n",
            "\u001b[2m\u001b[36m(DefaultActor pid=13406)\u001b[0m 157/157 - 19s - loss: 0.5160 - accuracy: 0.8324 - val_loss: 1.7194 - val_accuracy: 0.4966 - 19s/epoch - 122ms/step\n",
            "\u001b[2m\u001b[36m(DefaultActor pid=13407)\u001b[0m 157/157 - 19s - loss: 0.4595 - accuracy: 0.8560 - val_loss: 1.8113 - val_accuracy: 0.4759 - 19s/epoch - 124ms/step\n",
            "\u001b[2m\u001b[36m(DefaultActor pid=13407)\u001b[0m Client Train and validate Done!!!\n"
          ]
        },
        {
          "output_type": "stream",
          "name": "stderr",
          "text": [
            "\u001b[2m\u001b[36m(DefaultActor pid=13407)\u001b[0m WARNING:absl:Skipping variable loading for optimizer 'Adam', because it has 11 variables whereas the saved optimizer has 1 variables. \n"
          ]
        },
        {
          "output_type": "stream",
          "name": "stdout",
          "text": [
            "\u001b[2m\u001b[36m(DefaultActor pid=13407)\u001b[0m round :7\n",
            "\u001b[2m\u001b[36m(DefaultActor pid=13407)\u001b[0m Train :5000\n",
            "\u001b[2m\u001b[36m(DefaultActor pid=13407)\u001b[0m Test :10000\n",
            "\u001b[2m\u001b[36m(DefaultActor pid=13407)\u001b[0m Epoch 1/10\n",
            "\u001b[2m\u001b[36m(DefaultActor pid=13406)\u001b[0m 157/157 - 22s - loss: 0.4812 - accuracy: 0.8428 - val_loss: 1.8157 - val_accuracy: 0.4881 - 22s/epoch - 141ms/step\n",
            "\u001b[2m\u001b[36m(DefaultActor pid=13406)\u001b[0m Client Train and validate Done!!!\n"
          ]
        },
        {
          "output_type": "stream",
          "name": "stderr",
          "text": [
            "\u001b[2m\u001b[36m(DefaultActor pid=13406)\u001b[0m WARNING:absl:Skipping variable loading for optimizer 'Adam', because it has 11 variables whereas the saved optimizer has 1 variables. \n"
          ]
        },
        {
          "output_type": "stream",
          "name": "stdout",
          "text": [
            "\u001b[2m\u001b[36m(DefaultActor pid=13406)\u001b[0m round :7\n",
            "\u001b[2m\u001b[36m(DefaultActor pid=13406)\u001b[0m Train :5000\n",
            "\u001b[2m\u001b[36m(DefaultActor pid=13406)\u001b[0m Test :10000\n",
            "\u001b[2m\u001b[36m(DefaultActor pid=13406)\u001b[0m Epoch 1/10\n",
            "\u001b[2m\u001b[36m(DefaultActor pid=13407)\u001b[0m 157/157 - 28s - loss: 1.2871 - accuracy: 0.5604 - val_loss: 1.4879 - val_accuracy: 0.4931 - 28s/epoch - 176ms/step\n",
            "\u001b[2m\u001b[36m(DefaultActor pid=13407)\u001b[0m Epoch 2/10\n",
            "\u001b[2m\u001b[36m(DefaultActor pid=13406)\u001b[0m Epoch 2/10\n",
            "\u001b[2m\u001b[36m(DefaultActor pid=13406)\u001b[0m 157/157 - 25s - loss: 1.2679 - accuracy: 0.5602 - val_loss: 1.4642 - val_accuracy: 0.5074 - 25s/epoch - 159ms/step\n",
            "\u001b[2m\u001b[36m(DefaultActor pid=13407)\u001b[0m 157/157 - 22s - loss: 1.0487 - accuracy: 0.6312 - val_loss: 1.4749 - val_accuracy: 0.5125 - 22s/epoch - 140ms/step\n",
            "\u001b[2m\u001b[36m(DefaultActor pid=13407)\u001b[0m Epoch 3/10\n",
            "\u001b[2m\u001b[36m(DefaultActor pid=13406)\u001b[0m Epoch 3/10\n",
            "\u001b[2m\u001b[36m(DefaultActor pid=13407)\u001b[0m 157/157 - 20s - loss: 0.9170 - accuracy: 0.6756 - val_loss: 1.5107 - val_accuracy: 0.5021 - 20s/epoch - 125ms/step\u001b[32m [repeated 2x across cluster]\u001b[0m\n",
            "\u001b[2m\u001b[36m(DefaultActor pid=13407)\u001b[0m Epoch 4/10\n",
            "\u001b[2m\u001b[36m(DefaultActor pid=13406)\u001b[0m Epoch 4/10\n",
            "\u001b[2m\u001b[36m(DefaultActor pid=13406)\u001b[0m 157/157 - 20s - loss: 0.9132 - accuracy: 0.6704 - val_loss: 1.5213 - val_accuracy: 0.4923 - 20s/epoch - 128ms/step\n",
            "\u001b[2m\u001b[36m(DefaultActor pid=13407)\u001b[0m 157/157 - 21s - loss: 0.8295 - accuracy: 0.7102 - val_loss: 1.5462 - val_accuracy: 0.5017 - 21s/epoch - 133ms/step\n",
            "\u001b[2m\u001b[36m(DefaultActor pid=13407)\u001b[0m Epoch 5/10\n",
            "\u001b[2m\u001b[36m(DefaultActor pid=13406)\u001b[0m Epoch 5/10\n",
            "\u001b[2m\u001b[36m(DefaultActor pid=13407)\u001b[0m 157/157 - 21s - loss: 0.7456 - accuracy: 0.7422 - val_loss: 1.5715 - val_accuracy: 0.5004 - 21s/epoch - 131ms/step\u001b[32m [repeated 2x across cluster]\u001b[0m\n",
            "\u001b[2m\u001b[36m(DefaultActor pid=13407)\u001b[0m Epoch 6/10\n",
            "\u001b[2m\u001b[36m(DefaultActor pid=13406)\u001b[0m Epoch 6/10\n",
            "\u001b[2m\u001b[36m(DefaultActor pid=13406)\u001b[0m 157/157 - 21s - loss: 0.7254 - accuracy: 0.7500 - val_loss: 1.5795 - val_accuracy: 0.4955 - 21s/epoch - 133ms/step\n",
            "\u001b[2m\u001b[36m(DefaultActor pid=13407)\u001b[0m 157/157 - 21s - loss: 0.6637 - accuracy: 0.7690 - val_loss: 1.6210 - val_accuracy: 0.4986 - 21s/epoch - 133ms/step\n",
            "\u001b[2m\u001b[36m(DefaultActor pid=13407)\u001b[0m Epoch 7/10\n",
            "\u001b[2m\u001b[36m(DefaultActor pid=13406)\u001b[0m Epoch 7/10\n",
            "\u001b[2m\u001b[36m(DefaultActor pid=13407)\u001b[0m 157/157 - 20s - loss: 0.6189 - accuracy: 0.7940 - val_loss: 1.7115 - val_accuracy: 0.4816 - 20s/epoch - 129ms/step\u001b[32m [repeated 2x across cluster]\u001b[0m\n",
            "\u001b[2m\u001b[36m(DefaultActor pid=13407)\u001b[0m Epoch 8/10\n",
            "\u001b[2m\u001b[36m(DefaultActor pid=13406)\u001b[0m Epoch 8/10\n",
            "\u001b[2m\u001b[36m(DefaultActor pid=13407)\u001b[0m 157/157 - 22s - loss: 0.5747 - accuracy: 0.8050 - val_loss: 1.7384 - val_accuracy: 0.4925 - 22s/epoch - 139ms/step\u001b[32m [repeated 2x across cluster]\u001b[0m\n",
            "\u001b[2m\u001b[36m(DefaultActor pid=13407)\u001b[0m Epoch 9/10\n",
            "\u001b[2m\u001b[36m(DefaultActor pid=13406)\u001b[0m Epoch 9/10\n",
            "\u001b[2m\u001b[36m(DefaultActor pid=13407)\u001b[0m 157/157 - 20s - loss: 0.5009 - accuracy: 0.8356 - val_loss: 1.7653 - val_accuracy: 0.4914 - 20s/epoch - 127ms/step\u001b[32m [repeated 2x across cluster]\u001b[0m\n",
            "\u001b[2m\u001b[36m(DefaultActor pid=13407)\u001b[0m Epoch 10/10\n",
            "\u001b[2m\u001b[36m(DefaultActor pid=13406)\u001b[0m Epoch 10/10\n",
            "\u001b[2m\u001b[36m(DefaultActor pid=13407)\u001b[0m Client Train and validate Done!!!\n",
            "\u001b[2m\u001b[36m(DefaultActor pid=13407)\u001b[0m 157/157 - 21s - loss: 0.4807 - accuracy: 0.8456 - val_loss: 1.8227 - val_accuracy: 0.4909 - 21s/epoch - 133ms/step\u001b[32m [repeated 2x across cluster]\u001b[0m\n"
          ]
        },
        {
          "output_type": "stream",
          "name": "stderr",
          "text": [
            "DEBUG flwr 2024-02-07 22:07:52,356 | server.py:236 | fit_round 7 received 10 results and 0 failures\n",
            "DEBUG:flwr:fit_round 7 received 10 results and 0 failures\n",
            "DEBUG flwr 2024-02-07 22:07:52,383 | server.py:173 | evaluate_round 7: strategy sampled 10 clients (out of 10)\n",
            "DEBUG:flwr:evaluate_round 7: strategy sampled 10 clients (out of 10)\n",
            "\u001b[2m\u001b[36m(DefaultActor pid=13406)\u001b[0m WARNING:absl:Skipping variable loading for optimizer 'Adam', because it has 11 variables whereas the saved optimizer has 1 variables. \n"
          ]
        },
        {
          "output_type": "stream",
          "name": "stdout",
          "text": [
            "\u001b[2m\u001b[36m(DefaultActor pid=13407)\u001b[0m 10000/10000 - 130s - loss: 1.6383 - accuracy: 0.5323 - 130s/epoch - 13ms/step\n",
            "\u001b[2m\u001b[36m(DefaultActor pid=13407)\u001b[0m Global Validate Done!!!\n",
            "\u001b[2m\u001b[36m(DefaultActor pid=13406)\u001b[0m Client Train and validate Done!!!\n",
            "\u001b[2m\u001b[36m(DefaultActor pid=13406)\u001b[0m 157/157 - 18s - loss: 0.4440 - accuracy: 0.8624 - val_loss: 1.8660 - val_accuracy: 0.4747 - 18s/epoch - 117ms/step\n"
          ]
        },
        {
          "output_type": "stream",
          "name": "stderr",
          "text": [
            "\u001b[2m\u001b[36m(DefaultActor pid=13407)\u001b[0m WARNING:absl:Skipping variable loading for optimizer 'Adam', because it has 11 variables whereas the saved optimizer has 1 variables. \u001b[32m [repeated 2x across cluster]\u001b[0m\n"
          ]
        },
        {
          "output_type": "stream",
          "name": "stdout",
          "text": [
            "\u001b[2m\u001b[36m(DefaultActor pid=13407)\u001b[0m 10000/10000 - 136s - loss: 1.6383 - accuracy: 0.5323 - 136s/epoch - 14ms/step\u001b[32m [repeated 2x across cluster]\u001b[0m\n",
            "\u001b[2m\u001b[36m(DefaultActor pid=13407)\u001b[0m Global Validate Done!!!\u001b[32m [repeated 2x across cluster]\u001b[0m\n"
          ]
        },
        {
          "output_type": "stream",
          "name": "stderr",
          "text": [
            "\u001b[2m\u001b[36m(DefaultActor pid=13407)\u001b[0m WARNING:absl:Skipping variable loading for optimizer 'Adam', because it has 11 variables whereas the saved optimizer has 1 variables. \u001b[32m [repeated 2x across cluster]\u001b[0m\n"
          ]
        },
        {
          "output_type": "stream",
          "name": "stdout",
          "text": [
            "\u001b[2m\u001b[36m(DefaultActor pid=13406)\u001b[0m 10000/10000 - 140s - loss: 1.6383 - accuracy: 0.5323 - 140s/epoch - 14ms/step\n",
            "\u001b[2m\u001b[36m(DefaultActor pid=13406)\u001b[0m Global Validate Done!!!\n"
          ]
        },
        {
          "output_type": "stream",
          "name": "stderr",
          "text": [
            "\u001b[2m\u001b[36m(DefaultActor pid=13406)\u001b[0m WARNING:absl:Skipping variable loading for optimizer 'Adam', because it has 11 variables whereas the saved optimizer has 1 variables. \n"
          ]
        },
        {
          "output_type": "stream",
          "name": "stdout",
          "text": [
            "\u001b[2m\u001b[36m(DefaultActor pid=13407)\u001b[0m 10000/10000 - 137s - loss: 1.6383 - accuracy: 0.5323 - 137s/epoch - 14ms/step\n",
            "\u001b[2m\u001b[36m(DefaultActor pid=13407)\u001b[0m Global Validate Done!!!\n"
          ]
        },
        {
          "output_type": "stream",
          "name": "stderr",
          "text": [
            "\u001b[2m\u001b[36m(DefaultActor pid=13407)\u001b[0m WARNING:absl:Skipping variable loading for optimizer 'Adam', because it has 11 variables whereas the saved optimizer has 1 variables. \n"
          ]
        },
        {
          "output_type": "stream",
          "name": "stdout",
          "text": [
            "\u001b[2m\u001b[36m(DefaultActor pid=13406)\u001b[0m 10000/10000 - 138s - loss: 1.6383 - accuracy: 0.5323 - 138s/epoch - 14ms/step\n",
            "\u001b[2m\u001b[36m(DefaultActor pid=13406)\u001b[0m Global Validate Done!!!\n"
          ]
        },
        {
          "output_type": "stream",
          "name": "stderr",
          "text": [
            "\u001b[2m\u001b[36m(DefaultActor pid=13406)\u001b[0m WARNING:absl:Skipping variable loading for optimizer 'Adam', because it has 11 variables whereas the saved optimizer has 1 variables. \n"
          ]
        },
        {
          "output_type": "stream",
          "name": "stdout",
          "text": [
            "\u001b[2m\u001b[36m(DefaultActor pid=13407)\u001b[0m 10000/10000 - 134s - loss: 1.6383 - accuracy: 0.5323 - 134s/epoch - 13ms/step\n",
            "\u001b[2m\u001b[36m(DefaultActor pid=13407)\u001b[0m Global Validate Done!!!\n"
          ]
        },
        {
          "output_type": "stream",
          "name": "stderr",
          "text": [
            "\u001b[2m\u001b[36m(DefaultActor pid=13407)\u001b[0m WARNING:absl:Skipping variable loading for optimizer 'Adam', because it has 11 variables whereas the saved optimizer has 1 variables. \n"
          ]
        },
        {
          "output_type": "stream",
          "name": "stdout",
          "text": [
            "\u001b[2m\u001b[36m(DefaultActor pid=13406)\u001b[0m 10000/10000 - 137s - loss: 1.6383 - accuracy: 0.5323 - 137s/epoch - 14ms/step\n",
            "\u001b[2m\u001b[36m(DefaultActor pid=13406)\u001b[0m Global Validate Done!!!\n"
          ]
        },
        {
          "output_type": "stream",
          "name": "stderr",
          "text": [
            "\u001b[2m\u001b[36m(DefaultActor pid=13406)\u001b[0m WARNING:absl:Skipping variable loading for optimizer 'Adam', because it has 11 variables whereas the saved optimizer has 1 variables. \n"
          ]
        },
        {
          "output_type": "stream",
          "name": "stdout",
          "text": [
            "\u001b[2m\u001b[36m(DefaultActor pid=13407)\u001b[0m 10000/10000 - 135s - loss: 1.6383 - accuracy: 0.5323 - 135s/epoch - 13ms/step\n",
            "\u001b[2m\u001b[36m(DefaultActor pid=13407)\u001b[0m Global Validate Done!!!\n"
          ]
        },
        {
          "output_type": "stream",
          "name": "stderr",
          "text": [
            "DEBUG flwr 2024-02-07 22:19:17,863 | server.py:187 | evaluate_round 7 received 10 results and 0 failures\n",
            "DEBUG:flwr:evaluate_round 7 received 10 results and 0 failures\n",
            "DEBUG flwr 2024-02-07 22:19:17,868 | server.py:222 | fit_round 8: strategy sampled 10 clients (out of 10)\n",
            "DEBUG:flwr:fit_round 8: strategy sampled 10 clients (out of 10)\n",
            "\u001b[2m\u001b[36m(DefaultActor pid=13406)\u001b[0m WARNING:absl:Skipping variable loading for optimizer 'Adam', because it has 11 variables whereas the saved optimizer has 1 variables. \n"
          ]
        },
        {
          "output_type": "stream",
          "name": "stdout",
          "text": [
            "\u001b[2m\u001b[36m(DefaultActor pid=13406)\u001b[0m round :8\n",
            "\u001b[2m\u001b[36m(DefaultActor pid=13406)\u001b[0m Train :5000\n",
            "\u001b[2m\u001b[36m(DefaultActor pid=13406)\u001b[0m Test :10000\n",
            "\u001b[2m\u001b[36m(DefaultActor pid=13406)\u001b[0m Epoch 1/10\n",
            "\u001b[2m\u001b[36m(DefaultActor pid=13406)\u001b[0m 10000/10000 - 130s - loss: 1.6383 - accuracy: 0.5323 - 130s/epoch - 13ms/step\n",
            "\u001b[2m\u001b[36m(DefaultActor pid=13406)\u001b[0m Global Validate Done!!!\n",
            "\u001b[2m\u001b[36m(DefaultActor pid=13406)\u001b[0m 157/157 - 28s - loss: 1.2619 - accuracy: 0.5744 - val_loss: 1.4784 - val_accuracy: 0.5071 - 28s/epoch - 178ms/step\n",
            "\u001b[2m\u001b[36m(DefaultActor pid=13407)\u001b[0m round :8\n",
            "\u001b[2m\u001b[36m(DefaultActor pid=13407)\u001b[0m Train :5000\n",
            "\u001b[2m\u001b[36m(DefaultActor pid=13407)\u001b[0m Test :10000\n",
            "\u001b[2m\u001b[36m(DefaultActor pid=13406)\u001b[0m Epoch 2/10\u001b[32m [repeated 2x across cluster]\u001b[0m\n",
            "\u001b[2m\u001b[36m(DefaultActor pid=13407)\u001b[0m 157/157 - 23s - loss: 1.0138 - accuracy: 0.6322 - val_loss: 1.4765 - val_accuracy: 0.5090 - 23s/epoch - 145ms/step\u001b[32m [repeated 2x across cluster]\u001b[0m\n",
            "\u001b[2m\u001b[36m(DefaultActor pid=13407)\u001b[0m Epoch 3/10\u001b[32m [repeated 2x across cluster]\u001b[0m\n",
            "\u001b[2m\u001b[36m(DefaultActor pid=13407)\u001b[0m 157/157 - 21s - loss: 0.8846 - accuracy: 0.6868 - val_loss: 1.5226 - val_accuracy: 0.5010 - 21s/epoch - 135ms/step\u001b[32m [repeated 2x across cluster]\u001b[0m\n",
            "\u001b[2m\u001b[36m(DefaultActor pid=13407)\u001b[0m Epoch 4/10\u001b[32m [repeated 2x across cluster]\u001b[0m\n",
            "\u001b[2m\u001b[36m(DefaultActor pid=13407)\u001b[0m 157/157 - 21s - loss: 0.7883 - accuracy: 0.7208 - val_loss: 1.5707 - val_accuracy: 0.4972 - 21s/epoch - 134ms/step\u001b[32m [repeated 2x across cluster]\u001b[0m\n",
            "\u001b[2m\u001b[36m(DefaultActor pid=13407)\u001b[0m Epoch 5/10\u001b[32m [repeated 2x across cluster]\u001b[0m\n",
            "\u001b[2m\u001b[36m(DefaultActor pid=13407)\u001b[0m 157/157 - 23s - loss: 0.6852 - accuracy: 0.7622 - val_loss: 1.6403 - val_accuracy: 0.4914 - 23s/epoch - 146ms/step\u001b[32m [repeated 2x across cluster]\u001b[0m\n",
            "\u001b[2m\u001b[36m(DefaultActor pid=13407)\u001b[0m Epoch 6/10\u001b[32m [repeated 2x across cluster]\u001b[0m\n",
            "\u001b[2m\u001b[36m(DefaultActor pid=13407)\u001b[0m 157/157 - 22s - loss: 0.6051 - accuracy: 0.7920 - val_loss: 1.6949 - val_accuracy: 0.4860 - 22s/epoch - 139ms/step\u001b[32m [repeated 2x across cluster]\u001b[0m\n",
            "\u001b[2m\u001b[36m(DefaultActor pid=13407)\u001b[0m Epoch 7/10\u001b[32m [repeated 2x across cluster]\u001b[0m\n",
            "\u001b[2m\u001b[36m(DefaultActor pid=13407)\u001b[0m 157/157 - 22s - loss: 0.5482 - accuracy: 0.8190 - val_loss: 1.7272 - val_accuracy: 0.4893 - 22s/epoch - 143ms/step\u001b[32m [repeated 2x across cluster]\u001b[0m\n",
            "\u001b[2m\u001b[36m(DefaultActor pid=13407)\u001b[0m Epoch 8/10\u001b[32m [repeated 2x across cluster]\u001b[0m\n",
            "\u001b[2m\u001b[36m(DefaultActor pid=13407)\u001b[0m 157/157 - 21s - loss: 0.5178 - accuracy: 0.8262 - val_loss: 1.7334 - val_accuracy: 0.4871 - 21s/epoch - 132ms/step\u001b[32m [repeated 2x across cluster]\u001b[0m\n",
            "\u001b[2m\u001b[36m(DefaultActor pid=13407)\u001b[0m Epoch 9/10\u001b[32m [repeated 2x across cluster]\u001b[0m\n",
            "\u001b[2m\u001b[36m(DefaultActor pid=13407)\u001b[0m 157/157 - 23s - loss: 0.4880 - accuracy: 0.8384 - val_loss: 1.8126 - val_accuracy: 0.4823 - 23s/epoch - 150ms/step\u001b[32m [repeated 2x across cluster]\u001b[0m\n",
            "\u001b[2m\u001b[36m(DefaultActor pid=13407)\u001b[0m Epoch 10/10\u001b[32m [repeated 2x across cluster]\u001b[0m\n",
            "\u001b[2m\u001b[36m(DefaultActor pid=13407)\u001b[0m Client Train and validate Done!!!\n",
            "\u001b[2m\u001b[36m(DefaultActor pid=13407)\u001b[0m 157/157 - 23s - loss: 0.4345 - accuracy: 0.8578 - val_loss: 1.8558 - val_accuracy: 0.4750 - 23s/epoch - 146ms/step\u001b[32m [repeated 2x across cluster]\u001b[0m\n",
            "\u001b[2m\u001b[36m(DefaultActor pid=13406)\u001b[0m Epoch 10/10\n",
            "\u001b[2m\u001b[36m(DefaultActor pid=13407)\u001b[0m round :8\n",
            "\u001b[2m\u001b[36m(DefaultActor pid=13407)\u001b[0m Train :5000\n",
            "\u001b[2m\u001b[36m(DefaultActor pid=13407)\u001b[0m Test :10000\n"
          ]
        },
        {
          "output_type": "stream",
          "name": "stderr",
          "text": [
            "\u001b[2m\u001b[36m(DefaultActor pid=13407)\u001b[0m WARNING:absl:Skipping variable loading for optimizer 'Adam', because it has 11 variables whereas the saved optimizer has 1 variables. \u001b[32m [repeated 2x across cluster]\u001b[0m\n"
          ]
        },
        {
          "output_type": "stream",
          "name": "stdout",
          "text": [
            "\u001b[2m\u001b[36m(DefaultActor pid=13407)\u001b[0m Epoch 1/10\n",
            "\u001b[2m\u001b[36m(DefaultActor pid=13406)\u001b[0m Client Train and validate Done!!!\n",
            "\u001b[2m\u001b[36m(DefaultActor pid=13407)\u001b[0m 157/157 - 33s - loss: 1.2516 - accuracy: 0.5718 - val_loss: 1.4659 - val_accuracy: 0.5104 - 33s/epoch - 209ms/step\u001b[32m [repeated 2x across cluster]\u001b[0m\n",
            "\u001b[2m\u001b[36m(DefaultActor pid=13406)\u001b[0m round :8\n",
            "\u001b[2m\u001b[36m(DefaultActor pid=13406)\u001b[0m Train :5000\n",
            "\u001b[2m\u001b[36m(DefaultActor pid=13406)\u001b[0m Test :10000\n",
            "\u001b[2m\u001b[36m(DefaultActor pid=13407)\u001b[0m Epoch 2/10\u001b[32m [repeated 2x across cluster]\u001b[0m\n",
            "\u001b[2m\u001b[36m(DefaultActor pid=13407)\u001b[0m 157/157 - 21s - loss: 0.9979 - accuracy: 0.6494 - val_loss: 1.5033 - val_accuracy: 0.5118 - 21s/epoch - 132ms/step\u001b[32m [repeated 2x across cluster]\u001b[0m\n",
            "\u001b[2m\u001b[36m(DefaultActor pid=13407)\u001b[0m Epoch 3/10\u001b[32m [repeated 2x across cluster]\u001b[0m\n",
            "\u001b[2m\u001b[36m(DefaultActor pid=13407)\u001b[0m 157/157 - 24s - loss: 0.8642 - accuracy: 0.6870 - val_loss: 1.5225 - val_accuracy: 0.5132 - 24s/epoch - 150ms/step\u001b[32m [repeated 2x across cluster]\u001b[0m\n",
            "\u001b[2m\u001b[36m(DefaultActor pid=13407)\u001b[0m Epoch 4/10\u001b[32m [repeated 2x across cluster]\u001b[0m\n",
            "\u001b[2m\u001b[36m(DefaultActor pid=13407)\u001b[0m 157/157 - 20s - loss: 0.7610 - accuracy: 0.7328 - val_loss: 1.5468 - val_accuracy: 0.5139 - 20s/epoch - 130ms/step\u001b[32m [repeated 2x across cluster]\u001b[0m\n",
            "\u001b[2m\u001b[36m(DefaultActor pid=13407)\u001b[0m Epoch 5/10\u001b[32m [repeated 2x across cluster]\u001b[0m\n",
            "\u001b[2m\u001b[36m(DefaultActor pid=13407)\u001b[0m 157/157 - 23s - loss: 0.6803 - accuracy: 0.7632 - val_loss: 1.6378 - val_accuracy: 0.5063 - 23s/epoch - 147ms/step\u001b[32m [repeated 2x across cluster]\u001b[0m\n",
            "\u001b[2m\u001b[36m(DefaultActor pid=13407)\u001b[0m Epoch 6/10\u001b[32m [repeated 2x across cluster]\u001b[0m\n",
            "\u001b[2m\u001b[36m(DefaultActor pid=13407)\u001b[0m 157/157 - 21s - loss: 0.6210 - accuracy: 0.7882 - val_loss: 1.6758 - val_accuracy: 0.4973 - 21s/epoch - 135ms/step\u001b[32m [repeated 2x across cluster]\u001b[0m\n",
            "\u001b[2m\u001b[36m(DefaultActor pid=13407)\u001b[0m Epoch 7/10\u001b[32m [repeated 2x across cluster]\u001b[0m\n",
            "\u001b[2m\u001b[36m(DefaultActor pid=13406)\u001b[0m 157/157 - 24s - loss: 0.5973 - accuracy: 0.7978 - val_loss: 1.6611 - val_accuracy: 0.4984 - 24s/epoch - 150ms/step\n",
            "\u001b[2m\u001b[36m(DefaultActor pid=13406)\u001b[0m Epoch 7/10\n",
            "\u001b[2m\u001b[36m(DefaultActor pid=13407)\u001b[0m 157/157 - 22s - loss: 0.5283 - accuracy: 0.8228 - val_loss: 1.7039 - val_accuracy: 0.4892 - 22s/epoch - 137ms/step\n",
            "\u001b[2m\u001b[36m(DefaultActor pid=13407)\u001b[0m Epoch 8/10\n",
            "\u001b[2m\u001b[36m(DefaultActor pid=13407)\u001b[0m 157/157 - 25s - loss: 0.4908 - accuracy: 0.8476 - val_loss: 1.8212 - val_accuracy: 0.4880 - 25s/epoch - 157ms/step\u001b[32m [repeated 2x across cluster]\u001b[0m\n",
            "\u001b[2m\u001b[36m(DefaultActor pid=13407)\u001b[0m Epoch 9/10\u001b[32m [repeated 2x across cluster]\u001b[0m\n",
            "\u001b[2m\u001b[36m(DefaultActor pid=13407)\u001b[0m 157/157 - 23s - loss: 0.4790 - accuracy: 0.8474 - val_loss: 1.8212 - val_accuracy: 0.4887 - 23s/epoch - 143ms/step\u001b[32m [repeated 2x across cluster]\u001b[0m\n",
            "\u001b[2m\u001b[36m(DefaultActor pid=13407)\u001b[0m Epoch 10/10\u001b[32m [repeated 2x across cluster]\u001b[0m\n",
            "\u001b[2m\u001b[36m(DefaultActor pid=13406)\u001b[0m 157/157 - 25s - loss: 0.4275 - accuracy: 0.8662 - val_loss: 1.8111 - val_accuracy: 0.4978 - 25s/epoch - 157ms/step\n",
            "\u001b[2m\u001b[36m(DefaultActor pid=13406)\u001b[0m Epoch 10/10\n",
            "\u001b[2m\u001b[36m(DefaultActor pid=13407)\u001b[0m 157/157 - 23s - loss: 0.4075 - accuracy: 0.8724 - val_loss: 1.8202 - val_accuracy: 0.4927 - 23s/epoch - 144ms/step\n",
            "\u001b[2m\u001b[36m(DefaultActor pid=13407)\u001b[0m Client Train and validate Done!!!\n"
          ]
        },
        {
          "output_type": "stream",
          "name": "stderr",
          "text": [
            "\u001b[2m\u001b[36m(DefaultActor pid=13407)\u001b[0m WARNING:absl:Skipping variable loading for optimizer 'Adam', because it has 11 variables whereas the saved optimizer has 1 variables. \u001b[32m [repeated 2x across cluster]\u001b[0m\n"
          ]
        },
        {
          "output_type": "stream",
          "name": "stdout",
          "text": [
            "\u001b[2m\u001b[36m(DefaultActor pid=13407)\u001b[0m round :8\n",
            "\u001b[2m\u001b[36m(DefaultActor pid=13407)\u001b[0m Train :5000\n",
            "\u001b[2m\u001b[36m(DefaultActor pid=13407)\u001b[0m Test :10000\n",
            "\u001b[2m\u001b[36m(DefaultActor pid=13407)\u001b[0m Epoch 1/10\n",
            "\u001b[2m\u001b[36m(DefaultActor pid=13406)\u001b[0m 157/157 - 22s - loss: 0.3885 - accuracy: 0.8806 - val_loss: 1.8749 - val_accuracy: 0.4886 - 22s/epoch - 139ms/step\n",
            "\u001b[2m\u001b[36m(DefaultActor pid=13406)\u001b[0m Client Train and validate Done!!!\n",
            "\u001b[2m\u001b[36m(DefaultActor pid=13406)\u001b[0m round :8\n",
            "\u001b[2m\u001b[36m(DefaultActor pid=13406)\u001b[0m Train :5000\n",
            "\u001b[2m\u001b[36m(DefaultActor pid=13406)\u001b[0m Test :10000\n",
            "\u001b[2m\u001b[36m(DefaultActor pid=13407)\u001b[0m 157/157 - 29s - loss: 1.2640 - accuracy: 0.5612 - val_loss: 1.4894 - val_accuracy: 0.5090 - 29s/epoch - 184ms/step\n",
            "\u001b[2m\u001b[36m(DefaultActor pid=13407)\u001b[0m Epoch 2/10\u001b[32m [repeated 2x across cluster]\u001b[0m\n",
            "\u001b[2m\u001b[36m(DefaultActor pid=13406)\u001b[0m 157/157 - 31s - loss: 1.2642 - accuracy: 0.5630 - val_loss: 1.4632 - val_accuracy: 0.5050 - 31s/epoch - 199ms/step\n",
            "\u001b[2m\u001b[36m(DefaultActor pid=13406)\u001b[0m Epoch 2/10\n",
            "\u001b[2m\u001b[36m(DefaultActor pid=13407)\u001b[0m 157/157 - 21s - loss: 0.9871 - accuracy: 0.6412 - val_loss: 1.4832 - val_accuracy: 0.5121 - 21s/epoch - 135ms/step\n",
            "\u001b[2m\u001b[36m(DefaultActor pid=13407)\u001b[0m Epoch 3/10\n",
            "\u001b[2m\u001b[36m(DefaultActor pid=13406)\u001b[0m Epoch 3/10\n",
            "\u001b[2m\u001b[36m(DefaultActor pid=13406)\u001b[0m 157/157 - 21s - loss: 1.0004 - accuracy: 0.6426 - val_loss: 1.5242 - val_accuracy: 0.5059 - 21s/epoch - 136ms/step\n",
            "\u001b[2m\u001b[36m(DefaultActor pid=13407)\u001b[0m 157/157 - 22s - loss: 0.8359 - accuracy: 0.7026 - val_loss: 1.5685 - val_accuracy: 0.4965 - 22s/epoch - 140ms/step\n",
            "\u001b[2m\u001b[36m(DefaultActor pid=13407)\u001b[0m Epoch 4/10\n",
            "\u001b[2m\u001b[36m(DefaultActor pid=13406)\u001b[0m Epoch 4/10\n",
            "\u001b[2m\u001b[36m(DefaultActor pid=13406)\u001b[0m 157/157 - 22s - loss: 0.8832 - accuracy: 0.6862 - val_loss: 1.5885 - val_accuracy: 0.4964 - 22s/epoch - 142ms/step\n",
            "\u001b[2m\u001b[36m(DefaultActor pid=13407)\u001b[0m 157/157 - 24s - loss: 0.7425 - accuracy: 0.7386 - val_loss: 1.6367 - val_accuracy: 0.4904 - 24s/epoch - 155ms/step\n",
            "\u001b[2m\u001b[36m(DefaultActor pid=13407)\u001b[0m Epoch 5/10\n",
            "\u001b[2m\u001b[36m(DefaultActor pid=13406)\u001b[0m Epoch 5/10\n",
            "\u001b[2m\u001b[36m(DefaultActor pid=13406)\u001b[0m 157/157 - 24s - loss: 0.7594 - accuracy: 0.7336 - val_loss: 1.6019 - val_accuracy: 0.5020 - 24s/epoch - 153ms/step\n",
            "\u001b[2m\u001b[36m(DefaultActor pid=13407)\u001b[0m 157/157 - 28s - loss: 0.6620 - accuracy: 0.7624 - val_loss: 1.6253 - val_accuracy: 0.4947 - 28s/epoch - 175ms/step\n",
            "\u001b[2m\u001b[36m(DefaultActor pid=13407)\u001b[0m Epoch 6/10\n",
            "\u001b[2m\u001b[36m(DefaultActor pid=13406)\u001b[0m Epoch 6/10\n",
            "\u001b[2m\u001b[36m(DefaultActor pid=13406)\u001b[0m 157/157 - 27s - loss: 0.6808 - accuracy: 0.7648 - val_loss: 1.6671 - val_accuracy: 0.4898 - 27s/epoch - 173ms/step\n",
            "\u001b[2m\u001b[36m(DefaultActor pid=13407)\u001b[0m 157/157 - 20s - loss: 0.5822 - accuracy: 0.8066 - val_loss: 1.7142 - val_accuracy: 0.4968 - 20s/epoch - 129ms/step\n",
            "\u001b[2m\u001b[36m(DefaultActor pid=13407)\u001b[0m Epoch 7/10\n",
            "\u001b[2m\u001b[36m(DefaultActor pid=13406)\u001b[0m Epoch 7/10\n",
            "\u001b[2m\u001b[36m(DefaultActor pid=13406)\u001b[0m 157/157 - 23s - loss: 0.6226 - accuracy: 0.7912 - val_loss: 1.7308 - val_accuracy: 0.4833 - 23s/epoch - 149ms/step\n",
            "\u001b[2m\u001b[36m(DefaultActor pid=13407)\u001b[0m 157/157 - 22s - loss: 0.5247 - accuracy: 0.8260 - val_loss: 1.7733 - val_accuracy: 0.4930 - 22s/epoch - 139ms/step\n",
            "\u001b[2m\u001b[36m(DefaultActor pid=13407)\u001b[0m Epoch 8/10\n",
            "\u001b[2m\u001b[36m(DefaultActor pid=13406)\u001b[0m Epoch 8/10\n",
            "\u001b[2m\u001b[36m(DefaultActor pid=13406)\u001b[0m 157/157 - 21s - loss: 0.5775 - accuracy: 0.8070 - val_loss: 1.7807 - val_accuracy: 0.4851 - 21s/epoch - 131ms/step\n",
            "\u001b[2m\u001b[36m(DefaultActor pid=13407)\u001b[0m 157/157 - 21s - loss: 0.4667 - accuracy: 0.8492 - val_loss: 1.7948 - val_accuracy: 0.4877 - 21s/epoch - 137ms/step\n",
            "\u001b[2m\u001b[36m(DefaultActor pid=13407)\u001b[0m Epoch 9/10\n",
            "\u001b[2m\u001b[36m(DefaultActor pid=13406)\u001b[0m Epoch 9/10\n",
            "\u001b[2m\u001b[36m(DefaultActor pid=13406)\u001b[0m 157/157 - 22s - loss: 0.5013 - accuracy: 0.8366 - val_loss: 1.7908 - val_accuracy: 0.4859 - 22s/epoch - 143ms/step\n",
            "\u001b[2m\u001b[36m(DefaultActor pid=13407)\u001b[0m 157/157 - 22s - loss: 0.4177 - accuracy: 0.8700 - val_loss: 1.8286 - val_accuracy: 0.4914 - 22s/epoch - 139ms/step\n",
            "\u001b[2m\u001b[36m(DefaultActor pid=13407)\u001b[0m Epoch 10/10\n",
            "\u001b[2m\u001b[36m(DefaultActor pid=13406)\u001b[0m Epoch 10/10\n",
            "\u001b[2m\u001b[36m(DefaultActor pid=13406)\u001b[0m 157/157 - 23s - loss: 0.4383 - accuracy: 0.8624 - val_loss: 1.8602 - val_accuracy: 0.4723 - 23s/epoch - 147ms/step\n",
            "\u001b[2m\u001b[36m(DefaultActor pid=13407)\u001b[0m 157/157 - 20s - loss: 0.3887 - accuracy: 0.8796 - val_loss: 1.8909 - val_accuracy: 0.4883 - 20s/epoch - 127ms/step\n",
            "\u001b[2m\u001b[36m(DefaultActor pid=13407)\u001b[0m Client Train and validate Done!!!\n",
            "\u001b[2m\u001b[36m(DefaultActor pid=13407)\u001b[0m round :8\n",
            "\u001b[2m\u001b[36m(DefaultActor pid=13407)\u001b[0m Train :5000\n",
            "\u001b[2m\u001b[36m(DefaultActor pid=13407)\u001b[0m Test :10000\n"
          ]
        },
        {
          "output_type": "stream",
          "name": "stderr",
          "text": [
            "\u001b[2m\u001b[36m(DefaultActor pid=13407)\u001b[0m WARNING:absl:Skipping variable loading for optimizer 'Adam', because it has 11 variables whereas the saved optimizer has 1 variables. \u001b[32m [repeated 2x across cluster]\u001b[0m\n"
          ]
        },
        {
          "output_type": "stream",
          "name": "stdout",
          "text": [
            "\u001b[2m\u001b[36m(DefaultActor pid=13407)\u001b[0m Epoch 1/10\n",
            "\u001b[2m\u001b[36m(DefaultActor pid=13406)\u001b[0m 157/157 - 22s - loss: 0.4120 - accuracy: 0.8686 - val_loss: 1.9084 - val_accuracy: 0.4719 - 22s/epoch - 142ms/step\n",
            "\u001b[2m\u001b[36m(DefaultActor pid=13406)\u001b[0m Client Train and validate Done!!!\n",
            "\u001b[2m\u001b[36m(DefaultActor pid=13406)\u001b[0m round :8\n",
            "\u001b[2m\u001b[36m(DefaultActor pid=13406)\u001b[0m Train :5000\n",
            "\u001b[2m\u001b[36m(DefaultActor pid=13406)\u001b[0m Test :10000\n"
          ]
        },
        {
          "output_type": "stream",
          "name": "stderr",
          "text": [
            "\u001b[2m\u001b[36m(DefaultActor pid=13406)\u001b[0m WARNING:absl:Skipping variable loading for optimizer 'Adam', because it has 11 variables whereas the saved optimizer has 1 variables. \n"
          ]
        },
        {
          "output_type": "stream",
          "name": "stdout",
          "text": [
            "\u001b[2m\u001b[36m(DefaultActor pid=13406)\u001b[0m Epoch 1/10\n",
            "\u001b[2m\u001b[36m(DefaultActor pid=13407)\u001b[0m 157/157 - 28s - loss: 1.2446 - accuracy: 0.5754 - val_loss: 1.4770 - val_accuracy: 0.5049 - 28s/epoch - 175ms/step\n",
            "\u001b[2m\u001b[36m(DefaultActor pid=13407)\u001b[0m Epoch 2/10\n",
            "\u001b[2m\u001b[36m(DefaultActor pid=13406)\u001b[0m Epoch 2/10\n",
            "\u001b[2m\u001b[36m(DefaultActor pid=13406)\u001b[0m 157/157 - 30s - loss: 1.2443 - accuracy: 0.5744 - val_loss: 1.4687 - val_accuracy: 0.5062 - 30s/epoch - 188ms/step\n",
            "\u001b[2m\u001b[36m(DefaultActor pid=13407)\u001b[0m 157/157 - 23s - loss: 0.9875 - accuracy: 0.6464 - val_loss: 1.5235 - val_accuracy: 0.5060 - 23s/epoch - 146ms/step\n",
            "\u001b[2m\u001b[36m(DefaultActor pid=13407)\u001b[0m Epoch 3/10\n",
            "\u001b[2m\u001b[36m(DefaultActor pid=13406)\u001b[0m 157/157 - 22s - loss: 0.9936 - accuracy: 0.6388 - val_loss: 1.4956 - val_accuracy: 0.5079 - 22s/epoch - 139ms/step\n",
            "\u001b[2m\u001b[36m(DefaultActor pid=13406)\u001b[0m Epoch 3/10\n",
            "\u001b[2m\u001b[36m(DefaultActor pid=13407)\u001b[0m 157/157 - 22s - loss: 0.8536 - accuracy: 0.6980 - val_loss: 1.6374 - val_accuracy: 0.4931 - 22s/epoch - 139ms/step\n",
            "\u001b[2m\u001b[36m(DefaultActor pid=13407)\u001b[0m Epoch 4/10\n",
            "\u001b[2m\u001b[36m(DefaultActor pid=13406)\u001b[0m 157/157 - 20s - loss: 0.8472 - accuracy: 0.6924 - val_loss: 1.5632 - val_accuracy: 0.5007 - 20s/epoch - 125ms/step\n",
            "\u001b[2m\u001b[36m(DefaultActor pid=13406)\u001b[0m Epoch 4/10\n",
            "\u001b[2m\u001b[36m(DefaultActor pid=13407)\u001b[0m 157/157 - 20s - loss: 0.7644 - accuracy: 0.7312 - val_loss: 1.6195 - val_accuracy: 0.4942 - 20s/epoch - 130ms/step\n",
            "\u001b[2m\u001b[36m(DefaultActor pid=13407)\u001b[0m Epoch 5/10\n",
            "\u001b[2m\u001b[36m(DefaultActor pid=13406)\u001b[0m 157/157 - 22s - loss: 0.7382 - accuracy: 0.7386 - val_loss: 1.5928 - val_accuracy: 0.4966 - 22s/epoch - 143ms/step\n",
            "\u001b[2m\u001b[36m(DefaultActor pid=13406)\u001b[0m Epoch 5/10\n",
            "\u001b[2m\u001b[36m(DefaultActor pid=13407)\u001b[0m 157/157 - 19s - loss: 0.6937 - accuracy: 0.7604 - val_loss: 1.6673 - val_accuracy: 0.4979 - 19s/epoch - 121ms/step\n",
            "\u001b[2m\u001b[36m(DefaultActor pid=13407)\u001b[0m Epoch 6/10\n",
            "\u001b[2m\u001b[36m(DefaultActor pid=13406)\u001b[0m 157/157 - 21s - loss: 0.6563 - accuracy: 0.7720 - val_loss: 1.6475 - val_accuracy: 0.4998 - 21s/epoch - 136ms/step\n",
            "\u001b[2m\u001b[36m(DefaultActor pid=13406)\u001b[0m Epoch 6/10\n",
            "\u001b[2m\u001b[36m(DefaultActor pid=13407)\u001b[0m 157/157 - 25s - loss: 0.6191 - accuracy: 0.7862 - val_loss: 1.6878 - val_accuracy: 0.4923 - 25s/epoch - 160ms/step\n",
            "\u001b[2m\u001b[36m(DefaultActor pid=13407)\u001b[0m Epoch 7/10\n",
            "\u001b[2m\u001b[36m(DefaultActor pid=13406)\u001b[0m 157/157 - 25s - loss: 0.6067 - accuracy: 0.7876 - val_loss: 1.6796 - val_accuracy: 0.4982 - 25s/epoch - 160ms/step\n",
            "\u001b[2m\u001b[36m(DefaultActor pid=13406)\u001b[0m Epoch 7/10\n",
            "\u001b[2m\u001b[36m(DefaultActor pid=13407)\u001b[0m 157/157 - 26s - loss: 0.5335 - accuracy: 0.8174 - val_loss: 1.7325 - val_accuracy: 0.4900 - 26s/epoch - 164ms/step\n",
            "\u001b[2m\u001b[36m(DefaultActor pid=13407)\u001b[0m Epoch 8/10\n",
            "\u001b[2m\u001b[36m(DefaultActor pid=13406)\u001b[0m 157/157 - 25s - loss: 0.5193 - accuracy: 0.8288 - val_loss: 1.7242 - val_accuracy: 0.4979 - 25s/epoch - 158ms/step\n",
            "\u001b[2m\u001b[36m(DefaultActor pid=13406)\u001b[0m Epoch 8/10\n",
            "\u001b[2m\u001b[36m(DefaultActor pid=13407)\u001b[0m 157/157 - 23s - loss: 0.4836 - accuracy: 0.8426 - val_loss: 1.8400 - val_accuracy: 0.4799 - 23s/epoch - 148ms/step\n",
            "\u001b[2m\u001b[36m(DefaultActor pid=13407)\u001b[0m Epoch 9/10\n",
            "\u001b[2m\u001b[36m(DefaultActor pid=13406)\u001b[0m 157/157 - 26s - loss: 0.4624 - accuracy: 0.8490 - val_loss: 1.8337 - val_accuracy: 0.4920 - 26s/epoch - 164ms/step\n",
            "\u001b[2m\u001b[36m(DefaultActor pid=13406)\u001b[0m Epoch 9/10\n",
            "\u001b[2m\u001b[36m(DefaultActor pid=13407)\u001b[0m 157/157 - 22s - loss: 0.4738 - accuracy: 0.8420 - val_loss: 1.8398 - val_accuracy: 0.4807 - 22s/epoch - 143ms/step\n",
            "\u001b[2m\u001b[36m(DefaultActor pid=13407)\u001b[0m Epoch 10/10\n",
            "\u001b[2m\u001b[36m(DefaultActor pid=13406)\u001b[0m 157/157 - 23s - loss: 0.4361 - accuracy: 0.8548 - val_loss: 1.8459 - val_accuracy: 0.4888 - 23s/epoch - 148ms/step\n",
            "\u001b[2m\u001b[36m(DefaultActor pid=13406)\u001b[0m Epoch 10/10\n",
            "\u001b[2m\u001b[36m(DefaultActor pid=13407)\u001b[0m 157/157 - 25s - loss: 0.4113 - accuracy: 0.8694 - val_loss: 1.9050 - val_accuracy: 0.4865 - 25s/epoch - 160ms/step\n",
            "\u001b[2m\u001b[36m(DefaultActor pid=13407)\u001b[0m Client Train and validate Done!!!\n"
          ]
        },
        {
          "output_type": "stream",
          "name": "stderr",
          "text": [
            "\u001b[2m\u001b[36m(DefaultActor pid=13407)\u001b[0m WARNING:absl:Skipping variable loading for optimizer 'Adam', because it has 11 variables whereas the saved optimizer has 1 variables. \n"
          ]
        },
        {
          "output_type": "stream",
          "name": "stdout",
          "text": [
            "\u001b[2m\u001b[36m(DefaultActor pid=13407)\u001b[0m round :8\n",
            "\u001b[2m\u001b[36m(DefaultActor pid=13407)\u001b[0m Train :5000\n",
            "\u001b[2m\u001b[36m(DefaultActor pid=13407)\u001b[0m Test :10000\n",
            "\u001b[2m\u001b[36m(DefaultActor pid=13407)\u001b[0m Epoch 1/10\n",
            "\u001b[2m\u001b[36m(DefaultActor pid=13406)\u001b[0m 157/157 - 26s - loss: 0.4013 - accuracy: 0.8686 - val_loss: 1.8730 - val_accuracy: 0.4886 - 26s/epoch - 164ms/step\n",
            "\u001b[2m\u001b[36m(DefaultActor pid=13406)\u001b[0m Client Train and validate Done!!!\n",
            "\u001b[2m\u001b[36m(DefaultActor pid=13406)\u001b[0m round :8\n",
            "\u001b[2m\u001b[36m(DefaultActor pid=13406)\u001b[0m Train :5000\n",
            "\u001b[2m\u001b[36m(DefaultActor pid=13406)\u001b[0m Test :10000\n"
          ]
        },
        {
          "output_type": "stream",
          "name": "stderr",
          "text": [
            "\u001b[2m\u001b[36m(DefaultActor pid=13406)\u001b[0m WARNING:absl:Skipping variable loading for optimizer 'Adam', because it has 11 variables whereas the saved optimizer has 1 variables. \n"
          ]
        },
        {
          "output_type": "stream",
          "name": "stdout",
          "text": [
            "\u001b[2m\u001b[36m(DefaultActor pid=13406)\u001b[0m Epoch 1/10\n",
            "\u001b[2m\u001b[36m(DefaultActor pid=13407)\u001b[0m 157/157 - 30s - loss: 1.2520 - accuracy: 0.5708 - val_loss: 1.4734 - val_accuracy: 0.5087 - 30s/epoch - 193ms/step\n",
            "\u001b[2m\u001b[36m(DefaultActor pid=13407)\u001b[0m Epoch 2/10\n",
            "\u001b[2m\u001b[36m(DefaultActor pid=13406)\u001b[0m 157/157 - 34s - loss: 1.2558 - accuracy: 0.5684 - val_loss: 1.4902 - val_accuracy: 0.5010 - 34s/epoch - 217ms/step\n",
            "\u001b[2m\u001b[36m(DefaultActor pid=13406)\u001b[0m Epoch 2/10\n",
            "\u001b[2m\u001b[36m(DefaultActor pid=13407)\u001b[0m 157/157 - 26s - loss: 0.9905 - accuracy: 0.6446 - val_loss: 1.4824 - val_accuracy: 0.5100 - 26s/epoch - 165ms/step\n",
            "\u001b[2m\u001b[36m(DefaultActor pid=13407)\u001b[0m Epoch 3/10\n",
            "\u001b[2m\u001b[36m(DefaultActor pid=13406)\u001b[0m 157/157 - 22s - loss: 1.0144 - accuracy: 0.6326 - val_loss: 1.5678 - val_accuracy: 0.4924 - 22s/epoch - 141ms/step\n",
            "\u001b[2m\u001b[36m(DefaultActor pid=13406)\u001b[0m Epoch 3/10\n",
            "\u001b[2m\u001b[36m(DefaultActor pid=13407)\u001b[0m 157/157 - 25s - loss: 0.8510 - accuracy: 0.6990 - val_loss: 1.5450 - val_accuracy: 0.5030 - 25s/epoch - 159ms/step\n",
            "\u001b[2m\u001b[36m(DefaultActor pid=13407)\u001b[0m Epoch 4/10\n",
            "\u001b[2m\u001b[36m(DefaultActor pid=13406)\u001b[0m 157/157 - 25s - loss: 0.8704 - accuracy: 0.6890 - val_loss: 1.5281 - val_accuracy: 0.4978 - 25s/epoch - 159ms/step\n",
            "\u001b[2m\u001b[36m(DefaultActor pid=13406)\u001b[0m Epoch 4/10\n",
            "\u001b[2m\u001b[36m(DefaultActor pid=13407)\u001b[0m 157/157 - 22s - loss: 0.7612 - accuracy: 0.7266 - val_loss: 1.5883 - val_accuracy: 0.4983 - 22s/epoch - 141ms/step\n",
            "\u001b[2m\u001b[36m(DefaultActor pid=13407)\u001b[0m Epoch 5/10\n",
            "\u001b[2m\u001b[36m(DefaultActor pid=13406)\u001b[0m 157/157 - 23s - loss: 0.7766 - accuracy: 0.7222 - val_loss: 1.6102 - val_accuracy: 0.4930 - 23s/epoch - 148ms/step\n",
            "\u001b[2m\u001b[36m(DefaultActor pid=13406)\u001b[0m Epoch 5/10\n",
            "\u001b[2m\u001b[36m(DefaultActor pid=13407)\u001b[0m 157/157 - 25s - loss: 0.6647 - accuracy: 0.7710 - val_loss: 1.6161 - val_accuracy: 0.4997 - 25s/epoch - 157ms/step\n",
            "\u001b[2m\u001b[36m(DefaultActor pid=13407)\u001b[0m Epoch 6/10\n",
            "\u001b[2m\u001b[36m(DefaultActor pid=13406)\u001b[0m Epoch 6/10\n",
            "\u001b[2m\u001b[36m(DefaultActor pid=13406)\u001b[0m 157/157 - 24s - loss: 0.6885 - accuracy: 0.7584 - val_loss: 1.6578 - val_accuracy: 0.4836 - 24s/epoch - 151ms/step\n",
            "\u001b[2m\u001b[36m(DefaultActor pid=13407)\u001b[0m 157/157 - 23s - loss: 0.6025 - accuracy: 0.7908 - val_loss: 1.6611 - val_accuracy: 0.4937 - 23s/epoch - 146ms/step\n",
            "\u001b[2m\u001b[36m(DefaultActor pid=13406)\u001b[0m Epoch 7/10\u001b[32m [repeated 2x across cluster]\u001b[0m\n",
            "\u001b[2m\u001b[36m(DefaultActor pid=13406)\u001b[0m 157/157 - 25s - loss: 0.6260 - accuracy: 0.7850 - val_loss: 1.6587 - val_accuracy: 0.4906 - 25s/epoch - 161ms/step\n",
            "\u001b[2m\u001b[36m(DefaultActor pid=13407)\u001b[0m 157/157 - 23s - loss: 0.5364 - accuracy: 0.8198 - val_loss: 1.7152 - val_accuracy: 0.4935 - 23s/epoch - 149ms/step\n",
            "\u001b[2m\u001b[36m(DefaultActor pid=13406)\u001b[0m Epoch 8/10\u001b[32m [repeated 2x across cluster]\u001b[0m\n",
            "\u001b[2m\u001b[36m(DefaultActor pid=13406)\u001b[0m 157/157 - 26s - loss: 0.5596 - accuracy: 0.8108 - val_loss: 1.7274 - val_accuracy: 0.4844 - 26s/epoch - 162ms/step\n",
            "\u001b[2m\u001b[36m(DefaultActor pid=13407)\u001b[0m 157/157 - 25s - loss: 0.5100 - accuracy: 0.8332 - val_loss: 1.7616 - val_accuracy: 0.4913 - 25s/epoch - 160ms/step\n",
            "\u001b[2m\u001b[36m(DefaultActor pid=13406)\u001b[0m Epoch 9/10\u001b[32m [repeated 2x across cluster]\u001b[0m\n",
            "\u001b[2m\u001b[36m(DefaultActor pid=13406)\u001b[0m 157/157 - 22s - loss: 0.4934 - accuracy: 0.8372 - val_loss: 1.7910 - val_accuracy: 0.4900 - 22s/epoch - 140ms/step\n",
            "\u001b[2m\u001b[36m(DefaultActor pid=13407)\u001b[0m 157/157 - 23s - loss: 0.4455 - accuracy: 0.8542 - val_loss: 1.7946 - val_accuracy: 0.4897 - 23s/epoch - 145ms/step\n",
            "\u001b[2m\u001b[36m(DefaultActor pid=13406)\u001b[0m Epoch 10/10\u001b[32m [repeated 2x across cluster]\u001b[0m\n",
            "\u001b[2m\u001b[36m(DefaultActor pid=13406)\u001b[0m 157/157 - 23s - loss: 0.4604 - accuracy: 0.8514 - val_loss: 1.8043 - val_accuracy: 0.4845 - 23s/epoch - 149ms/step\n",
            "\u001b[2m\u001b[36m(DefaultActor pid=13407)\u001b[0m 157/157 - 22s - loss: 0.3957 - accuracy: 0.8760 - val_loss: 1.8383 - val_accuracy: 0.4877 - 22s/epoch - 138ms/step\n",
            "\u001b[2m\u001b[36m(DefaultActor pid=13407)\u001b[0m Client Train and validate Done!!!\n"
          ]
        },
        {
          "output_type": "stream",
          "name": "stderr",
          "text": [
            "DEBUG flwr 2024-02-07 22:39:06,120 | server.py:236 | fit_round 8 received 10 results and 0 failures\n",
            "DEBUG:flwr:fit_round 8 received 10 results and 0 failures\n",
            "DEBUG flwr 2024-02-07 22:39:06,163 | server.py:173 | evaluate_round 8: strategy sampled 10 clients (out of 10)\n",
            "DEBUG:flwr:evaluate_round 8: strategy sampled 10 clients (out of 10)\n"
          ]
        },
        {
          "output_type": "stream",
          "name": "stdout",
          "text": [
            "\u001b[2m\u001b[36m(DefaultActor pid=13406)\u001b[0m 157/157 - 12s - loss: 0.4050 - accuracy: 0.8706 - val_loss: 1.8869 - val_accuracy: 0.4758 - 12s/epoch - 74ms/step\n",
            "\u001b[2m\u001b[36m(DefaultActor pid=13406)\u001b[0m Client Train and validate Done!!!\n"
          ]
        },
        {
          "output_type": "stream",
          "name": "stderr",
          "text": [
            "\u001b[2m\u001b[36m(DefaultActor pid=13407)\u001b[0m WARNING:absl:Skipping variable loading for optimizer 'Adam', because it has 11 variables whereas the saved optimizer has 1 variables. \n"
          ]
        },
        {
          "output_type": "stream",
          "name": "stdout",
          "text": [
            "\u001b[2m\u001b[36m(DefaultActor pid=13407)\u001b[0m 10000/10000 - 152s - loss: 1.6769 - accuracy: 0.5343 - 152s/epoch - 15ms/step\n",
            "\u001b[2m\u001b[36m(DefaultActor pid=13407)\u001b[0m Global Validate Done!!!\n"
          ]
        },
        {
          "output_type": "stream",
          "name": "stderr",
          "text": [
            "\u001b[2m\u001b[36m(DefaultActor pid=13407)\u001b[0m WARNING:absl:Skipping variable loading for optimizer 'Adam', because it has 11 variables whereas the saved optimizer has 1 variables. \u001b[32m [repeated 2x across cluster]\u001b[0m\n"
          ]
        },
        {
          "output_type": "stream",
          "name": "stdout",
          "text": [
            "\u001b[2m\u001b[36m(DefaultActor pid=13407)\u001b[0m 10000/10000 - 152s - loss: 1.6769 - accuracy: 0.5343 - 152s/epoch - 15ms/step\u001b[32m [repeated 2x across cluster]\u001b[0m\n",
            "\u001b[2m\u001b[36m(DefaultActor pid=13407)\u001b[0m Global Validate Done!!!\u001b[32m [repeated 2x across cluster]\u001b[0m\n"
          ]
        },
        {
          "output_type": "stream",
          "name": "stderr",
          "text": [
            "\u001b[2m\u001b[36m(DefaultActor pid=13407)\u001b[0m WARNING:absl:Skipping variable loading for optimizer 'Adam', because it has 11 variables whereas the saved optimizer has 1 variables. \u001b[32m [repeated 2x across cluster]\u001b[0m\n"
          ]
        },
        {
          "output_type": "stream",
          "name": "stdout",
          "text": [
            "\u001b[2m\u001b[36m(DefaultActor pid=13406)\u001b[0m 10000/10000 - 156s - loss: 1.6769 - accuracy: 0.5343 - 156s/epoch - 16ms/step\n",
            "\u001b[2m\u001b[36m(DefaultActor pid=13406)\u001b[0m Global Validate Done!!!\n"
          ]
        },
        {
          "output_type": "stream",
          "name": "stderr",
          "text": [
            "\u001b[2m\u001b[36m(DefaultActor pid=13406)\u001b[0m WARNING:absl:Skipping variable loading for optimizer 'Adam', because it has 11 variables whereas the saved optimizer has 1 variables. \n"
          ]
        },
        {
          "output_type": "stream",
          "name": "stdout",
          "text": [
            "\u001b[2m\u001b[36m(DefaultActor pid=13407)\u001b[0m 10000/10000 - 146s - loss: 1.6769 - accuracy: 0.5343 - 146s/epoch - 15ms/step\n",
            "\u001b[2m\u001b[36m(DefaultActor pid=13407)\u001b[0m Global Validate Done!!!\n"
          ]
        },
        {
          "output_type": "stream",
          "name": "stderr",
          "text": [
            "\u001b[2m\u001b[36m(DefaultActor pid=13407)\u001b[0m WARNING:absl:Skipping variable loading for optimizer 'Adam', because it has 11 variables whereas the saved optimizer has 1 variables. \n"
          ]
        },
        {
          "output_type": "stream",
          "name": "stdout",
          "text": [
            "\u001b[2m\u001b[36m(DefaultActor pid=13406)\u001b[0m 10000/10000 - 145s - loss: 1.6769 - accuracy: 0.5343 - 145s/epoch - 14ms/step\n",
            "\u001b[2m\u001b[36m(DefaultActor pid=13406)\u001b[0m Global Validate Done!!!\n"
          ]
        },
        {
          "output_type": "stream",
          "name": "stderr",
          "text": [
            "\u001b[2m\u001b[36m(DefaultActor pid=13406)\u001b[0m WARNING:absl:Skipping variable loading for optimizer 'Adam', because it has 11 variables whereas the saved optimizer has 1 variables. \n"
          ]
        },
        {
          "output_type": "stream",
          "name": "stdout",
          "text": [
            "\u001b[2m\u001b[36m(DefaultActor pid=13407)\u001b[0m 10000/10000 - 129s - loss: 1.6769 - accuracy: 0.5343 - 129s/epoch - 13ms/step\n",
            "\u001b[2m\u001b[36m(DefaultActor pid=13407)\u001b[0m Global Validate Done!!!\n"
          ]
        },
        {
          "output_type": "stream",
          "name": "stderr",
          "text": [
            "\u001b[2m\u001b[36m(DefaultActor pid=13407)\u001b[0m WARNING:absl:Skipping variable loading for optimizer 'Adam', because it has 11 variables whereas the saved optimizer has 1 variables. \n"
          ]
        },
        {
          "output_type": "stream",
          "name": "stdout",
          "text": [
            "\u001b[2m\u001b[36m(DefaultActor pid=13406)\u001b[0m 10000/10000 - 130s - loss: 1.6769 - accuracy: 0.5343 - 130s/epoch - 13ms/step\n",
            "\u001b[2m\u001b[36m(DefaultActor pid=13406)\u001b[0m Global Validate Done!!!\n"
          ]
        },
        {
          "output_type": "stream",
          "name": "stderr",
          "text": [
            "\u001b[2m\u001b[36m(DefaultActor pid=13406)\u001b[0m WARNING:absl:Skipping variable loading for optimizer 'Adam', because it has 11 variables whereas the saved optimizer has 1 variables. \n"
          ]
        },
        {
          "output_type": "stream",
          "name": "stdout",
          "text": [
            "\u001b[2m\u001b[36m(DefaultActor pid=13407)\u001b[0m 10000/10000 - 151s - loss: 1.6769 - accuracy: 0.5343 - 151s/epoch - 15ms/step\n",
            "\u001b[2m\u001b[36m(DefaultActor pid=13407)\u001b[0m Global Validate Done!!!\n"
          ]
        },
        {
          "output_type": "stream",
          "name": "stderr",
          "text": [
            "DEBUG flwr 2024-02-07 22:51:30,018 | server.py:187 | evaluate_round 8 received 10 results and 0 failures\n",
            "DEBUG:flwr:evaluate_round 8 received 10 results and 0 failures\n",
            "DEBUG flwr 2024-02-07 22:51:30,027 | server.py:222 | fit_round 9: strategy sampled 10 clients (out of 10)\n",
            "DEBUG:flwr:fit_round 9: strategy sampled 10 clients (out of 10)\n"
          ]
        },
        {
          "output_type": "stream",
          "name": "stdout",
          "text": [
            "\u001b[2m\u001b[36m(DefaultActor pid=13406)\u001b[0m round :9\n",
            "\u001b[2m\u001b[36m(DefaultActor pid=13406)\u001b[0m 10000/10000 - 147s - loss: 1.6769 - accuracy: 0.5343 - 147s/epoch - 15ms/step\n",
            "\u001b[2m\u001b[36m(DefaultActor pid=13406)\u001b[0m Global Validate Done!!!\n",
            "\u001b[2m\u001b[36m(DefaultActor pid=13406)\u001b[0m \n",
            "\u001b[2m\u001b[36m(DefaultActor pid=13406)\u001b[0m Train :5000\n",
            "\u001b[2m\u001b[36m(DefaultActor pid=13406)\u001b[0m Test :10000\n"
          ]
        },
        {
          "output_type": "stream",
          "name": "stderr",
          "text": [
            "\u001b[2m\u001b[36m(DefaultActor pid=13406)\u001b[0m WARNING:absl:Skipping variable loading for optimizer 'Adam', because it has 11 variables whereas the saved optimizer has 1 variables. \n"
          ]
        },
        {
          "output_type": "stream",
          "name": "stdout",
          "text": [
            "\u001b[2m\u001b[36m(DefaultActor pid=13406)\u001b[0m Epoch 1/10\n",
            "\u001b[2m\u001b[36m(DefaultActor pid=13406)\u001b[0m 157/157 - 21s - loss: 1.2357 - accuracy: 0.5808 - val_loss: 1.5531 - val_accuracy: 0.4962 - 21s/epoch - 132ms/step\n",
            "\u001b[2m\u001b[36m(DefaultActor pid=13406)\u001b[0m Epoch 2/10\n",
            "\u001b[2m\u001b[36m(DefaultActor pid=13406)\u001b[0m 157/157 - 14s - loss: 0.9289 - accuracy: 0.6698 - val_loss: 1.6148 - val_accuracy: 0.4927 - 14s/epoch - 91ms/step\n",
            "\u001b[2m\u001b[36m(DefaultActor pid=13406)\u001b[0m Epoch 3/10\n",
            "\u001b[2m\u001b[36m(DefaultActor pid=13406)\u001b[0m 157/157 - 17s - loss: 0.7888 - accuracy: 0.7122 - val_loss: 1.5941 - val_accuracy: 0.4939 - 17s/epoch - 110ms/step\n",
            "\u001b[2m\u001b[36m(DefaultActor pid=13406)\u001b[0m Epoch 4/10\n"
          ]
        },
        {
          "output_type": "stream",
          "name": "stderr",
          "text": [
            "\u001b[2m\u001b[36m(DefaultActor pid=13407)\u001b[0m WARNING:absl:Skipping variable loading for optimizer 'Adam', because it has 11 variables whereas the saved optimizer has 1 variables. \n"
          ]
        },
        {
          "output_type": "stream",
          "name": "stdout",
          "text": [
            "\u001b[2m\u001b[36m(DefaultActor pid=13407)\u001b[0m round :9\n",
            "\u001b[2m\u001b[36m(DefaultActor pid=13407)\u001b[0m Train :5000\n",
            "\u001b[2m\u001b[36m(DefaultActor pid=13407)\u001b[0m Test :10000\n",
            "\u001b[2m\u001b[36m(DefaultActor pid=13407)\u001b[0m Epoch 1/10\n",
            "\u001b[2m\u001b[36m(DefaultActor pid=13406)\u001b[0m 157/157 - 26s - loss: 0.6774 - accuracy: 0.7626 - val_loss: 1.6689 - val_accuracy: 0.4978 - 26s/epoch - 163ms/step\n",
            "\u001b[2m\u001b[36m(DefaultActor pid=13406)\u001b[0m Epoch 5/10\n",
            "\u001b[2m\u001b[36m(DefaultActor pid=13407)\u001b[0m Epoch 2/10\n",
            "\u001b[2m\u001b[36m(DefaultActor pid=13407)\u001b[0m 157/157 - 34s - loss: 1.2638 - accuracy: 0.5766 - val_loss: 1.5068 - val_accuracy: 0.5118 - 34s/epoch - 215ms/step\n",
            "\u001b[2m\u001b[36m(DefaultActor pid=13406)\u001b[0m 157/157 - 28s - loss: 0.6134 - accuracy: 0.7884 - val_loss: 1.7266 - val_accuracy: 0.4915 - 28s/epoch - 179ms/step\n",
            "\u001b[2m\u001b[36m(DefaultActor pid=13406)\u001b[0m Epoch 6/10\n",
            "\u001b[2m\u001b[36m(DefaultActor pid=13407)\u001b[0m Epoch 3/10\n",
            "\u001b[2m\u001b[36m(DefaultActor pid=13407)\u001b[0m 157/157 - 27s - loss: 0.9722 - accuracy: 0.6562 - val_loss: 1.5860 - val_accuracy: 0.4995 - 27s/epoch - 174ms/step\n",
            "\u001b[2m\u001b[36m(DefaultActor pid=13406)\u001b[0m 157/157 - 27s - loss: 0.5380 - accuracy: 0.8200 - val_loss: 1.7675 - val_accuracy: 0.4850 - 27s/epoch - 174ms/step\n",
            "\u001b[2m\u001b[36m(DefaultActor pid=13406)\u001b[0m Epoch 7/10\n",
            "\u001b[2m\u001b[36m(DefaultActor pid=13407)\u001b[0m Epoch 4/10\n",
            "\u001b[2m\u001b[36m(DefaultActor pid=13407)\u001b[0m 157/157 - 28s - loss: 0.8314 - accuracy: 0.7082 - val_loss: 1.6433 - val_accuracy: 0.4917 - 28s/epoch - 176ms/step\n",
            "\u001b[2m\u001b[36m(DefaultActor pid=13406)\u001b[0m 157/157 - 28s - loss: 0.4699 - accuracy: 0.8466 - val_loss: 1.8105 - val_accuracy: 0.4966 - 28s/epoch - 178ms/step\n",
            "\u001b[2m\u001b[36m(DefaultActor pid=13406)\u001b[0m Epoch 8/10\n",
            "\u001b[2m\u001b[36m(DefaultActor pid=13407)\u001b[0m Epoch 5/10\n",
            "\u001b[2m\u001b[36m(DefaultActor pid=13407)\u001b[0m 157/157 - 28s - loss: 0.7191 - accuracy: 0.7584 - val_loss: 1.7020 - val_accuracy: 0.4906 - 28s/epoch - 179ms/step\n",
            "\u001b[2m\u001b[36m(DefaultActor pid=13406)\u001b[0m 157/157 - 24s - loss: 0.4261 - accuracy: 0.8612 - val_loss: 1.8787 - val_accuracy: 0.4946 - 24s/epoch - 153ms/step\n",
            "\u001b[2m\u001b[36m(DefaultActor pid=13406)\u001b[0m Epoch 9/10\n",
            "\u001b[2m\u001b[36m(DefaultActor pid=13407)\u001b[0m Epoch 6/10\n",
            "\u001b[2m\u001b[36m(DefaultActor pid=13407)\u001b[0m 157/157 - 26s - loss: 0.6393 - accuracy: 0.7790 - val_loss: 1.6909 - val_accuracy: 0.4917 - 26s/epoch - 164ms/step\n",
            "\u001b[2m\u001b[36m(DefaultActor pid=13406)\u001b[0m 157/157 - 28s - loss: 0.3758 - accuracy: 0.8828 - val_loss: 1.9216 - val_accuracy: 0.4884 - 28s/epoch - 176ms/step\n",
            "\u001b[2m\u001b[36m(DefaultActor pid=13406)\u001b[0m Epoch 10/10\n",
            "\u001b[2m\u001b[36m(DefaultActor pid=13407)\u001b[0m 157/157 - 27s - loss: 0.5747 - accuracy: 0.8038 - val_loss: 1.7727 - val_accuracy: 0.4854 - 27s/epoch - 175ms/step\n",
            "\u001b[2m\u001b[36m(DefaultActor pid=13407)\u001b[0m Epoch 7/10\n",
            "\u001b[2m\u001b[36m(DefaultActor pid=13406)\u001b[0m 157/157 - 29s - loss: 0.3487 - accuracy: 0.8926 - val_loss: 1.9382 - val_accuracy: 0.4906 - 29s/epoch - 184ms/step\n",
            "\u001b[2m\u001b[36m(DefaultActor pid=13406)\u001b[0m Client Train and validate Done!!!\n"
          ]
        },
        {
          "output_type": "stream",
          "name": "stderr",
          "text": [
            "\u001b[2m\u001b[36m(DefaultActor pid=13406)\u001b[0m WARNING:absl:Skipping variable loading for optimizer 'Adam', because it has 11 variables whereas the saved optimizer has 1 variables. \n"
          ]
        },
        {
          "output_type": "stream",
          "name": "stdout",
          "text": [
            "\u001b[2m\u001b[36m(DefaultActor pid=13406)\u001b[0m round :9\n",
            "\u001b[2m\u001b[36m(DefaultActor pid=13406)\u001b[0m Train :5000\n",
            "\u001b[2m\u001b[36m(DefaultActor pid=13406)\u001b[0m Test :10000\n",
            "\u001b[2m\u001b[36m(DefaultActor pid=13406)\u001b[0m Epoch 1/10\n",
            "\u001b[2m\u001b[36m(DefaultActor pid=13407)\u001b[0m 157/157 - 26s - loss: 0.5013 - accuracy: 0.8360 - val_loss: 1.8113 - val_accuracy: 0.4807 - 26s/epoch - 168ms/step\n",
            "\u001b[2m\u001b[36m(DefaultActor pid=13407)\u001b[0m Epoch 8/10\n",
            "\u001b[2m\u001b[36m(DefaultActor pid=13406)\u001b[0m 157/157 - 38s - loss: 1.2441 - accuracy: 0.5720 - val_loss: 1.5038 - val_accuracy: 0.5162 - 38s/epoch - 242ms/step\n",
            "\u001b[2m\u001b[36m(DefaultActor pid=13406)\u001b[0m Epoch 2/10\n",
            "\u001b[2m\u001b[36m(DefaultActor pid=13406)\u001b[0m 157/157 - 28s - loss: 0.9631 - accuracy: 0.6530 - val_loss: 1.5557 - val_accuracy: 0.5005 - 28s/epoch - 180ms/step\u001b[32m [repeated 2x across cluster]\u001b[0m\n",
            "\u001b[2m\u001b[36m(DefaultActor pid=13406)\u001b[0m Epoch 3/10\u001b[32m [repeated 2x across cluster]\u001b[0m\n",
            "\u001b[2m\u001b[36m(DefaultActor pid=13407)\u001b[0m Client Train and validate Done!!!\n",
            "\u001b[2m\u001b[36m(DefaultActor pid=13407)\u001b[0m 157/157 - 25s - loss: 0.3641 - accuracy: 0.8886 - val_loss: 1.9407 - val_accuracy: 0.4841 - 25s/epoch - 160ms/step\u001b[32m [repeated 2x across cluster]\u001b[0m\n",
            "\u001b[2m\u001b[36m(DefaultActor pid=13407)\u001b[0m Epoch 10/10\n",
            "\u001b[2m\u001b[36m(DefaultActor pid=13407)\u001b[0m round :9\n",
            "\u001b[2m\u001b[36m(DefaultActor pid=13407)\u001b[0m Train :5000\n",
            "\u001b[2m\u001b[36m(DefaultActor pid=13407)\u001b[0m Test :10000\n"
          ]
        },
        {
          "output_type": "stream",
          "name": "stderr",
          "text": [
            "\u001b[2m\u001b[36m(DefaultActor pid=13407)\u001b[0m WARNING:absl:Skipping variable loading for optimizer 'Adam', because it has 11 variables whereas the saved optimizer has 1 variables. \n"
          ]
        },
        {
          "output_type": "stream",
          "name": "stdout",
          "text": [
            "\u001b[2m\u001b[36m(DefaultActor pid=13407)\u001b[0m Epoch 1/10\n",
            "\u001b[2m\u001b[36m(DefaultActor pid=13406)\u001b[0m 157/157 - 28s - loss: 0.7089 - accuracy: 0.7454 - val_loss: 1.6058 - val_accuracy: 0.5058 - 28s/epoch - 179ms/step\u001b[32m [repeated 2x across cluster]\u001b[0m\n",
            "\u001b[2m\u001b[36m(DefaultActor pid=13406)\u001b[0m Epoch 5/10\u001b[32m [repeated 2x across cluster]\u001b[0m\n",
            "\u001b[2m\u001b[36m(DefaultActor pid=13407)\u001b[0m 157/157 - 36s - loss: 1.2415 - accuracy: 0.5780 - val_loss: 1.5151 - val_accuracy: 0.4980 - 36s/epoch - 231ms/step\n",
            "\u001b[2m\u001b[36m(DefaultActor pid=13407)\u001b[0m Epoch 2/10\n",
            "\u001b[2m\u001b[36m(DefaultActor pid=13406)\u001b[0m 157/157 - 28s - loss: 0.6242 - accuracy: 0.7794 - val_loss: 1.6556 - val_accuracy: 0.4934 - 28s/epoch - 177ms/step\n",
            "\u001b[2m\u001b[36m(DefaultActor pid=13406)\u001b[0m Epoch 6/10\n",
            "\u001b[2m\u001b[36m(DefaultActor pid=13407)\u001b[0m 157/157 - 28s - loss: 0.9644 - accuracy: 0.6556 - val_loss: 1.4986 - val_accuracy: 0.5139 - 28s/epoch - 176ms/step\n",
            "\u001b[2m\u001b[36m(DefaultActor pid=13407)\u001b[0m Epoch 3/10\n",
            "\u001b[2m\u001b[36m(DefaultActor pid=13406)\u001b[0m 157/157 - 25s - loss: 0.5427 - accuracy: 0.8174 - val_loss: 1.7101 - val_accuracy: 0.4891 - 25s/epoch - 160ms/step\n",
            "\u001b[2m\u001b[36m(DefaultActor pid=13406)\u001b[0m Epoch 7/10\n",
            "\u001b[2m\u001b[36m(DefaultActor pid=13406)\u001b[0m 157/157 - 25s - loss: 0.4871 - accuracy: 0.8328 - val_loss: 1.7737 - val_accuracy: 0.4977 - 25s/epoch - 161ms/step\u001b[32m [repeated 2x across cluster]\u001b[0m\n",
            "\u001b[2m\u001b[36m(DefaultActor pid=13406)\u001b[0m Epoch 8/10\u001b[32m [repeated 2x across cluster]\u001b[0m\n",
            "\u001b[2m\u001b[36m(DefaultActor pid=13406)\u001b[0m 157/157 - 22s - loss: 0.4398 - accuracy: 0.8524 - val_loss: 1.8518 - val_accuracy: 0.4882 - 22s/epoch - 139ms/step\u001b[32m [repeated 2x across cluster]\u001b[0m\n",
            "\u001b[2m\u001b[36m(DefaultActor pid=13406)\u001b[0m Epoch 9/10\u001b[32m [repeated 2x across cluster]\u001b[0m\n",
            "\u001b[2m\u001b[36m(DefaultActor pid=13407)\u001b[0m 157/157 - 25s - loss: 0.6049 - accuracy: 0.7990 - val_loss: 1.7089 - val_accuracy: 0.4919 - 25s/epoch - 161ms/step\n",
            "\u001b[2m\u001b[36m(DefaultActor pid=13407)\u001b[0m Epoch 6/10\n",
            "\u001b[2m\u001b[36m(DefaultActor pid=13406)\u001b[0m 157/157 - 26s - loss: 0.3907 - accuracy: 0.8766 - val_loss: 1.8954 - val_accuracy: 0.4903 - 26s/epoch - 165ms/step\n",
            "\u001b[2m\u001b[36m(DefaultActor pid=13406)\u001b[0m Epoch 10/10\n",
            "\u001b[2m\u001b[36m(DefaultActor pid=13406)\u001b[0m Client Train and validate Done!!!\n",
            "\u001b[2m\u001b[36m(DefaultActor pid=13406)\u001b[0m 157/157 - 26s - loss: 0.3468 - accuracy: 0.8878 - val_loss: 1.9578 - val_accuracy: 0.4864 - 26s/epoch - 164ms/step\u001b[32m [repeated 2x across cluster]\u001b[0m\n",
            "\u001b[2m\u001b[36m(DefaultActor pid=13407)\u001b[0m Epoch 7/10\n"
          ]
        },
        {
          "output_type": "stream",
          "name": "stderr",
          "text": [
            "\u001b[2m\u001b[36m(DefaultActor pid=13406)\u001b[0m WARNING:absl:Skipping variable loading for optimizer 'Adam', because it has 11 variables whereas the saved optimizer has 1 variables. \n"
          ]
        },
        {
          "output_type": "stream",
          "name": "stdout",
          "text": [
            "\u001b[2m\u001b[36m(DefaultActor pid=13406)\u001b[0m round :9\n",
            "\u001b[2m\u001b[36m(DefaultActor pid=13406)\u001b[0m Train :5000\n",
            "\u001b[2m\u001b[36m(DefaultActor pid=13406)\u001b[0m Test :10000\n",
            "\u001b[2m\u001b[36m(DefaultActor pid=13406)\u001b[0m Epoch 1/10\n",
            "\u001b[2m\u001b[36m(DefaultActor pid=13407)\u001b[0m 157/157 - 25s - loss: 0.4692 - accuracy: 0.8446 - val_loss: 1.8656 - val_accuracy: 0.4839 - 25s/epoch - 162ms/step\u001b[32m [repeated 2x across cluster]\u001b[0m\n",
            "\u001b[2m\u001b[36m(DefaultActor pid=13407)\u001b[0m Epoch 9/10\u001b[32m [repeated 2x across cluster]\u001b[0m\n",
            "\u001b[2m\u001b[36m(DefaultActor pid=13407)\u001b[0m 157/157 - 27s - loss: 0.4043 - accuracy: 0.8730 - val_loss: 1.8729 - val_accuracy: 0.4921 - 27s/epoch - 172ms/step\u001b[32m [repeated 2x across cluster]\u001b[0m\n",
            "\u001b[2m\u001b[36m(DefaultActor pid=13407)\u001b[0m Epoch 10/10\u001b[32m [repeated 2x across cluster]\u001b[0m\n",
            "\u001b[2m\u001b[36m(DefaultActor pid=13407)\u001b[0m Client Train and validate Done!!!\n",
            "\u001b[2m\u001b[36m(DefaultActor pid=13407)\u001b[0m 157/157 - 22s - loss: 0.3839 - accuracy: 0.8776 - val_loss: 1.9022 - val_accuracy: 0.4885 - 22s/epoch - 138ms/step\u001b[32m [repeated 2x across cluster]\u001b[0m\n",
            "\u001b[2m\u001b[36m(DefaultActor pid=13406)\u001b[0m Epoch 3/10\n"
          ]
        },
        {
          "output_type": "stream",
          "name": "stderr",
          "text": [
            "\u001b[2m\u001b[36m(DefaultActor pid=13407)\u001b[0m WARNING:absl:Skipping variable loading for optimizer 'Adam', because it has 11 variables whereas the saved optimizer has 1 variables. \n"
          ]
        },
        {
          "output_type": "stream",
          "name": "stdout",
          "text": [
            "\u001b[2m\u001b[36m(DefaultActor pid=13407)\u001b[0m round :9\n",
            "\u001b[2m\u001b[36m(DefaultActor pid=13407)\u001b[0m Train :5000\n",
            "\u001b[2m\u001b[36m(DefaultActor pid=13407)\u001b[0m Test :10000\n",
            "\u001b[2m\u001b[36m(DefaultActor pid=13407)\u001b[0m Epoch 1/10\n",
            "\u001b[2m\u001b[36m(DefaultActor pid=13406)\u001b[0m 157/157 - 26s - loss: 0.7729 - accuracy: 0.7248 - val_loss: 1.5903 - val_accuracy: 0.5015 - 26s/epoch - 166ms/step\n",
            "\u001b[2m\u001b[36m(DefaultActor pid=13406)\u001b[0m 157/157 - 26s - loss: 0.6851 - accuracy: 0.7620 - val_loss: 1.6516 - val_accuracy: 0.5038 - 26s/epoch - 168ms/step\n",
            "\u001b[2m\u001b[36m(DefaultActor pid=13406)\u001b[0m Epoch 4/10\n",
            "\u001b[2m\u001b[36m(DefaultActor pid=13406)\u001b[0m Epoch 5/10\n",
            "\u001b[2m\u001b[36m(DefaultActor pid=13407)\u001b[0m 157/157 - 38s - loss: 1.2398 - accuracy: 0.5834 - val_loss: 1.5258 - val_accuracy: 0.5054 - 38s/epoch - 241ms/step\n",
            "\u001b[2m\u001b[36m(DefaultActor pid=13407)\u001b[0m Epoch 2/10\n",
            "\u001b[2m\u001b[36m(DefaultActor pid=13406)\u001b[0m 157/157 - 29s - loss: 0.5923 - accuracy: 0.7954 - val_loss: 1.6939 - val_accuracy: 0.4991 - 29s/epoch - 187ms/step\n",
            "\u001b[2m\u001b[36m(DefaultActor pid=13406)\u001b[0m Epoch 6/10\n",
            "\u001b[2m\u001b[36m(DefaultActor pid=13407)\u001b[0m 157/157 - 29s - loss: 0.9435 - accuracy: 0.6630 - val_loss: 1.5570 - val_accuracy: 0.5096 - 29s/epoch - 188ms/step\n",
            "\u001b[2m\u001b[36m(DefaultActor pid=13407)\u001b[0m Epoch 3/10\n",
            "\u001b[2m\u001b[36m(DefaultActor pid=13406)\u001b[0m 157/157 - 29s - loss: 0.5058 - accuracy: 0.8322 - val_loss: 1.7177 - val_accuracy: 0.5018 - 29s/epoch - 183ms/step\n",
            "\u001b[2m\u001b[36m(DefaultActor pid=13406)\u001b[0m Epoch 7/10\n",
            "\u001b[2m\u001b[36m(DefaultActor pid=13407)\u001b[0m 157/157 - 29s - loss: 0.7840 - accuracy: 0.7252 - val_loss: 1.6153 - val_accuracy: 0.4953 - 29s/epoch - 183ms/step\n",
            "\u001b[2m\u001b[36m(DefaultActor pid=13407)\u001b[0m Epoch 4/10\n",
            "\u001b[2m\u001b[36m(DefaultActor pid=13406)\u001b[0m 157/157 - 28s - loss: 0.4642 - accuracy: 0.8452 - val_loss: 1.7802 - val_accuracy: 0.4900 - 28s/epoch - 178ms/step\n",
            "\u001b[2m\u001b[36m(DefaultActor pid=13406)\u001b[0m Epoch 8/10\n",
            "\u001b[2m\u001b[36m(DefaultActor pid=13407)\u001b[0m 157/157 - 29s - loss: 0.6885 - accuracy: 0.7510 - val_loss: 1.6353 - val_accuracy: 0.5017 - 29s/epoch - 182ms/step\n",
            "\u001b[2m\u001b[36m(DefaultActor pid=13407)\u001b[0m Epoch 5/10\n",
            "\u001b[2m\u001b[36m(DefaultActor pid=13406)\u001b[0m 157/157 - 25s - loss: 0.4168 - accuracy: 0.8694 - val_loss: 1.8450 - val_accuracy: 0.4941 - 25s/epoch - 158ms/step\n",
            "\u001b[2m\u001b[36m(DefaultActor pid=13406)\u001b[0m Epoch 9/10\n",
            "\u001b[2m\u001b[36m(DefaultActor pid=13407)\u001b[0m 157/157 - 26s - loss: 0.5990 - accuracy: 0.7982 - val_loss: 1.6865 - val_accuracy: 0.5023 - 26s/epoch - 164ms/step\n",
            "\u001b[2m\u001b[36m(DefaultActor pid=13407)\u001b[0m Epoch 6/10\n",
            "\u001b[2m\u001b[36m(DefaultActor pid=13406)\u001b[0m 157/157 - 27s - loss: 0.3703 - accuracy: 0.8778 - val_loss: 1.8786 - val_accuracy: 0.4945 - 27s/epoch - 171ms/step\n",
            "\u001b[2m\u001b[36m(DefaultActor pid=13406)\u001b[0m Epoch 10/10\n",
            "\u001b[2m\u001b[36m(DefaultActor pid=13407)\u001b[0m 157/157 - 25s - loss: 0.5354 - accuracy: 0.8198 - val_loss: 1.7292 - val_accuracy: 0.4987 - 25s/epoch - 162ms/step\n",
            "\u001b[2m\u001b[36m(DefaultActor pid=13407)\u001b[0m Epoch 7/10\n",
            "\u001b[2m\u001b[36m(DefaultActor pid=13406)\u001b[0m 157/157 - 26s - loss: 0.3372 - accuracy: 0.8922 - val_loss: 1.9307 - val_accuracy: 0.4948 - 26s/epoch - 167ms/step\n",
            "\u001b[2m\u001b[36m(DefaultActor pid=13406)\u001b[0m Client Train and validate Done!!!\n"
          ]
        },
        {
          "output_type": "stream",
          "name": "stderr",
          "text": [
            "\u001b[2m\u001b[36m(DefaultActor pid=13406)\u001b[0m WARNING:absl:Skipping variable loading for optimizer 'Adam', because it has 11 variables whereas the saved optimizer has 1 variables. \n"
          ]
        },
        {
          "output_type": "stream",
          "name": "stdout",
          "text": [
            "\u001b[2m\u001b[36m(DefaultActor pid=13406)\u001b[0m round :9\n",
            "\u001b[2m\u001b[36m(DefaultActor pid=13406)\u001b[0m Train :5000\n",
            "\u001b[2m\u001b[36m(DefaultActor pid=13406)\u001b[0m Test :10000\n",
            "\u001b[2m\u001b[36m(DefaultActor pid=13406)\u001b[0m Epoch 1/10\n",
            "\u001b[2m\u001b[36m(DefaultActor pid=13407)\u001b[0m 157/157 - 26s - loss: 0.4203 - accuracy: 0.8676 - val_loss: 1.8815 - val_accuracy: 0.4899 - 26s/epoch - 167ms/step\u001b[32m [repeated 2x across cluster]\u001b[0m\n",
            "\u001b[2m\u001b[36m(DefaultActor pid=13407)\u001b[0m Epoch 9/10\u001b[32m [repeated 2x across cluster]\u001b[0m\n",
            "\u001b[2m\u001b[36m(DefaultActor pid=13407)\u001b[0m 157/157 - 26s - loss: 0.4358 - accuracy: 0.8572 - val_loss: 1.8809 - val_accuracy: 0.4871 - 26s/epoch - 166ms/step\u001b[32m [repeated 2x across cluster]\u001b[0m\n",
            "\u001b[2m\u001b[36m(DefaultActor pid=13407)\u001b[0m Epoch 10/10\u001b[32m [repeated 2x across cluster]\u001b[0m\n",
            "\u001b[2m\u001b[36m(DefaultActor pid=13407)\u001b[0m Client Train and validate Done!!!\n",
            "\u001b[2m\u001b[36m(DefaultActor pid=13407)\u001b[0m 157/157 - 27s - loss: 0.3331 - accuracy: 0.9030 - val_loss: 1.9606 - val_accuracy: 0.4846 - 27s/epoch - 172ms/step\u001b[32m [repeated 2x across cluster]\u001b[0m\n",
            "\u001b[2m\u001b[36m(DefaultActor pid=13406)\u001b[0m Epoch 3/10\n",
            "\u001b[2m\u001b[36m(DefaultActor pid=13407)\u001b[0m round :9\n",
            "\u001b[2m\u001b[36m(DefaultActor pid=13407)\u001b[0m Train :5000\n",
            "\u001b[2m\u001b[36m(DefaultActor pid=13407)\u001b[0m Test :10000\n"
          ]
        },
        {
          "output_type": "stream",
          "name": "stderr",
          "text": [
            "\u001b[2m\u001b[36m(DefaultActor pid=13407)\u001b[0m WARNING:absl:Skipping variable loading for optimizer 'Adam', because it has 11 variables whereas the saved optimizer has 1 variables. \n"
          ]
        },
        {
          "output_type": "stream",
          "name": "stdout",
          "text": [
            "\u001b[2m\u001b[36m(DefaultActor pid=13407)\u001b[0m Epoch 1/10\n",
            "\u001b[2m\u001b[36m(DefaultActor pid=13406)\u001b[0m 157/157 - 26s - loss: 0.6819 - accuracy: 0.7642 - val_loss: 1.6365 - val_accuracy: 0.5007 - 26s/epoch - 167ms/step\u001b[32m [repeated 2x across cluster]\u001b[0m\n",
            "\u001b[2m\u001b[36m(DefaultActor pid=13406)\u001b[0m Epoch 5/10\u001b[32m [repeated 2x across cluster]\u001b[0m\n",
            "\u001b[2m\u001b[36m(DefaultActor pid=13406)\u001b[0m 157/157 - 26s - loss: 0.5923 - accuracy: 0.7986 - val_loss: 1.6997 - val_accuracy: 0.4984 - 26s/epoch - 168ms/step\u001b[32m [repeated 2x across cluster]\u001b[0m\n",
            "\u001b[2m\u001b[36m(DefaultActor pid=13406)\u001b[0m Epoch 6/10\u001b[32m [repeated 2x across cluster]\u001b[0m\n",
            "\u001b[2m\u001b[36m(DefaultActor pid=13406)\u001b[0m 157/157 - 22s - loss: 0.5295 - accuracy: 0.8198 - val_loss: 1.7508 - val_accuracy: 0.4978 - 22s/epoch - 141ms/step\u001b[32m [repeated 2x across cluster]\u001b[0m\n",
            "\u001b[2m\u001b[36m(DefaultActor pid=13406)\u001b[0m Epoch 7/10\u001b[32m [repeated 2x across cluster]\u001b[0m\n",
            "\u001b[2m\u001b[36m(DefaultActor pid=13407)\u001b[0m 157/157 - 26s - loss: 0.8163 - accuracy: 0.7070 - val_loss: 1.5985 - val_accuracy: 0.5017 - 26s/epoch - 168ms/step\n",
            "\u001b[2m\u001b[36m(DefaultActor pid=13407)\u001b[0m Epoch 4/10\n",
            "\u001b[2m\u001b[36m(DefaultActor pid=13406)\u001b[0m 157/157 - 28s - loss: 0.4856 - accuracy: 0.8414 - val_loss: 1.8017 - val_accuracy: 0.4924 - 28s/epoch - 176ms/step\n",
            "\u001b[2m\u001b[36m(DefaultActor pid=13406)\u001b[0m Epoch 8/10\n",
            "\u001b[2m\u001b[36m(DefaultActor pid=13407)\u001b[0m 157/157 - 25s - loss: 0.7044 - accuracy: 0.7544 - val_loss: 1.6262 - val_accuracy: 0.4989 - 25s/epoch - 160ms/step\n",
            "\u001b[2m\u001b[36m(DefaultActor pid=13407)\u001b[0m Epoch 5/10\n",
            "\u001b[2m\u001b[36m(DefaultActor pid=13406)\u001b[0m 157/157 - 24s - loss: 0.4198 - accuracy: 0.8622 - val_loss: 1.8216 - val_accuracy: 0.4969 - 24s/epoch - 156ms/step\n",
            "\u001b[2m\u001b[36m(DefaultActor pid=13406)\u001b[0m Epoch 9/10\n",
            "\u001b[2m\u001b[36m(DefaultActor pid=13407)\u001b[0m 157/157 - 25s - loss: 0.6271 - accuracy: 0.7830 - val_loss: 1.6804 - val_accuracy: 0.4910 - 25s/epoch - 158ms/step\n",
            "\u001b[2m\u001b[36m(DefaultActor pid=13407)\u001b[0m Epoch 6/10\n",
            "\u001b[2m\u001b[36m(DefaultActor pid=13406)\u001b[0m 157/157 - 30s - loss: 0.3513 - accuracy: 0.8934 - val_loss: 1.8787 - val_accuracy: 0.4930 - 30s/epoch - 191ms/step\n",
            "\u001b[2m\u001b[36m(DefaultActor pid=13406)\u001b[0m Epoch 10/10\n",
            "\u001b[2m\u001b[36m(DefaultActor pid=13407)\u001b[0m 157/157 - 30s - loss: 0.5669 - accuracy: 0.8058 - val_loss: 1.7115 - val_accuracy: 0.4890 - 30s/epoch - 192ms/step\n",
            "\u001b[2m\u001b[36m(DefaultActor pid=13407)\u001b[0m Epoch 7/10\n",
            "\u001b[2m\u001b[36m(DefaultActor pid=13406)\u001b[0m 157/157 - 26s - loss: 0.3455 - accuracy: 0.8922 - val_loss: 1.9111 - val_accuracy: 0.4905 - 26s/epoch - 164ms/step\n",
            "\u001b[2m\u001b[36m(DefaultActor pid=13406)\u001b[0m Client Train and validate Done!!!\n"
          ]
        },
        {
          "output_type": "stream",
          "name": "stderr",
          "text": [
            "\u001b[2m\u001b[36m(DefaultActor pid=13406)\u001b[0m WARNING:absl:Skipping variable loading for optimizer 'Adam', because it has 11 variables whereas the saved optimizer has 1 variables. \n"
          ]
        },
        {
          "output_type": "stream",
          "name": "stdout",
          "text": [
            "\u001b[2m\u001b[36m(DefaultActor pid=13406)\u001b[0m round :9\n",
            "\u001b[2m\u001b[36m(DefaultActor pid=13406)\u001b[0m Train :5000\n",
            "\u001b[2m\u001b[36m(DefaultActor pid=13406)\u001b[0m Test :10000\n",
            "\u001b[2m\u001b[36m(DefaultActor pid=13406)\u001b[0m Epoch 1/10\n",
            "\u001b[2m\u001b[36m(DefaultActor pid=13407)\u001b[0m 157/157 - 26s - loss: 0.4493 - accuracy: 0.8516 - val_loss: 1.8730 - val_accuracy: 0.4821 - 26s/epoch - 167ms/step\u001b[32m [repeated 2x across cluster]\u001b[0m\n",
            "\u001b[2m\u001b[36m(DefaultActor pid=13407)\u001b[0m Epoch 9/10\u001b[32m [repeated 2x across cluster]\u001b[0m\n",
            "\u001b[2m\u001b[36m(DefaultActor pid=13407)\u001b[0m 157/157 - 25s - loss: 0.4244 - accuracy: 0.8614 - val_loss: 1.8756 - val_accuracy: 0.4725 - 25s/epoch - 161ms/step\u001b[32m [repeated 2x across cluster]\u001b[0m\n",
            "\u001b[2m\u001b[36m(DefaultActor pid=13407)\u001b[0m Epoch 10/10\u001b[32m [repeated 2x across cluster]\u001b[0m\n",
            "\u001b[2m\u001b[36m(DefaultActor pid=13406)\u001b[0m 157/157 - 27s - loss: 0.9349 - accuracy: 0.6606 - val_loss: 1.5238 - val_accuracy: 0.4992 - 27s/epoch - 169ms/step\n",
            "\u001b[2m\u001b[36m(DefaultActor pid=13406)\u001b[0m Epoch 3/10\n",
            "\u001b[2m\u001b[36m(DefaultActor pid=13407)\u001b[0m 157/157 - 26s - loss: 0.3719 - accuracy: 0.8834 - val_loss: 1.9449 - val_accuracy: 0.4678 - 26s/epoch - 165ms/step\n",
            "\u001b[2m\u001b[36m(DefaultActor pid=13407)\u001b[0m Client Train and validate Done!!!\n",
            "\u001b[2m\u001b[36m(DefaultActor pid=13407)\u001b[0m round :9\n",
            "\u001b[2m\u001b[36m(DefaultActor pid=13407)\u001b[0m Train :5000\n",
            "\u001b[2m\u001b[36m(DefaultActor pid=13407)\u001b[0m Test :10000\n"
          ]
        },
        {
          "output_type": "stream",
          "name": "stderr",
          "text": [
            "\u001b[2m\u001b[36m(DefaultActor pid=13407)\u001b[0m WARNING:absl:Skipping variable loading for optimizer 'Adam', because it has 11 variables whereas the saved optimizer has 1 variables. \n"
          ]
        },
        {
          "output_type": "stream",
          "name": "stdout",
          "text": [
            "\u001b[2m\u001b[36m(DefaultActor pid=13407)\u001b[0m Epoch 1/10\n",
            "\u001b[2m\u001b[36m(DefaultActor pid=13406)\u001b[0m 157/157 - 25s - loss: 0.6760 - accuracy: 0.7568 - val_loss: 1.6378 - val_accuracy: 0.5020 - 25s/epoch - 157ms/step\u001b[32m [repeated 2x across cluster]\u001b[0m\n",
            "\u001b[2m\u001b[36m(DefaultActor pid=13406)\u001b[0m Epoch 5/10\u001b[32m [repeated 2x across cluster]\u001b[0m\n",
            "\u001b[2m\u001b[36m(DefaultActor pid=13407)\u001b[0m 157/157 - 34s - loss: 1.2516 - accuracy: 0.5746 - val_loss: 1.5048 - val_accuracy: 0.5118 - 34s/epoch - 216ms/step\n",
            "\u001b[2m\u001b[36m(DefaultActor pid=13407)\u001b[0m Epoch 2/10\n",
            "\u001b[2m\u001b[36m(DefaultActor pid=13406)\u001b[0m 157/157 - 24s - loss: 0.5921 - accuracy: 0.7922 - val_loss: 1.7018 - val_accuracy: 0.4941 - 24s/epoch - 155ms/step\n",
            "\u001b[2m\u001b[36m(DefaultActor pid=13406)\u001b[0m Epoch 6/10\n",
            "\u001b[2m\u001b[36m(DefaultActor pid=13407)\u001b[0m 157/157 - 24s - loss: 0.9530 - accuracy: 0.6594 - val_loss: 1.5358 - val_accuracy: 0.5077 - 24s/epoch - 156ms/step\n",
            "\u001b[2m\u001b[36m(DefaultActor pid=13407)\u001b[0m Epoch 3/10\n",
            "\u001b[2m\u001b[36m(DefaultActor pid=13406)\u001b[0m 157/157 - 26s - loss: 0.5524 - accuracy: 0.8126 - val_loss: 1.7555 - val_accuracy: 0.4918 - 26s/epoch - 166ms/step\n",
            "\u001b[2m\u001b[36m(DefaultActor pid=13406)\u001b[0m Epoch 7/10\n",
            "\u001b[2m\u001b[36m(DefaultActor pid=13406)\u001b[0m 157/157 - 23s - loss: 0.4847 - accuracy: 0.8394 - val_loss: 1.7803 - val_accuracy: 0.4904 - 23s/epoch - 146ms/step\u001b[32m [repeated 2x across cluster]\u001b[0m\n",
            "\u001b[2m\u001b[36m(DefaultActor pid=13406)\u001b[0m Epoch 8/10\u001b[32m [repeated 2x across cluster]\u001b[0m\n",
            "\u001b[2m\u001b[36m(DefaultActor pid=13407)\u001b[0m 157/157 - 26s - loss: 0.7118 - accuracy: 0.7504 - val_loss: 1.5868 - val_accuracy: 0.5045 - 26s/epoch - 166ms/step\n",
            "\u001b[2m\u001b[36m(DefaultActor pid=13407)\u001b[0m Epoch 5/10\n",
            "\u001b[2m\u001b[36m(DefaultActor pid=13406)\u001b[0m 157/157 - 25s - loss: 0.4307 - accuracy: 0.8624 - val_loss: 1.8534 - val_accuracy: 0.4909 - 25s/epoch - 161ms/step\n",
            "\u001b[2m\u001b[36m(DefaultActor pid=13406)\u001b[0m Epoch 9/10\n",
            "\u001b[2m\u001b[36m(DefaultActor pid=13407)\u001b[0m 157/157 - 23s - loss: 0.6513 - accuracy: 0.7774 - val_loss: 1.6812 - val_accuracy: 0.4951 - 23s/epoch - 147ms/step\n",
            "\u001b[2m\u001b[36m(DefaultActor pid=13407)\u001b[0m Epoch 6/10\n",
            "\u001b[2m\u001b[36m(DefaultActor pid=13406)\u001b[0m 157/157 - 26s - loss: 0.4156 - accuracy: 0.8616 - val_loss: 1.8592 - val_accuracy: 0.4929 - 26s/epoch - 166ms/step\n",
            "\u001b[2m\u001b[36m(DefaultActor pid=13406)\u001b[0m Epoch 10/10\n",
            "\u001b[2m\u001b[36m(DefaultActor pid=13406)\u001b[0m Client Train and validate Done!!!\n",
            "\u001b[2m\u001b[36m(DefaultActor pid=13406)\u001b[0m 157/157 - 26s - loss: 0.3327 - accuracy: 0.9020 - val_loss: 1.9489 - val_accuracy: 0.4831 - 26s/epoch - 166ms/step\u001b[32m [repeated 2x across cluster]\u001b[0m\n",
            "\u001b[2m\u001b[36m(DefaultActor pid=13407)\u001b[0m Epoch 7/10\n",
            "\u001b[2m\u001b[36m(DefaultActor pid=13407)\u001b[0m Epoch 8/10\n",
            "\u001b[2m\u001b[36m(DefaultActor pid=13407)\u001b[0m Epoch 9/10\n",
            "\u001b[2m\u001b[36m(DefaultActor pid=13407)\u001b[0m 157/157 - 11s - loss: 0.4660 - accuracy: 0.8428 - val_loss: 1.8160 - val_accuracy: 0.4835 - 11s/epoch - 72ms/step\u001b[32m [repeated 2x across cluster]\u001b[0m\n",
            "\u001b[2m\u001b[36m(DefaultActor pid=13407)\u001b[0m Epoch 10/10\n",
            "\u001b[2m\u001b[36m(DefaultActor pid=13407)\u001b[0m 157/157 - 11s - loss: 0.3812 - accuracy: 0.8814 - val_loss: 1.8954 - val_accuracy: 0.4889 - 11s/epoch - 71ms/step\n"
          ]
        },
        {
          "output_type": "stream",
          "name": "stderr",
          "text": [
            "DEBUG flwr 2024-02-07 23:14:21,560 | server.py:236 | fit_round 9 received 10 results and 0 failures\n",
            "DEBUG:flwr:fit_round 9 received 10 results and 0 failures\n",
            "DEBUG flwr 2024-02-07 23:14:21,602 | server.py:173 | evaluate_round 9: strategy sampled 10 clients (out of 10)\n",
            "DEBUG:flwr:evaluate_round 9: strategy sampled 10 clients (out of 10)\n"
          ]
        },
        {
          "output_type": "stream",
          "name": "stdout",
          "text": [
            "\u001b[2m\u001b[36m(DefaultActor pid=13407)\u001b[0m 157/157 - 10s - loss: 0.4100 - accuracy: 0.8690 - val_loss: 1.9154 - val_accuracy: 0.4919 - 10s/epoch - 65ms/step\n",
            "\u001b[2m\u001b[36m(DefaultActor pid=13407)\u001b[0m Client Train and validate Done!!!\n"
          ]
        },
        {
          "output_type": "stream",
          "name": "stderr",
          "text": [
            "\u001b[2m\u001b[36m(DefaultActor pid=13407)\u001b[0m WARNING:absl:Skipping variable loading for optimizer 'Adam', because it has 11 variables whereas the saved optimizer has 1 variables. \n"
          ]
        },
        {
          "output_type": "stream",
          "name": "stdout",
          "text": [
            "\u001b[2m\u001b[36m(DefaultActor pid=13407)\u001b[0m 10000/10000 - 158s - loss: 1.7451 - accuracy: 0.5339 - 158s/epoch - 16ms/step\n",
            "\u001b[2m\u001b[36m(DefaultActor pid=13407)\u001b[0m Global Validate Done!!!\n"
          ]
        },
        {
          "output_type": "stream",
          "name": "stderr",
          "text": [
            "\u001b[2m\u001b[36m(DefaultActor pid=13407)\u001b[0m WARNING:absl:Skipping variable loading for optimizer 'Adam', because it has 11 variables whereas the saved optimizer has 1 variables. \u001b[32m [repeated 2x across cluster]\u001b[0m\n"
          ]
        },
        {
          "output_type": "stream",
          "name": "stdout",
          "text": [
            "\u001b[2m\u001b[36m(DefaultActor pid=13407)\u001b[0m 10000/10000 - 154s - loss: 1.7451 - accuracy: 0.5339 - 154s/epoch - 15ms/step\u001b[32m [repeated 2x across cluster]\u001b[0m\n",
            "\u001b[2m\u001b[36m(DefaultActor pid=13407)\u001b[0m Global Validate Done!!!\u001b[32m [repeated 2x across cluster]\u001b[0m\n"
          ]
        },
        {
          "output_type": "stream",
          "name": "stderr",
          "text": [
            "\u001b[2m\u001b[36m(DefaultActor pid=13407)\u001b[0m WARNING:absl:Skipping variable loading for optimizer 'Adam', because it has 11 variables whereas the saved optimizer has 1 variables. \u001b[32m [repeated 2x across cluster]\u001b[0m\n"
          ]
        },
        {
          "output_type": "stream",
          "name": "stdout",
          "text": [
            "\u001b[2m\u001b[36m(DefaultActor pid=13407)\u001b[0m 10000/10000 - 154s - loss: 1.7451 - accuracy: 0.5339 - 154s/epoch - 15ms/step\u001b[32m [repeated 2x across cluster]\u001b[0m\n",
            "\u001b[2m\u001b[36m(DefaultActor pid=13407)\u001b[0m Global Validate Done!!!\u001b[32m [repeated 2x across cluster]\u001b[0m\n"
          ]
        },
        {
          "output_type": "stream",
          "name": "stderr",
          "text": [
            "\u001b[2m\u001b[36m(DefaultActor pid=13407)\u001b[0m WARNING:absl:Skipping variable loading for optimizer 'Adam', because it has 11 variables whereas the saved optimizer has 1 variables. \u001b[32m [repeated 2x across cluster]\u001b[0m\n"
          ]
        },
        {
          "output_type": "stream",
          "name": "stdout",
          "text": [
            "\u001b[2m\u001b[36m(DefaultActor pid=13406)\u001b[0m 10000/10000 - 155s - loss: 1.7451 - accuracy: 0.5339 - 155s/epoch - 16ms/step\n",
            "\u001b[2m\u001b[36m(DefaultActor pid=13406)\u001b[0m Global Validate Done!!!\n"
          ]
        },
        {
          "output_type": "stream",
          "name": "stderr",
          "text": [
            "\u001b[2m\u001b[36m(DefaultActor pid=13406)\u001b[0m WARNING:absl:Skipping variable loading for optimizer 'Adam', because it has 11 variables whereas the saved optimizer has 1 variables. \n"
          ]
        },
        {
          "output_type": "stream",
          "name": "stdout",
          "text": [
            "\u001b[2m\u001b[36m(DefaultActor pid=13407)\u001b[0m 10000/10000 - 154s - loss: 1.7451 - accuracy: 0.5339 - 154s/epoch - 15ms/step\n",
            "\u001b[2m\u001b[36m(DefaultActor pid=13407)\u001b[0m Global Validate Done!!!\n"
          ]
        },
        {
          "output_type": "stream",
          "name": "stderr",
          "text": [
            "\u001b[2m\u001b[36m(DefaultActor pid=13407)\u001b[0m WARNING:absl:Skipping variable loading for optimizer 'Adam', because it has 11 variables whereas the saved optimizer has 1 variables. \n"
          ]
        },
        {
          "output_type": "stream",
          "name": "stdout",
          "text": [
            "\u001b[2m\u001b[36m(DefaultActor pid=13406)\u001b[0m 10000/10000 - 153s - loss: 1.7451 - accuracy: 0.5339 - 153s/epoch - 15ms/step\n",
            "\u001b[2m\u001b[36m(DefaultActor pid=13406)\u001b[0m Global Validate Done!!!\n",
            "\u001b[2m\u001b[36m(DefaultActor pid=13407)\u001b[0m 10000/10000 - 152s - loss: 1.7451 - accuracy: 0.5339 - 152s/epoch - 15ms/step\n",
            "\u001b[2m\u001b[36m(DefaultActor pid=13407)\u001b[0m Global Validate Done!!!\n"
          ]
        },
        {
          "output_type": "stream",
          "name": "stderr",
          "text": [
            "DEBUG flwr 2024-02-07 23:27:32,263 | server.py:187 | evaluate_round 9 received 10 results and 0 failures\n",
            "DEBUG:flwr:evaluate_round 9 received 10 results and 0 failures\n",
            "DEBUG flwr 2024-02-07 23:27:32,272 | server.py:222 | fit_round 10: strategy sampled 10 clients (out of 10)\n",
            "DEBUG:flwr:fit_round 10: strategy sampled 10 clients (out of 10)\n",
            "\u001b[2m\u001b[36m(DefaultActor pid=13407)\u001b[0m WARNING:absl:Skipping variable loading for optimizer 'Adam', because it has 11 variables whereas the saved optimizer has 1 variables. \u001b[32m [repeated 2x across cluster]\u001b[0m\n"
          ]
        },
        {
          "output_type": "stream",
          "name": "stdout",
          "text": [
            "\u001b[2m\u001b[36m(DefaultActor pid=13406)\u001b[0m round :10\n",
            "\u001b[2m\u001b[36m(DefaultActor pid=13406)\u001b[0m Train :5000\n",
            "\u001b[2m\u001b[36m(DefaultActor pid=13406)\u001b[0m Test :10000\n",
            "\u001b[2m\u001b[36m(DefaultActor pid=13407)\u001b[0m Epoch 1/10\n",
            "\u001b[2m\u001b[36m(DefaultActor pid=13407)\u001b[0m 157/157 - 33s - loss: 1.2316 - accuracy: 0.5920 - val_loss: 1.5612 - val_accuracy: 0.5062 - 33s/epoch - 208ms/step\n",
            "\u001b[2m\u001b[36m(DefaultActor pid=13406)\u001b[0m 10000/10000 - 150s - loss: 1.7451 - accuracy: 0.5339 - 150s/epoch - 15ms/step\n",
            "\u001b[2m\u001b[36m(DefaultActor pid=13406)\u001b[0m Global Validate Done!!!\n",
            "\u001b[2m\u001b[36m(DefaultActor pid=13407)\u001b[0m round :10\n",
            "\u001b[2m\u001b[36m(DefaultActor pid=13407)\u001b[0m Train :5000\n",
            "\u001b[2m\u001b[36m(DefaultActor pid=13407)\u001b[0m Test :10000\n",
            "\u001b[2m\u001b[36m(DefaultActor pid=13407)\u001b[0m Epoch 2/10\u001b[32m [repeated 2x across cluster]\u001b[0m\n",
            "\u001b[2m\u001b[36m(DefaultActor pid=13407)\u001b[0m 157/157 - 23s - loss: 0.9128 - accuracy: 0.6784 - val_loss: 1.6378 - val_accuracy: 0.5038 - 23s/epoch - 148ms/step\u001b[32m [repeated 2x across cluster]\u001b[0m\n",
            "\u001b[2m\u001b[36m(DefaultActor pid=13407)\u001b[0m Epoch 3/10\u001b[32m [repeated 2x across cluster]\u001b[0m\n",
            "\u001b[2m\u001b[36m(DefaultActor pid=13407)\u001b[0m 157/157 - 22s - loss: 0.7617 - accuracy: 0.7368 - val_loss: 1.6576 - val_accuracy: 0.4924 - 22s/epoch - 141ms/step\u001b[32m [repeated 2x across cluster]\u001b[0m\n",
            "\u001b[2m\u001b[36m(DefaultActor pid=13407)\u001b[0m Epoch 4/10\u001b[32m [repeated 2x across cluster]\u001b[0m\n",
            "\u001b[2m\u001b[36m(DefaultActor pid=13407)\u001b[0m 157/157 - 25s - loss: 0.6515 - accuracy: 0.7670 - val_loss: 1.7389 - val_accuracy: 0.4898 - 25s/epoch - 159ms/step\u001b[32m [repeated 2x across cluster]\u001b[0m\n",
            "\u001b[2m\u001b[36m(DefaultActor pid=13407)\u001b[0m Epoch 5/10\u001b[32m [repeated 2x across cluster]\u001b[0m\n",
            "\u001b[2m\u001b[36m(DefaultActor pid=13407)\u001b[0m 157/157 - 28s - loss: 0.5570 - accuracy: 0.8168 - val_loss: 1.7700 - val_accuracy: 0.4930 - 28s/epoch - 176ms/step\u001b[32m [repeated 2x across cluster]\u001b[0m\n",
            "\u001b[2m\u001b[36m(DefaultActor pid=13406)\u001b[0m Epoch 5/10\n",
            "\u001b[2m\u001b[36m(DefaultActor pid=13407)\u001b[0m Epoch 6/10\n",
            "\u001b[2m\u001b[36m(DefaultActor pid=13407)\u001b[0m 157/157 - 28s - loss: 0.4991 - accuracy: 0.8360 - val_loss: 1.8146 - val_accuracy: 0.4936 - 28s/epoch - 180ms/step\u001b[32m [repeated 2x across cluster]\u001b[0m\n",
            "\u001b[2m\u001b[36m(DefaultActor pid=13407)\u001b[0m Epoch 7/10\u001b[32m [repeated 2x across cluster]\u001b[0m\n",
            "\u001b[2m\u001b[36m(DefaultActor pid=13407)\u001b[0m 157/157 - 26s - loss: 0.4349 - accuracy: 0.8630 - val_loss: 1.9088 - val_accuracy: 0.4837 - 26s/epoch - 168ms/step\u001b[32m [repeated 2x across cluster]\u001b[0m\n",
            "\u001b[2m\u001b[36m(DefaultActor pid=13407)\u001b[0m Epoch 8/10\u001b[32m [repeated 2x across cluster]\u001b[0m\n",
            "\u001b[2m\u001b[36m(DefaultActor pid=13407)\u001b[0m 157/157 - 24s - loss: 0.3492 - accuracy: 0.8992 - val_loss: 1.9566 - val_accuracy: 0.4851 - 24s/epoch - 152ms/step\u001b[32m [repeated 2x across cluster]\u001b[0m\n",
            "\u001b[2m\u001b[36m(DefaultActor pid=13407)\u001b[0m Epoch 9/10\u001b[32m [repeated 2x across cluster]\u001b[0m\n",
            "\u001b[2m\u001b[36m(DefaultActor pid=13407)\u001b[0m 157/157 - 25s - loss: 0.3197 - accuracy: 0.9048 - val_loss: 1.9561 - val_accuracy: 0.4809 - 25s/epoch - 162ms/step\u001b[32m [repeated 2x across cluster]\u001b[0m\n",
            "\u001b[2m\u001b[36m(DefaultActor pid=13407)\u001b[0m Epoch 10/10\u001b[32m [repeated 2x across cluster]\u001b[0m\n",
            "\u001b[2m\u001b[36m(DefaultActor pid=13407)\u001b[0m Client Train and validate Done!!!\n",
            "\u001b[2m\u001b[36m(DefaultActor pid=13407)\u001b[0m 157/157 - 25s - loss: 0.3493 - accuracy: 0.8884 - val_loss: 1.9768 - val_accuracy: 0.4857 - 25s/epoch - 160ms/step\u001b[32m [repeated 2x across cluster]\u001b[0m\n",
            "\u001b[2m\u001b[36m(DefaultActor pid=13406)\u001b[0m Epoch 10/10\n",
            "\u001b[2m\u001b[36m(DefaultActor pid=13407)\u001b[0m round :10\n",
            "\u001b[2m\u001b[36m(DefaultActor pid=13407)\u001b[0m Train :5000\n",
            "\u001b[2m\u001b[36m(DefaultActor pid=13407)\u001b[0m Test :10000\n"
          ]
        },
        {
          "output_type": "stream",
          "name": "stderr",
          "text": [
            "\u001b[2m\u001b[36m(DefaultActor pid=13407)\u001b[0m WARNING:absl:Skipping variable loading for optimizer 'Adam', because it has 11 variables whereas the saved optimizer has 1 variables. \u001b[32m [repeated 2x across cluster]\u001b[0m\n"
          ]
        },
        {
          "output_type": "stream",
          "name": "stdout",
          "text": [
            "\u001b[2m\u001b[36m(DefaultActor pid=13407)\u001b[0m Epoch 1/10\n",
            "\u001b[2m\u001b[36m(DefaultActor pid=13406)\u001b[0m Client Train and validate Done!!!\n",
            "\u001b[2m\u001b[36m(DefaultActor pid=13406)\u001b[0m 157/157 - 27s - loss: 0.2988 - accuracy: 0.9074 - val_loss: 2.0206 - val_accuracy: 0.4919 - 27s/epoch - 169ms/step\n",
            "\u001b[2m\u001b[36m(DefaultActor pid=13407)\u001b[0m 157/157 - 41s - loss: 1.2472 - accuracy: 0.5768 - val_loss: 1.5076 - val_accuracy: 0.5136 - 41s/epoch - 259ms/step\n",
            "\u001b[2m\u001b[36m(DefaultActor pid=13406)\u001b[0m round :10\n",
            "\u001b[2m\u001b[36m(DefaultActor pid=13406)\u001b[0m Train :5000\n",
            "\u001b[2m\u001b[36m(DefaultActor pid=13406)\u001b[0m Test :10000\n",
            "\u001b[2m\u001b[36m(DefaultActor pid=13407)\u001b[0m Epoch 2/10\u001b[32m [repeated 2x across cluster]\u001b[0m\n",
            "\u001b[2m\u001b[36m(DefaultActor pid=13407)\u001b[0m 157/157 - 24s - loss: 0.9229 - accuracy: 0.6682 - val_loss: 1.5936 - val_accuracy: 0.5056 - 24s/epoch - 156ms/step\u001b[32m [repeated 2x across cluster]\u001b[0m\n",
            "\u001b[2m\u001b[36m(DefaultActor pid=13407)\u001b[0m Epoch 3/10\u001b[32m [repeated 2x across cluster]\u001b[0m\n",
            "\u001b[2m\u001b[36m(DefaultActor pid=13407)\u001b[0m 157/157 - 26s - loss: 0.7638 - accuracy: 0.7294 - val_loss: 1.6322 - val_accuracy: 0.5031 - 26s/epoch - 165ms/step\u001b[32m [repeated 2x across cluster]\u001b[0m\n",
            "\u001b[2m\u001b[36m(DefaultActor pid=13407)\u001b[0m Epoch 4/10\u001b[32m [repeated 2x across cluster]\u001b[0m\n",
            "\u001b[2m\u001b[36m(DefaultActor pid=13407)\u001b[0m 157/157 - 22s - loss: 0.6633 - accuracy: 0.7624 - val_loss: 1.6528 - val_accuracy: 0.5005 - 22s/epoch - 142ms/step\u001b[32m [repeated 2x across cluster]\u001b[0m\n",
            "\u001b[2m\u001b[36m(DefaultActor pid=13407)\u001b[0m Epoch 5/10\u001b[32m [repeated 2x across cluster]\u001b[0m\n",
            "\u001b[2m\u001b[36m(DefaultActor pid=13407)\u001b[0m 157/157 - 26s - loss: 0.5746 - accuracy: 0.8042 - val_loss: 1.7440 - val_accuracy: 0.4922 - 26s/epoch - 167ms/step\u001b[32m [repeated 2x across cluster]\u001b[0m\n",
            "\u001b[2m\u001b[36m(DefaultActor pid=13407)\u001b[0m Epoch 6/10\u001b[32m [repeated 2x across cluster]\u001b[0m\n",
            "\u001b[2m\u001b[36m(DefaultActor pid=13407)\u001b[0m 157/157 - 26s - loss: 0.5045 - accuracy: 0.8244 - val_loss: 1.7731 - val_accuracy: 0.4956 - 26s/epoch - 165ms/step\u001b[32m [repeated 2x across cluster]\u001b[0m\n",
            "\u001b[2m\u001b[36m(DefaultActor pid=13407)\u001b[0m Epoch 7/10\u001b[32m [repeated 2x across cluster]\u001b[0m\n",
            "\u001b[2m\u001b[36m(DefaultActor pid=13407)\u001b[0m 157/157 - 26s - loss: 0.4349 - accuracy: 0.8624 - val_loss: 1.8318 - val_accuracy: 0.4883 - 26s/epoch - 164ms/step\u001b[32m [repeated 2x across cluster]\u001b[0m\n",
            "\u001b[2m\u001b[36m(DefaultActor pid=13407)\u001b[0m Epoch 8/10\u001b[32m [repeated 2x across cluster]\u001b[0m\n",
            "\u001b[2m\u001b[36m(DefaultActor pid=13407)\u001b[0m 157/157 - 22s - loss: 0.3913 - accuracy: 0.8780 - val_loss: 1.8980 - val_accuracy: 0.4884 - 22s/epoch - 143ms/step\u001b[32m [repeated 2x across cluster]\u001b[0m\n",
            "\u001b[2m\u001b[36m(DefaultActor pid=13407)\u001b[0m Epoch 9/10\u001b[32m [repeated 2x across cluster]\u001b[0m\n",
            "\u001b[2m\u001b[36m(DefaultActor pid=13407)\u001b[0m 157/157 - 24s - loss: 0.3836 - accuracy: 0.8796 - val_loss: 1.9199 - val_accuracy: 0.4887 - 24s/epoch - 152ms/step\u001b[32m [repeated 2x across cluster]\u001b[0m\n",
            "\u001b[2m\u001b[36m(DefaultActor pid=13407)\u001b[0m Epoch 10/10\u001b[32m [repeated 2x across cluster]\u001b[0m\n",
            "\u001b[2m\u001b[36m(DefaultActor pid=13407)\u001b[0m Client Train and validate Done!!!\n",
            "\u001b[2m\u001b[36m(DefaultActor pid=13407)\u001b[0m 157/157 - 26s - loss: 0.3330 - accuracy: 0.8958 - val_loss: 2.0395 - val_accuracy: 0.4801 - 26s/epoch - 167ms/step\u001b[32m [repeated 2x across cluster]\u001b[0m\n",
            "\u001b[2m\u001b[36m(DefaultActor pid=13406)\u001b[0m Epoch 10/10\n",
            "\u001b[2m\u001b[36m(DefaultActor pid=13407)\u001b[0m round :10\n",
            "\u001b[2m\u001b[36m(DefaultActor pid=13407)\u001b[0m Train :5000\n",
            "\u001b[2m\u001b[36m(DefaultActor pid=13407)\u001b[0m Test :10000\n"
          ]
        },
        {
          "output_type": "stream",
          "name": "stderr",
          "text": [
            "\u001b[2m\u001b[36m(DefaultActor pid=13407)\u001b[0m WARNING:absl:Skipping variable loading for optimizer 'Adam', because it has 11 variables whereas the saved optimizer has 1 variables. \u001b[32m [repeated 2x across cluster]\u001b[0m\n"
          ]
        },
        {
          "output_type": "stream",
          "name": "stdout",
          "text": [
            "\u001b[2m\u001b[36m(DefaultActor pid=13407)\u001b[0m Epoch 1/10\n",
            "\u001b[2m\u001b[36m(DefaultActor pid=13406)\u001b[0m Client Train and validate Done!!!\n",
            "\u001b[2m\u001b[36m(DefaultActor pid=13407)\u001b[0m 157/157 - 31s - loss: 1.2464 - accuracy: 0.5802 - val_loss: 1.5343 - val_accuracy: 0.5146 - 31s/epoch - 200ms/step\u001b[32m [repeated 2x across cluster]\u001b[0m\n",
            "\u001b[2m\u001b[36m(DefaultActor pid=13406)\u001b[0m round :10\n",
            "\u001b[2m\u001b[36m(DefaultActor pid=13406)\u001b[0m Train :5000\n",
            "\u001b[2m\u001b[36m(DefaultActor pid=13406)\u001b[0m Test :10000\n",
            "\u001b[2m\u001b[36m(DefaultActor pid=13407)\u001b[0m Epoch 2/10\u001b[32m [repeated 2x across cluster]\u001b[0m\n",
            "\u001b[2m\u001b[36m(DefaultActor pid=13407)\u001b[0m 157/157 - 26s - loss: 0.9060 - accuracy: 0.6798 - val_loss: 1.5847 - val_accuracy: 0.5076 - 26s/epoch - 165ms/step\u001b[32m [repeated 2x across cluster]\u001b[0m\n",
            "\u001b[2m\u001b[36m(DefaultActor pid=13407)\u001b[0m Epoch 3/10\u001b[32m [repeated 2x across cluster]\u001b[0m\n",
            "\u001b[2m\u001b[36m(DefaultActor pid=13407)\u001b[0m 157/157 - 26s - loss: 0.7553 - accuracy: 0.7300 - val_loss: 1.6372 - val_accuracy: 0.5099 - 26s/epoch - 165ms/step\u001b[32m [repeated 2x across cluster]\u001b[0m\n",
            "\u001b[2m\u001b[36m(DefaultActor pid=13407)\u001b[0m Epoch 4/10\u001b[32m [repeated 2x across cluster]\u001b[0m\n",
            "\u001b[2m\u001b[36m(DefaultActor pid=13407)\u001b[0m 157/157 - 25s - loss: 0.6378 - accuracy: 0.7786 - val_loss: 1.6545 - val_accuracy: 0.5064 - 25s/epoch - 157ms/step\u001b[32m [repeated 2x across cluster]\u001b[0m\n",
            "\u001b[2m\u001b[36m(DefaultActor pid=13407)\u001b[0m Epoch 5/10\u001b[32m [repeated 2x across cluster]\u001b[0m\n",
            "\u001b[2m\u001b[36m(DefaultActor pid=13407)\u001b[0m 157/157 - 23s - loss: 0.5526 - accuracy: 0.8180 - val_loss: 1.7571 - val_accuracy: 0.5027 - 23s/epoch - 148ms/step\u001b[32m [repeated 2x across cluster]\u001b[0m\n",
            "\u001b[2m\u001b[36m(DefaultActor pid=13407)\u001b[0m Epoch 6/10\u001b[32m [repeated 2x across cluster]\u001b[0m\n",
            "\u001b[2m\u001b[36m(DefaultActor pid=13407)\u001b[0m 157/157 - 26s - loss: 0.4580 - accuracy: 0.8496 - val_loss: 1.7879 - val_accuracy: 0.4955 - 26s/epoch - 163ms/step\u001b[32m [repeated 2x across cluster]\u001b[0m\n",
            "\u001b[2m\u001b[36m(DefaultActor pid=13407)\u001b[0m Epoch 7/10\u001b[32m [repeated 2x across cluster]\u001b[0m\n",
            "\u001b[2m\u001b[36m(DefaultActor pid=13407)\u001b[0m 157/157 - 22s - loss: 0.4208 - accuracy: 0.8660 - val_loss: 1.8517 - val_accuracy: 0.5012 - 22s/epoch - 142ms/step\u001b[32m [repeated 2x across cluster]\u001b[0m\n",
            "\u001b[2m\u001b[36m(DefaultActor pid=13407)\u001b[0m Epoch 8/10\u001b[32m [repeated 2x across cluster]\u001b[0m\n",
            "\u001b[2m\u001b[36m(DefaultActor pid=13407)\u001b[0m 157/157 - 25s - loss: 0.3758 - accuracy: 0.8818 - val_loss: 1.9084 - val_accuracy: 0.4914 - 25s/epoch - 157ms/step\u001b[32m [repeated 2x across cluster]\u001b[0m\n",
            "\u001b[2m\u001b[36m(DefaultActor pid=13407)\u001b[0m Epoch 9/10\u001b[32m [repeated 2x across cluster]\u001b[0m\n",
            "\u001b[2m\u001b[36m(DefaultActor pid=13407)\u001b[0m 157/157 - 26s - loss: 0.3218 - accuracy: 0.9018 - val_loss: 1.9459 - val_accuracy: 0.4943 - 26s/epoch - 163ms/step\u001b[32m [repeated 2x across cluster]\u001b[0m\n",
            "\u001b[2m\u001b[36m(DefaultActor pid=13407)\u001b[0m Epoch 10/10\u001b[32m [repeated 2x across cluster]\u001b[0m\n",
            "\u001b[2m\u001b[36m(DefaultActor pid=13407)\u001b[0m Client Train and validate Done!!!\n",
            "\u001b[2m\u001b[36m(DefaultActor pid=13407)\u001b[0m 157/157 - 27s - loss: 0.2929 - accuracy: 0.9138 - val_loss: 1.9942 - val_accuracy: 0.4928 - 27s/epoch - 171ms/step\u001b[32m [repeated 2x across cluster]\u001b[0m\n",
            "\u001b[2m\u001b[36m(DefaultActor pid=13406)\u001b[0m Epoch 10/10\n"
          ]
        },
        {
          "output_type": "stream",
          "name": "stderr",
          "text": [
            "\u001b[2m\u001b[36m(DefaultActor pid=13407)\u001b[0m WARNING:absl:Skipping variable loading for optimizer 'Adam', because it has 11 variables whereas the saved optimizer has 1 variables. \u001b[32m [repeated 2x across cluster]\u001b[0m\n"
          ]
        },
        {
          "output_type": "stream",
          "name": "stdout",
          "text": [
            "\u001b[2m\u001b[36m(DefaultActor pid=13407)\u001b[0m round :10\n",
            "\u001b[2m\u001b[36m(DefaultActor pid=13407)\u001b[0m Train :5000\n",
            "\u001b[2m\u001b[36m(DefaultActor pid=13407)\u001b[0m Test :10000\n",
            "\u001b[2m\u001b[36m(DefaultActor pid=13407)\u001b[0m Epoch 1/10\n",
            "\u001b[2m\u001b[36m(DefaultActor pid=13406)\u001b[0m Client Train and validate Done!!!\n",
            "\u001b[2m\u001b[36m(DefaultActor pid=13407)\u001b[0m 157/157 - 32s - loss: 1.1997 - accuracy: 0.5962 - val_loss: 1.5547 - val_accuracy: 0.5079 - 32s/epoch - 201ms/step\u001b[32m [repeated 2x across cluster]\u001b[0m\n",
            "\u001b[2m\u001b[36m(DefaultActor pid=13406)\u001b[0m round :10\n",
            "\u001b[2m\u001b[36m(DefaultActor pid=13406)\u001b[0m Train :5000\n",
            "\u001b[2m\u001b[36m(DefaultActor pid=13406)\u001b[0m Test :10000\n",
            "\u001b[2m\u001b[36m(DefaultActor pid=13407)\u001b[0m Epoch 2/10\u001b[32m [repeated 2x across cluster]\u001b[0m\n",
            "\u001b[2m\u001b[36m(DefaultActor pid=13406)\u001b[0m 157/157 - 34s - loss: 1.2239 - accuracy: 0.5872 - val_loss: 1.5096 - val_accuracy: 0.5147 - 34s/epoch - 215ms/step\n",
            "\u001b[2m\u001b[36m(DefaultActor pid=13406)\u001b[0m Epoch 2/10\n",
            "\u001b[2m\u001b[36m(DefaultActor pid=13407)\u001b[0m 157/157 - 26s - loss: 0.8886 - accuracy: 0.6848 - val_loss: 1.5897 - val_accuracy: 0.5061 - 26s/epoch - 165ms/step\n",
            "\u001b[2m\u001b[36m(DefaultActor pid=13407)\u001b[0m Epoch 3/10\n",
            "\u001b[2m\u001b[36m(DefaultActor pid=13407)\u001b[0m 157/157 - 24s - loss: 0.7085 - accuracy: 0.7482 - val_loss: 1.6906 - val_accuracy: 0.5060 - 24s/epoch - 152ms/step\u001b[32m [repeated 2x across cluster]\u001b[0m\n",
            "\u001b[2m\u001b[36m(DefaultActor pid=13407)\u001b[0m Epoch 4/10\u001b[32m [repeated 2x across cluster]\u001b[0m\n",
            "\u001b[2m\u001b[36m(DefaultActor pid=13407)\u001b[0m 157/157 - 22s - loss: 0.6202 - accuracy: 0.7832 - val_loss: 1.7313 - val_accuracy: 0.4990 - 22s/epoch - 141ms/step\u001b[32m [repeated 2x across cluster]\u001b[0m\n",
            "\u001b[2m\u001b[36m(DefaultActor pid=13407)\u001b[0m Epoch 5/10\u001b[32m [repeated 2x across cluster]\u001b[0m\n",
            "\u001b[2m\u001b[36m(DefaultActor pid=13406)\u001b[0m 157/157 - 26s - loss: 0.6454 - accuracy: 0.7762 - val_loss: 1.6767 - val_accuracy: 0.4887 - 26s/epoch - 167ms/step\n",
            "\u001b[2m\u001b[36m(DefaultActor pid=13406)\u001b[0m Epoch 5/10\n",
            "\u001b[2m\u001b[36m(DefaultActor pid=13407)\u001b[0m 157/157 - 25s - loss: 0.5394 - accuracy: 0.8176 - val_loss: 1.7709 - val_accuracy: 0.4985 - 25s/epoch - 161ms/step\n",
            "\u001b[2m\u001b[36m(DefaultActor pid=13407)\u001b[0m Epoch 6/10\n",
            "\u001b[2m\u001b[36m(DefaultActor pid=13406)\u001b[0m 157/157 - 23s - loss: 0.5362 - accuracy: 0.8144 - val_loss: 1.7921 - val_accuracy: 0.4943 - 23s/epoch - 149ms/step\n",
            "\u001b[2m\u001b[36m(DefaultActor pid=13406)\u001b[0m Epoch 6/10\n",
            "\u001b[2m\u001b[36m(DefaultActor pid=13407)\u001b[0m 157/157 - 25s - loss: 0.4771 - accuracy: 0.8406 - val_loss: 1.7749 - val_accuracy: 0.4906 - 25s/epoch - 162ms/step\n",
            "\u001b[2m\u001b[36m(DefaultActor pid=13407)\u001b[0m Epoch 7/10\n",
            "\u001b[2m\u001b[36m(DefaultActor pid=13406)\u001b[0m 157/157 - 25s - loss: 0.4788 - accuracy: 0.8438 - val_loss: 1.7889 - val_accuracy: 0.4922 - 25s/epoch - 160ms/step\n",
            "\u001b[2m\u001b[36m(DefaultActor pid=13406)\u001b[0m Epoch 7/10\n",
            "\u001b[2m\u001b[36m(DefaultActor pid=13407)\u001b[0m 157/157 - 26s - loss: 0.4248 - accuracy: 0.8600 - val_loss: 1.8544 - val_accuracy: 0.4963 - 26s/epoch - 164ms/step\n",
            "\u001b[2m\u001b[36m(DefaultActor pid=13407)\u001b[0m Epoch 8/10\n",
            "\u001b[2m\u001b[36m(DefaultActor pid=13407)\u001b[0m 157/157 - 22s - loss: 0.3646 - accuracy: 0.8836 - val_loss: 1.8718 - val_accuracy: 0.4932 - 22s/epoch - 142ms/step\u001b[32m [repeated 2x across cluster]\u001b[0m\n",
            "\u001b[2m\u001b[36m(DefaultActor pid=13407)\u001b[0m Epoch 9/10\u001b[32m [repeated 2x across cluster]\u001b[0m\n",
            "\u001b[2m\u001b[36m(DefaultActor pid=13406)\u001b[0m 157/157 - 26s - loss: 0.3819 - accuracy: 0.8760 - val_loss: 1.9250 - val_accuracy: 0.4918 - 26s/epoch - 167ms/step\n",
            "\u001b[2m\u001b[36m(DefaultActor pid=13406)\u001b[0m Epoch 9/10\n",
            "\u001b[2m\u001b[36m(DefaultActor pid=13407)\u001b[0m 157/157 - 26s - loss: 0.3654 - accuracy: 0.8864 - val_loss: 1.9359 - val_accuracy: 0.4887 - 26s/epoch - 166ms/step\n",
            "\u001b[2m\u001b[36m(DefaultActor pid=13407)\u001b[0m Epoch 10/10\n",
            "\u001b[2m\u001b[36m(DefaultActor pid=13406)\u001b[0m 157/157 - 24s - loss: 0.3556 - accuracy: 0.8872 - val_loss: 1.9602 - val_accuracy: 0.4802 - 24s/epoch - 152ms/step\n",
            "\u001b[2m\u001b[36m(DefaultActor pid=13406)\u001b[0m Epoch 10/10\n",
            "\u001b[2m\u001b[36m(DefaultActor pid=13407)\u001b[0m 157/157 - 26s - loss: 0.3189 - accuracy: 0.9040 - val_loss: 1.9664 - val_accuracy: 0.4969 - 26s/epoch - 167ms/step\n",
            "\u001b[2m\u001b[36m(DefaultActor pid=13407)\u001b[0m Client Train and validate Done!!!\n"
          ]
        },
        {
          "output_type": "stream",
          "name": "stderr",
          "text": [
            "\u001b[2m\u001b[36m(DefaultActor pid=13407)\u001b[0m WARNING:absl:Skipping variable loading for optimizer 'Adam', because it has 11 variables whereas the saved optimizer has 1 variables. \u001b[32m [repeated 2x across cluster]\u001b[0m\n"
          ]
        },
        {
          "output_type": "stream",
          "name": "stdout",
          "text": [
            "\u001b[2m\u001b[36m(DefaultActor pid=13407)\u001b[0m round :10\n",
            "\u001b[2m\u001b[36m(DefaultActor pid=13407)\u001b[0m Train :5000\n",
            "\u001b[2m\u001b[36m(DefaultActor pid=13407)\u001b[0m Test :10000\n",
            "\u001b[2m\u001b[36m(DefaultActor pid=13407)\u001b[0m Epoch 1/10\n",
            "\u001b[2m\u001b[36m(DefaultActor pid=13406)\u001b[0m 157/157 - 28s - loss: 0.3230 - accuracy: 0.8982 - val_loss: 2.0097 - val_accuracy: 0.4866 - 28s/epoch - 180ms/step\n",
            "\u001b[2m\u001b[36m(DefaultActor pid=13406)\u001b[0m Client Train and validate Done!!!\n"
          ]
        },
        {
          "output_type": "stream",
          "name": "stderr",
          "text": [
            "\u001b[2m\u001b[36m(DefaultActor pid=13406)\u001b[0m WARNING:absl:Skipping variable loading for optimizer 'Adam', because it has 11 variables whereas the saved optimizer has 1 variables. \n"
          ]
        },
        {
          "output_type": "stream",
          "name": "stdout",
          "text": [
            "\u001b[2m\u001b[36m(DefaultActor pid=13406)\u001b[0m round :10\n",
            "\u001b[2m\u001b[36m(DefaultActor pid=13406)\u001b[0m Train :5000\n",
            "\u001b[2m\u001b[36m(DefaultActor pid=13406)\u001b[0m Test :10000\n",
            "\u001b[2m\u001b[36m(DefaultActor pid=13406)\u001b[0m Epoch 1/10\n",
            "\u001b[2m\u001b[36m(DefaultActor pid=13407)\u001b[0m 157/157 - 37s - loss: 1.2021 - accuracy: 0.5990 - val_loss: 1.5353 - val_accuracy: 0.5102 - 37s/epoch - 234ms/step\n",
            "\u001b[2m\u001b[36m(DefaultActor pid=13407)\u001b[0m Epoch 2/10\n",
            "\u001b[2m\u001b[36m(DefaultActor pid=13406)\u001b[0m Epoch 2/10\n",
            "\u001b[2m\u001b[36m(DefaultActor pid=13406)\u001b[0m 157/157 - 33s - loss: 1.2142 - accuracy: 0.5872 - val_loss: 1.5500 - val_accuracy: 0.5033 - 33s/epoch - 209ms/step\n",
            "\u001b[2m\u001b[36m(DefaultActor pid=13407)\u001b[0m 157/157 - 26s - loss: 0.9094 - accuracy: 0.6794 - val_loss: 1.6156 - val_accuracy: 0.5064 - 26s/epoch - 163ms/step\n",
            "\u001b[2m\u001b[36m(DefaultActor pid=13407)\u001b[0m Epoch 3/10\n",
            "\u001b[2m\u001b[36m(DefaultActor pid=13406)\u001b[0m Epoch 3/10\n",
            "\u001b[2m\u001b[36m(DefaultActor pid=13406)\u001b[0m 157/157 - 27s - loss: 0.9009 - accuracy: 0.6758 - val_loss: 1.6277 - val_accuracy: 0.4947 - 27s/epoch - 173ms/step\n",
            "\u001b[2m\u001b[36m(DefaultActor pid=13407)\u001b[0m 157/157 - 23s - loss: 0.7476 - accuracy: 0.7342 - val_loss: 1.6398 - val_accuracy: 0.5025 - 23s/epoch - 148ms/step\n",
            "\u001b[2m\u001b[36m(DefaultActor pid=13407)\u001b[0m Epoch 4/10\n",
            "\u001b[2m\u001b[36m(DefaultActor pid=13406)\u001b[0m Epoch 4/10\n",
            "\u001b[2m\u001b[36m(DefaultActor pid=13406)\u001b[0m 157/157 - 25s - loss: 0.7480 - accuracy: 0.7358 - val_loss: 1.6725 - val_accuracy: 0.5033 - 25s/epoch - 159ms/step\n",
            "\u001b[2m\u001b[36m(DefaultActor pid=13407)\u001b[0m 157/157 - 26s - loss: 0.6171 - accuracy: 0.7832 - val_loss: 1.6659 - val_accuracy: 0.5021 - 26s/epoch - 169ms/step\n",
            "\u001b[2m\u001b[36m(DefaultActor pid=13407)\u001b[0m Epoch 5/10\n",
            "\u001b[2m\u001b[36m(DefaultActor pid=13406)\u001b[0m 157/157 - 26s - loss: 0.6396 - accuracy: 0.7768 - val_loss: 1.7196 - val_accuracy: 0.4940 - 26s/epoch - 165ms/step\n",
            "\u001b[2m\u001b[36m(DefaultActor pid=13406)\u001b[0m Epoch 5/10\n",
            "\u001b[2m\u001b[36m(DefaultActor pid=13407)\u001b[0m 157/157 - 27s - loss: 0.5323 - accuracy: 0.8206 - val_loss: 1.7763 - val_accuracy: 0.4978 - 27s/epoch - 170ms/step\n",
            "\u001b[2m\u001b[36m(DefaultActor pid=13407)\u001b[0m Epoch 6/10\n",
            "\u001b[2m\u001b[36m(DefaultActor pid=13406)\u001b[0m 157/157 - 23s - loss: 0.5428 - accuracy: 0.8220 - val_loss: 1.7659 - val_accuracy: 0.4968 - 23s/epoch - 149ms/step\n",
            "\u001b[2m\u001b[36m(DefaultActor pid=13406)\u001b[0m Epoch 6/10\n",
            "\u001b[2m\u001b[36m(DefaultActor pid=13407)\u001b[0m 157/157 - 26s - loss: 0.4898 - accuracy: 0.8358 - val_loss: 1.8165 - val_accuracy: 0.5010 - 26s/epoch - 165ms/step\n",
            "\u001b[2m\u001b[36m(DefaultActor pid=13407)\u001b[0m Epoch 7/10\n",
            "\u001b[2m\u001b[36m(DefaultActor pid=13406)\u001b[0m 157/157 - 27s - loss: 0.4702 - accuracy: 0.8458 - val_loss: 1.8262 - val_accuracy: 0.4883 - 27s/epoch - 169ms/step\n",
            "\u001b[2m\u001b[36m(DefaultActor pid=13406)\u001b[0m Epoch 7/10\n",
            "\u001b[2m\u001b[36m(DefaultActor pid=13407)\u001b[0m 157/157 - 26s - loss: 0.4142 - accuracy: 0.8644 - val_loss: 1.8886 - val_accuracy: 0.4831 - 26s/epoch - 163ms/step\n",
            "\u001b[2m\u001b[36m(DefaultActor pid=13407)\u001b[0m Epoch 8/10\n",
            "\u001b[2m\u001b[36m(DefaultActor pid=13406)\u001b[0m 157/157 - 26s - loss: 0.4252 - accuracy: 0.8660 - val_loss: 1.8782 - val_accuracy: 0.4890 - 26s/epoch - 168ms/step\n",
            "\u001b[2m\u001b[36m(DefaultActor pid=13406)\u001b[0m Epoch 8/10\n",
            "\u001b[2m\u001b[36m(DefaultActor pid=13407)\u001b[0m 157/157 - 25s - loss: 0.3771 - accuracy: 0.8768 - val_loss: 1.9645 - val_accuracy: 0.4812 - 25s/epoch - 159ms/step\n",
            "\u001b[2m\u001b[36m(DefaultActor pid=13407)\u001b[0m Epoch 9/10\n",
            "\u001b[2m\u001b[36m(DefaultActor pid=13406)\u001b[0m 157/157 - 27s - loss: 0.3831 - accuracy: 0.8800 - val_loss: 1.9128 - val_accuracy: 0.4933 - 27s/epoch - 173ms/step\n",
            "\u001b[2m\u001b[36m(DefaultActor pid=13406)\u001b[0m Epoch 9/10\n",
            "\u001b[2m\u001b[36m(DefaultActor pid=13407)\u001b[0m 157/157 - 26s - loss: 0.3373 - accuracy: 0.8972 - val_loss: 1.9563 - val_accuracy: 0.4924 - 26s/epoch - 166ms/step\n",
            "\u001b[2m\u001b[36m(DefaultActor pid=13407)\u001b[0m Epoch 10/10\n",
            "\u001b[2m\u001b[36m(DefaultActor pid=13406)\u001b[0m 157/157 - 23s - loss: 0.3530 - accuracy: 0.8900 - val_loss: 1.9720 - val_accuracy: 0.4866 - 23s/epoch - 148ms/step\n",
            "\u001b[2m\u001b[36m(DefaultActor pid=13406)\u001b[0m Epoch 10/10\n",
            "\u001b[2m\u001b[36m(DefaultActor pid=13407)\u001b[0m 157/157 - 24s - loss: 0.3018 - accuracy: 0.9034 - val_loss: 1.9967 - val_accuracy: 0.4845 - 24s/epoch - 154ms/step\n",
            "\u001b[2m\u001b[36m(DefaultActor pid=13407)\u001b[0m Client Train and validate Done!!!\n"
          ]
        },
        {
          "output_type": "stream",
          "name": "stderr",
          "text": [
            "DEBUG flwr 2024-02-07 23:49:29,038 | server.py:236 | fit_round 10 received 10 results and 0 failures\n",
            "DEBUG:flwr:fit_round 10 received 10 results and 0 failures\n",
            "DEBUG flwr 2024-02-07 23:49:29,068 | server.py:173 | evaluate_round 10: strategy sampled 10 clients (out of 10)\n",
            "DEBUG:flwr:evaluate_round 10: strategy sampled 10 clients (out of 10)\n",
            "\u001b[2m\u001b[36m(DefaultActor pid=13406)\u001b[0m WARNING:absl:Skipping variable loading for optimizer 'Adam', because it has 11 variables whereas the saved optimizer has 1 variables. \n",
            "\u001b[2m\u001b[36m(DefaultActor pid=13407)\u001b[0m WARNING:absl:Skipping variable loading for optimizer 'Adam', because it has 11 variables whereas the saved optimizer has 1 variables. \n"
          ]
        },
        {
          "output_type": "stream",
          "name": "stdout",
          "text": [
            "\u001b[2m\u001b[36m(DefaultActor pid=13406)\u001b[0m 10000/10000 - 111s - loss: 1.7968 - accuracy: 0.5321 - 111s/epoch - 11ms/step\n",
            "\u001b[2m\u001b[36m(DefaultActor pid=13406)\u001b[0m Global Validate Done!!!\n",
            "\u001b[2m\u001b[36m(DefaultActor pid=13406)\u001b[0m 157/157 - 21s - loss: 0.3122 - accuracy: 0.9048 - val_loss: 2.0206 - val_accuracy: 0.4825 - 21s/epoch - 136ms/step\n",
            "\u001b[2m\u001b[36m(DefaultActor pid=13406)\u001b[0m Client Train and validate Done!!!\n"
          ]
        },
        {
          "output_type": "stream",
          "name": "stderr",
          "text": [
            "\u001b[2m\u001b[36m(DefaultActor pid=13406)\u001b[0m WARNING:absl:Skipping variable loading for optimizer 'Adam', because it has 11 variables whereas the saved optimizer has 1 variables. \n"
          ]
        },
        {
          "output_type": "stream",
          "name": "stdout",
          "text": [
            "\u001b[2m\u001b[36m(DefaultActor pid=13407)\u001b[0m 10000/10000 - 160s - loss: 1.7968 - accuracy: 0.5321 - 160s/epoch - 16ms/step\n",
            "\u001b[2m\u001b[36m(DefaultActor pid=13407)\u001b[0m Global Validate Done!!!\n"
          ]
        },
        {
          "output_type": "stream",
          "name": "stderr",
          "text": [
            "\u001b[2m\u001b[36m(DefaultActor pid=13407)\u001b[0m WARNING:absl:Skipping variable loading for optimizer 'Adam', because it has 11 variables whereas the saved optimizer has 1 variables. \n"
          ]
        },
        {
          "output_type": "stream",
          "name": "stdout",
          "text": [
            "\u001b[2m\u001b[36m(DefaultActor pid=13406)\u001b[0m 10000/10000 - 163s - loss: 1.7968 - accuracy: 0.5321 - 163s/epoch - 16ms/step\n",
            "\u001b[2m\u001b[36m(DefaultActor pid=13406)\u001b[0m Global Validate Done!!!\n"
          ]
        },
        {
          "output_type": "stream",
          "name": "stderr",
          "text": [
            "\u001b[2m\u001b[36m(DefaultActor pid=13406)\u001b[0m WARNING:absl:Skipping variable loading for optimizer 'Adam', because it has 11 variables whereas the saved optimizer has 1 variables. \n"
          ]
        },
        {
          "output_type": "stream",
          "name": "stdout",
          "text": [
            "\u001b[2m\u001b[36m(DefaultActor pid=13407)\u001b[0m 10000/10000 - 158s - loss: 1.7968 - accuracy: 0.5321 - 158s/epoch - 16ms/step\n",
            "\u001b[2m\u001b[36m(DefaultActor pid=13407)\u001b[0m Global Validate Done!!!\n"
          ]
        },
        {
          "output_type": "stream",
          "name": "stderr",
          "text": [
            "\u001b[2m\u001b[36m(DefaultActor pid=13407)\u001b[0m WARNING:absl:Skipping variable loading for optimizer 'Adam', because it has 11 variables whereas the saved optimizer has 1 variables. \n"
          ]
        },
        {
          "output_type": "stream",
          "name": "stdout",
          "text": [
            "\u001b[2m\u001b[36m(DefaultActor pid=13406)\u001b[0m 10000/10000 - 162s - loss: 1.7968 - accuracy: 0.5321 - 162s/epoch - 16ms/step\n",
            "\u001b[2m\u001b[36m(DefaultActor pid=13406)\u001b[0m Global Validate Done!!!\n"
          ]
        },
        {
          "output_type": "stream",
          "name": "stderr",
          "text": [
            "\u001b[2m\u001b[36m(DefaultActor pid=13406)\u001b[0m WARNING:absl:Skipping variable loading for optimizer 'Adam', because it has 11 variables whereas the saved optimizer has 1 variables. \n"
          ]
        },
        {
          "output_type": "stream",
          "name": "stdout",
          "text": [
            "\u001b[2m\u001b[36m(DefaultActor pid=13407)\u001b[0m 10000/10000 - 158s - loss: 1.7968 - accuracy: 0.5321 - 158s/epoch - 16ms/step\n",
            "\u001b[2m\u001b[36m(DefaultActor pid=13407)\u001b[0m Global Validate Done!!!\n"
          ]
        },
        {
          "output_type": "stream",
          "name": "stderr",
          "text": [
            "\u001b[2m\u001b[36m(DefaultActor pid=13407)\u001b[0m WARNING:absl:Skipping variable loading for optimizer 'Adam', because it has 11 variables whereas the saved optimizer has 1 variables. \n"
          ]
        },
        {
          "output_type": "stream",
          "name": "stdout",
          "text": [
            "\u001b[2m\u001b[36m(DefaultActor pid=13406)\u001b[0m 10000/10000 - 160s - loss: 1.7968 - accuracy: 0.5321 - 160s/epoch - 16ms/step\n",
            "\u001b[2m\u001b[36m(DefaultActor pid=13406)\u001b[0m Global Validate Done!!!\n"
          ]
        },
        {
          "output_type": "stream",
          "name": "stderr",
          "text": [
            "\u001b[2m\u001b[36m(DefaultActor pid=13406)\u001b[0m WARNING:absl:Skipping variable loading for optimizer 'Adam', because it has 11 variables whereas the saved optimizer has 1 variables. \n"
          ]
        },
        {
          "output_type": "stream",
          "name": "stdout",
          "text": [
            "\u001b[2m\u001b[36m(DefaultActor pid=13407)\u001b[0m 10000/10000 - 160s - loss: 1.7968 - accuracy: 0.5321 - 160s/epoch - 16ms/step\n",
            "\u001b[2m\u001b[36m(DefaultActor pid=13407)\u001b[0m Global Validate Done!!!\n"
          ]
        },
        {
          "output_type": "stream",
          "name": "stderr",
          "text": [
            "\u001b[2m\u001b[36m(DefaultActor pid=13407)\u001b[0m WARNING:absl:Skipping variable loading for optimizer 'Adam', because it has 11 variables whereas the saved optimizer has 1 variables. \n"
          ]
        },
        {
          "output_type": "stream",
          "name": "stdout",
          "text": [
            "\u001b[2m\u001b[36m(DefaultActor pid=13406)\u001b[0m 10000/10000 - 164s - loss: 1.7968 - accuracy: 0.5321 - 164s/epoch - 16ms/step\n",
            "\u001b[2m\u001b[36m(DefaultActor pid=13406)\u001b[0m Global Validate Done!!!\n"
          ]
        },
        {
          "output_type": "stream",
          "name": "stderr",
          "text": [
            "DEBUG flwr 2024-02-08 00:03:03,446 | server.py:187 | evaluate_round 10 received 10 results and 0 failures\n",
            "DEBUG:flwr:evaluate_round 10 received 10 results and 0 failures\n",
            "INFO flwr 2024-02-08 00:03:03,451 | server.py:153 | FL finished in 18626.960904621\n",
            "INFO:flwr:FL finished in 18626.960904621\n",
            "INFO flwr 2024-02-08 00:03:03,453 | app.py:226 | app_fit: losses_distributed [(1, 1.6411255598068237), (2, 1.4664673805236816), (3, 1.4651155471801758), (4, 1.4900765419006348), (5, 1.5334341526031494), (6, 1.578360915184021), (7, 1.638283371925354), (8, 1.6768558025360107), (9, 1.7451285123825073), (10, 1.796769142150879)]\n",
            "INFO:flwr:app_fit: losses_distributed [(1, 1.6411255598068237), (2, 1.4664673805236816), (3, 1.4651155471801758), (4, 1.4900765419006348), (5, 1.5334341526031494), (6, 1.578360915184021), (7, 1.638283371925354), (8, 1.6768558025360107), (9, 1.7451285123825073), (10, 1.796769142150879)]\n",
            "INFO flwr 2024-02-08 00:03:03,455 | app.py:227 | app_fit: metrics_distributed_fit {'example': [(1, 50000), (2, 50000), (3, 50000), (4, 50000), (5, 50000), (6, 50000), (7, 50000), (8, 50000), (9, 50000), (10, 50000)], 'accuracy': [(1, 46.586), (2, 56.808), (3, 65.654), (4, 72.018), (5, 77.722), (6, 81.366), (7, 84.67), (8, 86.694), (9, 88.884), (10, 90.096)], 'valacc': [(1, 41.342), (2, 44.5), (3, 46.025), (4, 47.012), (5, 47.489), (6, 48.196), (7, 48.129), (8, 48.362), (9, 48.623), (10, 48.708)]}\n",
            "INFO:flwr:app_fit: metrics_distributed_fit {'example': [(1, 50000), (2, 50000), (3, 50000), (4, 50000), (5, 50000), (6, 50000), (7, 50000), (8, 50000), (9, 50000), (10, 50000)], 'accuracy': [(1, 46.586), (2, 56.808), (3, 65.654), (4, 72.018), (5, 77.722), (6, 81.366), (7, 84.67), (8, 86.694), (9, 88.884), (10, 90.096)], 'valacc': [(1, 41.342), (2, 44.5), (3, 46.025), (4, 47.012), (5, 47.489), (6, 48.196), (7, 48.129), (8, 48.362), (9, 48.623), (10, 48.708)]}\n",
            "INFO flwr 2024-02-08 00:03:03,458 | app.py:228 | app_fit: metrics_distributed {'accuracy': [(1, 41.21), (2, 48.13), (3, 50.38), (4, 52.01), (5, 52.76), (6, 52.78), (7, 53.23), (8, 53.43), (9, 53.39), (10, 53.21)]}\n",
            "INFO:flwr:app_fit: metrics_distributed {'accuracy': [(1, 41.21), (2, 48.13), (3, 50.38), (4, 52.01), (5, 52.76), (6, 52.78), (7, 53.23), (8, 53.43), (9, 53.39), (10, 53.21)]}\n",
            "INFO flwr 2024-02-08 00:03:03,460 | app.py:229 | app_fit: losses_centralized []\n",
            "INFO:flwr:app_fit: losses_centralized []\n",
            "INFO flwr 2024-02-08 00:03:03,462 | app.py:230 | app_fit: metrics_centralized {}\n",
            "INFO:flwr:app_fit: metrics_centralized {}\n"
          ]
        },
        {
          "output_type": "stream",
          "name": "stdout",
          "text": [
            "\u001b[2m\u001b[36m(DefaultActor pid=13407)\u001b[0m 10000/10000 - 99s - loss: 1.7968 - accuracy: 0.5321 - 99s/epoch - 10ms/step\n",
            "\u001b[2m\u001b[36m(DefaultActor pid=13407)\u001b[0m Global Validate Done!!!\n"
          ]
        }
      ],
      "source": [
        "history = fl.simulation.start_simulation(\n",
        "        client_fn=clientfn,\n",
        "        num_clients=NumOfPartition,\n",
        "        config=fl.server.ServerConfig(num_rounds=10),\n",
        "        strategy=Fedavgconfig,\n",
        "    )"
      ]
    },
    {
      "cell_type": "code",
      "execution_count": 34,
      "metadata": {
        "id": "pDEC6ULXwxHS"
      },
      "outputs": [],
      "source": [
        "Train_acc_result = [x[1] for x in history.metrics_distributed_fit['accuracy']]\n",
        "Val_acc_result = [x[1] for x in history.metrics_distributed_fit['valacc']]\n",
        "Test_acc_result = [x[1] for x in history.metrics_distributed['accuracy']]\n",
        "iteration = [i for i in range(1,len(Train_acc_result)+1)]"
      ]
    },
    {
      "cell_type": "code",
      "execution_count": 35,
      "metadata": {
        "id": "UDjcrh9-wxHS",
        "outputId": "38da2989-8b7b-4e1d-ccf9-4185d6defb7f",
        "colab": {
          "base_uri": "https://localhost:8080/"
        }
      },
      "outputs": [
        {
          "output_type": "stream",
          "name": "stdout",
          "text": [
            "Local evalution :[41.342, 44.5, 46.025, 47.012, 47.489, 48.196, 48.129, 48.362, 48.623, 48.708]\n",
            "global evalution :[41.21, 48.13, 50.38, 52.01, 52.76, 52.78, 53.23, 53.43, 53.39, 53.21]\n"
          ]
        }
      ],
      "source": [
        "print(f\"Local evalution :{Val_acc_result}\")\n",
        "print(f\"global evalution :{Test_acc_result}\")\n"
      ]
    },
    {
      "cell_type": "code",
      "execution_count": 44,
      "metadata": {
        "id": "sI3jfKTXwxHS",
        "outputId": "ec9d162f-37c3-4f3a-e881-aadd7adb5116",
        "colab": {
          "base_uri": "https://localhost:8080/",
          "height": 472
        }
      },
      "outputs": [
        {
          "output_type": "display_data",
          "data": {
            "text/plain": [
              "<Figure size 640x480 with 1 Axes>"
            ],
            "image/png": "[encoded data removed]"
          },
          "metadata": {}
        }
      ],
      "source": [
        "#plt.plot(iteration,Train_acc_result,marker='o',label=\"Train\")\n",
        "plt.title(f\"cifar Partition/Client {NumOfPartition} Accuracy\")\n",
        "plt.plot(iteration,Val_acc_result,marker='o',label=\"Local evalution\")\n",
        "plt.plot(iteration,Test_acc_result,marker='o',label=\"Aggregation\")\n",
        "plt.xlabel(\"Round\")\n",
        "plt.ylabel(\"Accuracy\")\n",
        "plt.xticks(iteration)\n",
        "\n",
        "for i, j in zip(iteration, Val_acc_result):\n",
        "    plt.text(i, j,f\"{round(j,2)}\", ha='left', va='bottom')\n",
        "for i, j in zip(iteration, Test_acc_result):\n",
        "    plt.text(i, j,f\"{round(j,2)}\", ha='left', va='bottom')\n",
        "\n",
        "average_value= 55.00\n",
        "plt.axhline(y=average_value, color='r', linestyle='--', label='Centralised model')\n",
        "plt.gca().text(0, average_value/60, f\"{average_value}\", transform=plt.gca().transAxes, ha='right',color='r',)\n",
        "\n",
        "#plt.savefig(f\"MNIST_Partition_Client_{NumOfPartition}_Accuracy.png\")\n",
        "plt.legend()\n",
        "plt.show()"
      ]
    },
    {
      "cell_type": "code",
      "execution_count": null,
      "metadata": {
        "id": "T4MBRFRUwxHS"
      },
      "outputs": [],
      "source": []
    }
  ],
  "metadata": {
    "kernelspec": {
      "display_name": "Python 3",
      "name": "python3"
    },
    "language_info": {
      "codemirror_mode": {
        "name": "ipython",
        "version": 3
      },
      "file_extension": ".py",
      "mimetype": "text/x-python",
      "name": "python",
      "nbconvert_exporter": "python",
      "pygments_lexer": "ipython3",
      "version": "3.11.4"
    },
    "colab": {
      "provenance": []
    }
  },
  "nbformat": 4,
  "nbformat_minor": 0
}